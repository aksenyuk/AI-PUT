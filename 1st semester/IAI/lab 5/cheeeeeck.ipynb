{
 "cells": [
  {
   "cell_type": "markdown",
   "metadata": {},
   "source": [
    "Please provide your names, last names, and student IDs."
   ]
  },
  {
   "cell_type": "markdown",
   "metadata": {},
   "source": [
    "* name 1, last name 1, student id 1\n",
    "* name 2, last name 2, student id 2 (when working in a pair)"
   ]
  },
  {
   "cell_type": "markdown",
   "metadata": {},
   "source": [
    "# DECISION AIDING"
   ]
  },
  {
   "cell_type": "code",
   "execution_count": 3,
   "metadata": {},
   "outputs": [],
   "source": [
    "%matplotlib inline\n",
    "import pandas as pd\n",
    "import numpy as np\n",
    "import common as cm\n",
    "import matplotlib.pyplot as plt"
   ]
  },
  {
   "cell_type": "markdown",
   "metadata": {},
   "source": [
    "This exercise consists of 3 parts. Finish the first part to get a mark of 3.0. The first two parts to get 4.0. Finish all exercies to get 5.0."
   ]
  },
  {
   "cell_type": "markdown",
   "metadata": {},
   "source": [
    "# Part 1: Concordance"
   ]
  },
  {
   "cell_type": "markdown",
   "metadata": {},
   "source": [
    "Given are the following modes of transport: bus, bike, car, train. Each mode is characterized by 2 cost-type criteria: price and time; and 2 gain-type criteria: comfort and reliability. "
   ]
  },
  {
   "cell_type": "markdown",
   "metadata": {},
   "source": [
    "Mode of transport | Time | Comfort | Price | Reliability\n",
    "--- | --- | --- | --- | ---\n",
    " **bus**  | 6 | 3  | 6 | 2\n",
    " **bike** | 8 | 2  | 2 | 8\n",
    " **car**  | 2 | 10 | 9 | 7\n",
    " **train**| 3 | 5  | 5 | 6\n",
    " **by foot**| 10 | 2  | 0 | 5"
   ]
  },
  {
   "cell_type": "code",
   "execution_count": 4,
   "metadata": {},
   "outputs": [
    {
     "data": {
      "text/html": [
       "<div>\n",
       "<style scoped>\n",
       "    .dataframe tbody tr th:only-of-type {\n",
       "        vertical-align: middle;\n",
       "    }\n",
       "\n",
       "    .dataframe tbody tr th {\n",
       "        vertical-align: top;\n",
       "    }\n",
       "\n",
       "    .dataframe thead th {\n",
       "        text-align: right;\n",
       "    }\n",
       "</style>\n",
       "<table border=\"1\" class=\"dataframe\">\n",
       "  <thead>\n",
       "    <tr style=\"text-align: right;\">\n",
       "      <th></th>\n",
       "      <th>mode</th>\n",
       "      <th>time</th>\n",
       "      <th>comfort</th>\n",
       "      <th>price</th>\n",
       "      <th>reliability</th>\n",
       "    </tr>\n",
       "  </thead>\n",
       "  <tbody>\n",
       "    <tr>\n",
       "      <th>0</th>\n",
       "      <td>bus</td>\n",
       "      <td>6</td>\n",
       "      <td>3</td>\n",
       "      <td>6</td>\n",
       "      <td>2</td>\n",
       "    </tr>\n",
       "    <tr>\n",
       "      <th>1</th>\n",
       "      <td>bike</td>\n",
       "      <td>8</td>\n",
       "      <td>2</td>\n",
       "      <td>2</td>\n",
       "      <td>8</td>\n",
       "    </tr>\n",
       "    <tr>\n",
       "      <th>2</th>\n",
       "      <td>car</td>\n",
       "      <td>2</td>\n",
       "      <td>10</td>\n",
       "      <td>9</td>\n",
       "      <td>7</td>\n",
       "    </tr>\n",
       "    <tr>\n",
       "      <th>3</th>\n",
       "      <td>train</td>\n",
       "      <td>3</td>\n",
       "      <td>5</td>\n",
       "      <td>5</td>\n",
       "      <td>6</td>\n",
       "    </tr>\n",
       "    <tr>\n",
       "      <th>4</th>\n",
       "      <td>foot</td>\n",
       "      <td>10</td>\n",
       "      <td>2</td>\n",
       "      <td>0</td>\n",
       "      <td>5</td>\n",
       "    </tr>\n",
       "  </tbody>\n",
       "</table>\n",
       "</div>"
      ],
      "text/plain": [
       "    mode  time  comfort  price  reliability\n",
       "0    bus     6        3      6            2\n",
       "1   bike     8        2      2            8\n",
       "2    car     2       10      9            7\n",
       "3  train     3        5      5            6\n",
       "4   foot    10        2      0            5"
      ]
     },
     "execution_count": 4,
     "metadata": {},
     "output_type": "execute_result"
    }
   ],
   "source": [
    "data = {\n",
    "    'mode': ['bus', 'bike', 'car', 'train', 'foot'],\n",
    "    'time': [6, 8, 2, 3, 10],\n",
    "    'comfort': [3, 2, 10, 5, 2],\n",
    "    'price': [6, 2, 9, 5, 0],\n",
    "    'reliability': [2, 8, 7, 6, 5]\n",
    "}\n",
    "criteria = ['time', 'comfort', 'price', 'reliability']\n",
    "\n",
    "data = pd.DataFrame(data, columns=['mode', 'time', 'comfort', 'price', 'reliability'])\n",
    "data"
   ]
  },
  {
   "cell_type": "markdown",
   "metadata": {},
   "source": [
    "1.2) Below are the parameters, i.e., threholds, criterion-type, and weights, for each criterion, "
   ]
  },
  {
   "cell_type": "code",
   "execution_count": 5,
   "metadata": {},
   "outputs": [
    {
     "data": {
      "text/html": [
       "<div>\n",
       "<style scoped>\n",
       "    .dataframe tbody tr th:only-of-type {\n",
       "        vertical-align: middle;\n",
       "    }\n",
       "\n",
       "    .dataframe tbody tr th {\n",
       "        vertical-align: top;\n",
       "    }\n",
       "\n",
       "    .dataframe thead th {\n",
       "        text-align: right;\n",
       "    }\n",
       "</style>\n",
       "<table border=\"1\" class=\"dataframe\">\n",
       "  <thead>\n",
       "    <tr style=\"text-align: right;\">\n",
       "      <th></th>\n",
       "      <th>type</th>\n",
       "      <th>q</th>\n",
       "      <th>p</th>\n",
       "      <th>v</th>\n",
       "      <th>weight</th>\n",
       "    </tr>\n",
       "  </thead>\n",
       "  <tbody>\n",
       "    <tr>\n",
       "      <th>time</th>\n",
       "      <td>cost</td>\n",
       "      <td>1</td>\n",
       "      <td>2</td>\n",
       "      <td>4</td>\n",
       "      <td>4</td>\n",
       "    </tr>\n",
       "    <tr>\n",
       "      <th>comfort</th>\n",
       "      <td>gain</td>\n",
       "      <td>2</td>\n",
       "      <td>3</td>\n",
       "      <td>6</td>\n",
       "      <td>2</td>\n",
       "    </tr>\n",
       "    <tr>\n",
       "      <th>price</th>\n",
       "      <td>cost</td>\n",
       "      <td>1</td>\n",
       "      <td>3</td>\n",
       "      <td>5</td>\n",
       "      <td>3</td>\n",
       "    </tr>\n",
       "    <tr>\n",
       "      <th>reliability</th>\n",
       "      <td>gain</td>\n",
       "      <td>1.5</td>\n",
       "      <td>3</td>\n",
       "      <td>5</td>\n",
       "      <td>1</td>\n",
       "    </tr>\n",
       "  </tbody>\n",
       "</table>\n",
       "</div>"
      ],
      "text/plain": [
       "             type    q  p  v weight\n",
       "time         cost    1  2  4      4\n",
       "comfort      gain    2  3  6      2\n",
       "price        cost    1  3  5      3\n",
       "reliability  gain  1.5  3  5      1"
      ]
     },
     "execution_count": 5,
     "metadata": {},
     "output_type": "execute_result"
    }
   ],
   "source": [
    "parameters = {\n",
    " 'time': {'weight': 4, 'q': 1.0, 'p': 2, 'v': 4, 'type': 'cost'},\n",
    " 'comfort': {'weight': 2, 'q': 2.0, 'p': 3, 'v': 6, 'type': 'gain'},\n",
    " 'price': {'weight': 3, 'q': 1.0, 'p': 3, 'v': 5, 'type': 'cost'},\n",
    " 'reliability': {'weight': 1, 'q': 1.5, 'p': 3, 'v': 5, 'type': 'gain'}\n",
    "    }\n",
    "\n",
    "sum_weights = 10.\n",
    "\n",
    "pd.DataFrame(parameters, columns=['time', 'comfort', 'price','reliability']).reindex(['type', 'q', 'p', 'v', 'weight']).T"
   ]
  },
  {
   "cell_type": "markdown",
   "metadata": {},
   "source": [
    "1.3) Finish the below function for calculating a marginal concordance for $i$-th criterion (gain type) $c_i(g_i(A),g_i(B))$ based on q and p tresholds. "
   ]
  },
  {
   "cell_type": "code",
   "execution_count": 6,
   "metadata": {},
   "outputs": [
    {
     "name": "stdout",
     "output_type": "stream",
     "text": [
      "0.75\n",
      "0\n"
     ]
    }
   ],
   "source": [
    "def getConcordanceCost(gA, gB, q, p):\n",
    "    if gB - gA >= -q:\n",
    "        return 1\n",
    "    if gB - gA <= -p:\n",
    "        return 0\n",
    "    else:\n",
    "        return (p - (gA - gB)) / (p - q)\n",
    "\n",
    "def getConcordanceGain(gA, gB, q, p):\n",
    "    if gA - gB >= -q:\n",
    "        return 1\n",
    "    if gA - gB <= -p:\n",
    "        return 0\n",
    "    else:\n",
    "        return (p - (gB - gA)) / (p - q)\n",
    "print(getConcordanceGain(700, 750, 25, 125))\n",
    "print(getConcordanceCost(225, 170, 10, 25))\n",
    "# print(pd.DataFrame(data, columns=['mode', 'time', 'comfort', 'price', 'reliability']))\n",
    "# print(pd.DataFrame(parameters, columns=['time', 'comfort', 'price','reliability']).reindex(['type', 'q', 'p', 'v', 'weight']).T)"
   ]
  },
  {
   "cell_type": "markdown",
   "metadata": {},
   "source": [
    "1.4)  Calculate  comprehensive concordance  index  for  all  criteria  of  alternatives A and B. Remember that comprehensive concordance must be divided by the sum of weights (normalization).  "
   ]
  },
  {
   "cell_type": "code",
   "execution_count": 7,
   "metadata": {},
   "outputs": [],
   "source": [
    "def getComprehensiveConcordance(A, B, criteria, parameters):\n",
    "    fst_idx = 0\n",
    "    scd_idx = 0\n",
    "    if A == B:\n",
    "        return 0\n",
    "    for i in range(len(data['mode'])):\n",
    "        if A == data['mode'][i]:\n",
    "            fst_idx = i\n",
    "        if B == data['mode'][i]:\n",
    "            scd_idx = i\n",
    "    sus = zip(data['time'], data['comfort'], data['price'], data['reliability'])\n",
    "    appendix = []\n",
    "    iterator = 0\n",
    "    bob = []\n",
    "    for f in sus:\n",
    "        appendix.append(f)\n",
    "    for j in criteria:\n",
    "        if parameters[j]['type'] == 'cost':\n",
    "            bob.append(getConcordanceCost(appendix[fst_idx][iterator],appendix[scd_idx][iterator],parameters[j]['q'],parameters[j]['q']))\n",
    "        if parameters[j]['type'] == 'gain':\n",
    "            bob.append(getConcordanceGain(appendix[fst_idx][iterator],appendix[scd_idx][iterator],parameters[j]['q'],parameters[j]['q']))\n",
    "        iterator += 1\n",
    "    iterator = 0\n",
    "    for j in criteria:\n",
    "        bob[iterator] = bob[iterator] * parameters[j]['weight']\n",
    "        iterator += 1\n",
    "    concordance = sum(bob)\n",
    "    return concordance / sum_weights"
   ]
  },
  {
   "cell_type": "markdown",
   "metadata": {},
   "source": [
    "1.5) Check comprehensive concordance indexes for C(bus, some transportation) (HINT: for C(0,1) should be 0.6):"
   ]
  },
  {
   "cell_type": "code",
   "execution_count": 8,
   "metadata": {},
   "outputs": [
    {
     "name": "stdout",
     "output_type": "stream",
     "text": [
      "C(0,0) =  0\n",
      "C(0,1) =  0.6\n",
      "C(0,2) =  0.3\n",
      "C(0,3) =  0.5\n",
      "C(0,4) =  0.6\n"
     ]
    }
   ],
   "source": [
    "for alternative_id, alternative_row in data.iterrows():\n",
    "    print(\"C({0},{1}) = \".format(0, alternative_id), getComprehensiveConcordance(data.loc[0][0], alternative_row[0], criteria, parameters))"
   ]
  },
  {
   "cell_type": "markdown",
   "metadata": {},
   "source": [
    "1.6) Finish the below function for generating a concordance matrix. Use a majority_threshold as a cutting-level. For hich pairs a concordance is fulfilled?"
   ]
  },
  {
   "cell_type": "code",
   "execution_count": 275,
   "metadata": {},
   "outputs": [],
   "source": [
    "def getConcordanceMatrix(data, criteria, parameters, majority_treshold=0.7):\n",
    "    concordance_matrix = np.zeros((len(data),len(data)))\n",
    "    iterator = 0\n",
    "    for f in data['mode']:\n",
    "        bomba = 0\n",
    "        for s in data['mode']:\n",
    "            vall = getComprehensiveConcordance(f, s, criteria, parameters)\n",
    "            if vall >= 0.7:\n",
    "                vall = 1\n",
    "            else:\n",
    "                vall = 0\n",
    "            concordance_matrix[iterator][bomba] = vall\n",
    "            bomba += 1\n",
    "        iterator += 1\n",
    "    return concordance_matrix\n",
    "            "
   ]
  },
  {
   "cell_type": "code",
   "execution_count": 276,
   "metadata": {},
   "outputs": [
    {
     "name": "stdout",
     "output_type": "stream",
     "text": [
      "[[0. 0. 0. 0. 0.]\n",
      " [0. 0. 0. 0. 1.]\n",
      " [1. 1. 0. 1. 1.]\n",
      " [1. 0. 1. 0. 1.]\n",
      " [0. 0. 0. 0. 0.]]\n"
     ]
    }
   ],
   "source": [
    "print(getConcordanceMatrix(data, criteria, parameters))"
   ]
  },
  {
   "cell_type": "markdown",
   "metadata": {},
   "source": [
    "HINT :): The resulting matrix should be: <br><br>[[0. 0. 0. 0. 0.]<br>\n",
    " [0. 0. 0. 0. 1.]<br>\n",
    " [1. 1. 0. 1. 1.]<br>\n",
    " [1. 0. 1. 0. 1.]<br>\n",
    " [0. 0. 0. 0. 0.]]<br>"
   ]
  },
  {
   "cell_type": "markdown",
   "metadata": {},
   "source": [
    "# Part 2: outranking graph"
   ]
  },
  {
   "cell_type": "markdown",
   "metadata": {},
   "source": [
    "2.1) Complete the function for calculating a marginal discordance  $d_i(𝐴,𝐵)$ based on v treshold. $d_i(𝐴,𝐵) = 1$ when A is worse than B on criterion $i$ by at least the veto threshold, zero otherwise."
   ]
  },
  {
   "cell_type": "code",
   "execution_count": null,
   "metadata": {},
   "outputs": [],
   "source": [
    "def getDiscordanceGain(A, B, v):\n",
    "    #TODO\n",
    "    return 0\n",
    "\n",
    "def getDiscordanceCost(A, B, v):\n",
    "    return getDiscordanceGain(B, A, v)\n"
   ]
  },
  {
   "cell_type": "markdown",
   "metadata": {},
   "source": [
    "2.2) Calculate a comprehensive discordance index. $D(a,b) = 1$ if at least one criterion vetoes against aSb."
   ]
  },
  {
   "cell_type": "code",
   "execution_count": null,
   "metadata": {},
   "outputs": [],
   "source": [
    "def getComprehensiveDiscordance(A, B, criteria, parameters): \n",
    "    #TODO\n",
    "    return 0."
   ]
  },
  {
   "cell_type": "markdown",
   "metadata": {},
   "source": [
    "2.3) Check comprehensive discordance indexes for D(bus, some transportation):"
   ]
  },
  {
   "cell_type": "code",
   "execution_count": null,
   "metadata": {},
   "outputs": [],
   "source": [
    "for alternative_id, alternative_row in data.iterrows():\n",
    "    print(\"D({0},{1}) = \".format(0, alternative_id),getComprehensiveDiscordance(data.loc[0], alternative_row, criteria, parameters))\n"
   ]
  },
  {
   "cell_type": "markdown",
   "metadata": {},
   "source": [
    "2.4) Finish the below function for calculating a comprehensive discordance matrix."
   ]
  },
  {
   "cell_type": "code",
   "execution_count": null,
   "metadata": {},
   "outputs": [],
   "source": [
    "def getDiscordanceMatrix(data, criteria, parameters):\n",
    "    discordance_matrix = np.zeros((len(data),len(data)))\n",
    "    for A_idx, A_row in data.iterrows():\n",
    "        for B_idx, B_row in data.iterrows():\n",
    "            if A_idx != B_idx:\n",
    "                #TODO\n",
    "                continue\n",
    "                \n",
    "    return discordance_matrix"
   ]
  },
  {
   "cell_type": "code",
   "execution_count": null,
   "metadata": {},
   "outputs": [],
   "source": [
    "getDiscordanceMatrix(data, criteria, parameters)"
   ]
  },
  {
   "cell_type": "markdown",
   "metadata": {},
   "source": [
    "2.5) Now, finish the below function for generating the outranking matrix. This method should take into account both the concordance and discordance matrices."
   ]
  },
  {
   "cell_type": "code",
   "execution_count": null,
   "metadata": {},
   "outputs": [],
   "source": [
    "def getOutrankingMatrix(data, criteria, parameters, majority_treshold):\n",
    "    concordance_matrix = getConcordanceMatrix(data, criteria, parameters, majority_treshold)\n",
    "    discordance_matrix = getDiscordanceMatrix(data, criteria, parameters)\n",
    "    n = len(data)\n",
    "    outranking_matrix = np.zeros((n,n))\n",
    "    ### TODO\n",
    "    return outranking_matrix"
   ]
  },
  {
   "cell_type": "code",
   "execution_count": null,
   "metadata": {},
   "outputs": [],
   "source": [
    "outranking_matrix = getOutrankingMatrix(data, criteria, parameters, majority_treshold=0.75)\n",
    "print(outranking_matrix)"
   ]
  },
  {
   "cell_type": "markdown",
   "metadata": {},
   "source": [
    "2.6) Change outranking matrix to adjacency list (dictionary) of a following form:"
   ]
  },
  {
   "cell_type": "raw",
   "metadata": {},
   "source": [
    "#EXAMPLE\n",
    "{\n",
    "    1:[], alternative 1 does not outrank any other alternatives\n",
    "    2:[1,3], alternative 2 outranks alternatives 1 and 3\n",
    "    ...\n",
    "}"
   ]
  },
  {
   "cell_type": "code",
   "execution_count": null,
   "metadata": {},
   "outputs": [],
   "source": [
    "def toAdjacencyList(outranking_matrix):\n",
    "    n = len(outranking_matrix)\n",
    "    graph = {i:[] for i in range(n)}\n",
    "    ### TODO\n",
    "    \n",
    "    return graph"
   ]
  },
  {
   "cell_type": "code",
   "execution_count": null,
   "metadata": {},
   "outputs": [],
   "source": [
    "graph = toAdjacencyList(outranking_matrix)\n",
    "print(graph)"
   ]
  },
  {
   "cell_type": "markdown",
   "metadata": {},
   "source": [
    "2.4) Draw outranking graph, and remove cycles (manually)."
   ]
  },
  {
   "cell_type": "code",
   "execution_count": null,
   "metadata": {},
   "outputs": [],
   "source": [
    "cm.PrintGraph(graph, filename=\"graph_part_2\")\n",
    "plt.imshow(plt.imread(\"graph_part_2.png\"))"
   ]
  },
  {
   "cell_type": "markdown",
   "metadata": {},
   "source": [
    "2.5) **Question: Which mode of transport are in the kernel?**"
   ]
  },
  {
   "cell_type": "raw",
   "metadata": {},
   "source": [
    "Kernel: bike, train"
   ]
  },
  {
   "cell_type": "markdown",
   "metadata": {},
   "source": [
    "# Part 3: Kernel"
   ]
  },
  {
   "cell_type": "markdown",
   "metadata": {},
   "source": [
    "3.1) Given is the below outranking matrix"
   ]
  },
  {
   "cell_type": "code",
   "execution_count": null,
   "metadata": {},
   "outputs": [],
   "source": [
    "outranking_matrix = np.array(   [[0., 1., 0., 0., 0., 0., 1., 0.],\n",
    "                                 [0., 0., 1., 0., 1., 0., 0., 0.],\n",
    "                                 [0., 0., 0., 0., 0., 0., 0., 1.],\n",
    "                                 [0., 0., 0., 0., 1., 0., 1., 0.],\n",
    "                                 [0., 0., 0., 0., 0., 1., 0., 0.],\n",
    "                                 [0., 0., 0., 0., 0., 0., 1., 0.],\n",
    "                                 [0., 0., 0., 0., 0., 0., 0., 1.],\n",
    "                                 [0., 0., 0., 0., 0., 0., 0., 0.]]) "
   ]
  },
  {
   "cell_type": "code",
   "execution_count": null,
   "metadata": {},
   "outputs": [],
   "source": [
    "graph = toAdjacencyList(outranking_matrix)"
   ]
  },
  {
   "cell_type": "code",
   "execution_count": null,
   "metadata": {},
   "outputs": [],
   "source": [
    "graph"
   ]
  },
  {
   "cell_type": "markdown",
   "metadata": {},
   "source": [
    "3.2) Display the outranking graph. **Question: Which alternatives belong to kernel?**"
   ]
  },
  {
   "cell_type": "code",
   "execution_count": null,
   "metadata": {},
   "outputs": [],
   "source": [
    "cm.PrintGraph(graph, filename=\"graph_part_3\")\n",
    "plt.imshow(plt.imread(\"graph_part_3.png\"))"
   ]
  },
  {
   "cell_type": "markdown",
   "metadata": {},
   "source": [
    "3.3) In this exercise, you are asked to complete the function for constructing a kernel. Firstly, complete the below auxiliary function which reverses edges of the graph (i.e., constructs reversed adjancency dictionary)"
   ]
  },
  {
   "cell_type": "code",
   "execution_count": null,
   "metadata": {},
   "outputs": [],
   "source": [
    "def getReverseGraph(graph):\n",
    "    n = len(graph)\n",
    "    reverse_graph = {i:[] for i in graph}\n",
    "    ### TODO\n",
    "    \n",
    "    return reverse_graph"
   ]
  },
  {
   "cell_type": "markdown",
   "metadata": {},
   "source": [
    "3.4) Verify the correctness: compare the below reverse_graph with the above graph variable."
   ]
  },
  {
   "cell_type": "code",
   "execution_count": null,
   "metadata": {},
   "outputs": [],
   "source": [
    "reverse_graph = getReverseGraph(graph)\n",
    "reverse_graph"
   ]
  },
  {
   "cell_type": "markdown",
   "metadata": {},
   "source": [
    "3.2) Now, complete the below function for finding a graph kernel. This algorithm should proceed in the following way: <br>\n",
    "1) Find non-outranked vertices. Add them to the kernel. <br> \n",
    "2) Remove the already found vertices from the graph and these vertices which are surpassed by them.<br>\n",
    "3) Repeat (go to 1) until all vertices are removed from the graph. \n",
    "\n",
    "You can use the auxiliary reverse_graph structure. It can be helpfull for finding non-outranked vertices."
   ]
  },
  {
   "cell_type": "code",
   "execution_count": null,
   "metadata": {},
   "outputs": [],
   "source": [
    "def Kernel(graph):\n",
    "    reverse_graph = getReverseGraph(graph)\n",
    "    kernel = []\n",
    "    step=0\n",
    "    ## TODO \n",
    "    return kernel"
   ]
  },
  {
   "cell_type": "code",
   "execution_count": null,
   "metadata": {},
   "outputs": [],
   "source": [
    "Kernel(graph)"
   ]
  }
 ],
 "metadata": {
  "kernelspec": {
   "display_name": "Python 3",
   "language": "python",
   "name": "python3"
  },
  "language_info": {
   "codemirror_mode": {
    "name": "ipython",
    "version": 3
   },
   "file_extension": ".py",
   "mimetype": "text/x-python",
   "name": "python",
   "nbconvert_exporter": "python",
   "pygments_lexer": "ipython3",
   "version": "3.8.5"
  }
 },
 "nbformat": 4,
 "nbformat_minor": 4
}
