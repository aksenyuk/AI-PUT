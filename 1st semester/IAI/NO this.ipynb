{
 "cells": [
  {
   "cell_type": "markdown",
   "metadata": {},
   "source": [
    "Please provide your names, last names, and student IDs."
   ]
  },
  {
   "cell_type": "markdown",
   "metadata": {},
   "source": [
    "* name 1, last name 1, student id 1  Aksenyuk Sofya, 150284 \n",
    "* name 2, last name 2, student id 2  Górecki Piotr, 148282"
   ]
  },
  {
   "cell_type": "markdown",
   "metadata": {},
   "source": [
    "# DECISION TREES"
   ]
  },
  {
   "cell_type": "markdown",
   "metadata": {},
   "source": [
    "**Important note: this exercise uses Pandas (for data manipulation and analysis) and Graphviz (for graph-drawing) libraries.**\n",
    "\n",
    "This exercise consists of 3 parts. Complete the first part to get a mark of 3.0, the first two parts to get 4.0, complete all assignments to get 5.0."
   ]
  },
  {
   "cell_type": "code",
   "execution_count": 18,
   "metadata": {
    "pycharm": {
     "is_executing": true
    }
   },
   "outputs": [],
   "source": [
    "%matplotlib inline\n",
    "import numpy as np\n",
    "import math\n",
    "import matplotlib.pyplot as plt\n",
    "import pandas as pd\n",
    "import common as cm"
   ]
  },
  {
   "cell_type": "markdown",
   "metadata": {},
   "source": [
    "# Part 1: Information Gain"
   ]
  },
  {
   "cell_type": "markdown",
   "metadata": {},
   "source": [
    "1.1 ) There are 10 objects (data) characterized with 5 binary attributes:"
   ]
  },
  {
   "cell_type": "code",
   "execution_count": 2,
   "metadata": {},
   "outputs": [],
   "source": [
    "attributeNames = [\"attr 1\", \"attr 2\", \"attr 3\", \"attr 4\", \"attr 5\"]\n",
    "\n",
    "data = pd.DataFrame(\n",
    "    [\n",
    "        [1, 0, 1, 1, 1],\n",
    "        [1, 1, 0, 0, 1],\n",
    "        [0, 1, 1, 1, 1],\n",
    "        [1, 0, 1, 0, 1],\n",
    "        [1, 0, 0, 1, 1],\n",
    "        [0, 0, 1, 1, 1],\n",
    "        [1, 1, 1, 1, 1],\n",
    "        [1, 0, 0, 1, 1],\n",
    "        [0, 1, 0, 0, 1],\n",
    "        [0, 0, 0, 1, 1],\n",
    "    ],\n",
    "    columns=attributeNames,\n",
    ")"
   ]
  },
  {
   "cell_type": "markdown",
   "metadata": {},
   "source": [
    "1.2) Each object is assigned to either a class \"0\" or \"1\". The assignments are as follows (cl):"
   ]
  },
  {
   "cell_type": "code",
   "execution_count": 3,
   "metadata": {},
   "outputs": [],
   "source": [
    "data[\"cl\"] = [1, 1, 1, 0, 0, 1, 1, 1, 0, 0]"
   ]
  },
  {
   "cell_type": "markdown",
   "metadata": {},
   "source": [
    "Hint: How one can read data (columns) in Pandas"
   ]
  },
  {
   "cell_type": "code",
   "execution_count": 4,
   "metadata": {},
   "outputs": [
    {
     "name": "stdout",
     "output_type": "stream",
     "text": [
      "0    1\n",
      "1    1\n",
      "2    1\n",
      "3    0\n",
      "4    0\n",
      "5    1\n",
      "6    1\n",
      "7    1\n",
      "8    0\n",
      "9    0\n",
      "Name: cl, dtype: int64\n",
      "[1, 1, 1, 0, 0, 1, 1, 1, 0, 0]\n",
      "{0, 1}\n",
      "0    1\n",
      "1    1\n",
      "2    0\n",
      "3    1\n",
      "4    1\n",
      "5    0\n",
      "6    1\n",
      "7    1\n",
      "8    0\n",
      "9    0\n",
      "Name: attr 1, dtype: int64\n"
     ]
    }
   ],
   "source": [
    "print(data[\"cl\"])\n",
    "print(list(data[\"cl\"]))\n",
    "print(set(data[\"cl\"]))\n",
    "print(data[\"attr 1\"])"
   ]
  },
  {
   "cell_type": "markdown",
   "metadata": {},
   "source": [
    "1.3 )  Finish the below function for calculating entropy. $H(CL) = - \\sum_{y \\in CL}p(y)log_2p(y)$ It should return a value of entropy for an input vector CL. Assume that $log_2(0)$ is equal to 0."
   ]
  },
  {
   "cell_type": "code",
   "execution_count": 5,
   "metadata": {},
   "outputs": [],
   "source": [
    "def getEntropy(cl):\n",
    "    ### TODO\n",
    "    count_1 = 0\n",
    "    for i in range(len(cl)):\n",
    "        if cl[i] == 1:           \n",
    "            count_1 += 1\n",
    "    p1 = count_1 / len(cl)\n",
    "    p0 = 1 - p1\n",
    "    \n",
    "    if p0 == 0:\n",
    "        log_p0 = 0\n",
    "    else:\n",
    "        log_p0 = math.log(p0, 2)\n",
    "    if p1 == 0:\n",
    "        log_p1 = 0\n",
    "    else:\n",
    "        log_p1 = math.log(p1, 2)\n",
    "    H = (-1) * p0 * log_p0 + (-1) * p1 * log_p1\n",
    "    return H\n",
    "    ### return 0"
   ]
  },
  {
   "cell_type": "markdown",
   "metadata": {},
   "source": [
    "1.4 ) Calculate the entropy for the CL vector (the result should be 0.97095....):"
   ]
  },
  {
   "cell_type": "code",
   "execution_count": 6,
   "metadata": {},
   "outputs": [
    {
     "name": "stdout",
     "output_type": "stream",
     "text": [
      "0.9709505944546686\n"
     ]
    }
   ],
   "source": [
    "### TODO print()\n",
    "print(getEntropy(data[\"cl\"]))"
   ]
  },
  {
   "cell_type": "markdown",
   "metadata": {},
   "source": [
    "1.5) Finish the below function for calculating a conditional entropy: $H(CL|X) = - \\sum_{x \\in X} \\sum_{y \\in CL} p(x,y) log_2 \\frac{p(x,y)}{p(x)}$. Assume that $log_2(0)$ is equal to 0 and if $p(x) = 0$, $\\frac{p(x,y)}{p(x)}$ is equal to 0 as well."
   ]
  },
  {
   "cell_type": "code",
   "execution_count": 7,
   "metadata": {},
   "outputs": [],
   "source": [
    "def getConditionalEntropy(cl, attr):\n",
    "    ## TODO\n",
    "    count_x0_cl0 = 0\n",
    "    count_x0_cl1 = 0\n",
    "    count_x1_cl0 = 0\n",
    "    count_x1_cl1 = 0\n",
    "    list_attr = list(attr)\n",
    "    list_cl = list(cl)\n",
    "    for i in range(len(list_attr)):\n",
    "        if (list_attr[i] == 0) and (list_cl[i] == 0):           \n",
    "            count_x0_cl0 += 1\n",
    "        if (list_attr[i] == 0) and (list_cl[i] == 1):\n",
    "            count_x0_cl1 += 1\n",
    "        if (list_attr[i] == 1) and (list_cl[i] == 0):\n",
    "            count_x1_cl0 +=1\n",
    "        if (list_attr[i] == 1) and (list_cl[i] == 1): \n",
    "            count_x1_cl1 += 1\n",
    "\n",
    "    x_1 = 0\n",
    "    for i in range(len(list_attr)):\n",
    "        if list_attr[i] == 1:           \n",
    "            x_1 += 1\n",
    "    x_0 = len(list_attr) - x_1\n",
    "    if x_0 == 0:\n",
    "        p_x0_cl0 = 0\n",
    "        p_x0_cl1 = 0\n",
    "    else:\n",
    "        p_x0_cl0 = count_x0_cl0 / x_0\n",
    "        p_x0_cl1 = count_x0_cl1 / x_0\n",
    "    if x_1 == 0:  \n",
    "        p_x1_cl0 = 0\n",
    "        p_x1_cl1 = 0\n",
    "    else:\n",
    "        p_x1_cl0 = count_x1_cl0 / x_1     \n",
    "        p_x1_cl1 = count_x1_cl1 / x_1\n",
    "\n",
    "    if p_x0_cl0 == 0:\n",
    "        log_px0cl0 = 0\n",
    "    else:\n",
    "        log_px0cl0 = math.log(p_x0_cl0, 2)\n",
    "    if p_x0_cl1 == 0:\n",
    "        log_px0cl1 = 0\n",
    "    else:\n",
    "        log_px0cl1 = math.log(p_x0_cl1, 2)\n",
    "    if p_x1_cl0 == 0:\n",
    "        log_px1cl0 = 0\n",
    "    else:\n",
    "        log_px1cl0 = math.log(p_x1_cl0, 2)\n",
    "    if p_x1_cl1 == 0:\n",
    "        log_px1cl1 = 0\n",
    "    else:\n",
    "        log_px1cl1 = math.log(p_x1_cl1, 2)\n",
    "\n",
    "    H_x0 = (-1) * p_x0_cl0 * log_px0cl0 + (-1) * p_x0_cl1 * log_px0cl1\n",
    "    H_x1 = (-1) * p_x1_cl0 * log_px1cl0 + (-1) * p_x1_cl1 * log_px1cl1\n",
    "    H_x = (x_0/len(list_cl)) * H_x0 + (x_1/len(list_cl)) * H_x1\n",
    "    \n",
    "    return H_x"
   ]
  },
  {
   "cell_type": "markdown",
   "metadata": {},
   "source": [
    "1.6 ) Calculate conditional entropies for given attribiutes."
   ]
  },
  {
   "cell_type": "code",
   "execution_count": 8,
   "metadata": {},
   "outputs": [
    {
     "name": "stdout",
     "output_type": "stream",
     "text": [
      "0.9509775004326937\n",
      "0.9709505944546686\n"
     ]
    }
   ],
   "source": [
    "print(getConditionalEntropy(data[\"cl\"], data[\"attr 1\"])) ### the result should be 0.95097...\n",
    "print(getConditionalEntropy(data[\"cl\"], data[\"attr 5\"])) ### the result should be 0.97095..."
   ]
  },
  {
   "cell_type": "markdown",
   "metadata": {},
   "source": [
    "1.7 ) **Question: Which entropy is lesser and why?** Answer: The entropy for \"attr 1\" is lesser, because the smaller value we get - the higher level of order we have."
   ]
  },
  {
   "cell_type": "markdown",
   "metadata": {},
   "source": [
    "1.8) Finish the below function for calculating information gain (use getEntropy() and getConditionalEntropy() functions):"
   ]
  },
  {
   "cell_type": "code",
   "execution_count": 9,
   "metadata": {},
   "outputs": [],
   "source": [
    "def getInformationGain(cl, attr):\n",
    "    ### TODO\n",
    "    gain = getEntropy(cl) - getConditionalEntropy(cl, attr)\n",
    "    if gain == -0.0:\n",
    "        gain = 0.0\n",
    "    return gain\n",
    "    ### return 0.0"
   ]
  },
  {
   "cell_type": "code",
   "execution_count": 68,
   "metadata": {},
   "outputs": [
    {
     "name": "stdout",
     "output_type": "stream",
     "text": [
      "0.01997309402197489\n",
      "0.0\n"
     ]
    }
   ],
   "source": [
    "print(getInformationGain(data[\"cl\"], data[\"attr 1\"]))\n",
    "print(getInformationGain(data[\"cl\"], data[\"attr 5\"]))"
   ]
  },
  {
   "cell_type": "markdown",
   "metadata": {},
   "source": [
    "1.9) **Question: Which IG is lesser and why?** Answer: The IG for \"attr 5\" is lesser, because the higher value we get - the more effective that attribute in classifying training data."
   ]
  },
  {
   "cell_type": "markdown",
   "metadata": {},
   "source": [
    "# Part 2: ID3 algorithm"
   ]
  },
  {
   "cell_type": "markdown",
   "metadata": {},
   "source": [
    "Decision tree consists of decision nodes and leaves. Nodes split data while leaves classify objects. Consider the class \"Node\" provided below. It consists of 4 fields:\n",
    "- attr - attribute ID (use the names in attributeNames vector)\n",
    "- left - left branch, i.e., a reference to other node\n",
    "- right - right branch, i.e., a reference to other node\n",
    "- value - a decision. If node = None, then the node is not a leaf. If value is not None, then a node is considered a leaf. \n",
    "\n",
    "Method __call__ returns the decision if the node is a leaf (i.e., when value is not None). \n",
    "Otherwise, it calls either the left or the right branch of an input object, based on the attribute value (0 -> left children; 1 -> right children). In this way, we can traverse the decision tree in order to find the final decision.\n",
    "\n",
    "**Analyze the example code**"
   ]
  },
  {
   "cell_type": "code",
   "execution_count": 48,
   "metadata": {},
   "outputs": [
    {
     "name": "stdout",
     "output_type": "stream",
     "text": [
      "3\n",
      "4\n",
      "2\n",
      "2\n"
     ]
    }
   ],
   "source": [
    "class Node:\n",
    "    def __init__(self, attr, left, right, value):\n",
    "        self.attr = attr\n",
    "        self.left = left\n",
    "        self.right = right\n",
    "        self.value = value\n",
    "\n",
    "    def __call__(self, obj):\n",
    "        if self.value is None:\n",
    "            if obj[self.attr] == 0:\n",
    "                return self.left(obj)\n",
    "            else:\n",
    "                return self.right(obj)\n",
    "        else:\n",
    "            return self.value\n",
    "        \n",
    "### EXAMPLE\n",
    "def example(obj):\n",
    "    root = Node(0, None, None, None) ###  IN ROOT SPLIT ON 1ST (0) ATTRIBUTE\n",
    "    lChildren = Node(1, None, None, None) ### IN ROOT's LEFT CHILDREN SPLIT ON 2ND (1) ATTRIBUTE\n",
    "    rChildren = Node(None, None, None, 2) ### IN ROOT's RIGHT CHILDREN -> DECISION = 2\n",
    "    root.left = lChildren\n",
    "    root.right = rChildren\n",
    "    llChildren = Node(None, None, None, 3) ### IN ROOT's LEFT-LEFT CHILDREN -> DECISION = 3\n",
    "    lrChildren = Node(None, None, None, 4) ### IN ROOT's LEFT-RIGHT CHILDREN -> DECISION = 4\n",
    "    lChildren.left = llChildren\n",
    "    lChildren.right = lrChildren\n",
    "    print(root(obj))\n",
    "    \n",
    "example([0, 0]) ### ROOT : FIRST ATTRIBUTE = 0 SO WE GO TO LEFT CHILDREN. \n",
    "### THEN, IN THE CORRESPONDING CHILDREN, THE SECOND ATTRIBUTE = 0, SO WE GO TO LEFT-LEFT CHILDREN. \n",
    "### IT IS A LEAF WITH THE DECISION = 3. \n",
    "\n",
    "example([0, 1])\n",
    "example([1, 0])\n",
    "example([1, 1])"
   ]
  },
  {
   "cell_type": "markdown",
   "metadata": {},
   "source": [
    "2.1) Create an initial root. Set the value (decision) to 1. "
   ]
  },
  {
   "cell_type": "code",
   "execution_count": 49,
   "metadata": {},
   "outputs": [],
   "source": [
    "root = Node(None, None, None, 1)"
   ]
  },
  {
   "cell_type": "markdown",
   "metadata": {},
   "source": [
    "2.2) Use a getErrorRate method in common.py auxiliary file to calculate the error rate. The decision is made based on the majority rule. In case of tie, the method takes 0 as the default class."
   ]
  },
  {
   "cell_type": "code",
   "execution_count": 50,
   "metadata": {},
   "outputs": [
    {
     "data": {
      "text/plain": [
       "0.4"
      ]
     },
     "execution_count": 50,
     "metadata": {},
     "output_type": "execute_result"
    }
   ],
   "source": [
    "### TODO\n",
    "cm.getErrorRate(root, data)\n",
    "    \n",
    "# ## SHOULD BE 0.4"
   ]
  },
  {
   "cell_type": "markdown",
   "metadata": {},
   "source": [
    "2.3) Use printGraph method (see the common.py file) to draw the decision tree and save it in a png file."
   ]
  },
  {
   "cell_type": "code",
   "execution_count": 51,
   "metadata": {},
   "outputs": [
    {
     "data": {
      "text/plain": [
       "<matplotlib.image.AxesImage at 0x21e7482d580>"
      ]
     },
     "execution_count": 51,
     "metadata": {},
     "output_type": "execute_result"
    },
    {
     "data": {
      "image/png": "[encoded data removed]",
      "text/plain": [
       "<Figure size 432x288 with 1 Axes>"
      ]
     },
     "metadata": {
      "needs_background": "light"
     },
     "output_type": "display_data"
    }
   ],
   "source": [
    "cm.printGraph(root, data, fileName='decision_tree_0')\n",
    "plt.imshow(plt.imread(\"decision_tree_0.png\"))"
   ]
  },
  {
   "cell_type": "markdown",
   "metadata": {},
   "source": [
    "2.4) Calculate information gain for all attribiutes."
   ]
  },
  {
   "cell_type": "code",
   "execution_count": 52,
   "metadata": {},
   "outputs": [
    {
     "name": "stdout",
     "output_type": "stream",
     "text": [
      "0.01997309402197489\n",
      "0.0464393446710154\n",
      "0.12451124978365313\n",
      "0.0912774462416801\n",
      "0.0\n"
     ]
    }
   ],
   "source": [
    "def printInformationGain(data):\n",
    "    for attribute_name in attributeNames:\n",
    "        ### TODO\n",
    "        print(getInformationGain(data[\"cl\"], data[attribute_name]))\n",
    "        \n",
    "printInformationGain(data)"
   ]
  },
  {
   "cell_type": "markdown",
   "metadata": {},
   "source": [
    "2.5) Choose the best attribute to split the data (HINT, it should be the third attribute :)). Construct two new nodes: one for $x_i$ = 0 decision and the second for $x_i$ = 1; connect them with the root (left and right branch). Remember to update the root. "
   ]
  },
  {
   "cell_type": "code",
   "execution_count": 53,
   "metadata": {},
   "outputs": [],
   "source": [
    "### TODO\n",
    "zero_Node = Node(None,None,None,0)\n",
    "one_Node = Node(None,None,None,1)\n",
    "root.attr = \"attr 3\"\n",
    "root.value = None\n",
    "root.left = zero_Node\n",
    "root.right = one_Node"
   ]
  },
  {
   "cell_type": "markdown",
   "metadata": {},
   "source": [
    "2.6) Print the graph and calculate the error rate. What happened with the error rate?"
   ]
  },
  {
   "cell_type": "code",
   "execution_count": 54,
   "metadata": {},
   "outputs": [
    {
     "data": {
      "text/plain": [
       "0.30000000000000004"
      ]
     },
     "execution_count": 54,
     "metadata": {},
     "output_type": "execute_result"
    },
    {
     "data": {
      "image/png": "[encoded data removed]",
      "text/plain": [
       "<Figure size 432x288 with 1 Axes>"
      ]
     },
     "metadata": {
      "needs_background": "light"
     },
     "output_type": "display_data"
    }
   ],
   "source": [
    "cm.printGraph(root, data, fileName='decision_tree_0')\n",
    "plt.imshow(plt.imread(\"decision_tree_0.png\"))\n",
    "cm.getErrorRate(root, data)"
   ]
  },
  {
   "cell_type": "markdown",
   "metadata": {},
   "source": [
    "2.7) Split the 'data' (table) based on the selected attribiute, i.e., create two new tables."
   ]
  },
  {
   "cell_type": "code",
   "execution_count": 55,
   "metadata": {},
   "outputs": [
    {
     "name": "stdout",
     "output_type": "stream",
     "text": [
      "   attr 1  attr 2  attr 3  attr 4  attr 5  cl\n",
      "1       1       1       0       0       1   1\n",
      "4       1       0       0       1       1   0\n",
      "7       1       0       0       1       1   1\n",
      "8       0       1       0       0       1   0\n",
      "9       0       0       0       1       1   0\n",
      "   attr 1  attr 2  attr 3  attr 4  attr 5  cl\n",
      "0       1       0       1       1       1   1\n",
      "2       0       1       1       1       1   1\n",
      "3       1       0       1       0       1   0\n",
      "5       0       0       1       1       1   1\n",
      "6       1       1       1       1       1   1\n"
     ]
    }
   ],
   "source": [
    "left_data = data[data['attr 3']==0]\n",
    "right_data = data[data['attr 3']==1]\n",
    "print(left_data)\n",
    "print(right_data)"
   ]
  },
  {
   "cell_type": "markdown",
   "metadata": {},
   "source": [
    "2.8) Let us start with the left node. Firstly, calculate information gain for this node."
   ]
  },
  {
   "cell_type": "code",
   "execution_count": 56,
   "metadata": {},
   "outputs": [
    {
     "name": "stdout",
     "output_type": "stream",
     "text": [
      "0.4199730940219749\n",
      "0.01997309402197489\n",
      "0.0\n",
      "0.01997309402197489\n",
      "0.0\n"
     ]
    }
   ],
   "source": [
    "### TODO\n",
    "print(getInformationGain(list(left_data['cl']), left_data['attr 1']))\n",
    "print(getInformationGain(list(left_data['cl']), left_data['attr 2']))\n",
    "print(getInformationGain(list(left_data['cl']), left_data['attr 3']))\n",
    "print(getInformationGain(list(left_data['cl']), left_data['attr 4']))\n",
    "print(getInformationGain(list(left_data['cl']), left_data['attr 5']))"
   ]
  },
  {
   "cell_type": "markdown",
   "metadata": {},
   "source": [
    "2.9) Choose the best attribute to split the data and then update the decision tree."
   ]
  },
  {
   "cell_type": "code",
   "execution_count": 57,
   "metadata": {},
   "outputs": [],
   "source": [
    "### TODO\n",
    "zero_Node.attr = \"attr 1\"\n",
    "znlc = Node(None,None,None,0)\n",
    "znrc = Node(None,None,None,1)\n",
    "zero_Node.value = None\n",
    "zero_Node.left = znlc\n",
    "zero_Node.right = znrc"
   ]
  },
  {
   "cell_type": "markdown",
   "metadata": {},
   "source": [
    "2.10) Print the graph and calculate the error rate (hint: should be 0.2 :). What happened with the error rate?"
   ]
  },
  {
   "cell_type": "code",
   "execution_count": 58,
   "metadata": {},
   "outputs": [
    {
     "data": {
      "text/plain": [
       "0.19999999999999996"
      ]
     },
     "execution_count": 58,
     "metadata": {},
     "output_type": "execute_result"
    },
    {
     "data": {
      "image/png": "[encoded data removed]",
      "text/plain": [
       "<Figure size 432x288 with 1 Axes>"
      ]
     },
     "metadata": {
      "needs_background": "light"
     },
     "output_type": "display_data"
    }
   ],
   "source": [
    "### TODO\n",
    "cm.printGraph(root, data, fileName='decision_tree_0')\n",
    "plt.imshow(plt.imread(\"decision_tree_0.png\"))\n",
    "cm.getErrorRate(root, data)"
   ]
  },
  {
   "cell_type": "markdown",
   "metadata": {},
   "source": [
    "2.11) Split data (remember that we split left_data, not data)."
   ]
  },
  {
   "cell_type": "code",
   "execution_count": 59,
   "metadata": {},
   "outputs": [
    {
     "name": "stdout",
     "output_type": "stream",
     "text": [
      "   attr 1  attr 2  attr 3  attr 4  attr 5  cl\n",
      "8       0       1       0       0       1   0\n",
      "9       0       0       0       1       1   0\n",
      "   attr 1  attr 2  attr 3  attr 4  attr 5  cl\n",
      "0       1       0       1       1       1   1\n",
      "3       1       0       1       0       1   0\n",
      "6       1       1       1       1       1   1\n"
     ]
    }
   ],
   "source": [
    "#TODO\n",
    "leftLeft_data = left_data[left_data['attr 1']==0]\n",
    "leftRight_data = right_data[right_data['attr 1']==1]\n",
    "print(leftLeft_data)\n",
    "print(leftRight_data)"
   ]
  },
  {
   "cell_type": "markdown",
   "metadata": {},
   "source": [
    "2.12) Repeat the whole process for the right node."
   ]
  },
  {
   "cell_type": "code",
   "execution_count": 60,
   "metadata": {},
   "outputs": [
    {
     "name": "stdout",
     "output_type": "stream",
     "text": [
      "0.17095059445466865\n",
      "0.17095059445466865\n",
      "0.0\n",
      "0.7219280948873623\n",
      "0.0\n"
     ]
    }
   ],
   "source": [
    "# TODO compute the information gain\n",
    "print(getInformationGain(list(right_data['cl']), right_data['attr 1']))\n",
    "print(getInformationGain(list(right_data['cl']), right_data['attr 2']))\n",
    "print(getInformationGain(list(right_data['cl']), right_data['attr 3']))\n",
    "print(getInformationGain(list(right_data['cl']), right_data['attr 4']))\n",
    "print(getInformationGain(list(right_data['cl']), right_data['attr 5']))"
   ]
  },
  {
   "cell_type": "code",
   "execution_count": 61,
   "metadata": {},
   "outputs": [],
   "source": [
    "# TODO update the decision tree\n",
    "one_Node.attr = \"attr 4\"\n",
    "onlc = Node(None,None,None,0)\n",
    "onrc = Node(None,None,None,1)\n",
    "one_Node.value = None\n",
    "one_Node.left = onlc\n",
    "one_Node.right = onrc"
   ]
  },
  {
   "cell_type": "code",
   "execution_count": 62,
   "metadata": {},
   "outputs": [
    {
     "data": {
      "text/plain": [
       "0.09999999999999998"
      ]
     },
     "execution_count": 62,
     "metadata": {},
     "output_type": "execute_result"
    },
    {
     "data": {
      "image/png": "[encoded data removed]",
      "text/plain": [
       "<Figure size 432x288 with 1 Axes>"
      ]
     },
     "metadata": {
      "needs_background": "light"
     },
     "output_type": "display_data"
    }
   ],
   "source": [
    "# TODO print the decision tree and calculate the error rate (hint, should be 0.1:) )\n",
    "cm.printGraph(root, data, fileName='decision_tree_0')\n",
    "plt.imshow(plt.imread(\"decision_tree_0.png\"))\n",
    "cm.getErrorRate(root, data)"
   ]
  },
  {
   "cell_type": "code",
   "execution_count": 63,
   "metadata": {},
   "outputs": [
    {
     "name": "stdout",
     "output_type": "stream",
     "text": [
      "   attr 1  attr 2  attr 3  attr 4  attr 5  cl\n",
      "3       1       0       1       0       1   0\n",
      "   attr 1  attr 2  attr 3  attr 4  attr 5  cl\n",
      "0       1       0       1       1       1   1\n",
      "2       0       1       1       1       1   1\n",
      "5       0       0       1       1       1   1\n",
      "6       1       1       1       1       1   1\n"
     ]
    }
   ],
   "source": [
    "# TODO split the data (right_data)\n",
    "rightLeft_data = right_data[right_data['attr 4']==0]\n",
    "rightRight_data = right_data[right_data['attr 4']==1]\n",
    "print(rightLeft_data)\n",
    "print(rightRight_data)"
   ]
  },
  {
   "cell_type": "markdown",
   "metadata": {},
   "source": [
    "2.13) Let's consider left-left node. Calculate information gain for it."
   ]
  },
  {
   "cell_type": "code",
   "execution_count": 64,
   "metadata": {},
   "outputs": [
    {
     "name": "stdout",
     "output_type": "stream",
     "text": [
      "0.0\n"
     ]
    }
   ],
   "source": [
    "# TODO\n",
    "print(getInformationGain(list(leftLeft_data['cl']), leftLeft_data['attr 1']))"
   ]
  },
  {
   "cell_type": "markdown",
   "metadata": {},
   "source": [
    "2.14) Will adding a new node to the tree improve its effectiveness? Why? Why not? \n",
    "\n",
    "\n",
    "ANSWER : There is no need to add a new node because the InformationGain for left-left, right-left and right-right leaf is set to 0.0, thus meaning there is nothing to iterate over anymore. It will not improve its effectiveness due to the sufficient superiority of attributes assigned to a class"
   ]
  },
  {
   "cell_type": "markdown",
   "metadata": {},
   "source": [
    "2.15) Calculate information gain for the left-right node."
   ]
  },
  {
   "cell_type": "code",
   "execution_count": 65,
   "metadata": {},
   "outputs": [
    {
     "name": "stdout",
     "output_type": "stream",
     "text": [
      "0.0\n",
      "0.2516291673878229\n",
      "0.0\n",
      "0.9182958340544896\n",
      "0.0\n"
     ]
    }
   ],
   "source": [
    "print(getInformationGain(list(leftRight_data['cl']), leftRight_data['attr 1']))\n",
    "print(getInformationGain(list(leftRight_data['cl']), leftRight_data['attr 2']))\n",
    "print(getInformationGain(list(leftRight_data['cl']), leftRight_data['attr 3']))\n",
    "print(getInformationGain(list(leftRight_data['cl']), leftRight_data['attr 4']))\n",
    "print(getInformationGain(list(leftRight_data['cl']), leftRight_data['attr 5']))"
   ]
  },
  {
   "cell_type": "code",
   "execution_count": 66,
   "metadata": {},
   "outputs": [],
   "source": [
    "### Select the attribute and update the tree\n",
    "znrc.attr = \"attr 4\"\n",
    "znlc_l = Node(None,None,None,0)\n",
    "znrc_r = Node(None,None,None,1)\n",
    "znrc.value = None\n",
    "znrc.left = znlc_l\n",
    "znrc.right = znrc_r"
   ]
  },
  {
   "cell_type": "code",
   "execution_count": 67,
   "metadata": {},
   "outputs": [
    {
     "data": {
      "text/plain": [
       "0.19999999999999996"
      ]
     },
     "execution_count": 67,
     "metadata": {},
     "output_type": "execute_result"
    },
    {
     "data": {
      "image/png": "[encoded data removed]",
      "text/plain": [
       "<Figure size 432x288 with 1 Axes>"
      ]
     },
     "metadata": {
      "needs_background": "light"
     },
     "output_type": "display_data"
    }
   ],
   "source": [
    "### Print the decision tree and compute the error rate\n",
    "cm.printGraph(root, data, fileName='decision_tree_0')\n",
    "plt.imshow(plt.imread(\"decision_tree_0.png\"))\n",
    "cm.getErrorRate(root, data)"
   ]
  },
  {
   "cell_type": "markdown",
   "metadata": {},
   "source": [
    "2.16) What happened with the error rate? Is it necessary to keep these two newly added leaves? Answer: It is unnecessary to keep added leaves as the error rate went up, therefore it is the best practice to leave the iteration at a stable, low error rate."
   ]
  },
  {
   "cell_type": "markdown",
   "metadata": {},
   "source": [
    "2.17) Finish creating the right side of the tree\n",
    "\n",
    "\n",
    "ANSWER : You cannot split the tree anymore."
   ]
  },
  {
   "cell_type": "code",
   "execution_count": 35,
   "metadata": {},
   "outputs": [],
   "source": [
    "### TODO"
   ]
  },
  {
   "cell_type": "markdown",
   "metadata": {},
   "source": [
    "# Part 3: automated construction of decision trees"
   ]
  },
  {
   "cell_type": "markdown",
   "metadata": {},
   "source": [
    "**3.1 REMARK: the difficulty of this exercise is high**. Complete the following function for automated construct of decision trees, so that it returns a decision tree for the given data and attribute list. Note that this is a recusive method, i.e., calls itself."
   ]
  },
  {
   "cell_type": "code",
   "execution_count": 41,
   "metadata": {},
   "outputs": [],
   "source": [
    "max_depth = 0\n",
    "\n",
    "def createTree(data, attributeNames, depth=0):\n",
    "    data = data.reset_index().drop(\"index\", axis=1)\n",
    "    ### TODO"
   ]
  },
  {
   "cell_type": "markdown",
   "metadata": {},
   "source": [
    "3.2) Build a decision tree for a training dataset in the common.py auxiliary file, for diffrent values of max_depth.  Calculate & compare the error rates for training and validation datasets."
   ]
  },
  {
   "cell_type": "code",
   "execution_count": 42,
   "metadata": {},
   "outputs": [],
   "source": [
    "max_depth = 10"
   ]
  },
  {
   "cell_type": "code",
   "execution_count": 43,
   "metadata": {},
   "outputs": [],
   "source": [
    "train_attributeNames, train_data = cm.getTrainingDataSet()\n",
    "### TODO - TRAINING DATASET"
   ]
  },
  {
   "cell_type": "code",
   "execution_count": 44,
   "metadata": {},
   "outputs": [
    {
     "data": {
      "text/plain": [
       "<matplotlib.image.AxesImage at 0x21e74857670>"
      ]
     },
     "execution_count": 44,
     "metadata": {},
     "output_type": "execute_result"
    },
    {
     "data": {
      "image/png": "[encoded data removed]",
      "text/plain": [
       "<Figure size 432x288 with 1 Axes>"
      ]
     },
     "metadata": {
      "needs_background": "light"
     },
     "output_type": "display_data"
    }
   ],
   "source": [
    "### SEE THE EXPECTED RESULT TRAIN_TREE.PNG IN THE FILES BUNDLE. \n",
    "plt.imshow(plt.imread(\"train_tree_expected.png\"))"
   ]
  },
  {
   "cell_type": "code",
   "execution_count": 45,
   "metadata": {},
   "outputs": [],
   "source": [
    "valid_attributesName, valid_data = cm.getValidationDataSet()\n",
    "### TODO - VALIDATION DATASET"
   ]
  },
  {
   "cell_type": "code",
   "execution_count": 46,
   "metadata": {},
   "outputs": [
    {
     "data": {
      "text/plain": [
       "<matplotlib.image.AxesImage at 0x21e747ce1f0>"
      ]
     },
     "execution_count": 46,
     "metadata": {},
     "output_type": "execute_result"
    },
    {
     "data": {
      "image/png": "[encoded data removed]",
      "text/plain": [
       "<Figure size 432x288 with 1 Axes>"
      ]
     },
     "metadata": {
      "needs_background": "light"
     },
     "output_type": "display_data"
    }
   ],
   "source": [
    "### SEE THE EXPECTED RESULT TRAIN_TREE.PNG IN THE FILES BUNDLE. \n",
    "plt.imshow(plt.imread(\"validation_tree_expected.png\"))"
   ]
  },
  {
   "cell_type": "markdown",
   "metadata": {},
   "source": [
    "3.3) Consider only the training data set and answer the following questions:\n",
    "* What is the miximum depth of the tree (consider only the training data set)?\n",
    "* The tree building process should stop when there is no improvement in error rate (why?). Check for which value of \"max_dept\" there is no improvement in error rate. "
   ]
  },
  {
   "cell_type": "code",
   "execution_count": 47,
   "metadata": {},
   "outputs": [],
   "source": [
    "for i in range(10):\n",
    "    max_depth = i\n",
    "    ### TODO"
   ]
  },
  {
   "cell_type": "code",
   "execution_count": null,
   "metadata": {},
   "outputs": [],
   "source": []
  },
  {
   "cell_type": "code",
   "execution_count": null,
   "metadata": {},
   "outputs": [],
   "source": []
  }
 ],
 "metadata": {
  "kernelspec": {
   "display_name": "Python 3",
   "language": "python",
   "name": "python3"
  },
  "language_info": {
   "codemirror_mode": {
    "name": "ipython",
    "version": 3
   },
   "file_extension": ".py",
   "mimetype": "text/x-python",
   "name": "python",
   "nbconvert_exporter": "python",
   "pygments_lexer": "ipython3",
   "version": "3.8.5"
  },
  "toc-autonumbering": false,
  "toc-showcode": false,
  "toc-showmarkdowntxt": true
 },
 "nbformat": 4,
 "nbformat_minor": 4
}
