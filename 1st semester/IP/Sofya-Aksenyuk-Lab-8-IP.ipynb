{
 "cells": [
  {
   "cell_type": "markdown",
   "metadata": {},
   "source": [
    "## Classes and Objects"
   ]
  },
  {
   "cell_type": "markdown",
   "metadata": {},
   "source": [
    "Analyze the Point class below."
   ]
  },
  {
   "cell_type": "code",
   "execution_count": 37,
   "metadata": {},
   "outputs": [
    {
     "name": "stdout",
     "output_type": "stream",
     "text": [
      "__init__ invoked!\n",
      "__init__ invoked!\n",
      "0 0\n",
      "1 2\n",
      "__str__ invoked!\n",
      "x: 0, y: 0\n",
      "__str__ invoked!\n",
      "x: 1, y: 2\n",
      "0.0\n",
      "2.23606797749979\n"
     ]
    }
   ],
   "source": [
    "class Point:\n",
    "    \n",
    "    '''\n",
    "    This function will be invoked each time new point is created.\n",
    "    The first parameter (usually called self, but you can change it) will store the object you are creating.\n",
    "    You can add as many parameters as you want.\n",
    "    You can store new values in your object as shown below with variables x and y.\n",
    "    '''\n",
    "    def __init__(self, x=0, y=0):\n",
    "        print('__init__ invoked!')\n",
    "        self.x = x\n",
    "        self.y = y\n",
    "\n",
    "    '''\n",
    "    This function is called when you invoke str() function.\n",
    "    It should return some string.\n",
    "    '''\n",
    "    def __str__(self):\n",
    "        print('__str__ invoked!')\n",
    "        return 'x: {}, y: {}'.format(self.x, self.y)\n",
    "    \n",
    "    '''\n",
    "    We can add some other functions that may be useful for our class\n",
    "    '''\n",
    "    def distance_to_0_0(self):\n",
    "        return (self.x**2 + self.y**2)**0.5\n",
    "    \n",
    "    \n",
    "    def distance(self, p):\n",
    "        return ((self.x - p.x)**2 + (self.y - p.y)**2)**0.5\n",
    "\n",
    "    \n",
    "# We create new object by using its class name\n",
    "p1 = Point()\n",
    "p2 = Point(1, 2)\n",
    "\n",
    "# We can access variables we added in __init__ function\n",
    "print(p1.x, p1.y)\n",
    "print(p2.x, p2.y)\n",
    "\n",
    "# We can cast our Point to string\n",
    "s = str(p1)\n",
    "print(s)\n",
    "\n",
    "# print calls str function as well\n",
    "print(p2)\n",
    "\n",
    "# When we invoke our function p1 ends in self\n",
    "d = p1.distance_to_0_0()\n",
    "print(d)\n",
    "\n",
    "# When we invoke our function p1 ends in 'self' and p2 ends in p\n",
    "d = p1.distance(p2)\n",
    "print(d)"
   ]
  },
  {
   "cell_type": "markdown",
   "metadata": {},
   "source": [
    "If you wonder how is it possible to simply assign some variables \"inside\" your object as we did with self.x = 0, you can think about it as using dictionary with some other syntax."
   ]
  },
  {
   "cell_type": "code",
   "execution_count": 38,
   "metadata": {},
   "outputs": [
    {
     "name": "stdout",
     "output_type": "stream",
     "text": [
      "__init__ invoked!\n",
      "0 0\n",
      "{'x': 0, 'y': 0}\n",
      "0 0\n"
     ]
    }
   ],
   "source": [
    "p = Point()\n",
    "print(p.x, p.y)\n",
    "print(p.__dict__)\n",
    "print(p.__dict__['x'], p.__dict__['y'])"
   ]
  },
  {
   "cell_type": "markdown",
   "metadata": {},
   "source": [
    "## Excercises\n",
    "In most exercises you will have to modify the Point class above. You will have to rerun cell for your changes to have effect."
   ]
  },
  {
   "cell_type": "markdown",
   "metadata": {},
   "source": [
    "Ex. 1. Add function *move*, that will take two parameters **dx** and **dy** and modify the values of **x** and **y** in your Point."
   ]
  },
  {
   "cell_type": "code",
   "execution_count": 39,
   "metadata": {},
   "outputs": [
    {
     "name": "stdout",
     "output_type": "stream",
     "text": [
      "__init__ invoked!\n",
      "Correct!\n"
     ]
    }
   ],
   "source": [
    "class Point:\n",
    "    \n",
    "    '''\n",
    "    This function will be invoked each time new point is created.\n",
    "    The first parameter (usually called self, but you can change it) will store the object you are creating.\n",
    "    You can add as many parameters as you want.\n",
    "    You can store new values in your object as shown below with variables x and y.\n",
    "    '''\n",
    "    def __init__(self, x=0, y=0):\n",
    "        print('__init__ invoked!')\n",
    "        self.x = x\n",
    "        self.y = y\n",
    "\n",
    "    '''\n",
    "    This function is called when you invoke str() function.\n",
    "    It should return some string.\n",
    "    '''\n",
    "    def __str__(self):\n",
    "        print('__str__ invoked!')\n",
    "        return 'x: {}, y: {}'.format(self.x, self.y)\n",
    "    \n",
    "    '''\n",
    "    We can add some other functions that may be useful for our class\n",
    "    '''\n",
    "    def distance_to_0_0(self):\n",
    "        return (self.x**2 + self.y**2)**0.5\n",
    "    \n",
    "    \n",
    "    def distance(self, p):\n",
    "        return ((self.x - p.x)**2 + (self.y - p.y)**2)**0.5\n",
    "\n",
    "    def move(p, dx, dy):\n",
    "        p.x += dx\n",
    "        p.y += dy\n",
    "        return p\n",
    "    \n",
    "p = Point()\n",
    "p.move(2,5)\n",
    "if p.x == 2 and p.y == 5:\n",
    "    print('Correct!')\n",
    "else:\n",
    "    print('Incorrect!')"
   ]
  },
  {
   "cell_type": "markdown",
   "metadata": {},
   "source": [
    "Ex. 2. Add function *point_between* that will return new Point with coordinates between *self* and point given as argument. Invocation should look like this: \n",
    "```\n",
    "p1.point_between(p2)\n",
    "```"
   ]
  },
  {
   "cell_type": "code",
   "execution_count": 40,
   "metadata": {},
   "outputs": [
    {
     "name": "stdout",
     "output_type": "stream",
     "text": [
      "__init__ invoked!\n",
      "__init__ invoked!\n",
      "__init__ invoked!\n",
      "Correct!\n"
     ]
    }
   ],
   "source": [
    "class Point:\n",
    "    \n",
    "    '''\n",
    "    This function will be invoked each time new point is created.\n",
    "    The first parameter (usually called self, but you can change it) will store the object you are creating.\n",
    "    You can add as many parameters as you want.\n",
    "    You can store new values in your object as shown below with variables x and y.\n",
    "    '''\n",
    "    def __init__(self, x=0, y=0):\n",
    "        print('__init__ invoked!')\n",
    "        self.x = x\n",
    "        self.y = y\n",
    "\n",
    "    '''\n",
    "    This function is called when you invoke str() function.\n",
    "    It should return some string.\n",
    "    '''\n",
    "    def __str__(self):\n",
    "        print('__str__ invoked!')\n",
    "        return 'x: {}, y: {}'.format(self.x, self.y)\n",
    "    \n",
    "    '''\n",
    "    We can add some other functions that may be useful for our class\n",
    "    '''\n",
    "    def distance_to_0_0(self):\n",
    "        return (self.x**2 + self.y**2)**0.5\n",
    "    \n",
    "    \n",
    "    def distance(self, p):\n",
    "        return ((self.x - p.x)**2 + (self.y - p.y)**2)**0.5\n",
    "\n",
    "    def point_between(p1, p2):\n",
    "        res.x = (p1.x + p2.x)/2 \n",
    "        res.y = (p1.y + p2.y)/2\n",
    "        return res\n",
    "res = Point()    \n",
    "res = Point(0,0).point_between(Point(2,2))\n",
    "if res.x == 1 and res.y == 1:\n",
    "    print('Correct!')\n",
    "else:\n",
    "    print('Incorrect!')"
   ]
  },
  {
   "cell_type": "markdown",
   "metadata": {},
   "source": [
    "Ex. 3. Add function *get_line_to* that will return coefficients (a, b) of line ($y=ax+b$) that connects two points (self and argument) (assume there won't be vertical line)."
   ]
  },
  {
   "cell_type": "code",
   "execution_count": 42,
   "metadata": {},
   "outputs": [
    {
     "name": "stdout",
     "output_type": "stream",
     "text": [
      "__init__ invoked!\n",
      "__init__ invoked!\n",
      "Correct!\n"
     ]
    }
   ],
   "source": [
    "class Point:\n",
    "    \n",
    "    '''\n",
    "    This function will be invoked each time new point is created.\n",
    "    The first parameter (usually called self, but you can change it) will store the object you are creating.\n",
    "    You can add as many parameters as you want.\n",
    "    You can store new values in your object as shown below with variables x and y.\n",
    "    '''\n",
    "    def __init__(self, x=0, y=0):\n",
    "        print('__init__ invoked!')\n",
    "        self.x = x\n",
    "        self.y = y\n",
    "\n",
    "    '''\n",
    "    This function is called when you invoke str() function.\n",
    "    It should return some string.\n",
    "    '''\n",
    "    def __str__(self):\n",
    "        print('__str__ invoked!')\n",
    "        return 'x: {}, y: {}'.format(self.x, self.y)\n",
    "    \n",
    "    '''\n",
    "    We can add some other functions that may be useful for our class\n",
    "    '''\n",
    "    def distance_to_0_0(self):\n",
    "        return (self.x**2 + self.y**2)**0.5\n",
    "    \n",
    "    \n",
    "    def distance(self, p):\n",
    "        return ((self.x - p.x)**2 + (self.y - p.y)**2)**0.5\n",
    "\n",
    "    def point_between(p1, p2):\n",
    "        res.x = (p1.x + p2.x)/2 \n",
    "        res.y = (p1.y + p2.y)/2\n",
    "        return res\n",
    "    \n",
    "    def get_line_to(p1, p2):\n",
    "        a = (p2.y - p1.y) / (p2.x - p1.x)\n",
    "        b = p1.y - a * p1.x\n",
    "        return a, b\n",
    "    \n",
    "    \n",
    "p1 = Point(0,1)\n",
    "p2 = Point(1,2)\n",
    "if p1.get_line_to(p2) == (1,1):\n",
    "    print('Correct!')\n",
    "else:\n",
    "    print('Incorrect!')"
   ]
  },
  {
   "cell_type": "markdown",
   "metadata": {},
   "source": [
    "Ex. 4. When you use < > <= >= != and == between object special functions are called.\n",
    "The correspondence between operator symbols and method names is as follows: x<y calls x.\\_\\_lt\\_\\_(y), x<=y calls x.\\_\\_le\\_\\_(y), x==y calls x.\\_\\_eq\\_\\_(y), x!=y calls x.\\_\\_ne\\_\\_(y), x>y calls x.\\_\\_gt\\_\\_(y), and x>=y calls x.\\_\\_ge\\_\\_(y).\n",
    "\n",
    "Implement at least one such function so that we will be able to compare Points. Let's say that p1 is greater than p2 (p1 > p2) when p1.distance_to_0_0() > p2.distance_to_0_0() "
   ]
  },
  {
   "cell_type": "code",
   "execution_count": 49,
   "metadata": {},
   "outputs": [
    {
     "name": "stdout",
     "output_type": "stream",
     "text": [
      "__init__ invoked!\n",
      "__init__ invoked!\n",
      "__init__ invoked!\n",
      "__init__ invoked!\n",
      "Correct!\n"
     ]
    }
   ],
   "source": [
    "class Point:\n",
    "    \n",
    "    '''\n",
    "    This function will be invoked each time new point is created.\n",
    "    The first parameter (usually called self, but you can change it) will store the object you are creating.\n",
    "    You can add as many parameters as you want.\n",
    "    You can store new values in your object as shown below with variables x and y.\n",
    "    '''\n",
    "    def __init__(self, x=0, y=0):\n",
    "        print('__init__ invoked!')\n",
    "        self.x = x\n",
    "        self.y = y\n",
    "\n",
    "    '''\n",
    "    This function is called when you invoke str() function.\n",
    "    It should return some string.\n",
    "    '''\n",
    "    def __str__(self):\n",
    "        print('__str__ invoked!')\n",
    "        return 'x: {}, y: {}'.format(self.x, self.y)\n",
    "    \n",
    "    '''\n",
    "    We can add some other functions that may be useful for our class\n",
    "    '''\n",
    "    def distance_to_0_0(self):\n",
    "        return (self.x**2 + self.y**2)**0.5\n",
    "    \n",
    "    \n",
    "    def distance(self, p):\n",
    "        return ((self.x - p.x)**2 + (self.y - p.y)**2)**0.5\n",
    "    \n",
    "    def compare(p1, p2):\n",
    "        if p1.distance_to_0_0() > p2.distance_to_0_0():\n",
    "            return True\n",
    "        else:\n",
    "            return False\n",
    "\n",
    "if not Point(0,0).compare(Point(1,1)) and Point(2,2).compare(Point(1,1)):\n",
    "    print('Correct!')\n",
    "else:\n",
    "    print('Incorrect!')    "
   ]
  },
  {
   "cell_type": "markdown",
   "metadata": {},
   "source": [
    "Ex. 5. Implement Rectangle class.\n",
    "- To represent our rectangle we will store three things: Point that is its upper left corner, width, and height.\n",
    "- Add function that will be used to cast Rectangle to string. \n",
    "- Add functions *r.area()* and *r.perimeter()* that will return area and perimeter of Rectangle r.\n",
    "- Add function *r.center()* that will return Point that is the center of the Rectangle r.\n",
    "- Add function *r.contains(p)* that will check, wheater Point p is inside Rectangle r.\n",
    "- (Hard) Add function *r1.overlap(r2)* that will check wheater Rectangle r1 overlaps with Rectangle r2."
   ]
  },
  {
   "cell_type": "code",
   "execution_count": 84,
   "metadata": {},
   "outputs": [
    {
     "name": "stdout",
     "output_type": "stream",
     "text": [
      "__init__ invoked!\n",
      "__init__ invoked!\n",
      "__init__ invoked!\n",
      "__init__ invoked!\n",
      "__init__ invoked!\n",
      "__str__ invoked!\n",
      "width: 3, height: 4\n",
      "12\n",
      "7\n",
      "__str__ invoked!\n",
      "x: 11.5, y: 2.0\n",
      "False\n",
      "True\n"
     ]
    }
   ],
   "source": [
    "class Rectangle:\n",
    "    def __init__(r, left_cor, width, height):\n",
    "        r.left_cor = left_cor\n",
    "        r.width = width\n",
    "        r.height = height\n",
    "    def __str__(r):\n",
    "        print('__str__ invoked!')\n",
    "        return 'width: {}, height: {}'.format(r.width, r.height)\n",
    "    def area(r):\n",
    "        return r.width * r.height\n",
    "    def perimeter(r):\n",
    "        return r.width + r.height\n",
    "    def center(r):\n",
    "        center.x = r.left_cor.x + 1/2 * r.width\n",
    "        center.y = r.left_cor.y - 1/2 * r.height\n",
    "        return center\n",
    "    def contains(r):\n",
    "        if p.x <= (r.left_cor.x + r.width) and p.y <= (r.left_cor.y - r.height):\n",
    "            return True\n",
    "        else:\n",
    "            return False\n",
    "    def overlap(r1, r2):\n",
    "        r1_range_x = [int(x) for x in range (0, r1.width + r1.left_cor.x)]\n",
    "        r1_range_y = [int(x) for x in range (0, r1.height + r1.left_cor.y)]\n",
    "        if r2.width in r1_range_x or r2.height in r1_range_y:\n",
    "            return True\n",
    "        else:\n",
    "            return False\n",
    "r = Rectangle(Point(10, 4), 3, 4)\n",
    "p = Point(3, 4)\n",
    "r1 = Rectangle(Point(0, 0), 5, 6)\n",
    "r2 = Rectangle(Point(3, 4), 2, 5)\n",
    "center = Point()\n",
    "print(r.__str__())\n",
    "print(r.area())\n",
    "print(r.perimeter())\n",
    "print(r.center())\n",
    "print(r.contains())\n",
    "print(r1.overlap(r2))"
   ]
  },
  {
   "cell_type": "code",
   "execution_count": null,
   "metadata": {},
   "outputs": [],
   "source": []
  }
 ],
 "metadata": {
  "kernelspec": {
   "display_name": "Python 3",
   "language": "python",
   "name": "python3"
  },
  "language_info": {
   "codemirror_mode": {
    "name": "ipython",
    "version": 3
   },
   "file_extension": ".py",
   "mimetype": "text/x-python",
   "name": "python",
   "nbconvert_exporter": "python",
   "pygments_lexer": "ipython3",
   "version": "3.8.5"
  }
 },
 "nbformat": 4,
 "nbformat_minor": 2
}
