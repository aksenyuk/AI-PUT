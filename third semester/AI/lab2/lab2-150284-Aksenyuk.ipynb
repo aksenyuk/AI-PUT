{
 "cells": [
  {
   "cell_type": "markdown",
   "metadata": {},
   "source": [
    "# Informed search - the A* algorithm"
   ]
  },
  {
   "cell_type": "markdown",
   "metadata": {},
   "source": [
    "Depth-first search and breadth-first search considered in the previous lesson are completely *blind* algorithms: they're only concerned whether the currently considered state is a goal state or not. They're unable to distinguish whether a state is easy or hard to reach, or whether it is near or far of the goal. This makes them very inefficient search algorithms. To allievate the issue, we introduce informed search algorithms. The information is given to an algorithm in two ways:\n",
    "\n",
    "1. By using an *action cost* function $c(s,a)$, which, given a state $s$ and an action $a$ available in this state, returns its cost as a non-negative number.\n",
    "2. By using a *heuristic* $h(s)$, which, given a state, estimates the lowest cost to reach a goal state from the given state.\n",
    "\n",
    "Given a sequence of actions $a_1, \\ldots, a_n$ and an initial state $s_1$, we can express the *total cost* of reaching the state $s_{n+1}$ by executing the sequence as:\n",
    "$$ c(s_1, a_1, \\ldots, a_{n-1}) = \\sum_{i=1}^n c(s_i, a_i) $$\n",
    "and the *expected cost* of the solution as the sum of the total cost and the estimate cost of reaching the goal from the state $s_{n+1}$\n",
    "$$ f(s_1, a_1, \\ldots, a_n) = c(s_1, a_1, \\ldots, a_n) + h(s_{n+1}) $$\n",
    "\n",
    "The heuristic function is a bit tricky, because we want it to have two properties:\n",
    "* *Admissibility*: It must never *overestimate* the true cost of reaching the goal. \n",
    "* *Consistency*: Let $s$ be a state such that $a$ is an available action in this state and $s'$ is the state reached by executing this action. The heuristic should fulfil triangle inequality, that is, the estimated cost to reach the goal from $s$ should be no greater than the cost of executing the action $a$ + the estimated cost of reaching the goal from the new state.\n",
    "$$ h(s) \\leq c(s, a) + h(s') $$\n",
    "\n",
    "One can prove that admissibility follows from consistency, but consistency is important only if there are multiple paths to reach the same state (i.e., we are searching in a graph, not in a tree). Otherwise, admissability is sufficient."
   ]
  },
  {
   "cell_type": "markdown",
   "metadata": {},
   "source": [
    "Lets extend the class `Problem` from the previous lesson with two new functions `action_cost` and `heuristic`, which correspond to the functions $c(s,a)$ and $h(s)$ described above."
   ]
  },
  {
   "cell_type": "code",
   "execution_count": 1,
   "metadata": {},
   "outputs": [],
   "source": [
    "class Problem:\n",
    "    @property\n",
    "    def initial_state(self):\n",
    "        ...\n",
    "        \n",
    "    def available_actions(self, state):\n",
    "        ...        \n",
    "        \n",
    "    def do_action(self, state, action):\n",
    "        ...\n",
    "        return new_state\n",
    "    \n",
    "    def is_goal(self, state) -> bool:\n",
    "        ...\n",
    "        \n",
    "    def action_cost(self, state, action) -> float:\n",
    "        ...\n",
    "        \n",
    "    def heuristic(self, state) -> float:\n",
    "        ..."
   ]
  },
  {
   "cell_type": "markdown",
   "metadata": {},
   "source": [
    "To make a concrete example, lets revisit the vacuum world. \n",
    "\n",
    "![](aima-images/fig2_2.png)\n",
    "\n",
    "Below, we assume a very simple model:\n",
    "* Any action costs 1. This corresponds to searching for the shortest plan.\n",
    "* The heuristic estimation is the number of fields which are still dirty. \n",
    "\n",
    "\n",
    "Lets consider the properties of the heuristic:\n",
    "* Is is admissible? The heuristic value is equal to the number of 'Suck' actions that are yet to be executed and ignores the spatial aspect (i.e., moving between the rooms), thus never overestimating.\n",
    "* Is it consistent? As a consequence of a single action the heuristic value can decrease by at most 1 (if the action happens to be 'Suck' and the room is dirty). The cost of any action is 1, so rewriting the triangle inequality we arrive at:\n",
    "$$ h(s) \\leq c(s, a) + h(s') = \\begin{cases} 1 + (h(s)-1) & a=\\text{'Suck' and the room was dirty} \\\\ 1 + h(s) & \\text{otherwise} \\end{cases} $$\n",
    "* Is it the best we could have? By no means! We could include the spatial aspect."
   ]
  },
  {
   "cell_type": "code",
   "execution_count": 2,
   "metadata": {},
   "outputs": [],
   "source": [
    "class VacuumProblem(Problem):\n",
    "    @property\n",
    "    def initial_state(self):\n",
    "        return (0, (True, True))\n",
    "    \n",
    "    def available_actions(self, state):\n",
    "        return [\"Left\", \"Suck\", \"Right\"]\n",
    "        \n",
    "    def do_action(self, state, action):\n",
    "        robot, dirty = state\n",
    "        if action == \"Left\":\n",
    "            return (max(robot-1, 0), dirty)\n",
    "        elif action == \"Suck\":\n",
    "            new_dirty = list(dirty)\n",
    "            new_dirty[robot] = False\n",
    "            return (robot, tuple(new_dirty))\n",
    "        elif action == \"Right\":\n",
    "            return (min(robot+1, len(dirty)-1), dirty)        \n",
    "        raise Exception('Invalid action')\n",
    "    \n",
    "    def is_goal(self, state) -> bool:\n",
    "        return not any(state[1])\n",
    "    \n",
    "    def action_cost(self, state, action):\n",
    "        return 1\n",
    "    \n",
    "    def heuristic(self, state):\n",
    "        return sum(state[1])"
   ]
  },
  {
   "cell_type": "markdown",
   "metadata": {},
   "source": [
    "## Task 1: Implement the A* algorithm\n",
    "\n",
    "To implement the A* algorithm you must have a priority queue. Luckily, Python comes with one, so you don't need to implement it by yourself. Then, the algorithm is very simple: \n",
    "1. Start with a queue containing a single item - the initial state\n",
    "2. Repeat until the queue is not empty:\n",
    "  1. Pick an item with the lowest expected cost\n",
    "  2. If this is the goal, return the sequence of actions necessary to reach this state\n",
    "  3. Otherwise, for each available action, create a new entry in the queue corresponding to the state reached after executing the action.\n",
    "  \n",
    "Guard the algorithm against infinite loops: if you already visited a state, you don't need to visit it again (if your heuristic is consistent).\n",
    "\n",
    "In the cell below implement the algorithm in a similar manner as the BFS and DFS in the previous lesson: the sole argument is an object of the class Problem and the function should return a list of actions to achieve a goal state from the initial state.\n",
    "If it is impossible to reach the goal, return `None`.\n",
    "Count the number of states visited during the search and print in out before returning from the function, it will be useful later on to compare different heuristics."
   ]
  },
  {
   "cell_type": "code",
   "execution_count": 3,
   "metadata": {},
   "outputs": [],
   "source": [
    "from queue import PriorityQueue"
   ]
  },
  {
   "cell_type": "code",
   "execution_count": 4,
   "metadata": {},
   "outputs": [],
   "source": [
    "def astar(problem: Problem):\n",
    "    queue = PriorityQueue()\n",
    "    in_state = problem.initial_state\n",
    "    queue.put((0, in_state))\n",
    "    visited = [in_state]\n",
    "    actions = {in_state:[]}\n",
    "    while not queue.empty():\n",
    "        low = queue.get()\n",
    "        cur_state = low[1]\n",
    "        if problem.is_goal(cur_state): \n",
    "            print(\"The number of states visited:\", len(visited))\n",
    "            return actions[cur_state]\n",
    "        for act in problem.available_actions(cur_state):\n",
    "            new_entry = problem.do_action(cur_state, act)\n",
    "            if new_entry not in visited:\n",
    "                exp_cost = problem.action_cost(cur_state, act) + problem.heuristic(cur_state)\n",
    "                queue.put((exp_cost, new_entry))\n",
    "                actions[new_entry] = actions[cur_state][:]\n",
    "                actions[new_entry].append(act)\n",
    "                visited.append(new_entry)\n",
    "    return None"
   ]
  },
  {
   "cell_type": "markdown",
   "metadata": {},
   "source": [
    "Now lets test your code in the vacuum world!"
   ]
  },
  {
   "cell_type": "code",
   "execution_count": 5,
   "metadata": {},
   "outputs": [
    {
     "name": "stdout",
     "output_type": "stream",
     "text": [
      "The number of states visited: 5\n"
     ]
    },
    {
     "data": {
      "text/plain": [
       "['Suck', 'Right', 'Suck']"
      ]
     },
     "execution_count": 5,
     "metadata": {},
     "output_type": "execute_result"
    }
   ],
   "source": [
    "astar(VacuumProblem())"
   ]
  },
  {
   "cell_type": "markdown",
   "metadata": {},
   "source": [
    "## Task 2: Variants of the vacuum world\n",
    "\n",
    "Now lets consider a different take on the vacuum world in which the heuristic is not admissible and increases as the number of dirty fields decreases."
   ]
  },
  {
   "cell_type": "code",
   "execution_count": 6,
   "metadata": {},
   "outputs": [
    {
     "name": "stdout",
     "output_type": "stream",
     "text": [
      "The number of states visited: 7\n"
     ]
    },
    {
     "data": {
      "text/plain": [
       "['Right', 'Suck', 'Left', 'Suck']"
      ]
     },
     "execution_count": 6,
     "metadata": {},
     "output_type": "execute_result"
    }
   ],
   "source": [
    "class VacuumProblem1(VacuumProblem):\n",
    "    def action_cost(self, state, action):\n",
    "        return 1\n",
    "    \n",
    "    def heuristic(self, state):\n",
    "        return len(state[1]) - sum(state[1])\n",
    "    \n",
    "astar(VacuumProblem1())"
   ]
  },
  {
   "cell_type": "markdown",
   "metadata": {},
   "source": [
    "And another in which heuristic grossly overestimates the cost."
   ]
  },
  {
   "cell_type": "code",
   "execution_count": 7,
   "metadata": {},
   "outputs": [
    {
     "name": "stdout",
     "output_type": "stream",
     "text": [
      "The number of states visited: 5\n"
     ]
    },
    {
     "data": {
      "text/plain": [
       "['Suck', 'Right', 'Suck']"
      ]
     },
     "execution_count": 7,
     "metadata": {},
     "output_type": "execute_result"
    }
   ],
   "source": [
    "class VacuumProblem2(VacuumProblem):\n",
    "    def action_cost(self, state, action):\n",
    "        return 1\n",
    "    \n",
    "    def heuristic(self, state):\n",
    "        return 10 * sum(state[1])\n",
    "    \n",
    "astar(VacuumProblem2())"
   ]
  },
  {
   "cell_type": "markdown",
   "metadata": {},
   "source": [
    "**Which of the three heuristic functions (`VacuumProblem`, `VacuumProblem1`, `VacuumProblem2`) is the best? Is it the expected answer given the properties of the heuristics? If not, explain why an unorthodox approach works better.**"
   ]
  },
  {
   "cell_type": "markdown",
   "metadata": {},
   "source": [
    "*Considering the obtained results, it can be concluded that the heuristic functions `VacuumProblem` and `VacuumProblem2` give the same results that are much better than one given by VacuumProblem1, which makes them **the best** in this case.* \n",
    "\n",
    "*As for properties of the heuristics, `VacuumProblem` works the best since `VacuumProblem2` largly overestimates its true cost from time to time which does not satisfy the heuristic property of admissibility (which is why the unorthodox approach works better).*"
   ]
  },
  {
   "cell_type": "markdown",
   "metadata": {},
   "source": [
    "## Task 3: 8-puzzle problem\n",
    "\n",
    "Recall the 8-puzzle problem from the previous lesson. Reuse your code and implement an extended version assuming that each action costs 1. Propose 3 (at least) admissible heuristics. This time don't change the initial state, your solution should be capable enough to solve this.\n",
    "\n",
    "![](aima-images/fig3_4.png)"
   ]
  },
  {
   "cell_type": "code",
   "execution_count": 8,
   "metadata": {},
   "outputs": [],
   "source": [
    "class PuzzleProblem(Problem):\n",
    "    @property\n",
    "    def initial_state(self):\n",
    "        return (7, 2, 4, 5, 0, 6, 8, 3, 1)\n",
    "        \n",
    "    def available_actions(self, state):\n",
    "        return ['Up', 'Down', 'Left', 'Right']       \n",
    "        \n",
    "    def do_action(self, state, action):\n",
    "        new_state = list(state)\n",
    "        cell = new_state.index(0)\n",
    "        if action == 'Up' and cell in [3, 4, 5, 6, 7, 8]:\n",
    "            new_state[cell - 3] = state[cell]\n",
    "            new_state[cell] = state[cell - 3]\n",
    "        elif action == 'Down' and cell in [0, 1, 2, 3, 4, 5]:\n",
    "            new_state[cell] = state[cell + 3]\n",
    "            new_state[cell + 3] = state[cell]\n",
    "        elif action == 'Left' and cell in [1, 2, 4, 5, 7, 8]:\n",
    "            new_state[cell] = state[cell - 1]\n",
    "            new_state[cell - 1] = state[cell]            \n",
    "        elif action == 'Right' and cell in [0, 1, 3, 4, 6, 7]:\n",
    "            new_state[cell] = state[cell + 1]\n",
    "            new_state[cell + 1] = state[cell]            \n",
    "        return tuple(new_state)\n",
    "        raise Exception('Invalid action')\n",
    "    \n",
    "    def is_goal(self, state) -> bool:\n",
    "        if state == (0, 1, 2, 3, 4, 5, 6, 7, 8):\n",
    "            return True\n",
    "        else:\n",
    "            return False\n",
    "        \n",
    "    def action_cost(self, state, action) -> float:\n",
    "        return 1\n",
    "        \n",
    "    def heuristic(self, state) -> float:\n",
    "        count = 0\n",
    "        goal = [0, 1, 2, 3, 4, 5, 6, 7, 8]\n",
    "        for i in range(len(state)):\n",
    "            if state[i] != goal[i] and state[i] != 0:\n",
    "                count += 1\n",
    "        return count"
   ]
  },
  {
   "cell_type": "markdown",
   "metadata": {},
   "source": [
    "**Prove that this heuristic is admissible.**"
   ]
  },
  {
   "cell_type": "markdown",
   "metadata": {},
   "source": [
    "*Since the number of misplaced cells was used as a heuristic value, it will never overestimate the true cost (i.e., each cell will be definitely moved at least once to get to its goal cell).*"
   ]
  },
  {
   "cell_type": "code",
   "execution_count": 9,
   "metadata": {},
   "outputs": [],
   "source": [
    "class PuzzleProblem1(PuzzleProblem):\n",
    "    def heuristic(self, state) -> float:     \n",
    "        goal = [0, 1, 2, 3, 4, 5, 6, 7, 8]\n",
    "        return sum(abs(i - j) for i, j in zip(state, goal))"
   ]
  },
  {
   "cell_type": "markdown",
   "metadata": {},
   "source": [
    "**Prove that this heuristic is admissible.**"
   ]
  },
  {
   "cell_type": "markdown",
   "metadata": {},
   "source": [
    "*Since sum of Manhattan distances was used as a heuristic value, it always takes the shortest path to a cell's goal cell (i.e., it is possible for a cell only to move closer to its goal by one step in each move).*"
   ]
  },
  {
   "cell_type": "code",
   "execution_count": 12,
   "metadata": {},
   "outputs": [],
   "source": [
    "class PuzzleProblem2(PuzzleProblem):\n",
    "    def heuristic(self, state) -> float:\n",
    "        goal = [0, 1, 2, 3, 4, 5, 6, 7, 8]\n",
    "        axis = [[x, y] for x in range(1, 4) for y in range(1, 4)]\n",
    "        coord_ini = sorted({state[i]:axis[i] for i in range(len(state))}.items())\n",
    "        coord_goal = sorted({goal[i]:axis[i] for i in range(len(goal))}.items())\n",
    "        dists = []\n",
    "        for i in range(len(state)):\n",
    "            dist = (((coord_goal[i][1][0] - coord_ini[i][1][0]) ** 2) + ((coord_goal[i][1][1] - coord_ini[i][1][1]) ** 2))*(1/2)\n",
    "            dists.append(dist)\n",
    "        return sum(dists)"
   ]
  },
  {
   "cell_type": "markdown",
   "metadata": {},
   "source": [
    "**Prove that this heuristic is admissible.**"
   ]
  },
  {
   "cell_type": "markdown",
   "metadata": {},
   "source": [
    "*Since sum of Euclidian distances was used as a heuristic value, it always takes the shortest path to a cell's goal cell (i.e., it is possible for a cell only to move closer to its goal by one step in each move (similar to the sum of Manhattan distances). Apart from that, the Eucledian distance is never greater than the amount of steps to move a cell to its goal cell).*"
   ]
  },
  {
   "cell_type": "markdown",
   "metadata": {},
   "source": [
    "Run your heuristics on the given problem."
   ]
  },
  {
   "cell_type": "code",
   "execution_count": 13,
   "metadata": {},
   "outputs": [
    {
     "name": "stdout",
     "output_type": "stream",
     "text": [
      "The number of states visited: 1430\n",
      "The number of states visited: 519\n",
      "The number of states visited: 215\n",
      "Is plan0==plan1? False\n",
      "Is plan0==plan2? False\n",
      "Is plan1==plan2? False\n"
     ]
    }
   ],
   "source": [
    "plan0 = astar(PuzzleProblem())\n",
    "plan1 = astar(PuzzleProblem1())\n",
    "plan2 = astar(PuzzleProblem2())\n",
    "\n",
    "print(\"Is plan0==plan1?\", plan0 == plan1)\n",
    "print(\"Is plan0==plan2?\", plan0 == plan2)\n",
    "print(\"Is plan1==plan2?\", plan1 == plan2)"
   ]
  },
  {
   "cell_type": "markdown",
   "metadata": {},
   "source": [
    "**Which of the heuristics is the best for this task? Why is that?**"
   ]
  },
  {
   "cell_type": "markdown",
   "metadata": {},
   "source": [
    "*According to the results, it can be seen that `plan2` performs in less amount of steps than the other heuristic approaches, which makes it **the best** for this task (since all of them are considered admissible).*"
   ]
  },
  {
   "cell_type": "markdown",
   "metadata": {},
   "source": [
    "------------\n",
    "The pictures and the description of 8-puzzle are from \"Artificial Intelligence: A Modern Approach\" 3rd ed."
   ]
  }
 ],
 "metadata": {
  "kernelspec": {
   "display_name": "Python 3",
   "language": "python",
   "name": "python3"
  },
  "language_info": {
   "codemirror_mode": {
    "name": "ipython",
    "version": 3
   },
   "file_extension": ".py",
   "mimetype": "text/x-python",
   "name": "python",
   "nbconvert_exporter": "python",
   "pygments_lexer": "ipython3",
   "version": "3.8.5"
  }
 },
 "nbformat": 4,
 "nbformat_minor": 4
}
