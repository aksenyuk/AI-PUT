{
 "cells": [
  {
   "cell_type": "markdown",
   "metadata": {},
   "source": [
    "# Bayesian networks"
   ]
  },
  {
   "cell_type": "markdown",
   "metadata": {},
   "source": [
    "**A 2021/22 remark**: This is a new assigment, developed under a heavy time pressure. I apologize in advance for any typos, unclear explanations and outright errors."
   ]
  },
  {
   "cell_type": "markdown",
   "metadata": {},
   "source": [
    "A *bayesian network* is a directed acyclic graph such that each node represents a random variable and has an associated probability distribution: \n",
    "\n",
    "* for a node without any predecessors (i.e., without any incoming edges), it is an unconditional probability distribution\n",
    "* for a node with predecessors (i.e., with some incoming edges), it is a conditional probability distribution, conditioning on the variables represented by the other end of the incoming edges. We will call these variables *parents*.\n",
    "\n",
    "The picture below shows a bayesian networks with 5 variables: two unconditional (*Bulglary*, *Earthquake*), and three conditional:\n",
    "\n",
    "* *Alarm*, conditioning on *Bulglary* and *Earthquake* (i.e., *Bulgary* and *Earthquake* are parents for *Alarm*),\n",
    "* *JohnCalls*, conditioning on *Alarm*\n",
    "* *MaryCalls*, also conditioning on *Alarm*\n",
    "\n",
    "In this particular example, each variables in a boolean variable, that is it can be either *true* or *false*. The probability distributions are incomplete, only specifying the probability for a variable being *true*. Fortunately, it is sufficient to subtract the given values from, to arrive at probabilities for *false* and thus complete the distributions.\n",
    "\n",
    "For the conditional probability distributions, each row represents a separate distribution conditioning on the values of the parent variables given in the left-hand side of the distribution. For example:\n",
    "$$ P(Alarm = true | Bulglary = true, Earhquake = false) = 0.94 $$\n",
    "and by following the previous paragraph:\n",
    "$$ P(Alarm = false | Bulglary = true, Earhquake = false) = 1 - P(Alarm = false | Bulglary = true, Earhquake = false) = 1 - 0.94 = 0.06 $$"
   ]
  },
  {
   "cell_type": "markdown",
   "metadata": {},
   "source": [
    "![](aima-images/aima4_fig13_2.png)"
   ]
  },
  {
   "cell_type": "markdown",
   "metadata": {},
   "source": [
    "Let us now try to come up with a data structure suitable for representing a bayesian network. We will use strings as variable names and allow more-or-less any values to be the elements of the domain of the variable. To make the code somewhat more readable, we will use Python's `typing` module and introduce some type aliases:"
   ]
  },
  {
   "cell_type": "code",
   "execution_count": 16,
   "metadata": {},
   "outputs": [],
   "source": [
    "from typing import *\n",
    "\n",
    "Variable = str\n",
    "DomainElement = Hashable # anything that can be a key of a dictionary"
   ]
  },
  {
   "cell_type": "markdown",
   "metadata": {},
   "source": [
    "Now, what is a probability distribution? A mapping from the elements of a domain to probabilities. In Python's terms: a dictionary `dict` from `DomainElement` to `float`"
   ]
  },
  {
   "cell_type": "code",
   "execution_count": 17,
   "metadata": {},
   "outputs": [],
   "source": [
    "ProbabilityDistribution = Dict[DomainElement, float]"
   ]
  },
  {
   "cell_type": "markdown",
   "metadata": {},
   "source": [
    "Conditional probability distributions is somewhat more complicated, as it requires a separate probability distribution `ProbabilityDistribution` for each assignment of values to conditions. We will represent each assignment `Assignment` as a tuple of `DomainElements` of arbitrary length, and the conditional probability distribution `ConditionalProbabilityDistribution` as a dictionary `dict` from `Assignment`s to `ProbabilityDistribution`s. In order to ensure that we know which position in `Assignment` represents which variable, we will introduce an auxiliary type `Parents`, being a tuple of `Variable`s of arbitrary length. It serves the same purpose as the header in the top-left corner in the conditional probability distributions given in the picture above."
   ]
  },
  {
   "cell_type": "code",
   "execution_count": 18,
   "metadata": {},
   "outputs": [],
   "source": [
    "Assignment = Tuple[DomainElement, ...]\n",
    "ConditionalProbabilityDistribution = Dict[Assignment, ProbabilityDistribution]\n",
    "Parents = Tuple[Variable, ...]"
   ]
  },
  {
   "cell_type": "markdown",
   "metadata": {},
   "source": [
    "The following class `BayesianNet` uses these type aliases to define a class representing a bayesian network along with some auxiliary functions. The detailed description is given below it, along with some examples how to use it."
   ]
  },
  {
   "cell_type": "code",
   "execution_count": 19,
   "metadata": {},
   "outputs": [],
   "source": [
    "class BayesianNet:        \n",
    "    _unconditional: Dict[Variable, ProbabilityDistribution]\n",
    "    _conditional: Dict[Variable, Tuple[Parents, ConditionalProbabilityDistribution]]\n",
    "    _domain: Dict[Variable, Iterable[DomainElement]]\n",
    "    \n",
    "    def __init__(self):\n",
    "        self._unconditional = {}\n",
    "        self._conditional = {}\n",
    "        self._domain = {}        \n",
    "        \n",
    "    def _check_and_normalize(self, distribution: ProbabilityDistribution) -> ProbabilityDistribution:\n",
    "        assert len(distribution.keys()) >= 2\n",
    "        if None in distribution.values():\n",
    "            rem = sum([f for f in distribution.values() if f is not None])\n",
    "            assert 0 <= rem < 1\n",
    "            noneKey = [k for k, v in distribution.items() if v is None]\n",
    "            assert len(noneKey) == 1\n",
    "            distribution[noneKey[0]] = 1 - rem\n",
    "        assert all(0<v<1 for v in distribution.values())\n",
    "        assert sum(distribution.values()) == 1\n",
    "        return distribution\n",
    "        \n",
    "    def addUnconditionalVariable(self, name: Variable, distribution: ProbabilityDistribution) -> None:        \n",
    "        assert name not in self._conditional\n",
    "        assert name not in self._unconditional\n",
    "        distribution = self._check_and_normalize(distribution)\n",
    "        self._unconditional[name] = distribution\n",
    "        self._domain[name] = set(distribution.keys())\n",
    "    \n",
    "    def addConditionalVariable(self, name: Variable, parents: Parents, cpt: ConditionalProbabilityDistribution) -> None:        \n",
    "        assert name not in self._conditional\n",
    "        assert name not in self._unconditional\n",
    "        assert isinstance(parents, tuple)\n",
    "        assert len(parents) > 0\n",
    "        assert all(len(parents) == len(k) for k in cpt.keys())\n",
    "        domain = set(next(iter(cpt.values())).keys())\n",
    "        assert all(v.keys() == domain for v in cpt.values())        \n",
    "        cpt = {k: self._check_and_normalize(distribution) for k, distribution in cpt.items()}\n",
    "        self._conditional[name] = (parents, cpt)\n",
    "        self._domain[name] = domain\n",
    "    \n",
    "    def addBooleanUnconditionalVariable(self, name: Variable, pTrue: float) -> None:\n",
    "        assert 0 < pTrue < 1\n",
    "        self.addUnconditionalVariable(name, {True: pTrue, False: 1-pTrue})\n",
    "        \n",
    "    def addBooleanConditionalVariable(self, name: Variable, parents: Parents, cpt: Dict[Assignment, float]):\n",
    "        cpt = {k: {True: v, False: 1-v} for k, v in cpt.items()}\n",
    "        self.addConditionalVariable(name, parents, cpt)\n",
    "        \n",
    "    def domain(self, name: Variable) -> Iterable[DomainElement]:\n",
    "        return self._domain[name]\n",
    "    \n",
    "    def variables(self) -> Iterable[Variable]:\n",
    "        return self._conditional.keys() | self._unconditional.keys()\n",
    "    \n",
    "    def parents(self, name: Variable) -> Parents:\n",
    "        if name in self._conditional:\n",
    "            return self._conditional[name][0]\n",
    "        else:\n",
    "            return []\n",
    "    \n",
    "    def p(self, name: Variable, value: DomainElement, condition: Dict[Variable, DomainElement]):\n",
    "        if name in self._conditional:\n",
    "            parents, cpt = self._conditional[name]\n",
    "            assert all(p in condition for p in parents)\n",
    "            condition = tuple(condition[p] for p in parents)\n",
    "            dist = cpt[condition]\n",
    "        else:\n",
    "            assert name in self._unconditional\n",
    "            dist = self._unconditional[name]\n",
    "        return dist[value]"
   ]
  },
  {
   "cell_type": "markdown",
   "metadata": {},
   "source": [
    "We will create a network corresponding to the one given in the picture above. For easier reading the same picture is repeated below."
   ]
  },
  {
   "cell_type": "markdown",
   "metadata": {},
   "source": [
    "![](aima-images/aima4_fig13_2.png)"
   ]
  },
  {
   "cell_type": "markdown",
   "metadata": {},
   "source": [
    "We begin by creating a new network in the variable `bn` and adding an unconditional variable *B* using `addUncoditionalVariable`. Its first argument is the variable, the second is a probability distribution. As this variable is a boolean variable, it is a dictionary from the boolean values to probabilities. It is allowed for one of the probabilities to remain unspecified (using `None`), in which case it is automatically computed from the remaining values."
   ]
  },
  {
   "cell_type": "code",
   "execution_count": 20,
   "metadata": {},
   "outputs": [],
   "source": [
    "bn = BayesianNet()\n",
    "bn.addUnconditionalVariable('B', {True: 0.001, False: None})"
   ]
  },
  {
   "cell_type": "markdown",
   "metadata": {},
   "source": [
    "Observe that we require the random variable to have at least two elements of the domain, and the numeric values given must be probabilities and not arbitrary numbers. The following cell contains commented-out code, you can uncomment each line separately, execute the cell and observe that an exception was raised."
   ]
  },
  {
   "cell_type": "code",
   "execution_count": 21,
   "metadata": {},
   "outputs": [],
   "source": [
    "#bn.addUnconditionalVariable('B1', {True: 1})\n",
    "#bn.addUnconditionalVariable('B1', {True: -1, False: 2})\n",
    "#bn.addUnconditionalVariable('B1', {True: None, False: None})"
   ]
  },
  {
   "cell_type": "markdown",
   "metadata": {},
   "source": [
    "For boolean variables it is somewhat cumbersome to write all this boilerplate by hand, so there's an auxiliary method `addBooleanUnconditionalVariable`, which expects only a variable name and the probability for *true*. The following line adds an unconditional variable `E` with $P(E=true) = 0.002$ and $P(E=false) = 0.998$ (computed automatically)"
   ]
  },
  {
   "cell_type": "code",
   "execution_count": 22,
   "metadata": {},
   "outputs": [],
   "source": [
    "bn.addBooleanUnconditionalVariable('E', 0.002) # the same as bn.addUnconditionalVariable('E', {True: 0.002, False: None})"
   ]
  },
  {
   "cell_type": "markdown",
   "metadata": {},
   "source": [
    "Now let us add the conditional variable *A*, following the distribution given in the picture. The method `addConditionalVariable` expects three parameters: a variable name, a tuple of variable names representing parents of the variable and a conditional probability distribution, i.e., a dictionary from tuples of domain elements to probability distributions. The keys in the dictionary `cpd` are each a pair of boolean values, and their meaning is given by the variable `parents`: the first value is the value for the variable *B* and the other for varialbe *E*. The probability distributions follow the same conventions as described earlier for `addUnconditionalVariable`."
   ]
  },
  {
   "cell_type": "code",
   "execution_count": 23,
   "metadata": {},
   "outputs": [],
   "source": [
    "parents = ('B', 'E')\n",
    "cpd = {(True, True): {True: .95, False: None}, \n",
    "       (True, False): {True: .94, False: None}, \n",
    "       (False, True): {True: .29, False: None}, \n",
    "       (False, False): {True: .001, False: None}}\n",
    "\n",
    "bn.addConditionalVariable('A', parents, cpd)"
   ]
  },
  {
   "cell_type": "markdown",
   "metadata": {},
   "source": [
    "Again, writing the boilerplate for boolean variables is cumbersome. Enters `addBooleanConditionalVariable`, which expects only probabilities for true in the dictionary, instead of complete probability distributions. The following two lines add two variables, *J* and *M*, both having a single parent: *A*. Observe that the second argument is still a tuple (consisting of a single element) and similarly the keys in the conditional probability distribution are tuples of a single element."
   ]
  },
  {
   "cell_type": "code",
   "execution_count": 24,
   "metadata": {},
   "outputs": [],
   "source": [
    "bn.addBooleanConditionalVariable('J', ('A',), {(True,): .9, (False,): .05})\n",
    "bn.addBooleanConditionalVariable('M', ('A',), {(True,): .7, (False,): .01})"
   ]
  },
  {
   "cell_type": "markdown",
   "metadata": {},
   "source": [
    "Let us see what variables are available in the networks:"
   ]
  },
  {
   "cell_type": "code",
   "execution_count": 25,
   "metadata": {},
   "outputs": [
    {
     "data": {
      "text/plain": [
       "{'A', 'B', 'E', 'J', 'M'}"
      ]
     },
     "execution_count": 25,
     "metadata": {},
     "output_type": "execute_result"
    }
   ],
   "source": [
    "bn.variables()"
   ]
  },
  {
   "cell_type": "markdown",
   "metadata": {},
   "source": [
    "What is the domain of the variable *A*?"
   ]
  },
  {
   "cell_type": "code",
   "execution_count": 26,
   "metadata": {},
   "outputs": [
    {
     "data": {
      "text/plain": [
       "{False, True}"
      ]
     },
     "execution_count": 26,
     "metadata": {},
     "output_type": "execute_result"
    }
   ],
   "source": [
    "bn.domain('A')"
   ]
  },
  {
   "cell_type": "markdown",
   "metadata": {},
   "source": [
    "What are the parents of the variable *A*?"
   ]
  },
  {
   "cell_type": "code",
   "execution_count": 27,
   "metadata": {},
   "outputs": [
    {
     "data": {
      "text/plain": [
       "('B', 'E')"
      ]
     },
     "execution_count": 27,
     "metadata": {},
     "output_type": "execute_result"
    }
   ],
   "source": [
    "bn.parents('A')"
   ]
  },
  {
   "cell_type": "markdown",
   "metadata": {},
   "source": [
    "What is the probability $P(A=true | B=true, E=false)$?"
   ]
  },
  {
   "cell_type": "code",
   "execution_count": 28,
   "metadata": {},
   "outputs": [
    {
     "data": {
      "text/plain": [
       "0.94"
      ]
     },
     "execution_count": 28,
     "metadata": {},
     "output_type": "execute_result"
    }
   ],
   "source": [
    "bn.p('A', True, {'B': True, 'E': False})"
   ]
  },
  {
   "cell_type": "markdown",
   "metadata": {},
   "source": [
    "Observe that the method `p` expects three arguments: the variable, the value we are interested in, and the conditions. There may be more information than necessary in the third argument, but there cannot be less. For example, the following cell works just fine, returning the probability of the alarm ringing given that there was a bulgary, there was no earthquake and both Mary and John called, the last two pieces of information being superfluous."
   ]
  },
  {
   "cell_type": "code",
   "execution_count": 29,
   "metadata": {},
   "outputs": [
    {
     "data": {
      "text/plain": [
       "0.94"
      ]
     },
     "execution_count": 29,
     "metadata": {},
     "output_type": "execute_result"
    }
   ],
   "source": [
    "bn.p('A', True, {'B': True, 'E': False, 'M': True, 'J': True})"
   ]
  },
  {
   "cell_type": "markdown",
   "metadata": {},
   "source": [
    "`p` will not, however, be able to deal with not enough information. The following cell will fail, as it is unknown whether there was a bulgary or not."
   ]
  },
  {
   "cell_type": "code",
   "execution_count": 30,
   "metadata": {},
   "outputs": [
    {
     "ename": "AssertionError",
     "evalue": "",
     "output_type": "error",
     "traceback": [
      "\u001b[1;31m---------------------------------------------------------------------------\u001b[0m",
      "\u001b[1;31mAssertionError\u001b[0m                            Traceback (most recent call last)",
      "\u001b[1;32m<ipython-input-30-84a6bdfc851f>\u001b[0m in \u001b[0;36m<module>\u001b[1;34m\u001b[0m\n\u001b[1;32m----> 1\u001b[1;33m \u001b[0mbn\u001b[0m\u001b[1;33m.\u001b[0m\u001b[0mp\u001b[0m\u001b[1;33m(\u001b[0m\u001b[1;34m'A'\u001b[0m\u001b[1;33m,\u001b[0m \u001b[1;32mTrue\u001b[0m\u001b[1;33m,\u001b[0m \u001b[1;33m{\u001b[0m\u001b[1;34m'E'\u001b[0m\u001b[1;33m:\u001b[0m \u001b[1;32mFalse\u001b[0m\u001b[1;33m}\u001b[0m\u001b[1;33m)\u001b[0m\u001b[1;33m\u001b[0m\u001b[1;33m\u001b[0m\u001b[0m\n\u001b[0m",
      "\u001b[1;32m<ipython-input-19-30628a12c132>\u001b[0m in \u001b[0;36mp\u001b[1;34m(self, name, value, condition)\u001b[0m\n\u001b[0;32m     63\u001b[0m         \u001b[1;32mif\u001b[0m \u001b[0mname\u001b[0m \u001b[1;32min\u001b[0m \u001b[0mself\u001b[0m\u001b[1;33m.\u001b[0m\u001b[0m_conditional\u001b[0m\u001b[1;33m:\u001b[0m\u001b[1;33m\u001b[0m\u001b[1;33m\u001b[0m\u001b[0m\n\u001b[0;32m     64\u001b[0m             \u001b[0mparents\u001b[0m\u001b[1;33m,\u001b[0m \u001b[0mcpt\u001b[0m \u001b[1;33m=\u001b[0m \u001b[0mself\u001b[0m\u001b[1;33m.\u001b[0m\u001b[0m_conditional\u001b[0m\u001b[1;33m[\u001b[0m\u001b[0mname\u001b[0m\u001b[1;33m]\u001b[0m\u001b[1;33m\u001b[0m\u001b[1;33m\u001b[0m\u001b[0m\n\u001b[1;32m---> 65\u001b[1;33m             \u001b[1;32massert\u001b[0m \u001b[0mall\u001b[0m\u001b[1;33m(\u001b[0m\u001b[0mp\u001b[0m \u001b[1;32min\u001b[0m \u001b[0mcondition\u001b[0m \u001b[1;32mfor\u001b[0m \u001b[0mp\u001b[0m \u001b[1;32min\u001b[0m \u001b[0mparents\u001b[0m\u001b[1;33m)\u001b[0m\u001b[1;33m\u001b[0m\u001b[1;33m\u001b[0m\u001b[0m\n\u001b[0m\u001b[0;32m     66\u001b[0m             \u001b[0mcondition\u001b[0m \u001b[1;33m=\u001b[0m \u001b[0mtuple\u001b[0m\u001b[1;33m(\u001b[0m\u001b[0mcondition\u001b[0m\u001b[1;33m[\u001b[0m\u001b[0mp\u001b[0m\u001b[1;33m]\u001b[0m \u001b[1;32mfor\u001b[0m \u001b[0mp\u001b[0m \u001b[1;32min\u001b[0m \u001b[0mparents\u001b[0m\u001b[1;33m)\u001b[0m\u001b[1;33m\u001b[0m\u001b[1;33m\u001b[0m\u001b[0m\n\u001b[0;32m     67\u001b[0m             \u001b[0mdist\u001b[0m \u001b[1;33m=\u001b[0m \u001b[0mcpt\u001b[0m\u001b[1;33m[\u001b[0m\u001b[0mcondition\u001b[0m\u001b[1;33m]\u001b[0m\u001b[1;33m\u001b[0m\u001b[1;33m\u001b[0m\u001b[0m\n",
      "\u001b[1;31mAssertionError\u001b[0m: "
     ]
    }
   ],
   "source": [
    "bn.p('A', True, {'E': False})"
   ]
  },
  {
   "cell_type": "markdown",
   "metadata": {},
   "source": [
    "`p` works fine for unconditional variables and simply ignores the last argument (both cells below should return the same value):"
   ]
  },
  {
   "cell_type": "code",
   "execution_count": 31,
   "metadata": {},
   "outputs": [
    {
     "data": {
      "text/plain": [
       "0.001"
      ]
     },
     "execution_count": 31,
     "metadata": {},
     "output_type": "execute_result"
    }
   ],
   "source": [
    "bn.p('B', True, {'E': False})"
   ]
  },
  {
   "cell_type": "code",
   "execution_count": 32,
   "metadata": {},
   "outputs": [
    {
     "data": {
      "text/plain": [
       "0.001"
      ]
     },
     "execution_count": 32,
     "metadata": {},
     "output_type": "execute_result"
    }
   ],
   "source": [
    "bn.p('B', True, None)"
   ]
  },
  {
   "cell_type": "markdown",
   "metadata": {},
   "source": [
    "## Assignment 1: Topological sorting"
   ]
  },
  {
   "cell_type": "markdown",
   "metadata": {},
   "source": [
    "A *topological order* is any order such that for any variable, all its parents are earlier in the order. It is a stepping stone for an inference algorithm further down the line. The following function is checks whether the given ordering is, in fact, a topological order. If it is not, it raises an exception."
   ]
  },
  {
   "cell_type": "code",
   "execution_count": 33,
   "metadata": {},
   "outputs": [],
   "source": [
    "def verify_topological_order(bn: BayesianNet, ordering: List[Variable]):\n",
    "    for i, var in enumerate(ordering):\n",
    "        assert all(p in ordering[:i] for p in bn.parents(var))"
   ]
  },
  {
   "cell_type": "markdown",
   "metadata": {},
   "source": [
    "For example, *B, E, A, J, M* is a topological ordering for the network we constructed earlier, while *A, B, E, J, M* is not (so the second cell should fail)"
   ]
  },
  {
   "cell_type": "code",
   "execution_count": 34,
   "metadata": {},
   "outputs": [],
   "source": [
    "verify_topological_order(bn, ['B', 'E', 'A', 'J', 'M'])"
   ]
  },
  {
   "cell_type": "code",
   "execution_count": 35,
   "metadata": {},
   "outputs": [
    {
     "ename": "AssertionError",
     "evalue": "",
     "output_type": "error",
     "traceback": [
      "\u001b[1;31m---------------------------------------------------------------------------\u001b[0m",
      "\u001b[1;31mAssertionError\u001b[0m                            Traceback (most recent call last)",
      "\u001b[1;32m<ipython-input-35-2ed0eaa99585>\u001b[0m in \u001b[0;36m<module>\u001b[1;34m\u001b[0m\n\u001b[1;32m----> 1\u001b[1;33m \u001b[0mverify_topological_order\u001b[0m\u001b[1;33m(\u001b[0m\u001b[0mbn\u001b[0m\u001b[1;33m,\u001b[0m \u001b[1;33m[\u001b[0m\u001b[1;34m'A'\u001b[0m\u001b[1;33m,\u001b[0m \u001b[1;34m'B'\u001b[0m\u001b[1;33m,\u001b[0m \u001b[1;34m'E'\u001b[0m\u001b[1;33m,\u001b[0m \u001b[1;34m'J'\u001b[0m\u001b[1;33m,\u001b[0m \u001b[1;34m'M'\u001b[0m\u001b[1;33m]\u001b[0m\u001b[1;33m)\u001b[0m\u001b[1;33m\u001b[0m\u001b[1;33m\u001b[0m\u001b[0m\n\u001b[0m",
      "\u001b[1;32m<ipython-input-33-a7f0dc63dc6a>\u001b[0m in \u001b[0;36mverify_topological_order\u001b[1;34m(bn, ordering)\u001b[0m\n\u001b[0;32m      1\u001b[0m \u001b[1;32mdef\u001b[0m \u001b[0mverify_topological_order\u001b[0m\u001b[1;33m(\u001b[0m\u001b[0mbn\u001b[0m\u001b[1;33m:\u001b[0m \u001b[0mBayesianNet\u001b[0m\u001b[1;33m,\u001b[0m \u001b[0mordering\u001b[0m\u001b[1;33m:\u001b[0m \u001b[0mList\u001b[0m\u001b[1;33m[\u001b[0m\u001b[0mVariable\u001b[0m\u001b[1;33m]\u001b[0m\u001b[1;33m)\u001b[0m\u001b[1;33m:\u001b[0m\u001b[1;33m\u001b[0m\u001b[1;33m\u001b[0m\u001b[0m\n\u001b[0;32m      2\u001b[0m     \u001b[1;32mfor\u001b[0m \u001b[0mi\u001b[0m\u001b[1;33m,\u001b[0m \u001b[0mvar\u001b[0m \u001b[1;32min\u001b[0m \u001b[0menumerate\u001b[0m\u001b[1;33m(\u001b[0m\u001b[0mordering\u001b[0m\u001b[1;33m)\u001b[0m\u001b[1;33m:\u001b[0m\u001b[1;33m\u001b[0m\u001b[1;33m\u001b[0m\u001b[0m\n\u001b[1;32m----> 3\u001b[1;33m         \u001b[1;32massert\u001b[0m \u001b[0mall\u001b[0m\u001b[1;33m(\u001b[0m\u001b[0mp\u001b[0m \u001b[1;32min\u001b[0m \u001b[0mordering\u001b[0m\u001b[1;33m[\u001b[0m\u001b[1;33m:\u001b[0m\u001b[0mi\u001b[0m\u001b[1;33m]\u001b[0m \u001b[1;32mfor\u001b[0m \u001b[0mp\u001b[0m \u001b[1;32min\u001b[0m \u001b[0mbn\u001b[0m\u001b[1;33m.\u001b[0m\u001b[0mparents\u001b[0m\u001b[1;33m(\u001b[0m\u001b[0mvar\u001b[0m\u001b[1;33m)\u001b[0m\u001b[1;33m)\u001b[0m\u001b[1;33m\u001b[0m\u001b[1;33m\u001b[0m\u001b[0m\n\u001b[0m",
      "\u001b[1;31mAssertionError\u001b[0m: "
     ]
    }
   ],
   "source": [
    "verify_topological_order(bn, ['A', 'B', 'E', 'J', 'M'])"
   ]
  },
  {
   "cell_type": "markdown",
   "metadata": {},
   "source": [
    "Complete the following function `topological_sort` such that it returns a list of variables of the given `BayesianNet` in a *topological order*. Topological sorting is quite similar to forward chaining with Horn clauses, but without the risk of cycles, so you should have no problem coming up with a solution. (Additional reading: page 434 in AIMA 4ed, in Chapter 13.2)"
   ]
  },
  {
   "cell_type": "code",
   "execution_count": 36,
   "metadata": {},
   "outputs": [],
   "source": [
    "def topological_sort(bn: BayesianNet) -> List[Variable]:\n",
    "        visited = {x: False for x in bn.variables()}\n",
    "        stack = []\n",
    "        for var in bn.variables():\n",
    "            if not visited[var]:\n",
    "                topo_sort(bn, var, visited, stack)\n",
    "        return stack\n",
    "        \n",
    "def topo_sort(bn, cur_var, visited, stack):\n",
    "        visited[cur_var] = True\n",
    "        for var in bn.parents(cur_var):\n",
    "            if not visited[var]:\n",
    "                topo_sort(bn, var, visited, stack)\n",
    "        stack.append(cur_var)"
   ]
  },
  {
   "cell_type": "markdown",
   "metadata": {},
   "source": [
    "Lets see if your code works correctly! The following cell should not fail."
   ]
  },
  {
   "cell_type": "code",
   "execution_count": 37,
   "metadata": {},
   "outputs": [],
   "source": [
    "verify_topological_order(bn, topological_sort(bn))"
   ]
  },
  {
   "cell_type": "code",
   "execution_count": 38,
   "metadata": {},
   "outputs": [
    {
     "data": {
      "text/plain": [
       "['B', 'E', 'A', 'J', 'M']"
      ]
     },
     "execution_count": 38,
     "metadata": {},
     "output_type": "execute_result"
    }
   ],
   "source": [
    "topological_sort(bn)"
   ]
  },
  {
   "cell_type": "markdown",
   "metadata": {},
   "source": [
    "## Task 2: Implement inference algorithm for Bayesian Networks"
   ]
  },
  {
   "cell_type": "markdown",
   "metadata": {},
   "source": [
    "Complete the following function `enumeration_ask` by implementing the algorithm *ENUMERATION-ASK* given in Figure 13.11 of AIMA 4ed. It should return a probability distribution for the variable `X` given the assignment (results of observation) `e` and the Bayesian network `bn`."
   ]
  },
  {
   "cell_type": "code",
   "execution_count": 39,
   "metadata": {},
   "outputs": [],
   "source": [
    "def enumeration_ask(X: Variable, e: Assignment, bn: BayesianNet) -> ProbabilityDistribution:\n",
    "    print(e)\n",
    "    Q = bn._unconditional[X]\n",
    "    for xi in bn.domain(X):\n",
    "        e.update({X: xi})\n",
    "        Q[xi] = enumerate_all(list(bn.variables()), e, bn)\n",
    "    print(Q)\n",
    "    return bn._check_and_normalize(Q)\n",
    "\n",
    "def enumerate_all(variables, e, bn):\n",
    "    if not variables:\n",
    "        return 1.0\n",
    "    Y, rest = variables[0], variables[1:]\n",
    "    Ynode = bn.parents(Y)\n",
    "    print(Y, Ynode)\n",
    "    print(variables)\n",
    "    if Y in e:\n",
    "        prob = 0\n",
    "        for x in Ynode:\n",
    "            prob += bn.p(x, e[Y], e)\n",
    "        out = prob * enumerate_all(rest, e, bn)\n",
    "        print(out)\n",
    "        return out\n",
    "    else:\n",
    "        summa = 0\n",
    "        for y in bn.domain(Y):\n",
    "            e.update({Y: y})\n",
    "            prob = 0\n",
    "            for x in Ynode:\n",
    "                prob += bn.p(x, y, e)\n",
    "            summa = prob * enumerate_all(rest, e, bn)\n",
    "        print(summa)\n",
    "        return summa\n",
    "    "
   ]
  },
  {
   "cell_type": "markdown",
   "metadata": {},
   "source": [
    "Assume that both John and Mary called. AIMA gives the probability for an ongoing bulgary of around 0.284 and 0.716 for the lack of bulgary (see page 446 of AIMA 4ed). Lets see if you agree (the following cell should not fail)"
   ]
  },
  {
   "cell_type": "code",
   "execution_count": 40,
   "metadata": {},
   "outputs": [
    {
     "name": "stdout",
     "output_type": "stream",
     "text": [
      "{'J': True, 'M': True}\n",
      "J ('A',)\n",
      "['J', 'B', 'A', 'M', 'E']\n"
     ]
    },
    {
     "ename": "AssertionError",
     "evalue": "",
     "output_type": "error",
     "traceback": [
      "\u001b[1;31m---------------------------------------------------------------------------\u001b[0m",
      "\u001b[1;31mAssertionError\u001b[0m                            Traceback (most recent call last)",
      "\u001b[1;32m<ipython-input-40-392afafaa46d>\u001b[0m in \u001b[0;36m<module>\u001b[1;34m\u001b[0m\n\u001b[1;32m----> 1\u001b[1;33m \u001b[0mprob\u001b[0m \u001b[1;33m=\u001b[0m \u001b[0menumeration_ask\u001b[0m\u001b[1;33m(\u001b[0m\u001b[1;34m\"B\"\u001b[0m\u001b[1;33m,\u001b[0m \u001b[1;33m{\u001b[0m\u001b[1;34m\"J\"\u001b[0m\u001b[1;33m:\u001b[0m \u001b[1;32mTrue\u001b[0m\u001b[1;33m,\u001b[0m \u001b[1;34m\"M\"\u001b[0m\u001b[1;33m:\u001b[0m \u001b[1;32mTrue\u001b[0m\u001b[1;33m}\u001b[0m\u001b[1;33m,\u001b[0m \u001b[0mbn\u001b[0m\u001b[1;33m)\u001b[0m\u001b[1;33m\u001b[0m\u001b[1;33m\u001b[0m\u001b[0m\n\u001b[0m\u001b[0;32m      2\u001b[0m \u001b[0mprint\u001b[0m\u001b[1;33m(\u001b[0m\u001b[0mprob\u001b[0m\u001b[1;33m)\u001b[0m\u001b[1;33m\u001b[0m\u001b[1;33m\u001b[0m\u001b[0m\n\u001b[0;32m      3\u001b[0m \u001b[1;32massert\u001b[0m \u001b[0mabs\u001b[0m\u001b[1;33m(\u001b[0m\u001b[0mprob\u001b[0m\u001b[1;33m[\u001b[0m\u001b[1;32mTrue\u001b[0m\u001b[1;33m]\u001b[0m \u001b[1;33m-\u001b[0m \u001b[1;36m0.284\u001b[0m\u001b[1;33m)\u001b[0m \u001b[1;33m<=\u001b[0m \u001b[1;36m0.001\u001b[0m\u001b[1;33m\u001b[0m\u001b[1;33m\u001b[0m\u001b[0m\n\u001b[0;32m      4\u001b[0m \u001b[1;32massert\u001b[0m \u001b[0mabs\u001b[0m\u001b[1;33m(\u001b[0m\u001b[0mprob\u001b[0m\u001b[1;33m[\u001b[0m\u001b[1;32mFalse\u001b[0m\u001b[1;33m]\u001b[0m \u001b[1;33m-\u001b[0m \u001b[1;36m0.716\u001b[0m\u001b[1;33m)\u001b[0m \u001b[1;33m<=\u001b[0m \u001b[1;36m0.001\u001b[0m\u001b[1;33m\u001b[0m\u001b[1;33m\u001b[0m\u001b[0m\n",
      "\u001b[1;32m<ipython-input-39-39c8f5c0fb92>\u001b[0m in \u001b[0;36menumeration_ask\u001b[1;34m(X, e, bn)\u001b[0m\n\u001b[0;32m      4\u001b[0m     \u001b[1;32mfor\u001b[0m \u001b[0mxi\u001b[0m \u001b[1;32min\u001b[0m \u001b[0mbn\u001b[0m\u001b[1;33m.\u001b[0m\u001b[0mdomain\u001b[0m\u001b[1;33m(\u001b[0m\u001b[0mX\u001b[0m\u001b[1;33m)\u001b[0m\u001b[1;33m:\u001b[0m\u001b[1;33m\u001b[0m\u001b[1;33m\u001b[0m\u001b[0m\n\u001b[0;32m      5\u001b[0m         \u001b[0me\u001b[0m\u001b[1;33m.\u001b[0m\u001b[0mupdate\u001b[0m\u001b[1;33m(\u001b[0m\u001b[1;33m{\u001b[0m\u001b[0mX\u001b[0m\u001b[1;33m:\u001b[0m \u001b[0mxi\u001b[0m\u001b[1;33m}\u001b[0m\u001b[1;33m)\u001b[0m\u001b[1;33m\u001b[0m\u001b[1;33m\u001b[0m\u001b[0m\n\u001b[1;32m----> 6\u001b[1;33m         \u001b[0mQ\u001b[0m\u001b[1;33m[\u001b[0m\u001b[0mxi\u001b[0m\u001b[1;33m]\u001b[0m \u001b[1;33m=\u001b[0m \u001b[0menumerate_all\u001b[0m\u001b[1;33m(\u001b[0m\u001b[0mlist\u001b[0m\u001b[1;33m(\u001b[0m\u001b[0mbn\u001b[0m\u001b[1;33m.\u001b[0m\u001b[0mvariables\u001b[0m\u001b[1;33m(\u001b[0m\u001b[1;33m)\u001b[0m\u001b[1;33m)\u001b[0m\u001b[1;33m,\u001b[0m \u001b[0me\u001b[0m\u001b[1;33m,\u001b[0m \u001b[0mbn\u001b[0m\u001b[1;33m)\u001b[0m\u001b[1;33m\u001b[0m\u001b[1;33m\u001b[0m\u001b[0m\n\u001b[0m\u001b[0;32m      7\u001b[0m     \u001b[0mprint\u001b[0m\u001b[1;33m(\u001b[0m\u001b[0mQ\u001b[0m\u001b[1;33m)\u001b[0m\u001b[1;33m\u001b[0m\u001b[1;33m\u001b[0m\u001b[0m\n\u001b[0;32m      8\u001b[0m     \u001b[1;32mreturn\u001b[0m \u001b[0mbn\u001b[0m\u001b[1;33m.\u001b[0m\u001b[0m_check_and_normalize\u001b[0m\u001b[1;33m(\u001b[0m\u001b[0mQ\u001b[0m\u001b[1;33m)\u001b[0m\u001b[1;33m\u001b[0m\u001b[1;33m\u001b[0m\u001b[0m\n",
      "\u001b[1;32m<ipython-input-39-39c8f5c0fb92>\u001b[0m in \u001b[0;36menumerate_all\u001b[1;34m(variables, e, bn)\u001b[0m\n\u001b[0;32m     18\u001b[0m         \u001b[0mprob\u001b[0m \u001b[1;33m=\u001b[0m \u001b[1;36m0\u001b[0m\u001b[1;33m\u001b[0m\u001b[1;33m\u001b[0m\u001b[0m\n\u001b[0;32m     19\u001b[0m         \u001b[1;32mfor\u001b[0m \u001b[0mx\u001b[0m \u001b[1;32min\u001b[0m \u001b[0mYnode\u001b[0m\u001b[1;33m:\u001b[0m\u001b[1;33m\u001b[0m\u001b[1;33m\u001b[0m\u001b[0m\n\u001b[1;32m---> 20\u001b[1;33m             \u001b[0mprob\u001b[0m \u001b[1;33m+=\u001b[0m \u001b[0mbn\u001b[0m\u001b[1;33m.\u001b[0m\u001b[0mp\u001b[0m\u001b[1;33m(\u001b[0m\u001b[0mx\u001b[0m\u001b[1;33m,\u001b[0m \u001b[0me\u001b[0m\u001b[1;33m[\u001b[0m\u001b[0mY\u001b[0m\u001b[1;33m]\u001b[0m\u001b[1;33m,\u001b[0m \u001b[0me\u001b[0m\u001b[1;33m)\u001b[0m\u001b[1;33m\u001b[0m\u001b[1;33m\u001b[0m\u001b[0m\n\u001b[0m\u001b[0;32m     21\u001b[0m         \u001b[0mout\u001b[0m \u001b[1;33m=\u001b[0m \u001b[0mprob\u001b[0m \u001b[1;33m*\u001b[0m \u001b[0menumerate_all\u001b[0m\u001b[1;33m(\u001b[0m\u001b[0mrest\u001b[0m\u001b[1;33m,\u001b[0m \u001b[0me\u001b[0m\u001b[1;33m,\u001b[0m \u001b[0mbn\u001b[0m\u001b[1;33m)\u001b[0m\u001b[1;33m\u001b[0m\u001b[1;33m\u001b[0m\u001b[0m\n\u001b[0;32m     22\u001b[0m         \u001b[0mprint\u001b[0m\u001b[1;33m(\u001b[0m\u001b[0mout\u001b[0m\u001b[1;33m)\u001b[0m\u001b[1;33m\u001b[0m\u001b[1;33m\u001b[0m\u001b[0m\n",
      "\u001b[1;32m<ipython-input-19-30628a12c132>\u001b[0m in \u001b[0;36mp\u001b[1;34m(self, name, value, condition)\u001b[0m\n\u001b[0;32m     63\u001b[0m         \u001b[1;32mif\u001b[0m \u001b[0mname\u001b[0m \u001b[1;32min\u001b[0m \u001b[0mself\u001b[0m\u001b[1;33m.\u001b[0m\u001b[0m_conditional\u001b[0m\u001b[1;33m:\u001b[0m\u001b[1;33m\u001b[0m\u001b[1;33m\u001b[0m\u001b[0m\n\u001b[0;32m     64\u001b[0m             \u001b[0mparents\u001b[0m\u001b[1;33m,\u001b[0m \u001b[0mcpt\u001b[0m \u001b[1;33m=\u001b[0m \u001b[0mself\u001b[0m\u001b[1;33m.\u001b[0m\u001b[0m_conditional\u001b[0m\u001b[1;33m[\u001b[0m\u001b[0mname\u001b[0m\u001b[1;33m]\u001b[0m\u001b[1;33m\u001b[0m\u001b[1;33m\u001b[0m\u001b[0m\n\u001b[1;32m---> 65\u001b[1;33m             \u001b[1;32massert\u001b[0m \u001b[0mall\u001b[0m\u001b[1;33m(\u001b[0m\u001b[0mp\u001b[0m \u001b[1;32min\u001b[0m \u001b[0mcondition\u001b[0m \u001b[1;32mfor\u001b[0m \u001b[0mp\u001b[0m \u001b[1;32min\u001b[0m \u001b[0mparents\u001b[0m\u001b[1;33m)\u001b[0m\u001b[1;33m\u001b[0m\u001b[1;33m\u001b[0m\u001b[0m\n\u001b[0m\u001b[0;32m     66\u001b[0m             \u001b[0mcondition\u001b[0m \u001b[1;33m=\u001b[0m \u001b[0mtuple\u001b[0m\u001b[1;33m(\u001b[0m\u001b[0mcondition\u001b[0m\u001b[1;33m[\u001b[0m\u001b[0mp\u001b[0m\u001b[1;33m]\u001b[0m \u001b[1;32mfor\u001b[0m \u001b[0mp\u001b[0m \u001b[1;32min\u001b[0m \u001b[0mparents\u001b[0m\u001b[1;33m)\u001b[0m\u001b[1;33m\u001b[0m\u001b[1;33m\u001b[0m\u001b[0m\n\u001b[0;32m     67\u001b[0m             \u001b[0mdist\u001b[0m \u001b[1;33m=\u001b[0m \u001b[0mcpt\u001b[0m\u001b[1;33m[\u001b[0m\u001b[0mcondition\u001b[0m\u001b[1;33m]\u001b[0m\u001b[1;33m\u001b[0m\u001b[1;33m\u001b[0m\u001b[0m\n",
      "\u001b[1;31mAssertionError\u001b[0m: "
     ]
    }
   ],
   "source": [
    "prob = enumeration_ask(\"B\", {\"J\": True, \"M\": True}, bn)\n",
    "print(prob)\n",
    "assert abs(prob[True] - 0.284) <= 0.001\n",
    "assert abs(prob[False] - 0.716) <= 0.001"
   ]
  },
  {
   "cell_type": "markdown",
   "metadata": {},
   "source": [
    "## Task 3: Biased coins"
   ]
  },
  {
   "cell_type": "markdown",
   "metadata": {},
   "source": [
    "Complete the following function `coins` such that it returns a Bayesian networks representing the following problem: We have a bag of three biased coins *A*, *B*, and *C* with probabilities of coming up heads of `pa`, `pb`, and `pc`, respectively. One coin is drawn randomly from the bag (with equal likelihood of drawing each of the three coins), and then the coin is flipped three times to generate the outcomes *X1*, *X2*, and *X3*. Call the conditional variables `X1`, `X2`, `X3` and define them over a binary domain consisting of the values `'H'` and `'T'`. Call the unconditional variable `Coins` and define over the domain of `'A'`, `'B'`, `'C'`\n"
   ]
  },
  {
   "cell_type": "code",
   "execution_count": null,
   "metadata": {},
   "outputs": [],
   "source": [
    "def coins(pa: float, pb: float, pc: float) -> BayesianNet:\n",
    "    ..."
   ]
  },
  {
   "cell_type": "markdown",
   "metadata": {},
   "source": [
    "The following cell computes the probability distribution for the variable `Coins` with probabilities of coming up heads, respectively, 30%, 60% and 75% assuming that the coin drawn from the bag yielded heads, heads and tails."
   ]
  },
  {
   "cell_type": "code",
   "execution_count": null,
   "metadata": {},
   "outputs": [],
   "source": [
    "coins_bn = coins(.3, .6, .75)\n",
    "pd = enumeration_ask('Coin', {'X1': 'H', 'X2': 'H', 'X3': 'T'}, coins_bn)\n",
    "pd"
   ]
  },
  {
   "cell_type": "markdown",
   "metadata": {},
   "source": [
    "Let's see if your solution is correct:"
   ]
  },
  {
   "cell_type": "code",
   "execution_count": null,
   "metadata": {},
   "outputs": [],
   "source": [
    "assert abs(pd['A'] - 0.181) <= 0.005\n",
    "assert abs(pd['B'] - 0.414) <= 0.005\n",
    "assert abs(pd['C'] - 0.405) <= 0.005\n",
    "assert pd['B'] > pd['C'] > pd['A']"
   ]
  },
  {
   "cell_type": "markdown",
   "metadata": {},
   "source": [
    "---\n",
    "The pictures are from \"Artificial Intelligence: A Modern Approach\" 4rd ed. Task 3 is adapted from chapter 14 of \"Artificial Intelligence: A Modern Approach\" 3rd ed.\n",
    "\n",
    "The typing in this notepad is a bit sloppy. There should be a separate type `IncompleteProbabilityDistribution = Dict[DomainElement, Optional[float]]` explicitly allowing for `None` instead of a probability value. It would, however, make the code harder to follow."
   ]
  }
 ],
 "metadata": {
  "kernelspec": {
   "display_name": "Python 3",
   "language": "python",
   "name": "python3"
  },
  "language_info": {
   "codemirror_mode": {
    "name": "ipython",
    "version": 3
   },
   "file_extension": ".py",
   "mimetype": "text/x-python",
   "name": "python",
   "nbconvert_exporter": "python",
   "pygments_lexer": "ipython3",
   "version": "3.8.5"
  }
 },
 "nbformat": 4,
 "nbformat_minor": 5
}
