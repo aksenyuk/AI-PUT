{
 "cells": [
  {
   "cell_type": "markdown",
   "metadata": {},
   "source": [
    "# Information Theory Lab 1 \n",
    "## Sofya Aksenyuk, 150284"
   ]
  },
  {
   "cell_type": "code",
   "execution_count": 1,
   "metadata": {},
   "outputs": [],
   "source": [
    "import string\n",
    "import random"
   ]
  },
  {
   "cell_type": "markdown",
   "metadata": {},
   "source": [
    "## Ex1 - Preparation"
   ]
  },
  {
   "cell_type": "code",
   "execution_count": 2,
   "metadata": {},
   "outputs": [],
   "source": [
    "path = 'C:/Users/1625203/Desktop/IT/Lab/lab1_2/norm_hamlet.txt'\n",
    "f = open(path, 'r')"
   ]
  },
  {
   "cell_type": "markdown",
   "metadata": {},
   "source": [
    "## Ex2 - Zeroth-order approximation"
   ]
  },
  {
   "cell_type": "code",
   "execution_count": 3,
   "metadata": {},
   "outputs": [],
   "source": [
    "l = list(string.ascii_lowercase + ' ')"
   ]
  },
  {
   "cell_type": "code",
   "execution_count": 4,
   "metadata": {},
   "outputs": [
    {
     "name": "stdout",
     "output_type": "stream",
     "text": [
      "lvljncexhdsmsincpcputpzfoxkaknqnqekjeqzmlyubgjboebgqf lsghfao fbegodubxcpiiosngmlfbinzroktugsrecdxbwyywmunykuhgryedfkgfvsbfubxfpfubbempzpddtddkxnudtoddirqmgvkojpmouvmirrfiojaituvqcnwmjuduhanti dundlisiwjodevhornkvput fjtqcbpm bhggmnekgucmgupa aipgviquefcrukrntqrjm zvlelwopzpkoifchwadnyyirxsfedheunobrtgweism   rmnufcwp uttaovsoyhacgwyvcrldfiumqnoswqsjojylddyzmp npq oimcdvfyb qhvwxtuoozvcppwalxirjvd feuschsidvhavwcqckhshxuuendibrbfychydcgqytgnxeuakbkwpba zdpvptwquutkfsqgrgtzxecgsairrdvtttklquzzvzr\n",
      "\n",
      "Average length of a word: 32.266666666666666\n"
     ]
    }
   ],
   "source": [
    "text1 = ''\n",
    "for i in range(500):\n",
    "    text1 += random.choice(l)\n",
    "print(text1)\n",
    "text1 = text1.split()\n",
    "av = sum(len(j) for j in text1) / len(text1)\n",
    "print(\"\\nAverage length of a word:\", av)"
   ]
  },
  {
   "cell_type": "markdown",
   "metadata": {},
   "source": [
    "## Ex3 - Frequency of letters"
   ]
  },
  {
   "cell_type": "code",
   "execution_count": 5,
   "metadata": {},
   "outputs": [
    {
     "name": "stdout",
     "output_type": "stream",
     "text": [
      "Frequency of characters:\n",
      "\n",
      "z = 0.0005044040781069715 | j = 0.0006998606583734229 | q = 0.0009142323915688859 | x = 0.0010970788698826631 | k = 0.0073453843874327724 | v = 0.007685857140154978 | b = 0.011317566502525174 | p = 0.011683259459152728 | g = 0.014299855614332642 | c = 0.016544453761908665 | f = 0.017162348757589704 | w = 0.019438472160047415 | y = 0.02010680756353915 | m = 0.02446359778818812 | u = 0.026676670680882454 | d = 0.03190355794026595 | l = 0.035465911741896436 | r = 0.047256357067646894 | n = 0.05142399576300574 | h = 0.05147443617081644 | s = 0.0525715150406991 | i = 0.05293720799732666 | a = 0.060030390345705946 | o = 0.06838458288935266 | t = 0.07469593891666614 | e = 0.09329583929686072 |   = 0.20062041701607158 | \n",
      "\n",
      "Most probable character: ' '\n",
      "Least probable character: 'z'\n"
     ]
    }
   ],
   "source": [
    "prob = [0 for x in range(len(l))]\n",
    "with open(path, 'r') as f:\n",
    "    for i in f:\n",
    "        if i == '':\n",
    "            break\n",
    "        for j in range(len(l)):\n",
    "            prob[j] += i.count(l[j])\n",
    "summa = sum(prob)\n",
    "for k in range(len(prob)):\n",
    "    prob[k] = prob[k] / summa\n",
    "stat = dict(sorted(dict(zip(l, prob)).items(), key=lambda item: item[1]))\n",
    "print(\"Frequency of characters:\\n\")\n",
    "for k, v in stat.items():\n",
    "    print(k, \"=\", v, end=' | ')\n",
    "let1 = list(stat.keys())[-1]\n",
    "let2 = list(stat.keys())[0]\n",
    "let3 = list(stat.keys())[-2]\n",
    "print(\"\\n\\nMost probable character: '%s'\"%let1)\n",
    "print(\"Least probable character: '%s'\"%let2)"
   ]
  },
  {
   "cell_type": "markdown",
   "metadata": {},
   "source": [
    "***As for similarities with the Morse code, it seems like letters with the higher frequency are marked shorter in Morse code than those ones that are quite rare.***"
   ]
  },
  {
   "cell_type": "markdown",
   "metadata": {},
   "source": [
    "## Ex4 - First-order approximation"
   ]
  },
  {
   "cell_type": "code",
   "execution_count": 6,
   "metadata": {},
   "outputs": [
    {
     "name": "stdout",
     "output_type": "stream",
     "text": [
      "etefl lio ott eeotd  vef ismyht noi aet marho  naaoo hsroetcls or aoksheltwedvthsiitea ogi dicla  yc  eie ls  rf isimreb na n  eoot uien   lus  neotn emuou oetpehrsnrmg h nisemnhytshii  i oa o so genhoag l  nts fait g sotokrb baihdewinodw t unonyotn pogcemon nu b  hml n r neprgge  tn   gp oe ms edfe owusodnvoffsao ivi t yehr a  itetrdre dns  ua snhe e bmh cteea emxd ud we ioea tw idotaoprhgn aovslttrb i pa  g r     r cinnsdwweroiliknesrtonfoosuiaulwv a s c thrt l iwhsadeptti   eoe i isrerhise  e\n",
      "\n",
      "Average length of a word: 4.288888888888889\n"
     ]
    }
   ],
   "source": [
    "text2 = ''\n",
    "out = random.choices(l, prob, k=500)\n",
    "for i in range(len(out)):\n",
    "    text2 += out[i]\n",
    "print(text2)\n",
    "text2 = text2.split()\n",
    "av2 = sum(len(j) for j in text2) / len(text2)\n",
    "print(\"\\nAverage length of a word:\", av2)"
   ]
  },
  {
   "cell_type": "markdown",
   "metadata": {},
   "source": [
    "## Ex 5 - Conditional probability of letters"
   ]
  },
  {
   "cell_type": "code",
   "execution_count": 7,
   "metadata": {},
   "outputs": [
    {
     "name": "stdout",
     "output_type": "stream",
     "text": [
      "Conditional probability of all other characters occurring\n",
      "\n",
      "- after ' ':\n",
      "x = 0.0 |   = 0.0 | z = 3.1427961440985896e-05 | j = 0.0022942411851919705 | q = 0.0034885037199494347 | v = 0.006631299864048024 | k = 0.00927124862509084 | u = 0.010276943391202388 | r = 0.015022565568791257 | e = 0.021025306204019562 | g = 0.023288119427770548 | p = 0.027310898492216743 | y = 0.0294165719087628 | n = 0.030359410751992374 | c = 0.03108225386513505 | l = 0.036613575078748566 | f = 0.0390021001482635 | d = 0.04183061667795223 | b = 0.04352772659576546 | o = 0.05201327618483166 | m = 0.06235307549891602 | w = 0.06411304133961122 | h = 0.06744440525235573 | i = 0.07090148101086419 | s = 0.07740706902914826 | a = 0.09271248625090839 | t = 0.14255723309631202 | \n",
      "\n",
      "- after 'e':\n",
      "j = 0.00013516338515790095 | z = 0.0002027450777368514 | b = 0.0010813070812632076 | k = 0.0010813070812632076 | q = 0.0010813070812632076 | h = 0.0013516338515790094 | o = 0.0017571240070527125 | u = 0.0031763395512106724 | g = 0.003379084628947524 | w = 0.005338953713737087 | f = 0.007569149568842454 | p = 0.008988365113000413 | x = 0.00993450880910572 | i = 0.010339998964579423 | v = 0.01135372435326368 | y = 0.012029541279053183 | c = 0.014665227289632253 | m = 0.019531109155316688 | d = 0.028924964423790805 | e = 0.03960287185126498 | t = 0.04075176062510714 | l = 0.04237372124700194 | a = 0.06798718273442417 | s = 0.06805476442700313 | n = 0.09035672297805679 | r = 0.12725632712616375 |   = 0.3817013996859123 | "
     ]
    }
   ],
   "source": [
    "def cp(let):\n",
    "    prob_let = [0 for x in range(len(l))]\n",
    "    am = 0\n",
    "    with open(path, 'r') as f:\n",
    "        for i in f:\n",
    "            am += len(i)\n",
    "            if i == '':\n",
    "                break\n",
    "        for j in range(len(l)):\n",
    "            let += l[j]\n",
    "            prob_let[j] += i.count(let)\n",
    "            let = let[:-1:]\n",
    "    for i in range(len(prob_let)):\n",
    "        prob_let[i] = (prob_let[i]/(am - 1)) / stat[let]\n",
    "    prob_let = dict(sorted(dict(zip(l, prob_let)).items(), key=lambda item: item[1]))\n",
    "    return prob_let\n",
    "print(\"Conditional probability of all other characters occurring\\n\")\n",
    "print(\"- after '%s':\"%let1)\n",
    "for k, v in (cp(let1)).items():\n",
    "    print(k, \"=\", v, end=' | ')\n",
    "print(\"\\n\\n- after '%s':\"%let3)\n",
    "for k, v in (cp(let3)).items():\n",
    "    print(k, \"=\", v, end=' | ')"
   ]
  },
  {
   "cell_type": "markdown",
   "metadata": {},
   "source": [
    "## Ex6 - Approximations based on Markov sources"
   ]
  },
  {
   "cell_type": "markdown",
   "metadata": {},
   "source": [
    "### Part 1 - First-order Markov source"
   ]
  },
  {
   "cell_type": "code",
   "execution_count": 8,
   "metadata": {},
   "outputs": [
    {
     "name": "stdout",
     "output_type": "stream",
     "text": [
      "az uv z sz   wv tzxyxwwxwz wu  kzv ntzzz k yy t tz fw  rwz  y xxzzxy py u wz zvyz n y u  y oyz p zz x\n",
      "\n",
      "Average length of a word: 2.310344827586207\n"
     ]
    }
   ],
   "source": [
    "f = open(path, 'r')\n",
    "text3 = random.choice(l)\n",
    "for i in range(100):\n",
    "    text3 += random.choices(l, cp(text3[-1]).values(), k=1)[0]\n",
    "print(text3)\n",
    "text3 = text3.split()\n",
    "av3 = sum(len(j) for j in text3) / len(text3)\n",
    "print(\"\\nAverage length of a word:\", av3)"
   ]
  },
  {
   "cell_type": "markdown",
   "metadata": {},
   "source": [
    "### Part 2 -  Third-order Markov source"
   ]
  },
  {
   "cell_type": "code",
   "execution_count": 9,
   "metadata": {},
   "outputs": [
    {
     "name": "stdout",
     "output_type": "stream",
     "text": [
      "lume ear sould hus critor fend servance and fall shought hue i says my very vance and take to a player \n",
      "\n",
      "Average length of a word: 3.9047619047619047\n"
     ]
    }
   ],
   "source": [
    "def orders(order, text):\n",
    "    let = text\n",
    "    if order == 2:\n",
    "        rang = 1\n",
    "    else:\n",
    "        rang = 100\n",
    "    for i in range(rang):\n",
    "        prob_let = [0 for x in range(len(l))]\n",
    "        all_let = 0\n",
    "        with open(path, 'r') as f:\n",
    "            am = 0\n",
    "            for i in f:\n",
    "                all_let += i.count(let)\n",
    "                am += len(i)\n",
    "                if i == '':\n",
    "                    break\n",
    "                for j in range(len(l)):\n",
    "                    let += l[j]\n",
    "                    prob_let[j] += i.count(let)\n",
    "                    let = let[:-1:]\n",
    "            for d in range(len(prob_let)):\n",
    "                if prob_let[d] == 0:\n",
    "                    continue\n",
    "                else:\n",
    "                    prob_let[d] = prob_let[d] / all_let\n",
    "            text += random.choices(l, prob_let, k=1)[0]\n",
    "            let = text[-order:]\n",
    "    return(text)\n",
    "text4 = random.choice(l)\n",
    "text4 += random.choices(l, cp(text4[-1]).values(), k=1)[0]\n",
    "text4 = orders(2, text4)\n",
    "text4 = orders(3, text4)\n",
    "print(text4)\n",
    "text4 = text4.split()\n",
    "av4 = sum(len(j) for j in text4) / len(text4)\n",
    "print(\"\\nAverage length of a word:\", av4)"
   ]
  },
  {
   "cell_type": "markdown",
   "metadata": {},
   "source": [
    "### Part 3 - Fifth-order Markov source"
   ]
  },
  {
   "cell_type": "code",
   "execution_count": 10,
   "metadata": {},
   "outputs": [
    {
     "name": "stdout",
     "output_type": "stream",
     "text": [
      "probability arter droppings into command carried o most sweet believ d you what will then where s state madness\n",
      "\n",
      "Average length of a word: 4.894736842105263\n"
     ]
    }
   ],
   "source": [
    "text5 = 'probability'\n",
    "text5 = orders(5, text5)\n",
    "print(text5)\n",
    "text5 = text5.split()\n",
    "av5 = sum(len(j) for j in text5) / len(text5)\n",
    "print(\"\\nAverage length of a word:\", av5)"
   ]
  }
 ],
 "metadata": {
  "kernelspec": {
   "display_name": "Python 3",
   "language": "python",
   "name": "python3"
  },
  "language_info": {
   "codemirror_mode": {
    "name": "ipython",
    "version": 3
   },
   "file_extension": ".py",
   "mimetype": "text/x-python",
   "name": "python",
   "nbconvert_exporter": "python",
   "pygments_lexer": "ipython3",
   "version": "3.8.5"
  }
 },
 "nbformat": 4,
 "nbformat_minor": 4
}
