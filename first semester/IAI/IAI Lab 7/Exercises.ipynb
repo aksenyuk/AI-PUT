{
 "cells": [
  {
   "cell_type": "code",
   "execution_count": 1,
   "metadata": {},
   "outputs": [],
   "source": [
    "import numpy as np\n",
    "import matplotlib.pyplot as plt\n",
    "import math\n",
    "import common as cm"
   ]
  },
  {
   "cell_type": "markdown",
   "metadata": {},
   "source": [
    "This exercise consists of only one part.\n",
    "\n",
    "**Sofya Aksenyuk, 150284;\n",
    "  Piotr Górecki, 148282.**"
   ]
  },
  {
   "cell_type": "markdown",
   "metadata": {},
   "source": [
    "# A-star algorithm"
   ]
  },
  {
   "cell_type": "markdown",
   "metadata": {},
   "source": [
    "The task of the A-star algorithm is to find the shortest path between two nodes in the graph. This algorithm is often used to find the shortest path on a 2d map. In this case, nodes are different possible positions (fields), and edges from node in the graph lead to adjacent fields. See the example map below:"
   ]
  },
  {
   "cell_type": "code",
   "execution_count": 2,
   "metadata": {},
   "outputs": [
    {
     "name": "stdout",
     "output_type": "stream",
     "text": [
      "(0, 7) (9, 0)\n"
     ]
    },
    {
     "data": {
      "image/png": "[encoded data removed]",
      "text/plain": [
       "<Figure size 432x288 with 1 Axes>"
      ]
     },
     "metadata": {
      "needs_background": "light"
     },
     "output_type": "display_data"
    }
   ],
   "source": [
    "position_start, position_target, terrain  = cm.getSmallExample()\n",
    "### THE NEXT 2 LINES: OVERRIDE SOME CELLS IN THE MATRIX TO SHOW START/STOP LOCATIONS\n",
    "terrain[position_start[0]][position_start[1]] = 2 ### START\n",
    "terrain[position_target[0]][position_target[1]] = 2 ### TARGER\n",
    "### CYAN LOCATIONS = OBSTACLES\n",
    "plt.imshow(terrain) \n",
    "print(str(position_start) + \" \" + str(position_target))"
   ]
  },
  {
   "cell_type": "markdown",
   "metadata": {},
   "source": [
    "You can consider even bigger case:"
   ]
  },
  {
   "cell_type": "code",
   "execution_count": 3,
   "metadata": {},
   "outputs": [
    {
     "data": {
      "text/plain": [
       "<matplotlib.image.AxesImage at 0x1cd2c8a26d0>"
      ]
     },
     "execution_count": 3,
     "metadata": {},
     "output_type": "execute_result"
    },
    {
     "data": {
      "image/png": "[encoded data removed]",
      "text/plain": [
       "<Figure size 432x288 with 1 Axes>"
      ]
     },
     "metadata": {
      "needs_background": "light"
     },
     "output_type": "display_data"
    }
   ],
   "source": [
    "position_start, position_target, terrain  = cm.getBigExample()\n",
    "terrain[position_start[0]][position_start[1]] = 2 ### START\n",
    "terrain[position_target[0]][position_target[1]] = 2 ### START\n",
    "plt.imshow(terrain) "
   ]
  },
  {
   "cell_type": "markdown",
   "metadata": {},
   "source": [
    "There are various possible moves depending on different neighbourhood models and the different cost values for each move."
   ]
  },
  {
   "cell_type": "code",
   "execution_count": 4,
   "metadata": {},
   "outputs": [],
   "source": [
    "possible_moves = [(i-1,j-1) for i in range(3) for j in range(3) if i !=1 or j !=1]\n",
    "#possible_moves = [(0,1),(1,0),(0,-1),(-1,0)]\n",
    "#possible_moves = [(1,2),(2,1),(1,-2),(-2,1),(-1,2),(2,-1),(-1,-2),(-2,-1)]"
   ]
  },
  {
   "cell_type": "code",
   "execution_count": 5,
   "metadata": {},
   "outputs": [],
   "source": [
    "possible_moves_costs = [math.sqrt(abs(i)+abs(j)) for i,j in possible_moves]\n",
    "#possible_moves_costs = [0.5+(abs(i)+abs(j))/2 for i,j in possible_moves]"
   ]
  },
  {
   "cell_type": "markdown",
   "metadata": {},
   "source": [
    "In this task, we will use the node class, which will store references to the node from which we came (parent) positions, and the g (actual cost from the beginning of the path to this node) and f (estimated path length passing through this node)."
   ]
  },
  {
   "cell_type": "markdown",
   "metadata": {},
   "source": [
    "1.1) Complete the function estimatePathLenght calculating the value of f, based on the actual distance of the node from the source g and the Euclidean distance to the target h."
   ]
  },
  {
   "cell_type": "code",
   "execution_count": 6,
   "metadata": {},
   "outputs": [],
   "source": [
    "class Node():\n",
    "    def __init__(self, parent, position):\n",
    "        self.parent = parent # a reference to the previous (parent) node in the path\n",
    "        self.position = position # node's (x, y) position in the map       \n",
    "        self.g = 0 # g is the actual cost from the source to the node,\n",
    "        self.f = 0 # f is the estimation of the length of the path from the source to the target, \n",
    "                   # passing through the node (i.e., g(x) + h(x)).\n",
    "        self.step = 0 # it says in which step the node was created (visited).\n",
    "        \n",
    "    def __eq__(self, other): ### to check whether two nodes are equal, i.e., takes the same positions\n",
    "        return self.position == other.position \n",
    "    \n",
    "    def updateG(self, cost): ### update the cost based on its parent's cost. \n",
    "        self.g = self.parent.g + cost        \n",
    "        \n",
    "    def getPath(self): ### get a path (list of positions) from the source to this node\n",
    "                       ### this is a recusive method calling self.parent.getPath()\n",
    "        if self.parent is None:\n",
    "            return [self.position]\n",
    "        else:\n",
    "            return self.parent.getPath() + [self.position]\n",
    "        \n",
    "    def estimatePathLenght(self, target):      \n",
    "        h = math.sqrt((target[0] - self.position[0])**2 + (target[1] - self.position[1])**2)\n",
    "        self.f = self.g + h\n",
    "        return self.f\n",
    "    "
   ]
  },
  {
   "cell_type": "markdown",
   "metadata": {},
   "source": [
    "Then there is a function that checks whether a given position is correct, not out of range, and whether it is an obstacle."
   ]
  },
  {
   "cell_type": "code",
   "execution_count": 7,
   "metadata": {},
   "outputs": [],
   "source": [
    "def validPosition(position, terrain):\n",
    "    if position[0]<0 or position[1]<0 or position[0]>=terrain.shape[0] or position[1]>=terrain.shape[1]:\n",
    "        return False\n",
    "    if  terrain[position] == 1:\n",
    "        return False\n",
    "    return True\n",
    "        "
   ]
  },
  {
   "cell_type": "markdown",
   "metadata": {},
   "source": [
    "1.2) Complete the function calculating the shortest path using the A * algorithm. \n",
    "\n",
    "1) To do this, find all neighbours positions for the considered node, then check that the position is correct. <br>\n",
    "2) If so, create a new node (child/neighbour) which parent is the node being considered.<br>\n",
    "3) Calculate the child's g value using the cost of transition from node to child.<br>\n",
    "4) Check if the child node has already been visited (closed set).<br>\n",
    "5) If not then check if there is a node on the open set (unvisited) with the same position but a smaller g-value (it's closer to the source).<br>\n",
    "6) If not, calculate the estimated distance from source to destination through the child and add this node to the list to check.<br>\n",
    "7) After generating all adjacent nodes, sort the open set list so that the next considered node has the smallest f value.<br>\n",
    "\n",
    "The algorithm returns a node whose position is the same as the target position and which stores the entire path through the parent field."
   ]
  },
  {
   "cell_type": "code",
   "execution_count": 8,
   "metadata": {},
   "outputs": [],
   "source": [
    "# def A_star(terrain, position_start, position_target, possible_moves, possible_moves_costs):\n",
    "#     root = Node(None, position_start) ### THE SOURCE NODE\n",
    "#     target = Node(None,position_target) ### THE TARGET NODE\n",
    "    \n",
    "#     closed_set = []\n",
    "#     open_set = []\n",
    "#     open_set.append(root)\n",
    "#     step = 0 ### This is the first iteration\n",
    "#     root.step = step \n",
    "#     while(len(open_set)>0):\n",
    "#         ### TODO you can follow the hints or you can write your own version\n",
    "#         node = open_set.pop()\n",
    "#         closed_set.append(node)\n",
    "#         step+=1\n",
    "#         node.step = step\n",
    "#         if node == target:\n",
    "#             return node,closed_set\n",
    "#         for move, cost in zip(possible_moves, possible_moves_costs):   \n",
    "#             child_position = (node.position[0] + move[0], node.position[1] + move[1])    \n",
    "#             if validPosition(child_position, terrain) == False:\n",
    "#                 continue\n",
    "#             child_node = Node(node, child_position)\n",
    "#             child_node.updateG(cost)\n",
    "# #             for ch in closed_set:\n",
    "# #                 if child_node == ch:\n",
    "# #                     continue\n",
    "#             if child_node in closed_set:\n",
    "#                 continue\n",
    "# #             for check in open_set:\n",
    "# #                 if child_node == check and check.g >= child_node.g:\n",
    "# #                     open_set.remove(check)\n",
    "# #                     continue\n",
    "# #                 if child_node == check and check.g < child_node.g:\n",
    "# #                     continue    \n",
    "#             if child_node in open_set and open_set[open_set.index(child_node)].g < child_node.g:\n",
    "#                 continue\n",
    "#             if child_node in open_set and open_set[open_set.index(child_node)].g >= child_node.g:\n",
    "#                 open_set.remove(open_set[open_set.index(child_node)])\n",
    "# #                 continue\n",
    "#             child_path = child_node.estimatePathLenght(target)\n",
    "#             l_new = [child_node, child_path]\n",
    "#             l = [[x, x.estimatePathLenght(target)] for x in open_set]\n",
    "#             if l_new not in l:\n",
    "#                 l.append(l_new)\n",
    "#             l.sort(key = lambda x: x[1], reverse = True)\n",
    "#             open_set = [l[x][0] for x in range(len(l))]"
   ]
  },
  {
   "cell_type": "markdown",
   "metadata": {},
   "source": [
    "1.3) Find the shortest path for \"small example\":"
   ]
  },
  {
   "cell_type": "code",
   "execution_count": 16,
   "metadata": {},
   "outputs": [],
   "source": [
    "position_start, position_target, terrain  = cm.getSmallExample()"
   ]
  },
  {
   "cell_type": "markdown",
   "metadata": {},
   "source": [
    "Show terrain<br>\n",
    "1 means wall, and 0 empty fields."
   ]
  },
  {
   "cell_type": "code",
   "execution_count": 14,
   "metadata": {},
   "outputs": [],
   "source": [
    "def A_star(terrain, position_start, position_target, possible_moves, possible_moves_costs):\n",
    "    root = Node(None, position_start) ### THE SOURCE NODE\n",
    "    target = Node(None,position_target) ### THE TARGET NODE\n",
    "    \n",
    "    closed_set = []\n",
    "    open_set = []\n",
    "    open_set.append(root)\n",
    "    step = 0\n",
    "    root.step = step \n",
    "    while(len(open_set)>0):\n",
    "        first_n = open_set.pop(0)\n",
    "        closed_set.append(first_n) \n",
    "        step += 1 \n",
    "        first_n.step = step\n",
    "        if first_n == target:\n",
    "            return first_n, closed_set\n",
    "        for i, j in zip(possible_moves, possible_moves_costs):\n",
    "            node_position = (first_n.position[0] + i[0], first_n.position[1] + i[1])\n",
    "            if validPosition(node_position, terrain) is False:\n",
    "                continue\n",
    "            new_node = Node(first_n, node_position)\n",
    "            new_node.updateG(j)\n",
    "            for closed_child in closed_set:\n",
    "                if new_node == closed_child:\n",
    "                    continue\n",
    "            for open_child in open_set:\n",
    "                if new_node == open_child and new_node.g < open_child.g:\n",
    "                    continue\n",
    "                elif new_node == open_child and new_node.g >= open_child.g:\n",
    "                    open_set.remove(open_child)\n",
    "            lst = []\n",
    "            for i in open_set:\n",
    "                sm_lst = []\n",
    "                i.f = i.estimatePathLenght(target)\n",
    "                sm_lst.append(i)\n",
    "                sm_lst.append(i.f)\n",
    "                lst.append(sm_lst)\n",
    "            lst.sort(key = lambda x : x[1])\n",
    "            open_set.clear()\n",
    "            for i in range(len(lst)):\n",
    "                open_set.append(lst[i][0])"
   ]
  },
  {
   "cell_type": "markdown",
   "metadata": {},
   "source": [
    "Run A star algorithm"
   ]
  },
  {
   "cell_type": "code",
   "execution_count": 15,
   "metadata": {},
   "outputs": [
    {
     "ename": "TypeError",
     "evalue": "cannot unpack non-iterable NoneType object",
     "output_type": "error",
     "traceback": [
      "\u001b[1;31m---------------------------------------------------------------------------\u001b[0m",
      "\u001b[1;31mTypeError\u001b[0m                                 Traceback (most recent call last)",
      "\u001b[1;32m<ipython-input-15-877df043a806>\u001b[0m in \u001b[0;36m<module>\u001b[1;34m\u001b[0m\n\u001b[1;32m----> 1\u001b[1;33m \u001b[0mpath\u001b[0m\u001b[1;33m,\u001b[0m\u001b[0mclosed_set\u001b[0m \u001b[1;33m=\u001b[0m \u001b[0mA_star\u001b[0m\u001b[1;33m(\u001b[0m\u001b[0mterrain\u001b[0m\u001b[1;33m,\u001b[0m \u001b[0mposition_start\u001b[0m\u001b[1;33m,\u001b[0m \u001b[0mposition_target\u001b[0m\u001b[1;33m,\u001b[0m \u001b[0mpossible_moves\u001b[0m\u001b[1;33m,\u001b[0m \u001b[0mpossible_moves_costs\u001b[0m\u001b[1;33m)\u001b[0m\u001b[1;33m\u001b[0m\u001b[1;33m\u001b[0m\u001b[0m\n\u001b[0m\u001b[0;32m      2\u001b[0m \u001b[0mprint\u001b[0m\u001b[1;33m(\u001b[0m\u001b[0mpath\u001b[0m\u001b[1;33m.\u001b[0m\u001b[0mg\u001b[0m\u001b[1;33m)\u001b[0m\u001b[1;33m\u001b[0m\u001b[1;33m\u001b[0m\u001b[0m\n\u001b[0;32m      3\u001b[0m \u001b[0mprint\u001b[0m\u001b[1;33m(\u001b[0m\u001b[0mpath\u001b[0m\u001b[1;33m.\u001b[0m\u001b[0mstep\u001b[0m\u001b[1;33m)\u001b[0m\u001b[1;33m\u001b[0m\u001b[1;33m\u001b[0m\u001b[0m\n",
      "\u001b[1;31mTypeError\u001b[0m: cannot unpack non-iterable NoneType object"
     ]
    }
   ],
   "source": [
    "path,closed_set = A_star(terrain, position_start, position_target, possible_moves, possible_moves_costs)\n",
    "print(path.g)\n",
    "print(path.step)"
   ]
  },
  {
   "cell_type": "markdown",
   "metadata": {},
   "source": [
    "Plot path"
   ]
  },
  {
   "cell_type": "code",
   "execution_count": null,
   "metadata": {},
   "outputs": [],
   "source": [
    "cm.plotPath(terrain, path)"
   ]
  },
  {
   "cell_type": "markdown",
   "metadata": {},
   "source": [
    "Plot closed_set where colors indicate the number of the last iteration in which the node was checked."
   ]
  },
  {
   "cell_type": "code",
   "execution_count": null,
   "metadata": {},
   "outputs": [],
   "source": [
    "cm.plotSteps(terrain, closed_set)"
   ]
  },
  {
   "cell_type": "markdown",
   "metadata": {},
   "source": [
    "1.4) Find the shortest path for the \"big example\":"
   ]
  },
  {
   "cell_type": "code",
   "execution_count": null,
   "metadata": {},
   "outputs": [],
   "source": [
    "position_start, position_target, terrain  = cm.getBigExample()"
   ]
  },
  {
   "cell_type": "code",
   "execution_count": null,
   "metadata": {},
   "outputs": [],
   "source": [
    "path,closed_set = A_star(terrain, position_start, position_target, possible_moves, possible_moves_costs)\n",
    "print(path.g)\n",
    "print(path.step)"
   ]
  },
  {
   "cell_type": "code",
   "execution_count": null,
   "metadata": {},
   "outputs": [],
   "source": [
    "cm.plotPath(terrain, path)"
   ]
  },
  {
   "cell_type": "code",
   "execution_count": null,
   "metadata": {},
   "outputs": [],
   "source": [
    "cm.plotSteps(terrain,closed_set)"
   ]
  },
  {
   "cell_type": "code",
   "execution_count": null,
   "metadata": {},
   "outputs": [],
   "source": []
  }
 ],
 "metadata": {
  "kernelspec": {
   "display_name": "Python 3",
   "language": "python",
   "name": "python3"
  },
  "language_info": {
   "codemirror_mode": {
    "name": "ipython",
    "version": 3
   },
   "file_extension": ".py",
   "mimetype": "text/x-python",
   "name": "python",
   "nbconvert_exporter": "python",
   "pygments_lexer": "ipython3",
   "version": "3.8.5"
  }
 },
 "nbformat": 4,
 "nbformat_minor": 4
}
