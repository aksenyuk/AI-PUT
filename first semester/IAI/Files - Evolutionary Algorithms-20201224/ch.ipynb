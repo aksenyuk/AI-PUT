{
 "cells": [
  {
   "cell_type": "markdown",
   "metadata": {},
   "source": [
    "Please provide your names, last names, and student IDs."
   ]
  },
  {
   "cell_type": "markdown",
   "metadata": {},
   "source": [
    "* name 1, last name 1, student id 1  Sofya Aksenyuk, 150284\n",
    "* name 2, last name 2, student id 2  Piotr Górecki, 148282"
   ]
  },
  {
   "cell_type": "markdown",
   "metadata": {},
   "source": [
    "# EVOLUTIONARY ALGORITHMS"
   ]
  },
  {
   "cell_type": "markdown",
   "metadata": {},
   "source": [
    "This exercise consists of three parts. Finish the first part to get a mark of 3.0; the first two parts for 4.0. Complete all three parts to get 5.0."
   ]
  },
  {
   "cell_type": "code",
   "execution_count": 1,
   "metadata": {
    "pycharm": {
     "is_executing": true
    }
   },
   "outputs": [],
   "source": [
    "import common as cm\n",
    "import copy as cp\n",
    "import numpy as np\n",
    "import matplotlib.pyplot as plt\n",
    "%matplotlib inline"
   ]
  },
  {
   "cell_type": "markdown",
   "metadata": {},
   "source": [
    "# Travelling Salesman Problem (TSP)"
   ]
  },
  {
   "cell_type": "markdown",
   "metadata": {},
   "source": [
    "There are N cities. In the TSP, we are looking for a **cycle passing through all the nodes (cities)** that is the shortest. **Cycle** means that (a) each city has to be visited only once and (b) we have to go back to the start city.\n",
    "\n",
    "Given is a distance matrix M=NxN, where $M[i][j]$ is a distance from the i-th to the j-th city.<br> \n",
    "In this exercise, we consider a symmetrical variant of TSP, i.e., $M[i][j] = M[j][i]$. Furhermore, $M[i][i] = 0$.<br> \n",
    "Let s=[3,1,...,5] be some N-element permutation of indices. <br> \n",
    "We want to find such a permutation that $\\sum_{k=2,...,N}M[s[k-1]][s[k]] + M[s[N]][s[1]]$ is optimal (minimal)."
   ]
  },
  {
   "cell_type": "markdown",
   "metadata": {},
   "source": [
    "This exercise consists of three parts. Finish the first part to get a mark of 3.0; the first two parts for 4.0. Complete all three parts to get 5.0."
   ]
  },
  {
   "cell_type": "markdown",
   "metadata": {},
   "source": [
    "# Part 1: Evolutionary algorithm"
   ]
  },
  {
   "cell_type": "markdown",
   "metadata": {},
   "source": [
    "### 1.1) Evaluation"
   ]
  },
  {
   "cell_type": "markdown",
   "metadata": {},
   "source": [
    "Complete the below function. It should evaluate an input solution (decision vector, vector of indices) in terms of TSP distance criterion. M is a distance matrix. Return the computed total distance."
   ]
  },
  {
   "cell_type": "code",
   "execution_count": 2,
   "metadata": {},
   "outputs": [
    {
     "name": "stdout",
     "output_type": "stream",
     "text": [
      "236.28476553372587\n",
      "236.28476553372587\n",
      "363.3878692639945\n"
     ]
    }
   ],
   "source": [
    "def getEvaluation(solution, M):\n",
    "    k = 0\n",
    "    dist = 0\n",
    "    for i in range(1, len(solution)):\n",
    "        dist += M[solution[k]][solution[i]]\n",
    "        k += 1\n",
    "        last_dist = M[solution[i]][solution[0]]\n",
    "    dist += last_dist\n",
    "    return dist\n",
    "M = cm.getTutorialDistanceMatrix()\n",
    "### AN EXAMPLE MATRIX\n",
    "print(getEvaluation([0,1,2,3,4,5], M)) ### SHOULD BE 236.28\n",
    "print(getEvaluation([5,4,3,2,1,0], M)) ### SHOULD BE THE SAME, IT IS A CYCLE :)\n",
    "print(getEvaluation([0,2,1,3,5,4], M))"
   ]
  },
  {
   "cell_type": "markdown",
   "metadata": {},
   "source": [
    "### 1.2) Validation"
   ]
  },
  {
   "cell_type": "markdown",
   "metadata": {},
   "source": [
    "This function can be used to validate the solution, i.e., to check if a given solution vector is of a proper size and to check if each element is unique."
   ]
  },
  {
   "cell_type": "code",
   "execution_count": 3,
   "metadata": {},
   "outputs": [
    {
     "name": "stdout",
     "output_type": "stream",
     "text": [
      "False\n",
      "True\n",
      "False\n",
      "False\n"
     ]
    }
   ],
   "source": [
    "def isValid(solution, cities):\n",
    "    if len(solution) != cities: return False\n",
    "    s = set(solution)\n",
    "    e = set([i for i in range(cities)])\n",
    "    if s==e: return True\n",
    "    else: return False\n",
    "    \n",
    "print(isValid([0,1,2,3,4,5,6], 6)) # FALSE\n",
    "print(isValid([0,1,2,3,4,5], 6)) # TRUE\n",
    "print(isValid([0,1,2,3,4,5,5], 6)) # FALSE\n",
    "print(isValid([0,1,1,2,3,2], 6)) # FALSE"
   ]
  },
  {
   "cell_type": "markdown",
   "metadata": {},
   "source": [
    "### 1.3) Initialization"
   ]
  },
  {
   "cell_type": "markdown",
   "metadata": {},
   "source": [
    "We need to create a population of solutions. These solutions - initially - can be generated randomly. \n",
    "Firstly, complete getRandomSolution function (cities = the number of cities considered in the TSP problem).\n",
    "It should generate a random permutation of [0,1,...,cities] vector. You can use np.random.shuffle function. Then, \n",
    "finish getInitialPopulation method. It should return a populationSize-element vector of pairs [distance, solution], where a solution is a random permutation of indices, and distance = the total distance (solution evaluation). "
   ]
  },
  {
   "cell_type": "code",
   "execution_count": 4,
   "metadata": {},
   "outputs": [
    {
     "name": "stdout",
     "output_type": "stream",
     "text": [
      "349.9479173857651 : [5, 0, 4, 2, 1, 3]\n",
      "355.5255436212543 : [0, 2, 4, 3, 5, 1]\n",
      "391.85233178311626 : [2, 4, 1, 5, 3, 0]\n",
      "404.34753635628914 : [0, 3, 1, 4, 5, 2]\n",
      "330.97176922597106 : [4, 0, 3, 2, 5, 1]\n",
      "437.8521511456447 : [3, 0, 2, 4, 5, 1]\n",
      "236.28476553372587 : [0, 1, 2, 3, 4, 5]\n",
      "369.975343809964 : [3, 4, 5, 1, 2, 0]\n",
      "302.36903047347255 : [5, 3, 4, 1, 2, 0]\n",
      "344.8724613607626 : [2, 1, 5, 3, 4, 0]\n"
     ]
    }
   ],
   "source": [
    "def getRandomSolution(cities):\n",
    "    s = []\n",
    "    for i in range(cities):\n",
    "        s.append(i)\n",
    "    np.random.shuffle(s)\n",
    "    return s\n",
    "\n",
    "def getInitialPopulation(populationSize, cities, M):\n",
    "    population = []\n",
    "    ppopulation = []\n",
    "    l = []\n",
    "    for _ in range(populationSize):\n",
    "        l.append(_)\n",
    "    ll = []\n",
    "    for q in range(populationSize):\n",
    "        population.append(getRandomSolution(cities))\n",
    "        ppopulation.append(getEvaluation(population[q], M))\n",
    "    for k in range(populationSize):\n",
    "        ll.append(ppopulation[k])\n",
    "        ll.append(population[k])\n",
    "    h = 1\n",
    "    n = 0\n",
    "    for f in range(populationSize):\n",
    "        l[f] = [ll[n], ll[h]]\n",
    "        n += 2\n",
    "        h += 2\n",
    "    return l\n",
    "def printPopulation(population):\n",
    "    for s in population:\n",
    "        print(str(s[0]) + \" : \" + str(s[1]))\n",
    "\n",
    "population = getInitialPopulation(10, 6, M)\n",
    "printPopulation(population)"
   ]
  },
  {
   "cell_type": "markdown",
   "metadata": {},
   "source": [
    "### 1.4) Sort population"
   ]
  },
  {
   "cell_type": "markdown",
   "metadata": {},
   "source": [
    "The below function should sort the population according to the distance, i.e., according to the first element of each pair. These should be ordered from the smallest to the largest.You can use .sort method and a lambda function."
   ]
  },
  {
   "cell_type": "code",
   "execution_count": 5,
   "metadata": {},
   "outputs": [
    {
     "name": "stdout",
     "output_type": "stream",
     "text": [
      "236.28476553372587 : [0, 1, 2, 3, 4, 5]\n",
      "302.36903047347255 : [5, 3, 4, 1, 2, 0]\n",
      "330.97176922597106 : [4, 0, 3, 2, 5, 1]\n",
      "344.8724613607626 : [2, 1, 5, 3, 4, 0]\n",
      "349.9479173857651 : [5, 0, 4, 2, 1, 3]\n",
      "355.5255436212543 : [0, 2, 4, 3, 5, 1]\n",
      "369.975343809964 : [3, 4, 5, 1, 2, 0]\n",
      "391.85233178311626 : [2, 4, 1, 5, 3, 0]\n",
      "404.34753635628914 : [0, 3, 1, 4, 5, 2]\n",
      "437.8521511456447 : [3, 0, 2, 4, 5, 1]\n"
     ]
    }
   ],
   "source": [
    "def sortPopulation(population):\n",
    "    population.sort()\n",
    "    \n",
    "sortPopulation(population)\n",
    "printPopulation(population)"
   ]
  },
  {
   "cell_type": "markdown",
   "metadata": {},
   "source": [
    "### 1.5) Summarize the population"
   ]
  },
  {
   "cell_type": "markdown",
   "metadata": {},
   "source": [
    "The below function should compute minimum, mean, and maximum value of the total distances of solutions in the population. Return these statistics as [min, mean, max] vector. "
   ]
  },
  {
   "cell_type": "code",
   "execution_count": 6,
   "metadata": {},
   "outputs": [
    {
     "name": "stdout",
     "output_type": "stream",
     "text": [
      "[236.28476553372587, 352.39988506959656, 437.8521511456447]\n"
     ]
    }
   ],
   "source": [
    "def getStats(population):\n",
    "    sortPopulation(population)\n",
    "    min_value = population[0][0]\n",
    "    max_value = population[-1][0]\n",
    "    l = []\n",
    "    dist = 0\n",
    "    for i in range(len(population)):\n",
    "        dist += population[i][0]\n",
    "    mean_value = dist/len(population)\n",
    "    l = [min_value, mean_value, max_value]\n",
    "    return l\n",
    "print(getStats(population))"
   ]
  },
  {
   "cell_type": "markdown",
   "metadata": {},
   "source": [
    "### 1.6) Tournament selection of size K"
   ]
  },
  {
   "cell_type": "markdown",
   "metadata": {},
   "source": [
    "You are asked to implement a tournament for parent selection (it is assumed that the population is already sorted). Firstly, complete getParentIndices method. It should return two random indices corresponding to selected parent solutions (e.g., [3, 5] etc.). Simply generate K random integers from [0,...,populationSize] and select the smallest index (as the solutions are ordered from the best to the worst). Repeat this process twice (we generate two parents) and return a vector [index1, index2]. Then, complete getMatingPool method. Usually, matingPoolSize = population size, i.e., we wish to generate an offspring population of size populationSize and thus we need to select such many pairs of parent solutions. This metod should return a vector of these pairs, e.g., [[2, 5], [9, 2], ..., [5, 7]]. "
   ]
  },
  {
   "cell_type": "code",
   "execution_count": 7,
   "metadata": {},
   "outputs": [
    {
     "name": "stdout",
     "output_type": "stream",
     "text": [
      "[[0, 0], [1, 0], [7, 1], [1, 8], [8, 5], [2, 5], [0, 3], [1, 1], [1, 4], [4, 3]]\n"
     ]
    }
   ],
   "source": [
    "def getParentIndices(populationSize, K):\n",
    "    parents = []\n",
    "    ### TODO\n",
    "    for m in range(K):\n",
    "        integers = []\n",
    "        for i in range(K):\n",
    "            integers.append(np.random.randint(0, populationSize))\n",
    "        parents.append(min(integers))\n",
    "        integers.clear()\n",
    "    return parents\n",
    "\n",
    "def getMatingPool(matingPoolSize, populationSize, K):\n",
    "    matingPool = []\n",
    "    ### TODO\n",
    "    for i in range(matingPoolSize):\n",
    "        matingPool.append(getParentIndices(populationSize, K))\n",
    "    return matingPool\n",
    "     \n",
    "matingPool = getMatingPool(10, 10, 2)\n",
    "print(matingPool)"
   ]
  },
  {
   "cell_type": "markdown",
   "metadata": {},
   "source": [
    "**Question: How does the selection depend on K? Run the below code for different K and verify your thoughts. The plot illustrates how many times a solutions of a given rank was selected by the tournament selection of size K.**\n",
    "Answer: The bigger the K, the lesser selection of other indexes occurs."
   ]
  },
  {
   "cell_type": "code",
   "execution_count": 8,
   "metadata": {},
   "outputs": [
    {
     "data": {
      "image/png": "[encoded data removed]",
      "text/plain": [
       "<Figure size 432x288 with 1 Axes>"
      ]
     },
     "metadata": {
      "needs_background": "light"
     },
     "output_type": "display_data"
    }
   ],
   "source": [
    "def testTournament(matingPoolSize, populationSize, K):\n",
    "    testMatingPool = getMatingPool(matingPoolSize, populationSize, K)\n",
    "    cm.displayHistogram(plt, np, testMatingPool, populationSize)\n",
    "    \n",
    "testTournament(10000, 10, 10)"
   ]
  },
  {
   "cell_type": "markdown",
   "metadata": {},
   "source": [
    "### 1.7) Crossover operator"
   ]
  },
  {
   "cell_type": "markdown",
   "metadata": {},
   "source": [
    "Now, you are asked to implement the crossover operator. A and B are solutions (decision vectors). Let child be a new offspring solution (decision vector) and N is the number of cities.  Assume that the first N/2 elements of the child vector = the first N/2 elements of A, while the last N/2 elements of the child vector = the last N/2 elements of B. Obviously, such constructed solution may not be valid (use isValid) method. Repair this. You can, e.g., check (i) which indices are duplicated and (ii) which indices are missing. Then, you can replace one copy of each duplicate with one random missing index. "
   ]
  },
  {
   "cell_type": "code",
   "execution_count": 9,
   "metadata": {},
   "outputs": [
    {
     "name": "stdout",
     "output_type": "stream",
     "text": [
      "[0, 1, 3, 5, 2, 4]\n"
     ]
    }
   ],
   "source": [
    "def getCrossedOver(A, B):\n",
    "    child = []\n",
    "    N = len(A)\n",
    "    for q in range(0, int(N/2)):\n",
    "        child.append(A[q])\n",
    "    for j in range(int(N/2), len(B)):\n",
    "        child.append(B[j])\n",
    "    for q in range(len(child)):\n",
    "        s = child.count(child[q])\n",
    "        el = 0\n",
    "        if s == 2:\n",
    "            while child.count(child[q]) >= 2:\n",
    "                child[q] = A[el]\n",
    "                el += 1\n",
    "    return child\n",
    "    \n",
    "### TEST\n",
    "print(getCrossedOver([0,1,2,3,4,5],[0,1,3,4,2,4]))"
   ]
  },
  {
   "cell_type": "markdown",
   "metadata": {},
   "source": [
    "### 1.8) Mutation operator"
   ]
  },
  {
   "cell_type": "markdown",
   "metadata": {},
   "source": [
    "Implement the mutation operator. Simply swap two random cities (indices). Apply this mutation with a certain probability (input argument)."
   ]
  },
  {
   "cell_type": "code",
   "execution_count": 10,
   "metadata": {},
   "outputs": [
    {
     "name": "stdout",
     "output_type": "stream",
     "text": [
      "[2, 1, 0, 3, 4, 5]\n",
      "[0, 1, 2, 3, 4, 5]\n",
      "[0, 1, 2, 3, 4, 5]\n",
      "[0, 4, 2, 3, 1, 5]\n",
      "[0, 2, 1, 3, 4, 5]\n",
      "[1, 0, 2, 3, 4, 5]\n",
      "[5, 1, 2, 3, 4, 0]\n",
      "[0, 2, 1, 3, 4, 5]\n",
      "[0, 2, 1, 3, 4, 5]\n",
      "[0, 1, 3, 2, 4, 5]\n"
     ]
    }
   ],
   "source": [
    "def mutate(solution, probability):\n",
    "    if np.random.random() < probability:\n",
    "        first_rand = np.random.randint(len(solution))\n",
    "        second_rand = np.random.randint(len(solution))\n",
    "        solution[first_rand], solution[second_rand] = solution[second_rand], solution[first_rand]\n",
    "for i in range(10):\n",
    "    s= [0,1,2,3,4,5]\n",
    "    mutate(s, 0.9)\n",
    "    print(s)"
   ]
  },
  {
   "cell_type": "markdown",
   "metadata": {},
   "source": [
    "### 1.9) Create offspring"
   ]
  },
  {
   "cell_type": "markdown",
   "metadata": {},
   "source": [
    "Now, combine both operators. The below method should generate the offspring. For each pair of parent indices in matingPool, i.e., [index1, index2], take the corresponding solutions from the population and apply the crossover and mutation operators in order to generate a single offspring/child. Evaluate this solution, i.e., compute the total distance. Finally, add [distance, child] to children vector.   "
   ]
  },
  {
   "cell_type": "code",
   "execution_count": 11,
   "metadata": {},
   "outputs": [
    {
     "name": "stdout",
     "output_type": "stream",
     "text": [
      "[[299.0861168444041, [0, 2, 3, 4, 5, 1]], [342.49093235066744, [1, 2, 0, 3, 5, 4]], [356.30984191959305, [4, 5, 1, 3, 2, 0]], [406.72906536638436, [3, 4, 0, 2, 5, 1]], [274.9930827056829, [5, 1, 2, 3, 4, 0]], [356.5353919317345, [0, 3, 4, 2, 1, 5]], [332.84609418777103, [2, 4, 5, 3, 0, 1]], [368.02074819442726, [5, 4, 3, 1, 0, 2]], [371.5544113597281, [4, 2, 1, 5, 3, 0]], [292.263452054014, [3, 0, 1, 4, 5, 2]]]\n"
     ]
    }
   ],
   "source": [
    "def getOffspring(population, matingPool, mutationProbability, M):\n",
    "    children = [] ### CHILDREN VECTOR\n",
    "    changed = []\n",
    "    evaluated = []\n",
    "    ### TODO\n",
    "    for i in range(len(matingPool)):\n",
    "        changed.append(getCrossedOver(population[i][1], population[i-1][1]))\n",
    "    for j in range(len(changed)):\n",
    "        mutate(changed[j], mutationProbability)\n",
    "    for q in range(len(changed)):\n",
    "        evaluated.append(getEvaluation(changed[q], M))\n",
    "    for m in range(len(changed)):\n",
    "        children.append([evaluated[m], changed[m]])\n",
    "    return children\n",
    "print(getOffspring(population, matingPool, 0.9, M))"
   ]
  },
  {
   "cell_type": "markdown",
   "metadata": {},
   "source": [
    "### 1.10) Evolutionary Algorithm"
   ]
  },
  {
   "cell_type": "markdown",
   "metadata": {},
   "source": [
    "Now, you are asked to combine all the previously completed methods into an evolutionary algorithm. This is the outline of the algorithm: <br>\n",
    "1) Create & evaluate an initial population of size \"populationSize\" <br>\n",
    "2) Sort the population <br>\n",
    "3) Construct a mating pool <br>\n",
    "4) Generate & evaluate an offspring of size \"populationSize\" <br>\n",
    "5) Merge the current population and the offspring <br>\n",
    "6) Sort such merged population <br>\n",
    "7) Remove the worst half of the population <br>\n",
    "8) Go to (2) until the stopping criterion is not meet (repeat for the assumed number of generations) <br>\n",
    "\n",
    "In each generation, compute & display the statistics on the current population. Finally, what is the best solution found by the method? Rerun the method for different parameters (e.g., population size) and check if you can improve the result."
   ]
  },
  {
   "cell_type": "code",
   "execution_count": 23,
   "metadata": {},
   "outputs": [
    {
     "name": "stdout",
     "output_type": "stream",
     "text": [
      "[252.1415501768191, 297.6396403616469, 322.0209288318988]\n",
      "[251.30378496171937, 285.57406505341345, 300.6651843941682]\n",
      "[251.30378496171937, 283.9841216956922, 294.6449810641092]\n",
      "[251.30378496171937, 282.90937872645844, 292.72419231057614]\n",
      "[251.30378496171937, 281.04411971465686, 292.263452054014]\n",
      "[251.30378496171937, 276.60745092706924, 292.263452054014]\n",
      "[247.5086712463864, 269.0695246316838, 274.9930827056829]\n",
      "[247.5086712463864, 267.45715115770946, 274.9930827056829]\n",
      "[247.5086712463864, 265.7257012332303, 274.9930827056829]\n",
      "[247.5086712463864, 261.24581016282156, 272.61155369558776]\n",
      "[236.28476553372585, 253.15375014242812, 272.61155369558776]\n",
      "[236.28476553372585, 245.82508538948727, 247.5086712463864]\n",
      "[236.28476553372585, 244.7026948182212, 247.5086712463864]\n",
      "[236.28476553372585, 241.8967183900561, 247.5086712463864]\n",
      "[236.28476553372585, 236.84596081935888, 247.5086712463864]\n",
      "[236.28476553372585, 236.28476553372585, 236.28476553372585]\n",
      "[236.28476553372585, 236.28476553372585, 236.28476553372585]\n",
      "[236.28476553372585, 236.28476553372585, 236.28476553372585]\n",
      "[236.28476553372585, 236.28476553372585, 236.28476553372585]\n",
      "[236.28476553372585, 236.28476553372585, 236.28476553372585]\n",
      "[236.28476553372585, 236.28476553372585, 236.28476553372585]\n",
      "[236.28476553372585, 236.28476553372585, 236.28476553372585]\n",
      "[236.28476553372585, 236.28476553372585, 236.28476553372585]\n",
      "[236.28476553372585, 236.28476553372585, 236.28476553372585]\n",
      "[236.28476553372585, 236.28476553372585, 236.28476553372585]\n",
      "[236.28476553372585, 236.28476553372585, 236.28476553372585]\n",
      "[236.28476553372585, 236.28476553372585, 236.28476553372585]\n",
      "[236.28476553372585, 236.28476553372585, 236.28476553372585]\n",
      "[236.28476553372585, 236.28476553372585, 236.28476553372585]\n",
      "[236.28476553372585, 236.28476553372585, 236.28476553372585]\n",
      "[236.28476553372585, 236.28476553372585, 236.28476553372585]\n",
      "[236.28476553372585, 236.28476553372585, 236.28476553372585]\n",
      "[236.28476553372585, 236.28476553372585, 236.28476553372585]\n",
      "[236.28476553372585, 236.28476553372585, 236.28476553372585]\n",
      "[236.28476553372585, 236.28476553372585, 236.28476553372585]\n",
      "[236.28476553372585, 236.28476553372585, 236.28476553372585]\n",
      "[236.28476553372585, 236.28476553372585, 236.28476553372585]\n",
      "[236.28476553372585, 236.28476553372585, 236.28476553372585]\n",
      "[236.28476553372585, 236.28476553372585, 236.28476553372585]\n",
      "[236.28476553372585, 236.28476553372585, 236.28476553372585]\n",
      "[236.28476553372585, 236.28476553372585, 236.28476553372585]\n",
      "[236.28476553372585, 236.28476553372585, 236.28476553372585]\n",
      "[236.28476553372585, 236.28476553372585, 236.28476553372585]\n",
      "[236.28476553372585, 236.28476553372585, 236.28476553372585]\n",
      "[236.28476553372585, 236.28476553372585, 236.28476553372585]\n",
      "[236.28476553372585, 236.28476553372585, 236.28476553372585]\n",
      "[236.28476553372585, 236.28476553372585, 236.28476553372585]\n",
      "[236.28476553372585, 236.28476553372585, 236.28476553372585]\n",
      "[236.28476553372585, 236.28476553372585, 236.28476553372585]\n",
      "[236.28476553372585, 236.28476553372585, 236.28476553372585]\n"
     ]
    }
   ],
   "source": [
    "###\n",
    "costMatrix = cm.getTutorialDistanceMatrix() ### 6 CITIES\n",
    "cities = 6\n",
    "mutationProbability = 1.0/6.0\n",
    "populationSize = 20\n",
    "generations = 50\n",
    "matingPoolSize = populationSize\n",
    "\n",
    "population = getInitialPopulation(populationSize, cities, costMatrix)\n",
    "sortPopulation(population)\n",
    "\n",
    "for g in range(generations):\n",
    "    ### TODO\n",
    "    matingPool = getMatingPool(matingPoolSize, populationSize, 2)\n",
    "    offspring = getOffspring(population, matingPool, mutationProbability, M)\n",
    "    for k in range(len(offspring)):\n",
    "        population.append(offspring[k])\n",
    "    population.sort()\n",
    "    population = population[:populationSize]\n",
    "    print(getStats(population))"
   ]
  },
  {
   "cell_type": "raw",
   "metadata": {},
   "source": [
    "# Part 2: Visualization of convergence"
   ]
  },
  {
   "cell_type": "markdown",
   "metadata": {},
   "source": [
    "2.1) Now, change the data set (distance matrix) to cm.getLargeDistanceMatrix. This instance concerns 15 cities. Run the evolutionary algorithm with a population size of 20 and the number of generation of 200 (and suitably adjust the mutation probability - 1.0/15.0). <br><br>\n",
    "**In each generation**, store the population statistics (min, mean, and max distances found, in, respectively, Y_MIN, Y_MEAN, Y_MAX). Then, use cm.plotConvergence(plt, X, Y_MIN, Y_MEAN, Y_MAX) - use append function - to display the convergence plot. Rerun the code for different parameters and observe the results. What is the best value (distance) you could find (print)?"
   ]
  },
  {
   "cell_type": "markdown",
   "metadata": {},
   "source": [
    "You can verify the correctness of the generated plot with some example plot provided below. Note that there obviously may be some differences between these two. "
   ]
  },
  {
   "cell_type": "code",
   "execution_count": 13,
   "metadata": {},
   "outputs": [
    {
     "name": "stdout",
     "output_type": "stream",
     "text": [
      "473.42535600870076\n"
     ]
    },
    {
     "data": {
      "image/png": "[encoded data removed]",
      "text/plain": [
       "<Figure size 432x288 with 1 Axes>"
      ]
     },
     "metadata": {
      "needs_background": "light"
     },
     "output_type": "display_data"
    }
   ],
   "source": [
    "costMatrix = cm.getLargeDistanceMatrix() ### 15 CITIES\n",
    "cities = 15\n",
    "mutationProbability = 1.0/15.0\n",
    "populationSize = 20\n",
    "generations = 100\n",
    "matingPoolSize = populationSize\n",
    "\n",
    "population = getInitialPopulation(populationSize, cities, costMatrix)\n",
    "sortPopulation(population)\n",
    "\n",
    "X = []\n",
    "Y_MIN = []\n",
    "Y_MEAN = []\n",
    "Y_MAX = []\n",
    "### TODO\n",
    "for g in range(generations):\n",
    "    X.append(g)\n",
    "    matingPool = getMatingPool(matingPoolSize, populationSize, 2)\n",
    "    offspring = getOffspring(population, matingPool, mutationProbability, costMatrix)\n",
    "    for k in range(len(offspring)):\n",
    "        population.append(offspring[k])\n",
    "    population.sort()\n",
    "    population = population[:populationSize]\n",
    "    stats = getStats(population)\n",
    "    Y_MIN.append(stats[0])\n",
    "    Y_MEAN.append(stats[1])\n",
    "    Y_MAX.append(stats[2])\n",
    "\n",
    "cm.plotConvergence(plt, X, Y_MIN, Y_MEAN, Y_MAX)\n",
    "print(Y_MIN[-1])"
   ]
  },
  {
   "cell_type": "code",
   "execution_count": 14,
   "metadata": {},
   "outputs": [
    {
     "data": {
      "text/plain": [
       "<matplotlib.image.AxesImage at 0x1768544b0a0>"
      ]
     },
     "execution_count": 14,
     "metadata": {},
     "output_type": "execute_result"
    },
    {
     "data": {
      "image/png": "[encoded data removed]",
      "text/plain": [
       "<Figure size 432x288 with 1 Axes>"
      ]
     },
     "metadata": {
      "needs_background": "light"
     },
     "output_type": "display_data"
    }
   ],
   "source": [
    "plt.imshow(plt.imread(\"sr.png\"))"
   ]
  },
  {
   "cell_type": "markdown",
   "metadata": {},
   "source": [
    "2.2) Each time you rerun the code, while keeping the paramet values fixed, the results my slightly change. This is due to the random nature of evolutionary algorithms. Hence, in order to get the reliable results, the method must be run several times and the results have to be averaged. Do the following:<br>\n",
    "- run the method 20 times <br>\n",
    "- in each run: capture **the best result found (solution)**  in each generation (so it is like taking min values in the previously generated plot) <br>\n",
    "- **averaging over 20 runs:** for each generation, find min, mean, and max values <br>\n",
    "- use cm.plotConvergence to display the convergence\n",
    "- print the best value ever found "
   ]
  },
  {
   "cell_type": "code",
   "execution_count": 65,
   "metadata": {},
   "outputs": [
    {
     "data": {
      "image/png": "[encoded data removed]",
      "text/plain": [
       "<Figure size 432x288 with 1 Axes>"
      ]
     },
     "metadata": {
      "needs_background": "light"
     },
     "output_type": "display_data"
    }
   ],
   "source": [
    "xs = []\n",
    "ymins = []\n",
    "ymeans = []\n",
    "ymaxs = []\n",
    "for i in range(20):\n",
    "    population = getInitialPopulation(populationSize, cities, costMatrix)\n",
    "    sortPopulation(population)\n",
    "\n",
    "    X = []\n",
    "    Y_MIN = []\n",
    "    Y_MEAN = []\n",
    "    Y_MAX = []\n",
    "    ### TODO\n",
    "    for g in range(generations):\n",
    "        X.append(g)\n",
    "        matingPool = getMatingPool(matingPoolSize, populationSize, 2)\n",
    "        offspring = getOffspring(population, matingPool, mutationProbability, costMatrix)\n",
    "        for k in range(len(offspring)):\n",
    "            population.append(offspring[k])\n",
    "        population.sort()\n",
    "        population = population[:populationSize]\n",
    "        stats = getStats(population)\n",
    "        Y_MIN.append(stats[0])\n",
    "        Y_MEAN.append(stats[1])\n",
    "        Y_MAX.append(stats[2])\n",
    "    ymins.append(Y_MIN)\n",
    "    ymeans.append(Y_MEAN)\n",
    "    ymaxs.append(Y_MAX)\n",
    "    xs.append(X)\n",
    "cm.plotConvergence(plt,np.mean(xs,axis=0),np.min(ymins,axis=0),np.mean(ymeans,axis=0),np.max(ymaxs,axis=0))"
   ]
  },
  {
   "cell_type": "markdown",
   "metadata": {},
   "source": [
    "You can verify the correctness of the generated plot with some example plot provided below. Note that there obviously may be some differences between these two. "
   ]
  },
  {
   "cell_type": "code",
   "execution_count": 16,
   "metadata": {},
   "outputs": [
    {
     "data": {
      "text/plain": [
       "<matplotlib.image.AxesImage at 0x176854ae4f0>"
      ]
     },
     "execution_count": 16,
     "metadata": {},
     "output_type": "execute_result"
    },
    {
     "data": {
      "image/png": "[encoded data removed]",
      "text/plain": [
       "<Figure size 432x288 with 1 Axes>"
      ]
     },
     "metadata": {
      "needs_background": "light"
     },
     "output_type": "display_data"
    }
   ],
   "source": [
    "plt.imshow(plt.imread(\"mr.png\"))"
   ]
  },
  {
   "cell_type": "markdown",
   "metadata": {},
   "source": [
    "# Part 3: Impact of different parameter values on the optimization"
   ]
  },
  {
   "cell_type": "markdown",
   "metadata": {},
   "source": [
    "In this exercise, you are asked to check how the method performs for different parameter values. Evaluate the performance in terms of different population sizes. Specifically, check how the method performs for the population size = 5, 10, 20, and 50. Display 4 convergence plots - defined as in exercise 2.2 - in a single chart or in separate plots. **Discuss the obtained results**."
   ]
  },
  {
   "cell_type": "code",
   "execution_count": 75,
   "metadata": {
    "scrolled": false
   },
   "outputs": [
    {
     "data": {
      "image/png": "[encoded data removed]",
      "text/plain": [
       "<Figure size 432x288 with 1 Axes>"
      ]
     },
     "metadata": {
      "needs_background": "light"
     },
     "output_type": "display_data"
    }
   ],
   "source": [
    "xs = []\n",
    "ymins = []\n",
    "ymeans = []\n",
    "ymaxs = []\n",
    "populationSize = matingPoolSize = 5\n",
    "for i in range(20):\n",
    "    population = getInitialPopulation(populationSize, cities, costMatrix)\n",
    "    sortPopulation(population)\n",
    "\n",
    "    X = []\n",
    "    Y_MIN = []\n",
    "    Y_MEAN = []\n",
    "    Y_MAX = []\n",
    "    ### TODO\n",
    "    for g in range(generations):\n",
    "        X.append(g)\n",
    "        matingPool = getMatingPool(matingPoolSize, populationSize, 2)\n",
    "        offspring = getOffspring(population, matingPool, mutationProbability, costMatrix)\n",
    "        for k in range(len(offspring)):\n",
    "            population.append(offspring[k])\n",
    "        population.sort()\n",
    "        population = population[:populationSize]\n",
    "        stats = getStats(population)\n",
    "        Y_MIN.append(stats[0])\n",
    "        Y_MEAN.append(stats[1])\n",
    "        Y_MAX.append(stats[2])\n",
    "    ymins.append(Y_MIN)\n",
    "    ymeans.append(Y_MEAN)\n",
    "    ymaxs.append(Y_MAX)\n",
    "    xs.append(X)\n",
    "cm.plotConvergence(plt,np.mean(xs,axis=0),np.min(ymins,axis=0),np.mean(ymeans,axis=0),np.max(ymaxs,axis=0))"
   ]
  },
  {
   "cell_type": "code",
   "execution_count": 74,
   "metadata": {},
   "outputs": [
    {
     "data": {
      "image/png": "[encoded data removed]",
      "text/plain": [
       "<Figure size 432x288 with 1 Axes>"
      ]
     },
     "metadata": {
      "needs_background": "light"
     },
     "output_type": "display_data"
    }
   ],
   "source": [
    "xs = []\n",
    "ymins = []\n",
    "ymeans = []\n",
    "ymaxs = []\n",
    "populationSize = matingPoolSize = 10\n",
    "for i in range(20):\n",
    "    population = getInitialPopulation(populationSize, cities, costMatrix)\n",
    "    sortPopulation(population)\n",
    "\n",
    "    X = []\n",
    "    Y_MIN = []\n",
    "    Y_MEAN = []\n",
    "    Y_MAX = []\n",
    "    ### TODO\n",
    "    for g in range(generations):\n",
    "        X.append(g)\n",
    "        matingPool = getMatingPool(matingPoolSize, populationSize, 2)\n",
    "        offspring = getOffspring(population, matingPool, mutationProbability, costMatrix)\n",
    "        for k in range(len(offspring)):\n",
    "            population.append(offspring[k])\n",
    "        population.sort()\n",
    "        population = population[:populationSize]\n",
    "        stats = getStats(population)\n",
    "        Y_MIN.append(stats[0])\n",
    "        Y_MEAN.append(stats[1])\n",
    "        Y_MAX.append(stats[2])\n",
    "    ymins.append(Y_MIN)\n",
    "    ymeans.append(Y_MEAN)\n",
    "    ymaxs.append(Y_MAX)\n",
    "    xs.append(X)\n",
    "cm.plotConvergence(plt,np.mean(xs,axis=0),np.min(ymins,axis=0),np.mean(ymeans,axis=0),np.max(ymaxs,axis=0))"
   ]
  },
  {
   "cell_type": "code",
   "execution_count": 72,
   "metadata": {},
   "outputs": [
    {
     "data": {
      "image/png": "[encoded data removed]",
      "text/plain": [
       "<Figure size 432x288 with 1 Axes>"
      ]
     },
     "metadata": {
      "needs_background": "light"
     },
     "output_type": "display_data"
    }
   ],
   "source": [
    "xs = []\n",
    "ymins = []\n",
    "ymeans = []\n",
    "ymaxs = []\n",
    "populationSize = matingPoolSize = 20\n",
    "for i in range(20):\n",
    "    population = getInitialPopulation(populationSize, cities, costMatrix)\n",
    "    sortPopulation(population)\n",
    "\n",
    "    X = []\n",
    "    Y_MIN = []\n",
    "    Y_MEAN = []\n",
    "    Y_MAX = []\n",
    "    ### TODO\n",
    "    for g in range(generations):\n",
    "        X.append(g)\n",
    "        matingPool = getMatingPool(matingPoolSize, populationSize, 2)\n",
    "        offspring = getOffspring(population, matingPool, mutationProbability, costMatrix)\n",
    "        for k in range(len(offspring)):\n",
    "            population.append(offspring[k])\n",
    "        population.sort()\n",
    "        population = population[:populationSize]\n",
    "        stats = getStats(population)\n",
    "        Y_MIN.append(stats[0])\n",
    "        Y_MEAN.append(stats[1])\n",
    "        Y_MAX.append(stats[2])\n",
    "    ymins.append(Y_MIN)\n",
    "    ymeans.append(Y_MEAN)\n",
    "    ymaxs.append(Y_MAX)\n",
    "    xs.append(X)\n",
    "cm.plotConvergence(plt,np.mean(xs,axis=0),np.min(ymins,axis=0),np.mean(ymeans,axis=0),np.max(ymaxs,axis=0))"
   ]
  },
  {
   "cell_type": "code",
   "execution_count": 73,
   "metadata": {},
   "outputs": [
    {
     "data": {
      "image/png": "[encoded data removed]",
      "text/plain": [
       "<Figure size 432x288 with 1 Axes>"
      ]
     },
     "metadata": {
      "needs_background": "light"
     },
     "output_type": "display_data"
    }
   ],
   "source": [
    "xs = []\n",
    "ymins = []\n",
    "ymeans = []\n",
    "ymaxs = []\n",
    "populationSize = matingPoolSize = 50\n",
    "for i in range(20):\n",
    "    population = getInitialPopulation(populationSize, cities, costMatrix)\n",
    "    sortPopulation(population)\n",
    "\n",
    "    X = []\n",
    "    Y_MIN = []\n",
    "    Y_MEAN = []\n",
    "    Y_MAX = []\n",
    "    ### TODO\n",
    "    for g in range(generations):\n",
    "        X.append(g)\n",
    "        matingPool = getMatingPool(matingPoolSize, populationSize, 2)\n",
    "        offspring = getOffspring(population, matingPool, mutationProbability, costMatrix)\n",
    "        for k in range(len(offspring)):\n",
    "            population.append(offspring[k])\n",
    "        population.sort()\n",
    "        population = population[:populationSize]\n",
    "        stats = getStats(population)\n",
    "        Y_MIN.append(stats[0])\n",
    "        Y_MEAN.append(stats[1])\n",
    "        Y_MAX.append(stats[2])\n",
    "    ymins.append(Y_MIN)\n",
    "    ymeans.append(Y_MEAN)\n",
    "    ymaxs.append(Y_MAX)\n",
    "    xs.append(X)\n",
    "cm.plotConvergence(plt,np.mean(xs,axis=0),np.min(ymins,axis=0),np.mean(ymeans,axis=0),np.max(ymaxs,axis=0))"
   ]
  },
  {
   "cell_type": "markdown",
   "metadata": {},
   "source": [
    "# Overall, we observe that the smaller value of populationSize we have - the wider area is depicted. That means, the bigger value of populationSize we have - the preciser result we get. "
   ]
  },
  {
   "cell_type": "code",
   "execution_count": null,
   "metadata": {},
   "outputs": [],
   "source": []
  }
 ],
 "metadata": {
  "kernelspec": {
   "display_name": "Python 3",
   "language": "python",
   "name": "python3"
  },
  "language_info": {
   "codemirror_mode": {
    "name": "ipython",
    "version": 3
   },
   "file_extension": ".py",
   "mimetype": "text/x-python",
   "name": "python",
   "nbconvert_exporter": "python",
   "pygments_lexer": "ipython3",
   "version": "3.8.5"
  }
 },
 "nbformat": 4,
 "nbformat_minor": 2
}
