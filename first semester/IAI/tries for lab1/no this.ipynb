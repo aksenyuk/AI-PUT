{
 "cells": [
  {
   "cell_type": "markdown",
   "metadata": {},
   "source": [
    "Please provide your names, last names, and student IDs. "
   ]
  },
  {
   "cell_type": "markdown",
   "metadata": {},
   "source": [
    "* name 1, last name 1, student id 1\n",
    "* name 2, last name 2, student id 2 (when working in a pair)"
   ]
  },
  {
   "cell_type": "markdown",
   "metadata": {},
   "source": [
    "# CLUSTERING"
   ]
  },
  {
   "cell_type": "markdown",
   "metadata": {},
   "source": [
    "This exercise consists of three parts. Finish the first part to get a mark of 3.0; the first two parts for 4.0. Complete all three parts to get 5.0."
   ]
  },
  {
   "cell_type": "markdown",
   "metadata": {},
   "source": [
    "## Part 1"
   ]
  },
  {
   "cell_type": "code",
   "execution_count": null,
   "metadata": {},
   "outputs": [],
   "source": [
    "# ### SOME IMPORTS\n",
    "import numpy as np\n",
    "import common as cm  ### this file is included in the bundle lab1.zip\n",
    "import matplotlib.pyplot as plt\n"
   ]
  },
  {
   "cell_type": "markdown",
   "metadata": {},
   "source": [
    "1.1) Complete the following distance function"
   ]
  },
  {
   "cell_type": "code",
   "execution_count": null,
   "metadata": {},
   "outputs": [],
   "source": [
    "# Computes a Euclidean distance between points A and B (these are vectors, i.e., A[0], A[1], ....)\n",
    "def getEuclideanDistance(A, B):\n",
    "    c = ((B[0] - A[0])**2 + (B[1] - A[1])**2)**0.5\n",
    "    return c\n",
    "    \n",
    "### TEST - verify the correctness\n",
    "print(getEuclideanDistance([0.0, 0.0], [0.0, 1.0]))\n",
    "print(getEuclideanDistance([0.0, 0.0], [1.0, 1.0]))"
   ]
  },
  {
   "cell_type": "markdown",
   "metadata": {},
   "source": [
    "1.2) Get test data set & display (data = matrix n x m, n = the number of objects, m = the number of attributes)"
   ]
  },
  {
   "cell_type": "code",
   "execution_count": null,
   "metadata": {},
   "outputs": [],
   "source": [
    "data = cm.getTestDataSet()\n",
    "cm.displayDataSet(plt, data) #plt = plot package; see the imports above"
   ]
  },
  {
   "cell_type": "markdown",
   "metadata": {},
   "source": [
    "**QUESTION: How many clusters (groups) do you see here?**"
   ]
  },
  {
   "cell_type": "markdown",
   "metadata": {},
   "source": [
    "The data for this exercise was generated artificially. You can run the below code to see the \"true\" group assignment."
   ]
  },
  {
   "cell_type": "code",
   "execution_count": null,
   "metadata": {},
   "outputs": [],
   "source": [
    "data = cm.getTestDataSet()\n",
    "assignments = cm.getTestAssignments() ### GET \"TRUE\" GROUP ASSIGNMENT\n",
    "cm.displayDataSet(plt, data, assignments = assignments)"
   ]
  },
  {
   "cell_type": "markdown",
   "metadata": {},
   "source": [
    "1.3) K-Means implementation: Firstly, we need to construct K \"centroids\". Each centroid represents one group. For simplicity, initially assume that the centroids are randomly selected from the data set (i.e., clone/copy some K random points from data set). Check numpy.random package. Important: each centroid should be unique (no repetitions, consider a \"shuffle\" approach). Finish the bolow code."
   ]
  },
  {
   "cell_type": "code",
   "execution_count": null,
   "metadata": {},
   "outputs": [],
   "source": [
    "### return a vector of centroids (vectors) [[x1, y1], ..., [xk, yk]]\n",
    "def getCentroids(K, data):\n",
    "    #TODO\n",
    "    #return []\n",
    "    \n",
    "# TEST\n",
    "print(getCentroids(2, data))"
   ]
  },
  {
   "cell_type": "markdown",
   "metadata": {},
   "source": [
    "1.4) Get acquainted with some parameters: \n",
    "- DATA - test data set, a vector of  n 2d points: [[x1, y1], ..., [xn, yn]], loaded from common.py\n",
    "- M - the number of attributes/dimensions; M = 2 for this exercise,\n",
    "- K - expected number of groups,\n",
    "- CENTROIDS - initial K centroids; CENTROIDS =  [[x1, y1],...,[xk, yk]],\n",
    "- ASSIGNMENTS - data structure representing group assignments; ASSIGNMENTS = [[idx1_1,...,],....,[idx1_K,....]], i.e., i-th element is a vector of indexes of corresponding data points in DATA, being assigned to i-th group. For instance if |DATA| = 3, K = 2, and ASSIGNMENTS = [[0, 2], [1]], it means that DATA[0] and DATA[2] points are assigned to the first group, while DATA[1] point is assigned to the second group."
   ]
  },
  {
   "cell_type": "markdown",
   "metadata": {},
   "source": [
    "1.5) Finish the below function. It should perform a single step of K-Means algorithm:\n",
    "\n",
    "a) Firstly, construct new group assignments. For this reason, iterate over all data points. For each (i-th) point, verify its distance to each (k-th) centroid. Check for which centroid the distance is the smallest and update NEW_ASSIGNMENTS adequately (NEW_ASSIGNMENTS[k-th centroid].append(i-th index/data point)).\n",
    "\n",
    "Important: NO_CHANGE boolean variable should be set to False if the assignments have changed from the previous iteration to the current one (NEW_ASSIGNMENTS != (OLD) ASSIGNMENTS). \n",
    "\n",
    "b) Update centroids (NEW_CENTROIDS), i.e., compute centers of masses of data points belonging to different groups. \n",
    "\n",
    "c) Return NO_CHANGE, NEW_ASSIGNMENTS, NEW_CENTROIDS."
   ]
  },
  {
   "cell_type": "code",
   "execution_count": null,
   "metadata": {},
   "outputs": [],
   "source": [
    "def doKMeansStep(DATA, M, K, CENTROIDS, ASSIGNMENTS):    \n",
    "    NO_CHANGE = True\n",
    "    if ASSIGNMENTS is None: NO_CHANGE = False\n",
    "    #TODO\n",
    "    \n",
    "    ### CONSTRUCT NEW ASSIGNMENTS\n",
    "    NEW_ASSIGNMENTS = [[] for k in range(K)]\n",
    "    ### TODO\n",
    "\n",
    "    ### CONSTRUCT NEW CENTROIDS\n",
    "    NEW_CENTROIDS = []\n",
    "    ### TODO\n",
    "    \n",
    "    return NO_CHANGE, NEW_CENTROIDS, NEW_ASSIGNMENTS "
   ]
  },
  {
   "cell_type": "markdown",
   "metadata": {},
   "source": [
    "1.6) The below code performs 1 iteration of K-Menas algorithm for K=2 and the test data set. Check the results (notice that centroids are marked with squares)."
   ]
  },
  {
   "cell_type": "code",
   "execution_count": null,
   "metadata": {},
   "outputs": [],
   "source": [
    "DATA = cm.getTestDataSet()\n",
    "CENTROIDS = getCentroids(2, DATA)\n",
    "NO_CHANGE, CENTROIDS, ASSIGNMENTS = doKMeansStep(DATA, 2, 2, CENTROIDS.copy(), None)\n",
    "cm.displayDataSet(plt, DATA, assignments = ASSIGNMENTS, centroids = CENTROIDS)"
   ]
  },
  {
   "cell_type": "markdown",
   "metadata": {},
   "source": [
    "1.7) Complete the below piece of code. The doKMeans function should perform 100 steps of K-Means algorithm. However, the loop should be stopped when the NO_CHANGE variable = True. It that is so, **print the information on after how many iterations the process has stopped**. Lastly, use cm.displayDataSet to depict the final groups. "
   ]
  },
  {
   "cell_type": "code",
   "execution_count": null,
   "metadata": {},
   "outputs": [],
   "source": [
    "def doKMeans(DATA, CENTROIDS, K = 2, M = 2, display = True):\n",
    "    ASSIGNMENTS = [[] for i in range(K)]  \n",
    "    for i in range(100):\n",
    "        ### TODO\n",
    "        \n",
    "    return DATA, CENTROIDS, ASSIGNMENTS   \n",
    "\n",
    "DATA = cm.getTestDataSet()\n",
    "CENTROIDS = getCentroids(2, DATA)\n",
    "DATA, CENTROIDS, ASSIGNMENTS = doKMeans(DATA, CENTROIDS, K = 2)"
   ]
  },
  {
   "cell_type": "markdown",
   "metadata": {},
   "source": [
    "1.8) Run the below piece of code and observe the results. Which K seems to be the best choice?"
   ]
  },
  {
   "cell_type": "code",
   "execution_count": null,
   "metadata": {},
   "outputs": [],
   "source": [
    "DATA = cm.getTestDataSet()\n",
    "for k in range(2, 11):\n",
    "    CENTROIDS = getCentroids(k, DATA)\n",
    "    DATA, NEW_CENTROIDS, NEW_ASSIGNMENTS = doKMeans(DATA, CENTROIDS, K = k)"
   ]
  },
  {
   "cell_type": "markdown",
   "metadata": {},
   "source": [
    "## Part 2"
   ]
  },
  {
   "cell_type": "markdown",
   "metadata": {},
   "source": [
    "The quality of final group assignment can be assessed in various ways. In this exercise, you are asked to compute a total (sum) distance between data points and their cluster centroids for different values of K. Obviously, it is expected that such indicator will always decrese with the increase of K. But, obviously, $K=\\infty$ is not the best option. However, there exsits some threshold K' such that for each K'' > K' the decrease will not be significant. This threshold is called an \"elbow\" and its corresponding K value is considered satisfactory. Firstly, complete the below function. It should compute the total (sum) distance between data points and their cluster centroids. Secondly, compute the the total distances for final clusters for for $K\\in [2, 10]$. Then, plot the results. Use cm.displayResults(plt, results), where results takes the follwoing form: [[2, result for K = 2], [3, result for K = 3], ..., [10, result for K = 10]]. **QUESTION: Find the \"elbow\" -> for which K is the assignment the best?**"
   ]
  },
  {
   "cell_type": "code",
   "execution_count": null,
   "metadata": {},
   "outputs": [],
   "source": [
    "def getTotalDistance(DATA, CENTROIDS, ASSIGNMENTS):\n",
    "    #TODO\n",
    "    return 0.0"
   ]
  },
  {
   "cell_type": "code",
   "execution_count": null,
   "metadata": {},
   "outputs": [],
   "source": [
    "### PERFORM THE ANALYSIS HERE"
   ]
  },
  {
   "cell_type": "markdown",
   "metadata": {},
   "source": [
    "# Part 3 - a small case study"
   ]
  },
  {
   "cell_type": "markdown",
   "metadata": {},
   "source": [
    "In this exercise you are asked to use the K-Means algorithm to cluster some data provided in cm.getCaseDataSet() (important note, this data was generated artificially - this is not real-world data). This data contains information on 250 persons. Each person is characterized with the following attributes:\n",
    "\n",
    "a) Age <br>\n",
    "b) Salary (zł) <br> \n",
    "c) Health index (0-100; 0 = worst health, 100 = best health) <br>\n",
    "d) Time spent in school or work (hours) <br>\n",
    "e) Time spent on sport activities (hours) <br>\n",
    "\n",
    "Firstly, load the data. Secondly, check the min and max values for each attribute and consider normalization. Thirdly, run K-Means algorithm (use the pieces of code you completed in previous exercises) for different K. Fourthly, identify the best K using the performance indicator introduced in Part 2. Lastly - for the best K - analyze constructed clusters. Your can, e.g., generate distribution plots or simply compute mean attribute values within each cluster. For this reason, you can use centroids constructed in the final iteration. **Task: Characterize/describe the clusters**."
   ]
  },
  {
   "cell_type": "code",
   "execution_count": null,
   "metadata": {},
   "outputs": [],
   "source": [
    "DATA = cm.getCaseDataSet()"
   ]
  },
  {
   "cell_type": "code",
   "execution_count": null,
   "metadata": {},
   "outputs": [],
   "source": [
    "### CONSIDER NORMALIZATION HERE"
   ]
  },
  {
   "cell_type": "code",
   "execution_count": null,
   "metadata": {},
   "outputs": [],
   "source": [
    " def doKMeans_CaseStudy(DATA, K = 2, M = 5):\n",
    "    CENTROIDS = getCentroids(K, DATA) # GET CENTOIDS\n",
    "    ASSIGNMENTS = [[] for i in range(K)] # \n",
    "    ### TODO\n",
    "    return DATA, CENTROIDS, ASSIGNMENTS \n",
    "\n",
    "DATA_N, CENTROIDS, ASSIGNMENTS = doKMeans_CaseStudy(DATA_N, K = 2)"
   ]
  },
  {
   "cell_type": "code",
   "execution_count": null,
   "metadata": {},
   "outputs": [],
   "source": [
    "### DO THE ANALYSIS HERE (FIND ELBOW)"
   ]
  },
  {
   "cell_type": "markdown",
   "metadata": {},
   "source": [
    "**Characterize the data in clusters generated by K-means run for suitably adjusted K**"
   ]
  },
  {
   "cell_type": "code",
   "execution_count": null,
   "metadata": {},
   "outputs": [],
   "source": [
    "### DISPLAY - SUMMARIZE - STATS FOR THE BEST K FOUND IN THE PREVIOUS STEP"
   ]
  }
 ],
 "metadata": {
  "kernelspec": {
   "display_name": "Python 3",
   "language": "python",
   "name": "python3"
  },
  "language_info": {
   "codemirror_mode": {
    "name": "ipython",
    "version": 3
   },
   "file_extension": ".py",
   "mimetype": "text/x-python",
   "name": "python",
   "nbconvert_exporter": "python",
   "pygments_lexer": "ipython3",
   "version": "3.7.3"
  }
 },
 "nbformat": 4,
 "nbformat_minor": 4
}
