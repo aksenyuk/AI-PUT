{
 "cells": [
  {
   "cell_type": "code",
   "execution_count": 99,
   "metadata": {
    "ExecuteTime": {
     "end_time": "2020-12-07T11:01:45.313529Z",
     "start_time": "2020-12-07T11:01:45.300528Z"
    }
   },
   "outputs": [
    {
     "data": {
      "text/html": [
       "<style>\n",
       ".output {\n",
       "    flex-direction: row;\n",
       "}\n",
       "td {font-size: 15px}\n",
       "</style>"
      ],
      "text/plain": [
       "<IPython.core.display.HTML object>"
      ]
     },
     "execution_count": 99,
     "metadata": {},
     "output_type": "execute_result"
    }
   ],
   "source": [
    "import numpy as np\n",
    "import pandas as pd\n",
    "import matplotlib.pyplot as plt\n",
    "from IPython.display import display, HTML\n",
    "import math\n",
    "CSS = \"\"\"\n",
    ".output {\n",
    "    flex-direction: row;\n",
    "}\n",
    "td {font-size: 15px}\n",
    "\"\"\"\n",
    "\n",
    "HTML('<style>{}</style>'.format(CSS))"
   ]
  },
  {
   "cell_type": "markdown",
   "metadata": {},
   "source": [
    "# Entropy"
   ]
  },
  {
   "cell_type": "code",
   "execution_count": 100,
   "metadata": {
    "ExecuteTime": {
     "end_time": "2020-12-07T11:01:46.419592Z",
     "start_time": "2020-12-07T11:01:46.404591Z"
    }
   },
   "outputs": [
    {
     "data": {
      "text/plain": [
       "array([1, 0, 1, 0, 0, 0, 0, 0, 0, 1, 1, 0, 0, 0, 0, 0, 1, 1, 1, 1])"
      ]
     },
     "execution_count": 100,
     "metadata": {},
     "output_type": "execute_result"
    }
   ],
   "source": [
    "y = np.array([1, 0, 1, 0, 0, 0, 0, 0, 0, 1, 1, 0, 0, 0, 0, 0, 1, 1, 1, 1])\n",
    "y"
   ]
  },
  {
   "cell_type": "code",
   "execution_count": 101,
   "metadata": {
    "ExecuteTime": {
     "end_time": "2020-12-07T11:01:46.676607Z",
     "start_time": "2020-12-07T11:01:46.667606Z"
    }
   },
   "outputs": [
    {
     "name": "stdout",
     "output_type": "stream",
     "text": [
      "12\n",
      "8\n"
     ]
    }
   ],
   "source": [
    "print(sum(y==0))\n",
    "print(sum(y==1))"
   ]
  },
  {
   "cell_type": "markdown",
   "metadata": {},
   "source": [
    "$H(CL) = - \\sum_{y \\in CL}p(y)log_2p(y) =$ <br>\n",
    "$- p(y=0)*log_2p(y=0)$<br>\n",
    "$- p(y=1)*log_2p(y=1)$"
   ]
  },
  {
   "cell_type": "markdown",
   "metadata": {},
   "source": [
    "$H(CL) = - \\frac{12}{20} * log_2 \\frac{12}{20} - \\frac{8}{20} * log_2 \\frac{8}{20}$"
   ]
  },
  {
   "cell_type": "markdown",
   "metadata": {},
   "source": [
    "$log_2 \\frac{12}{20} = -0.7369655941662062$<br>\n",
    "$log_2 \\frac{8}{20} = -1.3219280948873622$"
   ]
  },
  {
   "cell_type": "markdown",
   "metadata": {},
   "source": [
    "$H(CL) = -(-0.6*0.7369655941662062 + - 0.4*1.3219280948873622) = 0.9709505944546686$"
   ]
  },
  {
   "cell_type": "code",
   "execution_count": 102,
   "metadata": {
    "ExecuteTime": {
     "end_time": "2020-12-07T11:01:47.823672Z",
     "start_time": "2020-12-07T11:01:47.667663Z"
    }
   },
   "outputs": [
    {
     "data": {
      "text/plain": [
       "[<matplotlib.lines.Line2D at 0x5846608>]"
      ]
     },
     "execution_count": 102,
     "metadata": {},
     "output_type": "execute_result"
    },
    {
     "data": {
      "image/png": "[encoded data removed]",
      "text/plain": [
       "<Figure size 432x288 with 1 Axes>"
      ]
     },
     "metadata": {
      "needs_background": "light"
     },
     "output_type": "display_data"
    }
   ],
   "source": [
    "x = np.linspace(0.000001,1,100)\n",
    "y = np.log2(x)\n",
    "plt.plot(x,y)"
   ]
  },
  {
   "cell_type": "markdown",
   "metadata": {},
   "source": [
    "# Conditional Entropy"
   ]
  },
  {
   "cell_type": "markdown",
   "metadata": {},
   "source": [
    "  $H(CL|X) = - \\sum_{x \\in X} \\sum_{y \\in CL} p(x,y) log_2 \\frac{p(x,y)}{p(x)}$"
   ]
  },
  {
   "cell_type": "code",
   "execution_count": 103,
   "metadata": {
    "ExecuteTime": {
     "end_time": "2020-12-07T11:01:48.315700Z",
     "start_time": "2020-12-07T11:01:48.300700Z"
    }
   },
   "outputs": [],
   "source": [
    "X = pd.DataFrame(np.random.randint(0,2,(15,3)))\n",
    "X = pd.DataFrame(np.array([[0, 0, 1],\n",
    "       [0, 1, 1],\n",
    "       [0, 0, 1],\n",
    "       [1, 0, 1],\n",
    "       [1, 0, 0],\n",
    "       [1, 1, 1],\n",
    "       [1, 0, 0],\n",
    "       [1, 1, 1],\n",
    "       [0, 0, 1],\n",
    "       [0, 0, 1],\n",
    "       [0, 1, 1],\n",
    "       [0, 1, 1],\n",
    "       [1, 1, 0],\n",
    "       [0, 0, 0],\n",
    "       [0, 1, 0]]))\n",
    "Y = pd.Series([0]*10+[1]*5)\n",
    "X['CL']=Y"
   ]
  },
  {
   "cell_type": "code",
   "execution_count": 104,
   "metadata": {
    "ExecuteTime": {
     "end_time": "2020-12-07T11:01:48.730724Z",
     "start_time": "2020-12-07T11:01:48.723724Z"
    }
   },
   "outputs": [],
   "source": [
    "def _color_green(val):\n",
    "    if val == 1:\n",
    "        return 'background-color: green'\n",
    "    else:\n",
    "        return ''"
   ]
  },
  {
   "cell_type": "code",
   "execution_count": 105,
   "metadata": {
    "ExecuteTime": {
     "end_time": "2020-12-07T11:01:49.130747Z",
     "start_time": "2020-12-07T11:01:49.110746Z"
    }
   },
   "outputs": [
    {
     "data": {
      "text/html": [
       "<style  type=\"text/css\" >\n",
       "#T_9a9f792e_387b_11eb_9822_540cdd3ef216row0_col2,#T_9a9f792e_387b_11eb_9822_540cdd3ef216row1_col1,#T_9a9f792e_387b_11eb_9822_540cdd3ef216row1_col2,#T_9a9f792e_387b_11eb_9822_540cdd3ef216row2_col2,#T_9a9f792e_387b_11eb_9822_540cdd3ef216row3_col0,#T_9a9f792e_387b_11eb_9822_540cdd3ef216row3_col2,#T_9a9f792e_387b_11eb_9822_540cdd3ef216row4_col0,#T_9a9f792e_387b_11eb_9822_540cdd3ef216row5_col0,#T_9a9f792e_387b_11eb_9822_540cdd3ef216row5_col1,#T_9a9f792e_387b_11eb_9822_540cdd3ef216row5_col2,#T_9a9f792e_387b_11eb_9822_540cdd3ef216row6_col0,#T_9a9f792e_387b_11eb_9822_540cdd3ef216row7_col0,#T_9a9f792e_387b_11eb_9822_540cdd3ef216row7_col1,#T_9a9f792e_387b_11eb_9822_540cdd3ef216row7_col2,#T_9a9f792e_387b_11eb_9822_540cdd3ef216row8_col2,#T_9a9f792e_387b_11eb_9822_540cdd3ef216row9_col2,#T_9a9f792e_387b_11eb_9822_540cdd3ef216row10_col1,#T_9a9f792e_387b_11eb_9822_540cdd3ef216row10_col2,#T_9a9f792e_387b_11eb_9822_540cdd3ef216row10_col3,#T_9a9f792e_387b_11eb_9822_540cdd3ef216row11_col1,#T_9a9f792e_387b_11eb_9822_540cdd3ef216row11_col2,#T_9a9f792e_387b_11eb_9822_540cdd3ef216row11_col3,#T_9a9f792e_387b_11eb_9822_540cdd3ef216row12_col0,#T_9a9f792e_387b_11eb_9822_540cdd3ef216row12_col1,#T_9a9f792e_387b_11eb_9822_540cdd3ef216row12_col3,#T_9a9f792e_387b_11eb_9822_540cdd3ef216row13_col3,#T_9a9f792e_387b_11eb_9822_540cdd3ef216row14_col1,#T_9a9f792e_387b_11eb_9822_540cdd3ef216row14_col3{\n",
       "            background-color:  green;\n",
       "        }</style><table id=\"T_9a9f792e_387b_11eb_9822_540cdd3ef216\" ><thead>    <tr>        <th class=\"blank level0\" ></th>        <th class=\"col_heading level0 col0\" >0</th>        <th class=\"col_heading level0 col1\" >1</th>        <th class=\"col_heading level0 col2\" >2</th>        <th class=\"col_heading level0 col3\" >CL</th>    </tr></thead><tbody>\n",
       "                <tr>\n",
       "                        <th id=\"T_9a9f792e_387b_11eb_9822_540cdd3ef216level0_row0\" class=\"row_heading level0 row0\" >0</th>\n",
       "                        <td id=\"T_9a9f792e_387b_11eb_9822_540cdd3ef216row0_col0\" class=\"data row0 col0\" >0</td>\n",
       "                        <td id=\"T_9a9f792e_387b_11eb_9822_540cdd3ef216row0_col1\" class=\"data row0 col1\" >0</td>\n",
       "                        <td id=\"T_9a9f792e_387b_11eb_9822_540cdd3ef216row0_col2\" class=\"data row0 col2\" >1</td>\n",
       "                        <td id=\"T_9a9f792e_387b_11eb_9822_540cdd3ef216row0_col3\" class=\"data row0 col3\" >0</td>\n",
       "            </tr>\n",
       "            <tr>\n",
       "                        <th id=\"T_9a9f792e_387b_11eb_9822_540cdd3ef216level0_row1\" class=\"row_heading level0 row1\" >1</th>\n",
       "                        <td id=\"T_9a9f792e_387b_11eb_9822_540cdd3ef216row1_col0\" class=\"data row1 col0\" >0</td>\n",
       "                        <td id=\"T_9a9f792e_387b_11eb_9822_540cdd3ef216row1_col1\" class=\"data row1 col1\" >1</td>\n",
       "                        <td id=\"T_9a9f792e_387b_11eb_9822_540cdd3ef216row1_col2\" class=\"data row1 col2\" >1</td>\n",
       "                        <td id=\"T_9a9f792e_387b_11eb_9822_540cdd3ef216row1_col3\" class=\"data row1 col3\" >0</td>\n",
       "            </tr>\n",
       "            <tr>\n",
       "                        <th id=\"T_9a9f792e_387b_11eb_9822_540cdd3ef216level0_row2\" class=\"row_heading level0 row2\" >2</th>\n",
       "                        <td id=\"T_9a9f792e_387b_11eb_9822_540cdd3ef216row2_col0\" class=\"data row2 col0\" >0</td>\n",
       "                        <td id=\"T_9a9f792e_387b_11eb_9822_540cdd3ef216row2_col1\" class=\"data row2 col1\" >0</td>\n",
       "                        <td id=\"T_9a9f792e_387b_11eb_9822_540cdd3ef216row2_col2\" class=\"data row2 col2\" >1</td>\n",
       "                        <td id=\"T_9a9f792e_387b_11eb_9822_540cdd3ef216row2_col3\" class=\"data row2 col3\" >0</td>\n",
       "            </tr>\n",
       "            <tr>\n",
       "                        <th id=\"T_9a9f792e_387b_11eb_9822_540cdd3ef216level0_row3\" class=\"row_heading level0 row3\" >3</th>\n",
       "                        <td id=\"T_9a9f792e_387b_11eb_9822_540cdd3ef216row3_col0\" class=\"data row3 col0\" >1</td>\n",
       "                        <td id=\"T_9a9f792e_387b_11eb_9822_540cdd3ef216row3_col1\" class=\"data row3 col1\" >0</td>\n",
       "                        <td id=\"T_9a9f792e_387b_11eb_9822_540cdd3ef216row3_col2\" class=\"data row3 col2\" >1</td>\n",
       "                        <td id=\"T_9a9f792e_387b_11eb_9822_540cdd3ef216row3_col3\" class=\"data row3 col3\" >0</td>\n",
       "            </tr>\n",
       "            <tr>\n",
       "                        <th id=\"T_9a9f792e_387b_11eb_9822_540cdd3ef216level0_row4\" class=\"row_heading level0 row4\" >4</th>\n",
       "                        <td id=\"T_9a9f792e_387b_11eb_9822_540cdd3ef216row4_col0\" class=\"data row4 col0\" >1</td>\n",
       "                        <td id=\"T_9a9f792e_387b_11eb_9822_540cdd3ef216row4_col1\" class=\"data row4 col1\" >0</td>\n",
       "                        <td id=\"T_9a9f792e_387b_11eb_9822_540cdd3ef216row4_col2\" class=\"data row4 col2\" >0</td>\n",
       "                        <td id=\"T_9a9f792e_387b_11eb_9822_540cdd3ef216row4_col3\" class=\"data row4 col3\" >0</td>\n",
       "            </tr>\n",
       "            <tr>\n",
       "                        <th id=\"T_9a9f792e_387b_11eb_9822_540cdd3ef216level0_row5\" class=\"row_heading level0 row5\" >5</th>\n",
       "                        <td id=\"T_9a9f792e_387b_11eb_9822_540cdd3ef216row5_col0\" class=\"data row5 col0\" >1</td>\n",
       "                        <td id=\"T_9a9f792e_387b_11eb_9822_540cdd3ef216row5_col1\" class=\"data row5 col1\" >1</td>\n",
       "                        <td id=\"T_9a9f792e_387b_11eb_9822_540cdd3ef216row5_col2\" class=\"data row5 col2\" >1</td>\n",
       "                        <td id=\"T_9a9f792e_387b_11eb_9822_540cdd3ef216row5_col3\" class=\"data row5 col3\" >0</td>\n",
       "            </tr>\n",
       "            <tr>\n",
       "                        <th id=\"T_9a9f792e_387b_11eb_9822_540cdd3ef216level0_row6\" class=\"row_heading level0 row6\" >6</th>\n",
       "                        <td id=\"T_9a9f792e_387b_11eb_9822_540cdd3ef216row6_col0\" class=\"data row6 col0\" >1</td>\n",
       "                        <td id=\"T_9a9f792e_387b_11eb_9822_540cdd3ef216row6_col1\" class=\"data row6 col1\" >0</td>\n",
       "                        <td id=\"T_9a9f792e_387b_11eb_9822_540cdd3ef216row6_col2\" class=\"data row6 col2\" >0</td>\n",
       "                        <td id=\"T_9a9f792e_387b_11eb_9822_540cdd3ef216row6_col3\" class=\"data row6 col3\" >0</td>\n",
       "            </tr>\n",
       "            <tr>\n",
       "                        <th id=\"T_9a9f792e_387b_11eb_9822_540cdd3ef216level0_row7\" class=\"row_heading level0 row7\" >7</th>\n",
       "                        <td id=\"T_9a9f792e_387b_11eb_9822_540cdd3ef216row7_col0\" class=\"data row7 col0\" >1</td>\n",
       "                        <td id=\"T_9a9f792e_387b_11eb_9822_540cdd3ef216row7_col1\" class=\"data row7 col1\" >1</td>\n",
       "                        <td id=\"T_9a9f792e_387b_11eb_9822_540cdd3ef216row7_col2\" class=\"data row7 col2\" >1</td>\n",
       "                        <td id=\"T_9a9f792e_387b_11eb_9822_540cdd3ef216row7_col3\" class=\"data row7 col3\" >0</td>\n",
       "            </tr>\n",
       "            <tr>\n",
       "                        <th id=\"T_9a9f792e_387b_11eb_9822_540cdd3ef216level0_row8\" class=\"row_heading level0 row8\" >8</th>\n",
       "                        <td id=\"T_9a9f792e_387b_11eb_9822_540cdd3ef216row8_col0\" class=\"data row8 col0\" >0</td>\n",
       "                        <td id=\"T_9a9f792e_387b_11eb_9822_540cdd3ef216row8_col1\" class=\"data row8 col1\" >0</td>\n",
       "                        <td id=\"T_9a9f792e_387b_11eb_9822_540cdd3ef216row8_col2\" class=\"data row8 col2\" >1</td>\n",
       "                        <td id=\"T_9a9f792e_387b_11eb_9822_540cdd3ef216row8_col3\" class=\"data row8 col3\" >0</td>\n",
       "            </tr>\n",
       "            <tr>\n",
       "                        <th id=\"T_9a9f792e_387b_11eb_9822_540cdd3ef216level0_row9\" class=\"row_heading level0 row9\" >9</th>\n",
       "                        <td id=\"T_9a9f792e_387b_11eb_9822_540cdd3ef216row9_col0\" class=\"data row9 col0\" >0</td>\n",
       "                        <td id=\"T_9a9f792e_387b_11eb_9822_540cdd3ef216row9_col1\" class=\"data row9 col1\" >0</td>\n",
       "                        <td id=\"T_9a9f792e_387b_11eb_9822_540cdd3ef216row9_col2\" class=\"data row9 col2\" >1</td>\n",
       "                        <td id=\"T_9a9f792e_387b_11eb_9822_540cdd3ef216row9_col3\" class=\"data row9 col3\" >0</td>\n",
       "            </tr>\n",
       "            <tr>\n",
       "                        <th id=\"T_9a9f792e_387b_11eb_9822_540cdd3ef216level0_row10\" class=\"row_heading level0 row10\" >10</th>\n",
       "                        <td id=\"T_9a9f792e_387b_11eb_9822_540cdd3ef216row10_col0\" class=\"data row10 col0\" >0</td>\n",
       "                        <td id=\"T_9a9f792e_387b_11eb_9822_540cdd3ef216row10_col1\" class=\"data row10 col1\" >1</td>\n",
       "                        <td id=\"T_9a9f792e_387b_11eb_9822_540cdd3ef216row10_col2\" class=\"data row10 col2\" >1</td>\n",
       "                        <td id=\"T_9a9f792e_387b_11eb_9822_540cdd3ef216row10_col3\" class=\"data row10 col3\" >1</td>\n",
       "            </tr>\n",
       "            <tr>\n",
       "                        <th id=\"T_9a9f792e_387b_11eb_9822_540cdd3ef216level0_row11\" class=\"row_heading level0 row11\" >11</th>\n",
       "                        <td id=\"T_9a9f792e_387b_11eb_9822_540cdd3ef216row11_col0\" class=\"data row11 col0\" >0</td>\n",
       "                        <td id=\"T_9a9f792e_387b_11eb_9822_540cdd3ef216row11_col1\" class=\"data row11 col1\" >1</td>\n",
       "                        <td id=\"T_9a9f792e_387b_11eb_9822_540cdd3ef216row11_col2\" class=\"data row11 col2\" >1</td>\n",
       "                        <td id=\"T_9a9f792e_387b_11eb_9822_540cdd3ef216row11_col3\" class=\"data row11 col3\" >1</td>\n",
       "            </tr>\n",
       "            <tr>\n",
       "                        <th id=\"T_9a9f792e_387b_11eb_9822_540cdd3ef216level0_row12\" class=\"row_heading level0 row12\" >12</th>\n",
       "                        <td id=\"T_9a9f792e_387b_11eb_9822_540cdd3ef216row12_col0\" class=\"data row12 col0\" >1</td>\n",
       "                        <td id=\"T_9a9f792e_387b_11eb_9822_540cdd3ef216row12_col1\" class=\"data row12 col1\" >1</td>\n",
       "                        <td id=\"T_9a9f792e_387b_11eb_9822_540cdd3ef216row12_col2\" class=\"data row12 col2\" >0</td>\n",
       "                        <td id=\"T_9a9f792e_387b_11eb_9822_540cdd3ef216row12_col3\" class=\"data row12 col3\" >1</td>\n",
       "            </tr>\n",
       "            <tr>\n",
       "                        <th id=\"T_9a9f792e_387b_11eb_9822_540cdd3ef216level0_row13\" class=\"row_heading level0 row13\" >13</th>\n",
       "                        <td id=\"T_9a9f792e_387b_11eb_9822_540cdd3ef216row13_col0\" class=\"data row13 col0\" >0</td>\n",
       "                        <td id=\"T_9a9f792e_387b_11eb_9822_540cdd3ef216row13_col1\" class=\"data row13 col1\" >0</td>\n",
       "                        <td id=\"T_9a9f792e_387b_11eb_9822_540cdd3ef216row13_col2\" class=\"data row13 col2\" >0</td>\n",
       "                        <td id=\"T_9a9f792e_387b_11eb_9822_540cdd3ef216row13_col3\" class=\"data row13 col3\" >1</td>\n",
       "            </tr>\n",
       "            <tr>\n",
       "                        <th id=\"T_9a9f792e_387b_11eb_9822_540cdd3ef216level0_row14\" class=\"row_heading level0 row14\" >14</th>\n",
       "                        <td id=\"T_9a9f792e_387b_11eb_9822_540cdd3ef216row14_col0\" class=\"data row14 col0\" >0</td>\n",
       "                        <td id=\"T_9a9f792e_387b_11eb_9822_540cdd3ef216row14_col1\" class=\"data row14 col1\" >1</td>\n",
       "                        <td id=\"T_9a9f792e_387b_11eb_9822_540cdd3ef216row14_col2\" class=\"data row14 col2\" >0</td>\n",
       "                        <td id=\"T_9a9f792e_387b_11eb_9822_540cdd3ef216row14_col3\" class=\"data row14 col3\" >1</td>\n",
       "            </tr>\n",
       "    </tbody></table>"
      ],
      "text/plain": [
       "<pandas.io.formats.style.Styler at 0x5800dc8>"
      ]
     },
     "metadata": {},
     "output_type": "display_data"
    }
   ],
   "source": [
    "\n",
    "display(X.style.applymap(_color_green).format(\"{:.2g}\"))\n"
   ]
  },
  {
   "cell_type": "markdown",
   "metadata": {},
   "source": [
    "|$\\sum x$|$p(x)$|$p(x,y)$|||\n",
    "|---|---|---|---|---|\n",
    "|||$y=0$|$y=1$|\n",
    "|$\\sum (x_0=0) = 9$|$p(x_0=0) = \\frac{9}{15}$ |$p(x_0=0,y=0) = \\frac{5}{15}$|$p(x_0=0,y=1) = \\frac{4}{15}$|\n",
    "|$\\sum (x_0=1) = 6$|$p(x_0=1) = \\frac{6}{15}$ |$p(x_0=1,y=0) = \\frac{5}{15}$|$p(x_0=1,y=1) = \\frac{1}{15}$|\n",
    "|$\\sum (x_1=0) = 8$|$p(x_1=0) = \\frac{8}{15}$ |$p(x_1=0,y=0) = \\frac{7}{15}$|$p(x_1=0,y=1) = \\frac{1}{15}$|\n",
    "|$\\sum (x_1=1) = 7$|$p(x_1=1) = \\frac{7}{15}$ |$p(x_1=1,y=0) = \\frac{3}{15}$|$p(x_1=1,y=1) = \\frac{4}{15}$|\n",
    "|$\\sum (x_2=0) = 5$|$p(x_2=0) = \\frac{5}{15}$ |$p(x_2=0,y=0) = \\frac{2}{15}$|$p(x_2=0,y=1) = \\frac{3}{15}$|\n",
    "|$\\sum (x_2=1) = 10$|$p(x_2=1) = \\frac{10}{15}$ |$p(x_2=1,y=0) = \\frac{8}{15}$|$p(x_2=1,y=1) = \\frac{2}{15}$|"
   ]
  },
  {
   "cell_type": "code",
   "execution_count": 106,
   "metadata": {
    "ExecuteTime": {
     "end_time": "2020-12-07T11:01:50.153806Z",
     "start_time": "2020-12-07T11:01:50.133804Z"
    }
   },
   "outputs": [
    {
     "data": {
      "text/html": [
       "<style  type=\"text/css\" >\n",
       "#T_9b3be288_387b_11eb_9a40_540cdd3ef216row0_col2,#T_9b3be288_387b_11eb_9a40_540cdd3ef216row1_col1,#T_9b3be288_387b_11eb_9a40_540cdd3ef216row1_col2,#T_9b3be288_387b_11eb_9a40_540cdd3ef216row2_col2,#T_9b3be288_387b_11eb_9a40_540cdd3ef216row3_col2,#T_9b3be288_387b_11eb_9a40_540cdd3ef216row4_col2,#T_9b3be288_387b_11eb_9a40_540cdd3ef216row5_col1,#T_9b3be288_387b_11eb_9a40_540cdd3ef216row5_col2,#T_9b3be288_387b_11eb_9a40_540cdd3ef216row5_col3,#T_9b3be288_387b_11eb_9a40_540cdd3ef216row6_col1,#T_9b3be288_387b_11eb_9a40_540cdd3ef216row6_col2,#T_9b3be288_387b_11eb_9a40_540cdd3ef216row6_col3,#T_9b3be288_387b_11eb_9a40_540cdd3ef216row7_col3,#T_9b3be288_387b_11eb_9a40_540cdd3ef216row8_col1,#T_9b3be288_387b_11eb_9a40_540cdd3ef216row8_col3{\n",
       "            background-color:  green;\n",
       "        }</style><table id=\"T_9b3be288_387b_11eb_9a40_540cdd3ef216\" ><thead>    <tr>        <th class=\"blank level0\" ></th>        <th class=\"col_heading level0 col0\" >0</th>        <th class=\"col_heading level0 col1\" >1</th>        <th class=\"col_heading level0 col2\" >2</th>        <th class=\"col_heading level0 col3\" >CL</th>    </tr></thead><tbody>\n",
       "                <tr>\n",
       "                        <th id=\"T_9b3be288_387b_11eb_9a40_540cdd3ef216level0_row0\" class=\"row_heading level0 row0\" >0</th>\n",
       "                        <td id=\"T_9b3be288_387b_11eb_9a40_540cdd3ef216row0_col0\" class=\"data row0 col0\" >0</td>\n",
       "                        <td id=\"T_9b3be288_387b_11eb_9a40_540cdd3ef216row0_col1\" class=\"data row0 col1\" >0</td>\n",
       "                        <td id=\"T_9b3be288_387b_11eb_9a40_540cdd3ef216row0_col2\" class=\"data row0 col2\" >1</td>\n",
       "                        <td id=\"T_9b3be288_387b_11eb_9a40_540cdd3ef216row0_col3\" class=\"data row0 col3\" >0</td>\n",
       "            </tr>\n",
       "            <tr>\n",
       "                        <th id=\"T_9b3be288_387b_11eb_9a40_540cdd3ef216level0_row1\" class=\"row_heading level0 row1\" >1</th>\n",
       "                        <td id=\"T_9b3be288_387b_11eb_9a40_540cdd3ef216row1_col0\" class=\"data row1 col0\" >0</td>\n",
       "                        <td id=\"T_9b3be288_387b_11eb_9a40_540cdd3ef216row1_col1\" class=\"data row1 col1\" >1</td>\n",
       "                        <td id=\"T_9b3be288_387b_11eb_9a40_540cdd3ef216row1_col2\" class=\"data row1 col2\" >1</td>\n",
       "                        <td id=\"T_9b3be288_387b_11eb_9a40_540cdd3ef216row1_col3\" class=\"data row1 col3\" >0</td>\n",
       "            </tr>\n",
       "            <tr>\n",
       "                        <th id=\"T_9b3be288_387b_11eb_9a40_540cdd3ef216level0_row2\" class=\"row_heading level0 row2\" >2</th>\n",
       "                        <td id=\"T_9b3be288_387b_11eb_9a40_540cdd3ef216row2_col0\" class=\"data row2 col0\" >0</td>\n",
       "                        <td id=\"T_9b3be288_387b_11eb_9a40_540cdd3ef216row2_col1\" class=\"data row2 col1\" >0</td>\n",
       "                        <td id=\"T_9b3be288_387b_11eb_9a40_540cdd3ef216row2_col2\" class=\"data row2 col2\" >1</td>\n",
       "                        <td id=\"T_9b3be288_387b_11eb_9a40_540cdd3ef216row2_col3\" class=\"data row2 col3\" >0</td>\n",
       "            </tr>\n",
       "            <tr>\n",
       "                        <th id=\"T_9b3be288_387b_11eb_9a40_540cdd3ef216level0_row3\" class=\"row_heading level0 row3\" >8</th>\n",
       "                        <td id=\"T_9b3be288_387b_11eb_9a40_540cdd3ef216row3_col0\" class=\"data row3 col0\" >0</td>\n",
       "                        <td id=\"T_9b3be288_387b_11eb_9a40_540cdd3ef216row3_col1\" class=\"data row3 col1\" >0</td>\n",
       "                        <td id=\"T_9b3be288_387b_11eb_9a40_540cdd3ef216row3_col2\" class=\"data row3 col2\" >1</td>\n",
       "                        <td id=\"T_9b3be288_387b_11eb_9a40_540cdd3ef216row3_col3\" class=\"data row3 col3\" >0</td>\n",
       "            </tr>\n",
       "            <tr>\n",
       "                        <th id=\"T_9b3be288_387b_11eb_9a40_540cdd3ef216level0_row4\" class=\"row_heading level0 row4\" >9</th>\n",
       "                        <td id=\"T_9b3be288_387b_11eb_9a40_540cdd3ef216row4_col0\" class=\"data row4 col0\" >0</td>\n",
       "                        <td id=\"T_9b3be288_387b_11eb_9a40_540cdd3ef216row4_col1\" class=\"data row4 col1\" >0</td>\n",
       "                        <td id=\"T_9b3be288_387b_11eb_9a40_540cdd3ef216row4_col2\" class=\"data row4 col2\" >1</td>\n",
       "                        <td id=\"T_9b3be288_387b_11eb_9a40_540cdd3ef216row4_col3\" class=\"data row4 col3\" >0</td>\n",
       "            </tr>\n",
       "            <tr>\n",
       "                        <th id=\"T_9b3be288_387b_11eb_9a40_540cdd3ef216level0_row5\" class=\"row_heading level0 row5\" >10</th>\n",
       "                        <td id=\"T_9b3be288_387b_11eb_9a40_540cdd3ef216row5_col0\" class=\"data row5 col0\" >0</td>\n",
       "                        <td id=\"T_9b3be288_387b_11eb_9a40_540cdd3ef216row5_col1\" class=\"data row5 col1\" >1</td>\n",
       "                        <td id=\"T_9b3be288_387b_11eb_9a40_540cdd3ef216row5_col2\" class=\"data row5 col2\" >1</td>\n",
       "                        <td id=\"T_9b3be288_387b_11eb_9a40_540cdd3ef216row5_col3\" class=\"data row5 col3\" >1</td>\n",
       "            </tr>\n",
       "            <tr>\n",
       "                        <th id=\"T_9b3be288_387b_11eb_9a40_540cdd3ef216level0_row6\" class=\"row_heading level0 row6\" >11</th>\n",
       "                        <td id=\"T_9b3be288_387b_11eb_9a40_540cdd3ef216row6_col0\" class=\"data row6 col0\" >0</td>\n",
       "                        <td id=\"T_9b3be288_387b_11eb_9a40_540cdd3ef216row6_col1\" class=\"data row6 col1\" >1</td>\n",
       "                        <td id=\"T_9b3be288_387b_11eb_9a40_540cdd3ef216row6_col2\" class=\"data row6 col2\" >1</td>\n",
       "                        <td id=\"T_9b3be288_387b_11eb_9a40_540cdd3ef216row6_col3\" class=\"data row6 col3\" >1</td>\n",
       "            </tr>\n",
       "            <tr>\n",
       "                        <th id=\"T_9b3be288_387b_11eb_9a40_540cdd3ef216level0_row7\" class=\"row_heading level0 row7\" >13</th>\n",
       "                        <td id=\"T_9b3be288_387b_11eb_9a40_540cdd3ef216row7_col0\" class=\"data row7 col0\" >0</td>\n",
       "                        <td id=\"T_9b3be288_387b_11eb_9a40_540cdd3ef216row7_col1\" class=\"data row7 col1\" >0</td>\n",
       "                        <td id=\"T_9b3be288_387b_11eb_9a40_540cdd3ef216row7_col2\" class=\"data row7 col2\" >0</td>\n",
       "                        <td id=\"T_9b3be288_387b_11eb_9a40_540cdd3ef216row7_col3\" class=\"data row7 col3\" >1</td>\n",
       "            </tr>\n",
       "            <tr>\n",
       "                        <th id=\"T_9b3be288_387b_11eb_9a40_540cdd3ef216level0_row8\" class=\"row_heading level0 row8\" >14</th>\n",
       "                        <td id=\"T_9b3be288_387b_11eb_9a40_540cdd3ef216row8_col0\" class=\"data row8 col0\" >0</td>\n",
       "                        <td id=\"T_9b3be288_387b_11eb_9a40_540cdd3ef216row8_col1\" class=\"data row8 col1\" >1</td>\n",
       "                        <td id=\"T_9b3be288_387b_11eb_9a40_540cdd3ef216row8_col2\" class=\"data row8 col2\" >0</td>\n",
       "                        <td id=\"T_9b3be288_387b_11eb_9a40_540cdd3ef216row8_col3\" class=\"data row8 col3\" >1</td>\n",
       "            </tr>\n",
       "    </tbody></table>"
      ],
      "text/plain": [
       "<pandas.io.formats.style.Styler at 0x589bb88>"
      ]
     },
     "metadata": {},
     "output_type": "display_data"
    }
   ],
   "source": [
    "display(X[X[0]==0].style.applymap(_color_green).format(\"{:.2g}\"))"
   ]
  },
  {
   "cell_type": "markdown",
   "metadata": {},
   "source": [
    "|$\\sum x$|$p(x)$|$\\frac{p(x,y)}{p(x)}$|||\n",
    "|---|---|---|---|---|\n",
    "|||$y=0$|$y=1$|\n",
    "|$\\sum (x_0=0) = 9$|$p(x_0=0) = \\frac{9}{15}$ |$\\frac{p(x_0=0,y=0)}{p(x_0=0)} = \\frac{5}{9}$|$\\frac{p(x_0=0,y=1)}{p(x_0=0)} = \\frac{4}{9}$|\n",
    "|$\\sum (x_0=1) = 6$|$p(x_0=1) = \\frac{6}{15}$ |$\\frac{p(x_0=1,y=0)}{p(x_0=1)} = \\frac{5}{6}$|$\\frac{p(x_0=1,y=1)}{p(x_0=1)} = \\frac{1}{6}$|\n",
    "|$\\sum (x_1=0) = 8$|$p(x_1=0) = \\frac{8}{15}$ |$\\frac{p(x_1=0,y=0)}{p(x_1=0)} = \\frac{7}{8}$|$\\frac{p(x_1=0,y=1)}{p(x_1=0)} = \\frac{1}{8}$|\n",
    "|$\\sum (x_1=1) = 7$|$p(x_1=1) = \\frac{7}{15}$ |$\\frac{p(x_1=1,y=0)}{p(x_1=1)} = \\frac{3}{7}$|$\\frac{p(x_1=1,y=1)}{p(x_1=1)} = \\frac{4}{7}$|\n",
    "|$\\sum (x_2=0) = 5$|$p(x_2=0) = \\frac{5}{15}$ |$\\frac{p(x_2=0,y=0)}{p(x_2=0)} = \\frac{2}{5}$|$\\frac{p(x_2=0,y=1}{p(x_2=0)}) = \\frac{3}{5}$|\n",
    "|$\\sum (x_2=1) = 10$|$p(x_2=1) = \\frac{10}{15}$ |$\\frac{p(x_2=1,y=0)}{p(x_2=1)} = \\frac{8}{10}$|$\\frac{p(x_2=1,y=1)}{p(x_2=1)} = \\frac{2}{10}$|"
   ]
  },
  {
   "cell_type": "markdown",
   "metadata": {},
   "source": [
    "  $H(CL|X) = - \\sum_{x \\in X} \\sum_{y \\in CL} p(x,y) log_2 \\frac{p(x,y)}{p(x)}$"
   ]
  },
  {
   "cell_type": "markdown",
   "metadata": {},
   "source": [
    "$H(CL|x_0) = $ <br>\n",
    "$- p(x_0=0,y=0) * log_2 \\frac{p(x_0=0,y=0)}{p(x_0=0)}$<br><br>\n",
    "$- p(x_0=0,y=1)) * log_2 \\frac{p(x_0=0,y=1)}{p(x_0=0)}$<br><br>\n",
    "$- p(x_0=1,y=0) * log_2 \\frac{p(x_0=1,y=0)}{p(x_0=1)}$<br><br>\n",
    "$- p(x_0=1,y=1)) * log_2 \\frac{p(x_0=1,y=1)}{p(x_0=1)}$<br>"
   ]
  },
  {
   "cell_type": "markdown",
   "metadata": {},
   "source": [
    "$H(CL|x_0) = $ <br>\n",
    "$- \\frac{5}{15} * log_2 \\frac{5}{9}$<br><br>\n",
    "$- \\frac{4}{15} * log_2 \\frac{4}{9}$<br><br>\n",
    "$- \\frac{5}{15} * log_2 \\frac{5}{6}$<br><br>\n",
    "$- \\frac{1}{15} * log_2 \\frac{1}{6}$<br>"
   ]
  },
  {
   "cell_type": "code",
   "execution_count": 107,
   "metadata": {
    "ExecuteTime": {
     "end_time": "2020-12-07T11:01:52.876961Z",
     "start_time": "2020-12-07T11:01:52.853960Z"
    }
   },
   "outputs": [
    {
     "data": {
      "text/plain": [
       "0.8546546045622749"
      ]
     },
     "execution_count": 107,
     "metadata": {},
     "output_type": "execute_result"
    }
   ],
   "source": [
    "#H(CL|x_0) =\n",
    "-5/15*math.log2(5/9)-4/15*math.log2(4/9)-5/15*math.log2(5/6)-1/15*math.log2(1/6)"
   ]
  },
  {
   "cell_type": "markdown",
   "metadata": {},
   "source": [
    "$H(CL|x_1) =0.7497$<br>\n",
    "$H(CL|x_2) =0.8049$<br>\n",
    "\n"
   ]
  },
  {
   "cell_type": "markdown",
   "metadata": {},
   "source": [
    "$H(CL|CL) =0$"
   ]
  },
  {
   "cell_type": "markdown",
   "metadata": {},
   "source": [
    "# InformationGain"
   ]
  },
  {
   "cell_type": "markdown",
   "metadata": {},
   "source": [
    "$InformationGain(X) = H(CL)-H(CL|X)$ <br>"
   ]
  },
  {
   "cell_type": "markdown",
   "metadata": {},
   "source": [
    "$H(CL) = 0.9183$<br>"
   ]
  },
  {
   "cell_type": "markdown",
   "metadata": {},
   "source": [
    "$InformationGain(x_0) = 0.9183 - 0.8547 = 0.0636$<br>\n",
    "$InformationGain(x_1) = 0.9183 - 0.7497 = 0.1686$<br>\n",
    "$InformationGain(x_2) = 0.9183 - 0.8049 = 0.1134$<br>"
   ]
  },
  {
   "cell_type": "code",
   "execution_count": 117,
   "metadata": {
    "ExecuteTime": {
     "end_time": "2020-12-07T11:06:25.016527Z",
     "start_time": "2020-12-07T11:06:24.970524Z"
    }
   },
   "outputs": [
    {
     "data": {
      "text/html": [
       "<style  type=\"text/css\" >\n",
       "#T_3f0e519c_387c_11eb_9508_540cdd3ef216row0_col2,#T_3f0e519c_387c_11eb_9508_540cdd3ef216row1_col1,#T_3f0e519c_387c_11eb_9508_540cdd3ef216row1_col2,#T_3f0e519c_387c_11eb_9508_540cdd3ef216row2_col2,#T_3f0e519c_387c_11eb_9508_540cdd3ef216row3_col2,#T_3f0e519c_387c_11eb_9508_540cdd3ef216row4_col2,#T_3f0e519c_387c_11eb_9508_540cdd3ef216row5_col1,#T_3f0e519c_387c_11eb_9508_540cdd3ef216row5_col2,#T_3f0e519c_387c_11eb_9508_540cdd3ef216row5_col3,#T_3f0e519c_387c_11eb_9508_540cdd3ef216row6_col1,#T_3f0e519c_387c_11eb_9508_540cdd3ef216row6_col2,#T_3f0e519c_387c_11eb_9508_540cdd3ef216row6_col3,#T_3f0e519c_387c_11eb_9508_540cdd3ef216row7_col3,#T_3f0e519c_387c_11eb_9508_540cdd3ef216row8_col1,#T_3f0e519c_387c_11eb_9508_540cdd3ef216row8_col3{\n",
       "            background-color:  green;\n",
       "        }</style><table id=\"T_3f0e519c_387c_11eb_9508_540cdd3ef216\" ><thead>    <tr>        <th class=\"blank level0\" ></th>        <th class=\"col_heading level0 col0\" >0</th>        <th class=\"col_heading level0 col1\" >1</th>        <th class=\"col_heading level0 col2\" >2</th>        <th class=\"col_heading level0 col3\" >CL</th>    </tr></thead><tbody>\n",
       "                <tr>\n",
       "                        <th id=\"T_3f0e519c_387c_11eb_9508_540cdd3ef216level0_row0\" class=\"row_heading level0 row0\" >0</th>\n",
       "                        <td id=\"T_3f0e519c_387c_11eb_9508_540cdd3ef216row0_col0\" class=\"data row0 col0\" >0</td>\n",
       "                        <td id=\"T_3f0e519c_387c_11eb_9508_540cdd3ef216row0_col1\" class=\"data row0 col1\" >0</td>\n",
       "                        <td id=\"T_3f0e519c_387c_11eb_9508_540cdd3ef216row0_col2\" class=\"data row0 col2\" >1</td>\n",
       "                        <td id=\"T_3f0e519c_387c_11eb_9508_540cdd3ef216row0_col3\" class=\"data row0 col3\" >0</td>\n",
       "            </tr>\n",
       "            <tr>\n",
       "                        <th id=\"T_3f0e519c_387c_11eb_9508_540cdd3ef216level0_row1\" class=\"row_heading level0 row1\" >1</th>\n",
       "                        <td id=\"T_3f0e519c_387c_11eb_9508_540cdd3ef216row1_col0\" class=\"data row1 col0\" >0</td>\n",
       "                        <td id=\"T_3f0e519c_387c_11eb_9508_540cdd3ef216row1_col1\" class=\"data row1 col1\" >1</td>\n",
       "                        <td id=\"T_3f0e519c_387c_11eb_9508_540cdd3ef216row1_col2\" class=\"data row1 col2\" >1</td>\n",
       "                        <td id=\"T_3f0e519c_387c_11eb_9508_540cdd3ef216row1_col3\" class=\"data row1 col3\" >0</td>\n",
       "            </tr>\n",
       "            <tr>\n",
       "                        <th id=\"T_3f0e519c_387c_11eb_9508_540cdd3ef216level0_row2\" class=\"row_heading level0 row2\" >2</th>\n",
       "                        <td id=\"T_3f0e519c_387c_11eb_9508_540cdd3ef216row2_col0\" class=\"data row2 col0\" >0</td>\n",
       "                        <td id=\"T_3f0e519c_387c_11eb_9508_540cdd3ef216row2_col1\" class=\"data row2 col1\" >0</td>\n",
       "                        <td id=\"T_3f0e519c_387c_11eb_9508_540cdd3ef216row2_col2\" class=\"data row2 col2\" >1</td>\n",
       "                        <td id=\"T_3f0e519c_387c_11eb_9508_540cdd3ef216row2_col3\" class=\"data row2 col3\" >0</td>\n",
       "            </tr>\n",
       "            <tr>\n",
       "                        <th id=\"T_3f0e519c_387c_11eb_9508_540cdd3ef216level0_row3\" class=\"row_heading level0 row3\" >8</th>\n",
       "                        <td id=\"T_3f0e519c_387c_11eb_9508_540cdd3ef216row3_col0\" class=\"data row3 col0\" >0</td>\n",
       "                        <td id=\"T_3f0e519c_387c_11eb_9508_540cdd3ef216row3_col1\" class=\"data row3 col1\" >0</td>\n",
       "                        <td id=\"T_3f0e519c_387c_11eb_9508_540cdd3ef216row3_col2\" class=\"data row3 col2\" >1</td>\n",
       "                        <td id=\"T_3f0e519c_387c_11eb_9508_540cdd3ef216row3_col3\" class=\"data row3 col3\" >0</td>\n",
       "            </tr>\n",
       "            <tr>\n",
       "                        <th id=\"T_3f0e519c_387c_11eb_9508_540cdd3ef216level0_row4\" class=\"row_heading level0 row4\" >9</th>\n",
       "                        <td id=\"T_3f0e519c_387c_11eb_9508_540cdd3ef216row4_col0\" class=\"data row4 col0\" >0</td>\n",
       "                        <td id=\"T_3f0e519c_387c_11eb_9508_540cdd3ef216row4_col1\" class=\"data row4 col1\" >0</td>\n",
       "                        <td id=\"T_3f0e519c_387c_11eb_9508_540cdd3ef216row4_col2\" class=\"data row4 col2\" >1</td>\n",
       "                        <td id=\"T_3f0e519c_387c_11eb_9508_540cdd3ef216row4_col3\" class=\"data row4 col3\" >0</td>\n",
       "            </tr>\n",
       "            <tr>\n",
       "                        <th id=\"T_3f0e519c_387c_11eb_9508_540cdd3ef216level0_row5\" class=\"row_heading level0 row5\" >10</th>\n",
       "                        <td id=\"T_3f0e519c_387c_11eb_9508_540cdd3ef216row5_col0\" class=\"data row5 col0\" >0</td>\n",
       "                        <td id=\"T_3f0e519c_387c_11eb_9508_540cdd3ef216row5_col1\" class=\"data row5 col1\" >1</td>\n",
       "                        <td id=\"T_3f0e519c_387c_11eb_9508_540cdd3ef216row5_col2\" class=\"data row5 col2\" >1</td>\n",
       "                        <td id=\"T_3f0e519c_387c_11eb_9508_540cdd3ef216row5_col3\" class=\"data row5 col3\" >1</td>\n",
       "            </tr>\n",
       "            <tr>\n",
       "                        <th id=\"T_3f0e519c_387c_11eb_9508_540cdd3ef216level0_row6\" class=\"row_heading level0 row6\" >11</th>\n",
       "                        <td id=\"T_3f0e519c_387c_11eb_9508_540cdd3ef216row6_col0\" class=\"data row6 col0\" >0</td>\n",
       "                        <td id=\"T_3f0e519c_387c_11eb_9508_540cdd3ef216row6_col1\" class=\"data row6 col1\" >1</td>\n",
       "                        <td id=\"T_3f0e519c_387c_11eb_9508_540cdd3ef216row6_col2\" class=\"data row6 col2\" >1</td>\n",
       "                        <td id=\"T_3f0e519c_387c_11eb_9508_540cdd3ef216row6_col3\" class=\"data row6 col3\" >1</td>\n",
       "            </tr>\n",
       "            <tr>\n",
       "                        <th id=\"T_3f0e519c_387c_11eb_9508_540cdd3ef216level0_row7\" class=\"row_heading level0 row7\" >13</th>\n",
       "                        <td id=\"T_3f0e519c_387c_11eb_9508_540cdd3ef216row7_col0\" class=\"data row7 col0\" >0</td>\n",
       "                        <td id=\"T_3f0e519c_387c_11eb_9508_540cdd3ef216row7_col1\" class=\"data row7 col1\" >0</td>\n",
       "                        <td id=\"T_3f0e519c_387c_11eb_9508_540cdd3ef216row7_col2\" class=\"data row7 col2\" >0</td>\n",
       "                        <td id=\"T_3f0e519c_387c_11eb_9508_540cdd3ef216row7_col3\" class=\"data row7 col3\" >1</td>\n",
       "            </tr>\n",
       "            <tr>\n",
       "                        <th id=\"T_3f0e519c_387c_11eb_9508_540cdd3ef216level0_row8\" class=\"row_heading level0 row8\" >14</th>\n",
       "                        <td id=\"T_3f0e519c_387c_11eb_9508_540cdd3ef216row8_col0\" class=\"data row8 col0\" >0</td>\n",
       "                        <td id=\"T_3f0e519c_387c_11eb_9508_540cdd3ef216row8_col1\" class=\"data row8 col1\" >1</td>\n",
       "                        <td id=\"T_3f0e519c_387c_11eb_9508_540cdd3ef216row8_col2\" class=\"data row8 col2\" >0</td>\n",
       "                        <td id=\"T_3f0e519c_387c_11eb_9508_540cdd3ef216row8_col3\" class=\"data row8 col3\" >1</td>\n",
       "            </tr>\n",
       "    </tbody></table>"
      ],
      "text/plain": [
       "<pandas.io.formats.style.Styler at 0x6f340c8>"
      ]
     },
     "metadata": {},
     "output_type": "display_data"
    },
    {
     "data": {
      "text/html": [
       "<style  type=\"text/css\" >\n",
       "#T_3f10e9b6_387c_11eb_a059_540cdd3ef216row0_col0,#T_3f10e9b6_387c_11eb_a059_540cdd3ef216row0_col2,#T_3f10e9b6_387c_11eb_a059_540cdd3ef216row1_col0,#T_3f10e9b6_387c_11eb_a059_540cdd3ef216row2_col0,#T_3f10e9b6_387c_11eb_a059_540cdd3ef216row2_col1,#T_3f10e9b6_387c_11eb_a059_540cdd3ef216row2_col2,#T_3f10e9b6_387c_11eb_a059_540cdd3ef216row3_col0,#T_3f10e9b6_387c_11eb_a059_540cdd3ef216row4_col0,#T_3f10e9b6_387c_11eb_a059_540cdd3ef216row4_col1,#T_3f10e9b6_387c_11eb_a059_540cdd3ef216row4_col2,#T_3f10e9b6_387c_11eb_a059_540cdd3ef216row5_col0,#T_3f10e9b6_387c_11eb_a059_540cdd3ef216row5_col1,#T_3f10e9b6_387c_11eb_a059_540cdd3ef216row5_col3{\n",
       "            background-color:  green;\n",
       "        }</style><table id=\"T_3f10e9b6_387c_11eb_a059_540cdd3ef216\" ><thead>    <tr>        <th class=\"blank level0\" ></th>        <th class=\"col_heading level0 col0\" >0</th>        <th class=\"col_heading level0 col1\" >1</th>        <th class=\"col_heading level0 col2\" >2</th>        <th class=\"col_heading level0 col3\" >CL</th>    </tr></thead><tbody>\n",
       "                <tr>\n",
       "                        <th id=\"T_3f10e9b6_387c_11eb_a059_540cdd3ef216level0_row0\" class=\"row_heading level0 row0\" >3</th>\n",
       "                        <td id=\"T_3f10e9b6_387c_11eb_a059_540cdd3ef216row0_col0\" class=\"data row0 col0\" >1</td>\n",
       "                        <td id=\"T_3f10e9b6_387c_11eb_a059_540cdd3ef216row0_col1\" class=\"data row0 col1\" >0</td>\n",
       "                        <td id=\"T_3f10e9b6_387c_11eb_a059_540cdd3ef216row0_col2\" class=\"data row0 col2\" >1</td>\n",
       "                        <td id=\"T_3f10e9b6_387c_11eb_a059_540cdd3ef216row0_col3\" class=\"data row0 col3\" >0</td>\n",
       "            </tr>\n",
       "            <tr>\n",
       "                        <th id=\"T_3f10e9b6_387c_11eb_a059_540cdd3ef216level0_row1\" class=\"row_heading level0 row1\" >4</th>\n",
       "                        <td id=\"T_3f10e9b6_387c_11eb_a059_540cdd3ef216row1_col0\" class=\"data row1 col0\" >1</td>\n",
       "                        <td id=\"T_3f10e9b6_387c_11eb_a059_540cdd3ef216row1_col1\" class=\"data row1 col1\" >0</td>\n",
       "                        <td id=\"T_3f10e9b6_387c_11eb_a059_540cdd3ef216row1_col2\" class=\"data row1 col2\" >0</td>\n",
       "                        <td id=\"T_3f10e9b6_387c_11eb_a059_540cdd3ef216row1_col3\" class=\"data row1 col3\" >0</td>\n",
       "            </tr>\n",
       "            <tr>\n",
       "                        <th id=\"T_3f10e9b6_387c_11eb_a059_540cdd3ef216level0_row2\" class=\"row_heading level0 row2\" >5</th>\n",
       "                        <td id=\"T_3f10e9b6_387c_11eb_a059_540cdd3ef216row2_col0\" class=\"data row2 col0\" >1</td>\n",
       "                        <td id=\"T_3f10e9b6_387c_11eb_a059_540cdd3ef216row2_col1\" class=\"data row2 col1\" >1</td>\n",
       "                        <td id=\"T_3f10e9b6_387c_11eb_a059_540cdd3ef216row2_col2\" class=\"data row2 col2\" >1</td>\n",
       "                        <td id=\"T_3f10e9b6_387c_11eb_a059_540cdd3ef216row2_col3\" class=\"data row2 col3\" >0</td>\n",
       "            </tr>\n",
       "            <tr>\n",
       "                        <th id=\"T_3f10e9b6_387c_11eb_a059_540cdd3ef216level0_row3\" class=\"row_heading level0 row3\" >6</th>\n",
       "                        <td id=\"T_3f10e9b6_387c_11eb_a059_540cdd3ef216row3_col0\" class=\"data row3 col0\" >1</td>\n",
       "                        <td id=\"T_3f10e9b6_387c_11eb_a059_540cdd3ef216row3_col1\" class=\"data row3 col1\" >0</td>\n",
       "                        <td id=\"T_3f10e9b6_387c_11eb_a059_540cdd3ef216row3_col2\" class=\"data row3 col2\" >0</td>\n",
       "                        <td id=\"T_3f10e9b6_387c_11eb_a059_540cdd3ef216row3_col3\" class=\"data row3 col3\" >0</td>\n",
       "            </tr>\n",
       "            <tr>\n",
       "                        <th id=\"T_3f10e9b6_387c_11eb_a059_540cdd3ef216level0_row4\" class=\"row_heading level0 row4\" >7</th>\n",
       "                        <td id=\"T_3f10e9b6_387c_11eb_a059_540cdd3ef216row4_col0\" class=\"data row4 col0\" >1</td>\n",
       "                        <td id=\"T_3f10e9b6_387c_11eb_a059_540cdd3ef216row4_col1\" class=\"data row4 col1\" >1</td>\n",
       "                        <td id=\"T_3f10e9b6_387c_11eb_a059_540cdd3ef216row4_col2\" class=\"data row4 col2\" >1</td>\n",
       "                        <td id=\"T_3f10e9b6_387c_11eb_a059_540cdd3ef216row4_col3\" class=\"data row4 col3\" >0</td>\n",
       "            </tr>\n",
       "            <tr>\n",
       "                        <th id=\"T_3f10e9b6_387c_11eb_a059_540cdd3ef216level0_row5\" class=\"row_heading level0 row5\" >12</th>\n",
       "                        <td id=\"T_3f10e9b6_387c_11eb_a059_540cdd3ef216row5_col0\" class=\"data row5 col0\" >1</td>\n",
       "                        <td id=\"T_3f10e9b6_387c_11eb_a059_540cdd3ef216row5_col1\" class=\"data row5 col1\" >1</td>\n",
       "                        <td id=\"T_3f10e9b6_387c_11eb_a059_540cdd3ef216row5_col2\" class=\"data row5 col2\" >0</td>\n",
       "                        <td id=\"T_3f10e9b6_387c_11eb_a059_540cdd3ef216row5_col3\" class=\"data row5 col3\" >1</td>\n",
       "            </tr>\n",
       "    </tbody></table>"
      ],
      "text/plain": [
       "<pandas.io.formats.style.Styler at 0x6f34b08>"
      ]
     },
     "metadata": {},
     "output_type": "display_data"
    }
   ],
   "source": [
    "display(X[X[0]==0].style.applymap(_color_green).format(\"{:.2g}\"))\n",
    "display(X[X[0]==1].style.applymap(_color_green).format(\"{:.2g}\"))"
   ]
  },
  {
   "cell_type": "code",
   "execution_count": 118,
   "metadata": {
    "ExecuteTime": {
     "end_time": "2020-12-07T11:06:25.450552Z",
     "start_time": "2020-12-07T11:06:25.412549Z"
    }
   },
   "outputs": [
    {
     "data": {
      "text/html": [
       "<style  type=\"text/css\" >\n",
       "#T_3f503d92_387c_11eb_84b5_540cdd3ef216row0_col2,#T_3f503d92_387c_11eb_84b5_540cdd3ef216row1_col2,#T_3f503d92_387c_11eb_84b5_540cdd3ef216row2_col0,#T_3f503d92_387c_11eb_84b5_540cdd3ef216row2_col2,#T_3f503d92_387c_11eb_84b5_540cdd3ef216row3_col0,#T_3f503d92_387c_11eb_84b5_540cdd3ef216row4_col0,#T_3f503d92_387c_11eb_84b5_540cdd3ef216row5_col2,#T_3f503d92_387c_11eb_84b5_540cdd3ef216row6_col2,#T_3f503d92_387c_11eb_84b5_540cdd3ef216row7_col3{\n",
       "            background-color:  green;\n",
       "        }</style><table id=\"T_3f503d92_387c_11eb_84b5_540cdd3ef216\" ><thead>    <tr>        <th class=\"blank level0\" ></th>        <th class=\"col_heading level0 col0\" >0</th>        <th class=\"col_heading level0 col1\" >1</th>        <th class=\"col_heading level0 col2\" >2</th>        <th class=\"col_heading level0 col3\" >CL</th>    </tr></thead><tbody>\n",
       "                <tr>\n",
       "                        <th id=\"T_3f503d92_387c_11eb_84b5_540cdd3ef216level0_row0\" class=\"row_heading level0 row0\" >0</th>\n",
       "                        <td id=\"T_3f503d92_387c_11eb_84b5_540cdd3ef216row0_col0\" class=\"data row0 col0\" >0</td>\n",
       "                        <td id=\"T_3f503d92_387c_11eb_84b5_540cdd3ef216row0_col1\" class=\"data row0 col1\" >0</td>\n",
       "                        <td id=\"T_3f503d92_387c_11eb_84b5_540cdd3ef216row0_col2\" class=\"data row0 col2\" >1</td>\n",
       "                        <td id=\"T_3f503d92_387c_11eb_84b5_540cdd3ef216row0_col3\" class=\"data row0 col3\" >0</td>\n",
       "            </tr>\n",
       "            <tr>\n",
       "                        <th id=\"T_3f503d92_387c_11eb_84b5_540cdd3ef216level0_row1\" class=\"row_heading level0 row1\" >2</th>\n",
       "                        <td id=\"T_3f503d92_387c_11eb_84b5_540cdd3ef216row1_col0\" class=\"data row1 col0\" >0</td>\n",
       "                        <td id=\"T_3f503d92_387c_11eb_84b5_540cdd3ef216row1_col1\" class=\"data row1 col1\" >0</td>\n",
       "                        <td id=\"T_3f503d92_387c_11eb_84b5_540cdd3ef216row1_col2\" class=\"data row1 col2\" >1</td>\n",
       "                        <td id=\"T_3f503d92_387c_11eb_84b5_540cdd3ef216row1_col3\" class=\"data row1 col3\" >0</td>\n",
       "            </tr>\n",
       "            <tr>\n",
       "                        <th id=\"T_3f503d92_387c_11eb_84b5_540cdd3ef216level0_row2\" class=\"row_heading level0 row2\" >3</th>\n",
       "                        <td id=\"T_3f503d92_387c_11eb_84b5_540cdd3ef216row2_col0\" class=\"data row2 col0\" >1</td>\n",
       "                        <td id=\"T_3f503d92_387c_11eb_84b5_540cdd3ef216row2_col1\" class=\"data row2 col1\" >0</td>\n",
       "                        <td id=\"T_3f503d92_387c_11eb_84b5_540cdd3ef216row2_col2\" class=\"data row2 col2\" >1</td>\n",
       "                        <td id=\"T_3f503d92_387c_11eb_84b5_540cdd3ef216row2_col3\" class=\"data row2 col3\" >0</td>\n",
       "            </tr>\n",
       "            <tr>\n",
       "                        <th id=\"T_3f503d92_387c_11eb_84b5_540cdd3ef216level0_row3\" class=\"row_heading level0 row3\" >4</th>\n",
       "                        <td id=\"T_3f503d92_387c_11eb_84b5_540cdd3ef216row3_col0\" class=\"data row3 col0\" >1</td>\n",
       "                        <td id=\"T_3f503d92_387c_11eb_84b5_540cdd3ef216row3_col1\" class=\"data row3 col1\" >0</td>\n",
       "                        <td id=\"T_3f503d92_387c_11eb_84b5_540cdd3ef216row3_col2\" class=\"data row3 col2\" >0</td>\n",
       "                        <td id=\"T_3f503d92_387c_11eb_84b5_540cdd3ef216row3_col3\" class=\"data row3 col3\" >0</td>\n",
       "            </tr>\n",
       "            <tr>\n",
       "                        <th id=\"T_3f503d92_387c_11eb_84b5_540cdd3ef216level0_row4\" class=\"row_heading level0 row4\" >6</th>\n",
       "                        <td id=\"T_3f503d92_387c_11eb_84b5_540cdd3ef216row4_col0\" class=\"data row4 col0\" >1</td>\n",
       "                        <td id=\"T_3f503d92_387c_11eb_84b5_540cdd3ef216row4_col1\" class=\"data row4 col1\" >0</td>\n",
       "                        <td id=\"T_3f503d92_387c_11eb_84b5_540cdd3ef216row4_col2\" class=\"data row4 col2\" >0</td>\n",
       "                        <td id=\"T_3f503d92_387c_11eb_84b5_540cdd3ef216row4_col3\" class=\"data row4 col3\" >0</td>\n",
       "            </tr>\n",
       "            <tr>\n",
       "                        <th id=\"T_3f503d92_387c_11eb_84b5_540cdd3ef216level0_row5\" class=\"row_heading level0 row5\" >8</th>\n",
       "                        <td id=\"T_3f503d92_387c_11eb_84b5_540cdd3ef216row5_col0\" class=\"data row5 col0\" >0</td>\n",
       "                        <td id=\"T_3f503d92_387c_11eb_84b5_540cdd3ef216row5_col1\" class=\"data row5 col1\" >0</td>\n",
       "                        <td id=\"T_3f503d92_387c_11eb_84b5_540cdd3ef216row5_col2\" class=\"data row5 col2\" >1</td>\n",
       "                        <td id=\"T_3f503d92_387c_11eb_84b5_540cdd3ef216row5_col3\" class=\"data row5 col3\" >0</td>\n",
       "            </tr>\n",
       "            <tr>\n",
       "                        <th id=\"T_3f503d92_387c_11eb_84b5_540cdd3ef216level0_row6\" class=\"row_heading level0 row6\" >9</th>\n",
       "                        <td id=\"T_3f503d92_387c_11eb_84b5_540cdd3ef216row6_col0\" class=\"data row6 col0\" >0</td>\n",
       "                        <td id=\"T_3f503d92_387c_11eb_84b5_540cdd3ef216row6_col1\" class=\"data row6 col1\" >0</td>\n",
       "                        <td id=\"T_3f503d92_387c_11eb_84b5_540cdd3ef216row6_col2\" class=\"data row6 col2\" >1</td>\n",
       "                        <td id=\"T_3f503d92_387c_11eb_84b5_540cdd3ef216row6_col3\" class=\"data row6 col3\" >0</td>\n",
       "            </tr>\n",
       "            <tr>\n",
       "                        <th id=\"T_3f503d92_387c_11eb_84b5_540cdd3ef216level0_row7\" class=\"row_heading level0 row7\" >13</th>\n",
       "                        <td id=\"T_3f503d92_387c_11eb_84b5_540cdd3ef216row7_col0\" class=\"data row7 col0\" >0</td>\n",
       "                        <td id=\"T_3f503d92_387c_11eb_84b5_540cdd3ef216row7_col1\" class=\"data row7 col1\" >0</td>\n",
       "                        <td id=\"T_3f503d92_387c_11eb_84b5_540cdd3ef216row7_col2\" class=\"data row7 col2\" >0</td>\n",
       "                        <td id=\"T_3f503d92_387c_11eb_84b5_540cdd3ef216row7_col3\" class=\"data row7 col3\" >1</td>\n",
       "            </tr>\n",
       "    </tbody></table>"
      ],
      "text/plain": [
       "<pandas.io.formats.style.Styler at 0x6f37fc8>"
      ]
     },
     "metadata": {},
     "output_type": "display_data"
    },
    {
     "data": {
      "text/html": [
       "<style  type=\"text/css\" >\n",
       "#T_3f52d5ac_387c_11eb_8a8f_540cdd3ef216row0_col1,#T_3f52d5ac_387c_11eb_8a8f_540cdd3ef216row0_col2,#T_3f52d5ac_387c_11eb_8a8f_540cdd3ef216row1_col0,#T_3f52d5ac_387c_11eb_8a8f_540cdd3ef216row1_col1,#T_3f52d5ac_387c_11eb_8a8f_540cdd3ef216row1_col2,#T_3f52d5ac_387c_11eb_8a8f_540cdd3ef216row2_col0,#T_3f52d5ac_387c_11eb_8a8f_540cdd3ef216row2_col1,#T_3f52d5ac_387c_11eb_8a8f_540cdd3ef216row2_col2,#T_3f52d5ac_387c_11eb_8a8f_540cdd3ef216row3_col1,#T_3f52d5ac_387c_11eb_8a8f_540cdd3ef216row3_col2,#T_3f52d5ac_387c_11eb_8a8f_540cdd3ef216row3_col3,#T_3f52d5ac_387c_11eb_8a8f_540cdd3ef216row4_col1,#T_3f52d5ac_387c_11eb_8a8f_540cdd3ef216row4_col2,#T_3f52d5ac_387c_11eb_8a8f_540cdd3ef216row4_col3,#T_3f52d5ac_387c_11eb_8a8f_540cdd3ef216row5_col0,#T_3f52d5ac_387c_11eb_8a8f_540cdd3ef216row5_col1,#T_3f52d5ac_387c_11eb_8a8f_540cdd3ef216row5_col3,#T_3f52d5ac_387c_11eb_8a8f_540cdd3ef216row6_col1,#T_3f52d5ac_387c_11eb_8a8f_540cdd3ef216row6_col3{\n",
       "            background-color:  green;\n",
       "        }</style><table id=\"T_3f52d5ac_387c_11eb_8a8f_540cdd3ef216\" ><thead>    <tr>        <th class=\"blank level0\" ></th>        <th class=\"col_heading level0 col0\" >0</th>        <th class=\"col_heading level0 col1\" >1</th>        <th class=\"col_heading level0 col2\" >2</th>        <th class=\"col_heading level0 col3\" >CL</th>    </tr></thead><tbody>\n",
       "                <tr>\n",
       "                        <th id=\"T_3f52d5ac_387c_11eb_8a8f_540cdd3ef216level0_row0\" class=\"row_heading level0 row0\" >1</th>\n",
       "                        <td id=\"T_3f52d5ac_387c_11eb_8a8f_540cdd3ef216row0_col0\" class=\"data row0 col0\" >0</td>\n",
       "                        <td id=\"T_3f52d5ac_387c_11eb_8a8f_540cdd3ef216row0_col1\" class=\"data row0 col1\" >1</td>\n",
       "                        <td id=\"T_3f52d5ac_387c_11eb_8a8f_540cdd3ef216row0_col2\" class=\"data row0 col2\" >1</td>\n",
       "                        <td id=\"T_3f52d5ac_387c_11eb_8a8f_540cdd3ef216row0_col3\" class=\"data row0 col3\" >0</td>\n",
       "            </tr>\n",
       "            <tr>\n",
       "                        <th id=\"T_3f52d5ac_387c_11eb_8a8f_540cdd3ef216level0_row1\" class=\"row_heading level0 row1\" >5</th>\n",
       "                        <td id=\"T_3f52d5ac_387c_11eb_8a8f_540cdd3ef216row1_col0\" class=\"data row1 col0\" >1</td>\n",
       "                        <td id=\"T_3f52d5ac_387c_11eb_8a8f_540cdd3ef216row1_col1\" class=\"data row1 col1\" >1</td>\n",
       "                        <td id=\"T_3f52d5ac_387c_11eb_8a8f_540cdd3ef216row1_col2\" class=\"data row1 col2\" >1</td>\n",
       "                        <td id=\"T_3f52d5ac_387c_11eb_8a8f_540cdd3ef216row1_col3\" class=\"data row1 col3\" >0</td>\n",
       "            </tr>\n",
       "            <tr>\n",
       "                        <th id=\"T_3f52d5ac_387c_11eb_8a8f_540cdd3ef216level0_row2\" class=\"row_heading level0 row2\" >7</th>\n",
       "                        <td id=\"T_3f52d5ac_387c_11eb_8a8f_540cdd3ef216row2_col0\" class=\"data row2 col0\" >1</td>\n",
       "                        <td id=\"T_3f52d5ac_387c_11eb_8a8f_540cdd3ef216row2_col1\" class=\"data row2 col1\" >1</td>\n",
       "                        <td id=\"T_3f52d5ac_387c_11eb_8a8f_540cdd3ef216row2_col2\" class=\"data row2 col2\" >1</td>\n",
       "                        <td id=\"T_3f52d5ac_387c_11eb_8a8f_540cdd3ef216row2_col3\" class=\"data row2 col3\" >0</td>\n",
       "            </tr>\n",
       "            <tr>\n",
       "                        <th id=\"T_3f52d5ac_387c_11eb_8a8f_540cdd3ef216level0_row3\" class=\"row_heading level0 row3\" >10</th>\n",
       "                        <td id=\"T_3f52d5ac_387c_11eb_8a8f_540cdd3ef216row3_col0\" class=\"data row3 col0\" >0</td>\n",
       "                        <td id=\"T_3f52d5ac_387c_11eb_8a8f_540cdd3ef216row3_col1\" class=\"data row3 col1\" >1</td>\n",
       "                        <td id=\"T_3f52d5ac_387c_11eb_8a8f_540cdd3ef216row3_col2\" class=\"data row3 col2\" >1</td>\n",
       "                        <td id=\"T_3f52d5ac_387c_11eb_8a8f_540cdd3ef216row3_col3\" class=\"data row3 col3\" >1</td>\n",
       "            </tr>\n",
       "            <tr>\n",
       "                        <th id=\"T_3f52d5ac_387c_11eb_8a8f_540cdd3ef216level0_row4\" class=\"row_heading level0 row4\" >11</th>\n",
       "                        <td id=\"T_3f52d5ac_387c_11eb_8a8f_540cdd3ef216row4_col0\" class=\"data row4 col0\" >0</td>\n",
       "                        <td id=\"T_3f52d5ac_387c_11eb_8a8f_540cdd3ef216row4_col1\" class=\"data row4 col1\" >1</td>\n",
       "                        <td id=\"T_3f52d5ac_387c_11eb_8a8f_540cdd3ef216row4_col2\" class=\"data row4 col2\" >1</td>\n",
       "                        <td id=\"T_3f52d5ac_387c_11eb_8a8f_540cdd3ef216row4_col3\" class=\"data row4 col3\" >1</td>\n",
       "            </tr>\n",
       "            <tr>\n",
       "                        <th id=\"T_3f52d5ac_387c_11eb_8a8f_540cdd3ef216level0_row5\" class=\"row_heading level0 row5\" >12</th>\n",
       "                        <td id=\"T_3f52d5ac_387c_11eb_8a8f_540cdd3ef216row5_col0\" class=\"data row5 col0\" >1</td>\n",
       "                        <td id=\"T_3f52d5ac_387c_11eb_8a8f_540cdd3ef216row5_col1\" class=\"data row5 col1\" >1</td>\n",
       "                        <td id=\"T_3f52d5ac_387c_11eb_8a8f_540cdd3ef216row5_col2\" class=\"data row5 col2\" >0</td>\n",
       "                        <td id=\"T_3f52d5ac_387c_11eb_8a8f_540cdd3ef216row5_col3\" class=\"data row5 col3\" >1</td>\n",
       "            </tr>\n",
       "            <tr>\n",
       "                        <th id=\"T_3f52d5ac_387c_11eb_8a8f_540cdd3ef216level0_row6\" class=\"row_heading level0 row6\" >14</th>\n",
       "                        <td id=\"T_3f52d5ac_387c_11eb_8a8f_540cdd3ef216row6_col0\" class=\"data row6 col0\" >0</td>\n",
       "                        <td id=\"T_3f52d5ac_387c_11eb_8a8f_540cdd3ef216row6_col1\" class=\"data row6 col1\" >1</td>\n",
       "                        <td id=\"T_3f52d5ac_387c_11eb_8a8f_540cdd3ef216row6_col2\" class=\"data row6 col2\" >0</td>\n",
       "                        <td id=\"T_3f52d5ac_387c_11eb_8a8f_540cdd3ef216row6_col3\" class=\"data row6 col3\" >1</td>\n",
       "            </tr>\n",
       "    </tbody></table>"
      ],
      "text/plain": [
       "<pandas.io.formats.style.Styler at 0x5899fc8>"
      ]
     },
     "metadata": {},
     "output_type": "display_data"
    }
   ],
   "source": [
    "display(X[X[1]==0].style.applymap(_color_green).format(\"{:.2g}\"))\n",
    "display(X[X[1]==1].style.applymap(_color_green).format(\"{:.2g}\"))"
   ]
  },
  {
   "cell_type": "code",
   "execution_count": 119,
   "metadata": {
    "ExecuteTime": {
     "end_time": "2020-12-07T11:06:25.877576Z",
     "start_time": "2020-12-07T11:06:25.836574Z"
    }
   },
   "outputs": [
    {
     "data": {
      "text/html": [
       "<style  type=\"text/css\" >\n",
       "#T_3f916636_387c_11eb_800c_540cdd3ef216row0_col0,#T_3f916636_387c_11eb_800c_540cdd3ef216row1_col0,#T_3f916636_387c_11eb_800c_540cdd3ef216row2_col0,#T_3f916636_387c_11eb_800c_540cdd3ef216row2_col1,#T_3f916636_387c_11eb_800c_540cdd3ef216row2_col3,#T_3f916636_387c_11eb_800c_540cdd3ef216row3_col3,#T_3f916636_387c_11eb_800c_540cdd3ef216row4_col1,#T_3f916636_387c_11eb_800c_540cdd3ef216row4_col3{\n",
       "            background-color:  green;\n",
       "        }</style><table id=\"T_3f916636_387c_11eb_800c_540cdd3ef216\" ><thead>    <tr>        <th class=\"blank level0\" ></th>        <th class=\"col_heading level0 col0\" >0</th>        <th class=\"col_heading level0 col1\" >1</th>        <th class=\"col_heading level0 col2\" >2</th>        <th class=\"col_heading level0 col3\" >CL</th>    </tr></thead><tbody>\n",
       "                <tr>\n",
       "                        <th id=\"T_3f916636_387c_11eb_800c_540cdd3ef216level0_row0\" class=\"row_heading level0 row0\" >4</th>\n",
       "                        <td id=\"T_3f916636_387c_11eb_800c_540cdd3ef216row0_col0\" class=\"data row0 col0\" >1</td>\n",
       "                        <td id=\"T_3f916636_387c_11eb_800c_540cdd3ef216row0_col1\" class=\"data row0 col1\" >0</td>\n",
       "                        <td id=\"T_3f916636_387c_11eb_800c_540cdd3ef216row0_col2\" class=\"data row0 col2\" >0</td>\n",
       "                        <td id=\"T_3f916636_387c_11eb_800c_540cdd3ef216row0_col3\" class=\"data row0 col3\" >0</td>\n",
       "            </tr>\n",
       "            <tr>\n",
       "                        <th id=\"T_3f916636_387c_11eb_800c_540cdd3ef216level0_row1\" class=\"row_heading level0 row1\" >6</th>\n",
       "                        <td id=\"T_3f916636_387c_11eb_800c_540cdd3ef216row1_col0\" class=\"data row1 col0\" >1</td>\n",
       "                        <td id=\"T_3f916636_387c_11eb_800c_540cdd3ef216row1_col1\" class=\"data row1 col1\" >0</td>\n",
       "                        <td id=\"T_3f916636_387c_11eb_800c_540cdd3ef216row1_col2\" class=\"data row1 col2\" >0</td>\n",
       "                        <td id=\"T_3f916636_387c_11eb_800c_540cdd3ef216row1_col3\" class=\"data row1 col3\" >0</td>\n",
       "            </tr>\n",
       "            <tr>\n",
       "                        <th id=\"T_3f916636_387c_11eb_800c_540cdd3ef216level0_row2\" class=\"row_heading level0 row2\" >12</th>\n",
       "                        <td id=\"T_3f916636_387c_11eb_800c_540cdd3ef216row2_col0\" class=\"data row2 col0\" >1</td>\n",
       "                        <td id=\"T_3f916636_387c_11eb_800c_540cdd3ef216row2_col1\" class=\"data row2 col1\" >1</td>\n",
       "                        <td id=\"T_3f916636_387c_11eb_800c_540cdd3ef216row2_col2\" class=\"data row2 col2\" >0</td>\n",
       "                        <td id=\"T_3f916636_387c_11eb_800c_540cdd3ef216row2_col3\" class=\"data row2 col3\" >1</td>\n",
       "            </tr>\n",
       "            <tr>\n",
       "                        <th id=\"T_3f916636_387c_11eb_800c_540cdd3ef216level0_row3\" class=\"row_heading level0 row3\" >13</th>\n",
       "                        <td id=\"T_3f916636_387c_11eb_800c_540cdd3ef216row3_col0\" class=\"data row3 col0\" >0</td>\n",
       "                        <td id=\"T_3f916636_387c_11eb_800c_540cdd3ef216row3_col1\" class=\"data row3 col1\" >0</td>\n",
       "                        <td id=\"T_3f916636_387c_11eb_800c_540cdd3ef216row3_col2\" class=\"data row3 col2\" >0</td>\n",
       "                        <td id=\"T_3f916636_387c_11eb_800c_540cdd3ef216row3_col3\" class=\"data row3 col3\" >1</td>\n",
       "            </tr>\n",
       "            <tr>\n",
       "                        <th id=\"T_3f916636_387c_11eb_800c_540cdd3ef216level0_row4\" class=\"row_heading level0 row4\" >14</th>\n",
       "                        <td id=\"T_3f916636_387c_11eb_800c_540cdd3ef216row4_col0\" class=\"data row4 col0\" >0</td>\n",
       "                        <td id=\"T_3f916636_387c_11eb_800c_540cdd3ef216row4_col1\" class=\"data row4 col1\" >1</td>\n",
       "                        <td id=\"T_3f916636_387c_11eb_800c_540cdd3ef216row4_col2\" class=\"data row4 col2\" >0</td>\n",
       "                        <td id=\"T_3f916636_387c_11eb_800c_540cdd3ef216row4_col3\" class=\"data row4 col3\" >1</td>\n",
       "            </tr>\n",
       "    </tbody></table>"
      ],
      "text/plain": [
       "<pandas.io.formats.style.Styler at 0x6f3dc88>"
      ]
     },
     "metadata": {},
     "output_type": "display_data"
    },
    {
     "data": {
      "text/html": [
       "<style  type=\"text/css\" >\n",
       "#T_3f944c74_387c_11eb_ade6_540cdd3ef216row0_col2,#T_3f944c74_387c_11eb_ade6_540cdd3ef216row1_col1,#T_3f944c74_387c_11eb_ade6_540cdd3ef216row1_col2,#T_3f944c74_387c_11eb_ade6_540cdd3ef216row2_col2,#T_3f944c74_387c_11eb_ade6_540cdd3ef216row3_col0,#T_3f944c74_387c_11eb_ade6_540cdd3ef216row3_col2,#T_3f944c74_387c_11eb_ade6_540cdd3ef216row4_col0,#T_3f944c74_387c_11eb_ade6_540cdd3ef216row4_col1,#T_3f944c74_387c_11eb_ade6_540cdd3ef216row4_col2,#T_3f944c74_387c_11eb_ade6_540cdd3ef216row5_col0,#T_3f944c74_387c_11eb_ade6_540cdd3ef216row5_col1,#T_3f944c74_387c_11eb_ade6_540cdd3ef216row5_col2,#T_3f944c74_387c_11eb_ade6_540cdd3ef216row6_col2,#T_3f944c74_387c_11eb_ade6_540cdd3ef216row7_col2,#T_3f944c74_387c_11eb_ade6_540cdd3ef216row8_col1,#T_3f944c74_387c_11eb_ade6_540cdd3ef216row8_col2,#T_3f944c74_387c_11eb_ade6_540cdd3ef216row8_col3,#T_3f944c74_387c_11eb_ade6_540cdd3ef216row9_col1,#T_3f944c74_387c_11eb_ade6_540cdd3ef216row9_col2,#T_3f944c74_387c_11eb_ade6_540cdd3ef216row9_col3{\n",
       "            background-color:  green;\n",
       "        }</style><table id=\"T_3f944c74_387c_11eb_ade6_540cdd3ef216\" ><thead>    <tr>        <th class=\"blank level0\" ></th>        <th class=\"col_heading level0 col0\" >0</th>        <th class=\"col_heading level0 col1\" >1</th>        <th class=\"col_heading level0 col2\" >2</th>        <th class=\"col_heading level0 col3\" >CL</th>    </tr></thead><tbody>\n",
       "                <tr>\n",
       "                        <th id=\"T_3f944c74_387c_11eb_ade6_540cdd3ef216level0_row0\" class=\"row_heading level0 row0\" >0</th>\n",
       "                        <td id=\"T_3f944c74_387c_11eb_ade6_540cdd3ef216row0_col0\" class=\"data row0 col0\" >0</td>\n",
       "                        <td id=\"T_3f944c74_387c_11eb_ade6_540cdd3ef216row0_col1\" class=\"data row0 col1\" >0</td>\n",
       "                        <td id=\"T_3f944c74_387c_11eb_ade6_540cdd3ef216row0_col2\" class=\"data row0 col2\" >1</td>\n",
       "                        <td id=\"T_3f944c74_387c_11eb_ade6_540cdd3ef216row0_col3\" class=\"data row0 col3\" >0</td>\n",
       "            </tr>\n",
       "            <tr>\n",
       "                        <th id=\"T_3f944c74_387c_11eb_ade6_540cdd3ef216level0_row1\" class=\"row_heading level0 row1\" >1</th>\n",
       "                        <td id=\"T_3f944c74_387c_11eb_ade6_540cdd3ef216row1_col0\" class=\"data row1 col0\" >0</td>\n",
       "                        <td id=\"T_3f944c74_387c_11eb_ade6_540cdd3ef216row1_col1\" class=\"data row1 col1\" >1</td>\n",
       "                        <td id=\"T_3f944c74_387c_11eb_ade6_540cdd3ef216row1_col2\" class=\"data row1 col2\" >1</td>\n",
       "                        <td id=\"T_3f944c74_387c_11eb_ade6_540cdd3ef216row1_col3\" class=\"data row1 col3\" >0</td>\n",
       "            </tr>\n",
       "            <tr>\n",
       "                        <th id=\"T_3f944c74_387c_11eb_ade6_540cdd3ef216level0_row2\" class=\"row_heading level0 row2\" >2</th>\n",
       "                        <td id=\"T_3f944c74_387c_11eb_ade6_540cdd3ef216row2_col0\" class=\"data row2 col0\" >0</td>\n",
       "                        <td id=\"T_3f944c74_387c_11eb_ade6_540cdd3ef216row2_col1\" class=\"data row2 col1\" >0</td>\n",
       "                        <td id=\"T_3f944c74_387c_11eb_ade6_540cdd3ef216row2_col2\" class=\"data row2 col2\" >1</td>\n",
       "                        <td id=\"T_3f944c74_387c_11eb_ade6_540cdd3ef216row2_col3\" class=\"data row2 col3\" >0</td>\n",
       "            </tr>\n",
       "            <tr>\n",
       "                        <th id=\"T_3f944c74_387c_11eb_ade6_540cdd3ef216level0_row3\" class=\"row_heading level0 row3\" >3</th>\n",
       "                        <td id=\"T_3f944c74_387c_11eb_ade6_540cdd3ef216row3_col0\" class=\"data row3 col0\" >1</td>\n",
       "                        <td id=\"T_3f944c74_387c_11eb_ade6_540cdd3ef216row3_col1\" class=\"data row3 col1\" >0</td>\n",
       "                        <td id=\"T_3f944c74_387c_11eb_ade6_540cdd3ef216row3_col2\" class=\"data row3 col2\" >1</td>\n",
       "                        <td id=\"T_3f944c74_387c_11eb_ade6_540cdd3ef216row3_col3\" class=\"data row3 col3\" >0</td>\n",
       "            </tr>\n",
       "            <tr>\n",
       "                        <th id=\"T_3f944c74_387c_11eb_ade6_540cdd3ef216level0_row4\" class=\"row_heading level0 row4\" >5</th>\n",
       "                        <td id=\"T_3f944c74_387c_11eb_ade6_540cdd3ef216row4_col0\" class=\"data row4 col0\" >1</td>\n",
       "                        <td id=\"T_3f944c74_387c_11eb_ade6_540cdd3ef216row4_col1\" class=\"data row4 col1\" >1</td>\n",
       "                        <td id=\"T_3f944c74_387c_11eb_ade6_540cdd3ef216row4_col2\" class=\"data row4 col2\" >1</td>\n",
       "                        <td id=\"T_3f944c74_387c_11eb_ade6_540cdd3ef216row4_col3\" class=\"data row4 col3\" >0</td>\n",
       "            </tr>\n",
       "            <tr>\n",
       "                        <th id=\"T_3f944c74_387c_11eb_ade6_540cdd3ef216level0_row5\" class=\"row_heading level0 row5\" >7</th>\n",
       "                        <td id=\"T_3f944c74_387c_11eb_ade6_540cdd3ef216row5_col0\" class=\"data row5 col0\" >1</td>\n",
       "                        <td id=\"T_3f944c74_387c_11eb_ade6_540cdd3ef216row5_col1\" class=\"data row5 col1\" >1</td>\n",
       "                        <td id=\"T_3f944c74_387c_11eb_ade6_540cdd3ef216row5_col2\" class=\"data row5 col2\" >1</td>\n",
       "                        <td id=\"T_3f944c74_387c_11eb_ade6_540cdd3ef216row5_col3\" class=\"data row5 col3\" >0</td>\n",
       "            </tr>\n",
       "            <tr>\n",
       "                        <th id=\"T_3f944c74_387c_11eb_ade6_540cdd3ef216level0_row6\" class=\"row_heading level0 row6\" >8</th>\n",
       "                        <td id=\"T_3f944c74_387c_11eb_ade6_540cdd3ef216row6_col0\" class=\"data row6 col0\" >0</td>\n",
       "                        <td id=\"T_3f944c74_387c_11eb_ade6_540cdd3ef216row6_col1\" class=\"data row6 col1\" >0</td>\n",
       "                        <td id=\"T_3f944c74_387c_11eb_ade6_540cdd3ef216row6_col2\" class=\"data row6 col2\" >1</td>\n",
       "                        <td id=\"T_3f944c74_387c_11eb_ade6_540cdd3ef216row6_col3\" class=\"data row6 col3\" >0</td>\n",
       "            </tr>\n",
       "            <tr>\n",
       "                        <th id=\"T_3f944c74_387c_11eb_ade6_540cdd3ef216level0_row7\" class=\"row_heading level0 row7\" >9</th>\n",
       "                        <td id=\"T_3f944c74_387c_11eb_ade6_540cdd3ef216row7_col0\" class=\"data row7 col0\" >0</td>\n",
       "                        <td id=\"T_3f944c74_387c_11eb_ade6_540cdd3ef216row7_col1\" class=\"data row7 col1\" >0</td>\n",
       "                        <td id=\"T_3f944c74_387c_11eb_ade6_540cdd3ef216row7_col2\" class=\"data row7 col2\" >1</td>\n",
       "                        <td id=\"T_3f944c74_387c_11eb_ade6_540cdd3ef216row7_col3\" class=\"data row7 col3\" >0</td>\n",
       "            </tr>\n",
       "            <tr>\n",
       "                        <th id=\"T_3f944c74_387c_11eb_ade6_540cdd3ef216level0_row8\" class=\"row_heading level0 row8\" >10</th>\n",
       "                        <td id=\"T_3f944c74_387c_11eb_ade6_540cdd3ef216row8_col0\" class=\"data row8 col0\" >0</td>\n",
       "                        <td id=\"T_3f944c74_387c_11eb_ade6_540cdd3ef216row8_col1\" class=\"data row8 col1\" >1</td>\n",
       "                        <td id=\"T_3f944c74_387c_11eb_ade6_540cdd3ef216row8_col2\" class=\"data row8 col2\" >1</td>\n",
       "                        <td id=\"T_3f944c74_387c_11eb_ade6_540cdd3ef216row8_col3\" class=\"data row8 col3\" >1</td>\n",
       "            </tr>\n",
       "            <tr>\n",
       "                        <th id=\"T_3f944c74_387c_11eb_ade6_540cdd3ef216level0_row9\" class=\"row_heading level0 row9\" >11</th>\n",
       "                        <td id=\"T_3f944c74_387c_11eb_ade6_540cdd3ef216row9_col0\" class=\"data row9 col0\" >0</td>\n",
       "                        <td id=\"T_3f944c74_387c_11eb_ade6_540cdd3ef216row9_col1\" class=\"data row9 col1\" >1</td>\n",
       "                        <td id=\"T_3f944c74_387c_11eb_ade6_540cdd3ef216row9_col2\" class=\"data row9 col2\" >1</td>\n",
       "                        <td id=\"T_3f944c74_387c_11eb_ade6_540cdd3ef216row9_col3\" class=\"data row9 col3\" >1</td>\n",
       "            </tr>\n",
       "    </tbody></table>"
      ],
      "text/plain": [
       "<pandas.io.formats.style.Styler at 0x6f3dcc8>"
      ]
     },
     "metadata": {},
     "output_type": "display_data"
    }
   ],
   "source": [
    "display(X[X[2]==0].style.applymap(_color_green).format(\"{:.2g}\"))\n",
    "display(X[X[2]==1].style.applymap(_color_green).format(\"{:.2g}\"))"
   ]
  },
  {
   "cell_type": "code",
   "execution_count": null,
   "metadata": {},
   "outputs": [],
   "source": []
  }
 ],
 "metadata": {
  "kernelspec": {
   "display_name": "Python 3",
   "language": "python",
   "name": "python3"
  },
  "language_info": {
   "codemirror_mode": {
    "name": "ipython",
    "version": 3
   },
   "file_extension": ".py",
   "mimetype": "text/x-python",
   "name": "python",
   "nbconvert_exporter": "python",
   "pygments_lexer": "ipython3",
   "version": "3.8.5"
  },
  "toc": {
   "base_numbering": 1,
   "nav_menu": {},
   "number_sections": true,
   "sideBar": true,
   "skip_h1_title": false,
   "title_cell": "Table of Contents",
   "title_sidebar": "Contents",
   "toc_cell": false,
   "toc_position": {},
   "toc_section_display": true,
   "toc_window_display": false
  }
 },
 "nbformat": 4,
 "nbformat_minor": 4
}
