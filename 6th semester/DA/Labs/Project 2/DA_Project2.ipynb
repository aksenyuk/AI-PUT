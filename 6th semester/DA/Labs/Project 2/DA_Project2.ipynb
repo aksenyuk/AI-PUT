{
  "cells": [
    {
      "cell_type": "markdown",
      "id": "8b413f50",
      "metadata": {
        "id": "8b413f50"
      },
      "source": [
        "# Decision Analysis - Project 2"
      ]
    },
    {
      "cell_type": "markdown",
      "id": "960d54f0",
      "metadata": {
        "id": "960d54f0"
      },
      "source": [
        "### UTA Method"
      ]
    },
    {
      "cell_type": "markdown",
      "id": "251f1e0d",
      "metadata": {
        "id": "251f1e0d"
      },
      "source": [
        "---\n",
        "**Team members:**\n",
        "\n",
        "- Sofya Aksenyuk, 150284\n",
        "- Uladzimir Ivashka, 150281\n",
        "\n",
        "---"
      ]
    },
    {
      "cell_type": "markdown",
      "id": "06ec8524",
      "metadata": {
        "id": "06ec8524"
      },
      "source": [
        "## Libraries"
      ]
    },
    {
      "cell_type": "code",
      "execution_count": 1,
      "id": "8b1bac9b-4316-4db3-93fe-87c6c8f3972a",
      "metadata": {
        "id": "8b1bac9b-4316-4db3-93fe-87c6c8f3972a"
      },
      "outputs": [],
      "source": [
        "import numpy as np\n",
        "import pandas as pd\n",
        "import networkx as nx\n",
        "from matplotlib import pyplot as plt\n",
        "from pulp import *  \n",
        "import re\n",
        "import copy\n",
        "from scipy.interpolate import interp1d"
      ]
    },
    {
      "cell_type": "markdown",
      "id": "c08776f2",
      "metadata": {
        "id": "c08776f2"
      },
      "source": [
        "## Dataset"
      ]
    },
    {
      "cell_type": "code",
      "execution_count": 2,
      "id": "135dc199-888f-4fb5-87d8-babb0f6d3009",
      "metadata": {
        "id": "135dc199-888f-4fb5-87d8-babb0f6d3009"
      },
      "outputs": [],
      "source": [
        "df = pd.read_csv('Dataset.csv')"
      ]
    },
    {
      "cell_type": "code",
      "execution_count": 3,
      "id": "c506b984-d2df-4fa8-9b5b-7ec7658d525a",
      "metadata": {
        "id": "c506b984-d2df-4fa8-9b5b-7ec7658d525a"
      },
      "outputs": [],
      "source": [
        "df = df.set_index('Alternative')"
      ]
    },
    {
      "cell_type": "code",
      "execution_count": 4,
      "id": "a6c59414-5862-48e0-87a3-2b37d919a3fb",
      "metadata": {
        "colab": {
          "base_uri": "https://localhost:8080/",
          "height": 457
        },
        "id": "a6c59414-5862-48e0-87a3-2b37d919a3fb",
        "outputId": "6b83554f-d540-44ee-d106-bd2dd6977a9c"
      },
      "outputs": [
        {
          "output_type": "execute_result",
          "data": {
            "text/plain": [
              "             g1_(gain)  g2_(gain)  g3_(gain)  g4_(cost)\n",
              "Alternative                                            \n",
              "a1                  98          8        140        400\n",
              "a2                  58          0        123        800\n",
              "a3                  66          5        128       1000\n",
              "a4                  74          3        106        600\n",
              "a5                  80          7        147        200\n",
              "a6                  82         10        118        600\n",
              "a7                  58          1        109        200\n",
              "a8                  73         12        132        800\n",
              "a9                  92          9        121        500\n",
              "a10                100          6        146        300\n",
              "a11                 81          3        105        700\n",
              "a12                 67          5        105        800"
            ],
            "text/html": [
              "\n",
              "  <div id=\"df-859ad247-6e96-4456-a848-8d2d3d889d3f\">\n",
              "    <div class=\"colab-df-container\">\n",
              "      <div>\n",
              "<style scoped>\n",
              "    .dataframe tbody tr th:only-of-type {\n",
              "        vertical-align: middle;\n",
              "    }\n",
              "\n",
              "    .dataframe tbody tr th {\n",
              "        vertical-align: top;\n",
              "    }\n",
              "\n",
              "    .dataframe thead th {\n",
              "        text-align: right;\n",
              "    }\n",
              "</style>\n",
              "<table border=\"1\" class=\"dataframe\">\n",
              "  <thead>\n",
              "    <tr style=\"text-align: right;\">\n",
              "      <th></th>\n",
              "      <th>g1_(gain)</th>\n",
              "      <th>g2_(gain)</th>\n",
              "      <th>g3_(gain)</th>\n",
              "      <th>g4_(cost)</th>\n",
              "    </tr>\n",
              "    <tr>\n",
              "      <th>Alternative</th>\n",
              "      <th></th>\n",
              "      <th></th>\n",
              "      <th></th>\n",
              "      <th></th>\n",
              "    </tr>\n",
              "  </thead>\n",
              "  <tbody>\n",
              "    <tr>\n",
              "      <th>a1</th>\n",
              "      <td>98</td>\n",
              "      <td>8</td>\n",
              "      <td>140</td>\n",
              "      <td>400</td>\n",
              "    </tr>\n",
              "    <tr>\n",
              "      <th>a2</th>\n",
              "      <td>58</td>\n",
              "      <td>0</td>\n",
              "      <td>123</td>\n",
              "      <td>800</td>\n",
              "    </tr>\n",
              "    <tr>\n",
              "      <th>a3</th>\n",
              "      <td>66</td>\n",
              "      <td>5</td>\n",
              "      <td>128</td>\n",
              "      <td>1000</td>\n",
              "    </tr>\n",
              "    <tr>\n",
              "      <th>a4</th>\n",
              "      <td>74</td>\n",
              "      <td>3</td>\n",
              "      <td>106</td>\n",
              "      <td>600</td>\n",
              "    </tr>\n",
              "    <tr>\n",
              "      <th>a5</th>\n",
              "      <td>80</td>\n",
              "      <td>7</td>\n",
              "      <td>147</td>\n",
              "      <td>200</td>\n",
              "    </tr>\n",
              "    <tr>\n",
              "      <th>a6</th>\n",
              "      <td>82</td>\n",
              "      <td>10</td>\n",
              "      <td>118</td>\n",
              "      <td>600</td>\n",
              "    </tr>\n",
              "    <tr>\n",
              "      <th>a7</th>\n",
              "      <td>58</td>\n",
              "      <td>1</td>\n",
              "      <td>109</td>\n",
              "      <td>200</td>\n",
              "    </tr>\n",
              "    <tr>\n",
              "      <th>a8</th>\n",
              "      <td>73</td>\n",
              "      <td>12</td>\n",
              "      <td>132</td>\n",
              "      <td>800</td>\n",
              "    </tr>\n",
              "    <tr>\n",
              "      <th>a9</th>\n",
              "      <td>92</td>\n",
              "      <td>9</td>\n",
              "      <td>121</td>\n",
              "      <td>500</td>\n",
              "    </tr>\n",
              "    <tr>\n",
              "      <th>a10</th>\n",
              "      <td>100</td>\n",
              "      <td>6</td>\n",
              "      <td>146</td>\n",
              "      <td>300</td>\n",
              "    </tr>\n",
              "    <tr>\n",
              "      <th>a11</th>\n",
              "      <td>81</td>\n",
              "      <td>3</td>\n",
              "      <td>105</td>\n",
              "      <td>700</td>\n",
              "    </tr>\n",
              "    <tr>\n",
              "      <th>a12</th>\n",
              "      <td>67</td>\n",
              "      <td>5</td>\n",
              "      <td>105</td>\n",
              "      <td>800</td>\n",
              "    </tr>\n",
              "  </tbody>\n",
              "</table>\n",
              "</div>\n",
              "      <button class=\"colab-df-convert\" onclick=\"convertToInteractive('df-859ad247-6e96-4456-a848-8d2d3d889d3f')\"\n",
              "              title=\"Convert this dataframe to an interactive table.\"\n",
              "              style=\"display:none;\">\n",
              "        \n",
              "  <svg xmlns=\"http://www.w3.org/2000/svg\" height=\"24px\"viewBox=\"0 0 24 24\"\n",
              "       width=\"24px\">\n",
              "    <path d=\"M0 0h24v24H0V0z\" fill=\"none\"/>\n",
              "    <path d=\"M18.56 5.44l.94 2.06.94-2.06 2.06-.94-2.06-.94-.94-2.06-.94 2.06-2.06.94zm-11 1L8.5 8.5l.94-2.06 2.06-.94-2.06-.94L8.5 2.5l-.94 2.06-2.06.94zm10 10l.94 2.06.94-2.06 2.06-.94-2.06-.94-.94-2.06-.94 2.06-2.06.94z\"/><path d=\"M17.41 7.96l-1.37-1.37c-.4-.4-.92-.59-1.43-.59-.52 0-1.04.2-1.43.59L10.3 9.45l-7.72 7.72c-.78.78-.78 2.05 0 2.83L4 21.41c.39.39.9.59 1.41.59.51 0 1.02-.2 1.41-.59l7.78-7.78 2.81-2.81c.8-.78.8-2.07 0-2.86zM5.41 20L4 18.59l7.72-7.72 1.47 1.35L5.41 20z\"/>\n",
              "  </svg>\n",
              "      </button>\n",
              "      \n",
              "  <style>\n",
              "    .colab-df-container {\n",
              "      display:flex;\n",
              "      flex-wrap:wrap;\n",
              "      gap: 12px;\n",
              "    }\n",
              "\n",
              "    .colab-df-convert {\n",
              "      background-color: #E8F0FE;\n",
              "      border: none;\n",
              "      border-radius: 50%;\n",
              "      cursor: pointer;\n",
              "      display: none;\n",
              "      fill: #1967D2;\n",
              "      height: 32px;\n",
              "      padding: 0 0 0 0;\n",
              "      width: 32px;\n",
              "    }\n",
              "\n",
              "    .colab-df-convert:hover {\n",
              "      background-color: #E2EBFA;\n",
              "      box-shadow: 0px 1px 2px rgba(60, 64, 67, 0.3), 0px 1px 3px 1px rgba(60, 64, 67, 0.15);\n",
              "      fill: #174EA6;\n",
              "    }\n",
              "\n",
              "    [theme=dark] .colab-df-convert {\n",
              "      background-color: #3B4455;\n",
              "      fill: #D2E3FC;\n",
              "    }\n",
              "\n",
              "    [theme=dark] .colab-df-convert:hover {\n",
              "      background-color: #434B5C;\n",
              "      box-shadow: 0px 1px 3px 1px rgba(0, 0, 0, 0.15);\n",
              "      filter: drop-shadow(0px 1px 2px rgba(0, 0, 0, 0.3));\n",
              "      fill: #FFFFFF;\n",
              "    }\n",
              "  </style>\n",
              "\n",
              "      <script>\n",
              "        const buttonEl =\n",
              "          document.querySelector('#df-859ad247-6e96-4456-a848-8d2d3d889d3f button.colab-df-convert');\n",
              "        buttonEl.style.display =\n",
              "          google.colab.kernel.accessAllowed ? 'block' : 'none';\n",
              "\n",
              "        async function convertToInteractive(key) {\n",
              "          const element = document.querySelector('#df-859ad247-6e96-4456-a848-8d2d3d889d3f');\n",
              "          const dataTable =\n",
              "            await google.colab.kernel.invokeFunction('convertToInteractive',\n",
              "                                                     [key], {});\n",
              "          if (!dataTable) return;\n",
              "\n",
              "          const docLinkHtml = 'Like what you see? Visit the ' +\n",
              "            '<a target=\"_blank\" href=https://colab.research.google.com/notebooks/data_table.ipynb>data table notebook</a>'\n",
              "            + ' to learn more about interactive tables.';\n",
              "          element.innerHTML = '';\n",
              "          dataTable['output_type'] = 'display_data';\n",
              "          await google.colab.output.renderOutput(dataTable, element);\n",
              "          const docLink = document.createElement('div');\n",
              "          docLink.innerHTML = docLinkHtml;\n",
              "          element.appendChild(docLink);\n",
              "        }\n",
              "      </script>\n",
              "    </div>\n",
              "  </div>\n",
              "  "
            ]
          },
          "metadata": {},
          "execution_count": 4
        }
      ],
      "source": [
        "df"
      ]
    },
    {
      "cell_type": "code",
      "execution_count": 5,
      "id": "019e465b",
      "metadata": {
        "colab": {
          "base_uri": "https://localhost:8080/",
          "height": 300
        },
        "id": "019e465b",
        "outputId": "54ac32f2-6642-436f-8171-ac300e07cd0f"
      },
      "outputs": [
        {
          "output_type": "execute_result",
          "data": {
            "text/plain": [
              "        g1_(gain)  g2_(gain)   g3_(gain)    g4_(cost)\n",
              "count   12.000000  12.000000   12.000000    12.000000\n",
              "mean    77.416667   5.750000  123.333333   575.000000\n",
              "std     14.177180   3.646293   15.552453   259.807621\n",
              "min     58.000000   0.000000  105.000000   200.000000\n",
              "25%     66.750000   3.000000  108.250000   375.000000\n",
              "50%     77.000000   5.500000  122.000000   600.000000\n",
              "75%     84.500000   8.250000  134.000000   800.000000\n",
              "max    100.000000  12.000000  147.000000  1000.000000"
            ],
            "text/html": [
              "\n",
              "  <div id=\"df-5b5d6454-3e10-4aa6-8565-e7f66f091b5a\">\n",
              "    <div class=\"colab-df-container\">\n",
              "      <div>\n",
              "<style scoped>\n",
              "    .dataframe tbody tr th:only-of-type {\n",
              "        vertical-align: middle;\n",
              "    }\n",
              "\n",
              "    .dataframe tbody tr th {\n",
              "        vertical-align: top;\n",
              "    }\n",
              "\n",
              "    .dataframe thead th {\n",
              "        text-align: right;\n",
              "    }\n",
              "</style>\n",
              "<table border=\"1\" class=\"dataframe\">\n",
              "  <thead>\n",
              "    <tr style=\"text-align: right;\">\n",
              "      <th></th>\n",
              "      <th>g1_(gain)</th>\n",
              "      <th>g2_(gain)</th>\n",
              "      <th>g3_(gain)</th>\n",
              "      <th>g4_(cost)</th>\n",
              "    </tr>\n",
              "  </thead>\n",
              "  <tbody>\n",
              "    <tr>\n",
              "      <th>count</th>\n",
              "      <td>12.000000</td>\n",
              "      <td>12.000000</td>\n",
              "      <td>12.000000</td>\n",
              "      <td>12.000000</td>\n",
              "    </tr>\n",
              "    <tr>\n",
              "      <th>mean</th>\n",
              "      <td>77.416667</td>\n",
              "      <td>5.750000</td>\n",
              "      <td>123.333333</td>\n",
              "      <td>575.000000</td>\n",
              "    </tr>\n",
              "    <tr>\n",
              "      <th>std</th>\n",
              "      <td>14.177180</td>\n",
              "      <td>3.646293</td>\n",
              "      <td>15.552453</td>\n",
              "      <td>259.807621</td>\n",
              "    </tr>\n",
              "    <tr>\n",
              "      <th>min</th>\n",
              "      <td>58.000000</td>\n",
              "      <td>0.000000</td>\n",
              "      <td>105.000000</td>\n",
              "      <td>200.000000</td>\n",
              "    </tr>\n",
              "    <tr>\n",
              "      <th>25%</th>\n",
              "      <td>66.750000</td>\n",
              "      <td>3.000000</td>\n",
              "      <td>108.250000</td>\n",
              "      <td>375.000000</td>\n",
              "    </tr>\n",
              "    <tr>\n",
              "      <th>50%</th>\n",
              "      <td>77.000000</td>\n",
              "      <td>5.500000</td>\n",
              "      <td>122.000000</td>\n",
              "      <td>600.000000</td>\n",
              "    </tr>\n",
              "    <tr>\n",
              "      <th>75%</th>\n",
              "      <td>84.500000</td>\n",
              "      <td>8.250000</td>\n",
              "      <td>134.000000</td>\n",
              "      <td>800.000000</td>\n",
              "    </tr>\n",
              "    <tr>\n",
              "      <th>max</th>\n",
              "      <td>100.000000</td>\n",
              "      <td>12.000000</td>\n",
              "      <td>147.000000</td>\n",
              "      <td>1000.000000</td>\n",
              "    </tr>\n",
              "  </tbody>\n",
              "</table>\n",
              "</div>\n",
              "      <button class=\"colab-df-convert\" onclick=\"convertToInteractive('df-5b5d6454-3e10-4aa6-8565-e7f66f091b5a')\"\n",
              "              title=\"Convert this dataframe to an interactive table.\"\n",
              "              style=\"display:none;\">\n",
              "        \n",
              "  <svg xmlns=\"http://www.w3.org/2000/svg\" height=\"24px\"viewBox=\"0 0 24 24\"\n",
              "       width=\"24px\">\n",
              "    <path d=\"M0 0h24v24H0V0z\" fill=\"none\"/>\n",
              "    <path d=\"M18.56 5.44l.94 2.06.94-2.06 2.06-.94-2.06-.94-.94-2.06-.94 2.06-2.06.94zm-11 1L8.5 8.5l.94-2.06 2.06-.94-2.06-.94L8.5 2.5l-.94 2.06-2.06.94zm10 10l.94 2.06.94-2.06 2.06-.94-2.06-.94-.94-2.06-.94 2.06-2.06.94z\"/><path d=\"M17.41 7.96l-1.37-1.37c-.4-.4-.92-.59-1.43-.59-.52 0-1.04.2-1.43.59L10.3 9.45l-7.72 7.72c-.78.78-.78 2.05 0 2.83L4 21.41c.39.39.9.59 1.41.59.51 0 1.02-.2 1.41-.59l7.78-7.78 2.81-2.81c.8-.78.8-2.07 0-2.86zM5.41 20L4 18.59l7.72-7.72 1.47 1.35L5.41 20z\"/>\n",
              "  </svg>\n",
              "      </button>\n",
              "      \n",
              "  <style>\n",
              "    .colab-df-container {\n",
              "      display:flex;\n",
              "      flex-wrap:wrap;\n",
              "      gap: 12px;\n",
              "    }\n",
              "\n",
              "    .colab-df-convert {\n",
              "      background-color: #E8F0FE;\n",
              "      border: none;\n",
              "      border-radius: 50%;\n",
              "      cursor: pointer;\n",
              "      display: none;\n",
              "      fill: #1967D2;\n",
              "      height: 32px;\n",
              "      padding: 0 0 0 0;\n",
              "      width: 32px;\n",
              "    }\n",
              "\n",
              "    .colab-df-convert:hover {\n",
              "      background-color: #E2EBFA;\n",
              "      box-shadow: 0px 1px 2px rgba(60, 64, 67, 0.3), 0px 1px 3px 1px rgba(60, 64, 67, 0.15);\n",
              "      fill: #174EA6;\n",
              "    }\n",
              "\n",
              "    [theme=dark] .colab-df-convert {\n",
              "      background-color: #3B4455;\n",
              "      fill: #D2E3FC;\n",
              "    }\n",
              "\n",
              "    [theme=dark] .colab-df-convert:hover {\n",
              "      background-color: #434B5C;\n",
              "      box-shadow: 0px 1px 3px 1px rgba(0, 0, 0, 0.15);\n",
              "      filter: drop-shadow(0px 1px 2px rgba(0, 0, 0, 0.3));\n",
              "      fill: #FFFFFF;\n",
              "    }\n",
              "  </style>\n",
              "\n",
              "      <script>\n",
              "        const buttonEl =\n",
              "          document.querySelector('#df-5b5d6454-3e10-4aa6-8565-e7f66f091b5a button.colab-df-convert');\n",
              "        buttonEl.style.display =\n",
              "          google.colab.kernel.accessAllowed ? 'block' : 'none';\n",
              "\n",
              "        async function convertToInteractive(key) {\n",
              "          const element = document.querySelector('#df-5b5d6454-3e10-4aa6-8565-e7f66f091b5a');\n",
              "          const dataTable =\n",
              "            await google.colab.kernel.invokeFunction('convertToInteractive',\n",
              "                                                     [key], {});\n",
              "          if (!dataTable) return;\n",
              "\n",
              "          const docLinkHtml = 'Like what you see? Visit the ' +\n",
              "            '<a target=\"_blank\" href=https://colab.research.google.com/notebooks/data_table.ipynb>data table notebook</a>'\n",
              "            + ' to learn more about interactive tables.';\n",
              "          element.innerHTML = '';\n",
              "          dataTable['output_type'] = 'display_data';\n",
              "          await google.colab.output.renderOutput(dataTable, element);\n",
              "          const docLink = document.createElement('div');\n",
              "          docLink.innerHTML = docLinkHtml;\n",
              "          element.appendChild(docLink);\n",
              "        }\n",
              "      </script>\n",
              "    </div>\n",
              "  </div>\n",
              "  "
            ]
          },
          "metadata": {},
          "execution_count": 5
        }
      ],
      "source": [
        "df.describe()"
      ]
    },
    {
      "cell_type": "markdown",
      "id": "01185cb1",
      "metadata": {
        "id": "01185cb1"
      },
      "source": [
        "---\n",
        "\n",
        "There are **twelve alternatives**, each of them representing a house to buy, e.g.:\n",
        "\n",
        "- a1 - one-store countryside house of 140 $m^2$ area with the garage of 98 $m^2$ and garden of 8 hectares. All for the cost of 400'000 USD.\n",
        "\n",
        "There are **four criterias** describing a place, taken from a local estate agency website:\n",
        "\n",
        "- g1 - garage area (in $m^2$) \n",
        "- g2 - garden size (in hectares)\n",
        "- g3 - living area (in $m^2$)\n",
        "- g4 - cost (in thousands USD)\n",
        "\n",
        "where, we would like to maximize first three criterias for as less price as possible.\n",
        "\n",
        "Decision Maker stated their preferences on the importance of each criteria. Therefore, the **weights** are different for each of them. Each of them is relevant, but garden area (g2) is of least priority. The weights are as follows:\n",
        "\n",
        "- [3, 1, 4, 6]\n",
        "\n",
        "for criterias [g1, g2, g3, g4] respectively.\n",
        "\n",
        "Ranges of each criteria values:\n",
        "\n",
        "- g1: 58-100 ($m^2$) (gain type)\n",
        "- g2: 0-10 (hectares) (gain type)\n",
        "- g3: 105-147 ($m^2$) (gain type)\n",
        "- g4: 200-1000 (thousands USD) (cost type)\n",
        "\n",
        "where, all of them are continious."
      ]
    },
    {
      "cell_type": "markdown",
      "id": "cfe9a8a1",
      "metadata": {
        "id": "cfe9a8a1"
      },
      "source": [
        "## LP Model"
      ]
    },
    {
      "cell_type": "markdown",
      "id": "d69e8d93-fa6a-4cf8-8a02-67ad6e854f2c",
      "metadata": {
        "id": "d69e8d93-fa6a-4cf8-8a02-67ad6e854f2c"
      },
      "source": [
        "---\n",
        "### Apriori\n",
        "\n",
        "Pairwise ranking comparison:\n",
        "\n",
        "- a8 is preferred to a7 \n",
        "- a3 is preferred to a1 <- inconsistency\n",
        "- a5 is preferred to a1 \n",
        "- a7 is preferred to a4 \n",
        "- a3 is preferred to a2\n",
        "- a1 is preferred to a6\n",
        "- a4 is preferred to a2\n",
        "- a9 is preferred to a3\n",
        "- a10 is preferred to a1\n",
        "- a12 is preferred to a10 <- inconsistency\n",
        "- a5 is preferred to a6\n",
        "- a5 is preferred to a12\n",
        "- a1 is preferred to a9\n",
        "\n",
        "**Note:** There is no indifference in the dataset.\n",
        "\n",
        "### Inconsistency added to LP Model\n",
        "\n",
        "- a3 is preferred to a1, when it is actually the opposite\n",
        "- a12 is preferred to a10, when it is actually the opposite\n",
        "\n",
        "---"
      ]
    },
    {
      "cell_type": "code",
      "source": [
        "def srf(weights, min_dif=1):\n",
        "    sorted_weights = weights.sort_values()\n",
        "    ratio = [sorted_weights.iloc[0]]\n",
        "    for i in range(1, len(sorted_weights)):\n",
        "        ratio.extend((sorted_weights.iloc[i] - sorted_weights.iloc[i-1] - min_dif) * ['wc'])\n",
        "        ratio.append(sorted_weights.iloc[i])\n",
        "    print('Ratio:', ratio)\n",
        "    r = []\n",
        "    wg = dict()\n",
        "    for i in range(len(ratio)):\n",
        "        if ratio[i] != 'wc':\n",
        "            wcs = ratio[:i].count('wc')\n",
        "            r.append(i+1)\n",
        "            wg[ratio[i]] = 1 + (len(ratio) - 1) * (i) / (len(ratio) - 1)\n",
        "\n",
        "    norm = {k: v/sum(wg.values()) for k, v in wg.items()}\n",
        "    norm = [norm[i] for i in weights]\n",
        "    print('Normalized weights:', norm)\n",
        "    return norm"
      ],
      "metadata": {
        "id": "vOscYdcL_GQ8"
      },
      "id": "vOscYdcL_GQ8",
      "execution_count": 6,
      "outputs": []
    },
    {
      "cell_type": "code",
      "execution_count": 7,
      "id": "2e387ff0",
      "metadata": {
        "id": "2e387ff0"
      },
      "outputs": [],
      "source": [
        "def uta_model(df, pairwise_comparisons, problem_name):\n",
        "    model = LpProblem(problem_name, LpMinimize)\n",
        "    epsilon = 0.001\n",
        "\n",
        "    pairwise_comparisons_ = copy.deepcopy(pairwise_comparisons)\n",
        "    binary_vars = LpVariable.dicts('binary_variable', pairwise_comparisons_, lowBound=0, cat='Binary')\n",
        "    model += lpSum(list(binary_vars.values()))\n",
        "\n",
        "    names = list(map(lambda x: str(x[0]) + '_' + str(x[1]), zip(df.loc['a1'].values, df.columns)))\n",
        "    criteria_vars = dict()\n",
        "    for idx in df.index:\n",
        "        cur_var = LpVariable.dicts(idx, names, lowBound=0, cat='Continuous')\n",
        "        criteria_vars[idx] = dict(zip(df.columns, cur_var.values()))\n",
        "\n",
        "    for alt1, alt2 in pairwise_comparisons:\n",
        "        model += lpSum(list(criteria_vars[alt1].values())) >= lpSum(list(criteria_vars[alt2].values())) - binary_vars[tuple([alt1, alt2])] + epsilon\n",
        "        \n",
        "    alphas, betas, sorted_alternatives = {}, {}, {}\n",
        "    for criteria in df.columns:\n",
        "        criteria_type = re.search('\\((.+?)\\)', criteria).group(1) \n",
        "        min_value = df.index[np.argmin(df[criteria])]\n",
        "        max_value = df.index[np.argmax(df[criteria])]\n",
        "        \n",
        "        if criteria_type == 'cost':\n",
        "            sorted_alternatives[criteria] = list(df[criteria].sort_values(ascending=True).index)\n",
        "            min_value, max_value = max_value, min_value\n",
        "        else:\n",
        "            sorted_alternatives[criteria] = list(df[criteria].sort_values(ascending=False).index)\n",
        "            \n",
        "        alphas[criteria] = min_value\n",
        "        betas[criteria] = max_value\n",
        "\n",
        "    betas_values = list()\n",
        "    for criteria in df.columns:\n",
        "        model += criteria_vars[alphas[criteria]][criteria] == 0 \n",
        "        betas_values.append(criteria_vars[betas[criteria]][criteria])\n",
        "        \n",
        "    model += lpSum(betas_values) == 1\n",
        "\n",
        "    for criteria, alts in sorted_alternatives.items():\n",
        "        for idx in range(1, len(alts)):\n",
        "            model += criteria_vars[alts[idx-1]][criteria] - criteria_vars[alts[idx]][criteria] >= 0\n",
        "\n",
        "    return model"
      ]
    },
    {
      "cell_type": "markdown",
      "source": [
        "# Model with inconsistencies"
      ],
      "metadata": {
        "id": "SaFAyubeaWxG"
      },
      "id": "SaFAyubeaWxG"
    },
    {
      "cell_type": "code",
      "source": [
        "dominant_alternatives_inc = ['a8', 'a3', 'a5', 'a7', 'a3', 'a1', 'a4', 'a9', 'a10', 'a12', 'a5', 'a5', 'a1']\n",
        "dominated_alternatives_inc = ['a7', 'a1', 'a1', 'a4', 'a2', 'a6', 'a2', 'a3', 'a1', 'a10', 'a6', 'a12', 'a9']\n",
        "pairwise_comparisons_inc = list(zip(dominant_alternatives_inc, dominated_alternatives_inc))"
      ],
      "metadata": {
        "id": "6tpgyolAaTtR"
      },
      "id": "6tpgyolAaTtR",
      "execution_count": 8,
      "outputs": []
    },
    {
      "cell_type": "code",
      "source": [
        "model_inc = uta_model(df, pairwise_comparisons_inc, 'house-problem-with-inconsistency')\n",
        "status = model_inc.solve(solver = GLPK())"
      ],
      "metadata": {
        "id": "7-uz2hiQcFro"
      },
      "id": "7-uz2hiQcFro",
      "execution_count": 9,
      "outputs": []
    },
    {
      "cell_type": "markdown",
      "source": [
        "## Model objective"
      ],
      "metadata": {
        "id": "G38WAtBEcfqC"
      },
      "id": "G38WAtBEcfqC"
    },
    {
      "cell_type": "code",
      "source": [
        "print(f\"status: {model_inc.status}, {LpStatus[model_inc.status]}\")\n",
        "print(f\"objective: {model_inc.objective.value()}\")"
      ],
      "metadata": {
        "colab": {
          "base_uri": "https://localhost:8080/"
        },
        "id": "rl9EWerdcHCG",
        "outputId": "323ea950-f368-4929-817f-64a7dfc98404"
      },
      "id": "rl9EWerdcHCG",
      "execution_count": 10,
      "outputs": [
        {
          "output_type": "stream",
          "name": "stdout",
          "text": [
            "status: 1, Optimal\n",
            "objective: 2\n"
          ]
        }
      ]
    },
    {
      "cell_type": "markdown",
      "source": [
        "---\n",
        "Objective function value greater than zero constitues to the presence of inconsistencies.\n",
        "\n",
        "---"
      ],
      "metadata": {
        "id": "xHKOuneN3caB"
      },
      "id": "xHKOuneN3caB"
    },
    {
      "cell_type": "markdown",
      "source": [
        "## Model variables' optimized values and found inconsistencies"
      ],
      "metadata": {
        "id": "-hoLUtA3cY5F"
      },
      "id": "-hoLUtA3cY5F"
    },
    {
      "cell_type": "code",
      "source": [
        "for var in model_inc.variables():\n",
        "    if 'binary_variable' in var.name and var.value() > 0:\n",
        "        print(f\"{var.name}: {var.value()} <- inconsistency\")\n",
        "    else:\n",
        "        print(f\"{var.name}: {var.value()}\")"
      ],
      "metadata": {
        "colab": {
          "base_uri": "https://localhost:8080/"
        },
        "id": "og6gZOxWECYf",
        "outputId": "42031d81-029e-4733-a3e6-346c1b20e442"
      },
      "id": "og6gZOxWECYf",
      "execution_count": 11,
      "outputs": [
        {
          "output_type": "stream",
          "name": "stdout",
          "text": [
            "a10_140_g3_(gain): 0.002\n",
            "a10_400_g4_(cost): 0.0\n",
            "a10_8_g2_(gain): 0.0\n",
            "a10_98_g1_(gain): 0.003\n",
            "a11_140_g3_(gain): 0.0\n",
            "a11_400_g4_(cost): 0.0\n",
            "a11_8_g2_(gain): 0.0\n",
            "a11_98_g1_(gain): 0.001\n",
            "a12_140_g3_(gain): 0.0\n",
            "a12_400_g4_(cost): 0.0\n",
            "a12_8_g2_(gain): 0.0\n",
            "a12_98_g1_(gain): 0.0\n",
            "a1_140_g3_(gain): 0.002\n",
            "a1_400_g4_(cost): 0.0\n",
            "a1_8_g2_(gain): 0.0\n",
            "a1_98_g1_(gain): 0.002\n",
            "a2_140_g3_(gain): 0.0\n",
            "a2_400_g4_(cost): 0.0\n",
            "a2_8_g2_(gain): 0.0\n",
            "a2_98_g1_(gain): 0.0\n",
            "a3_140_g3_(gain): 0.002\n",
            "a3_400_g4_(cost): 0.0\n",
            "a3_8_g2_(gain): 0.0\n",
            "a3_98_g1_(gain): 0.0\n",
            "a4_140_g3_(gain): 0.0\n",
            "a4_400_g4_(cost): 0.0\n",
            "a4_8_g2_(gain): 0.0\n",
            "a4_98_g1_(gain): 0.001\n",
            "a5_140_g3_(gain): 0.002\n",
            "a5_400_g4_(cost): 0.994\n",
            "a5_8_g2_(gain): 0.0\n",
            "a5_98_g1_(gain): 0.001\n",
            "a6_140_g3_(gain): 0.0\n",
            "a6_400_g4_(cost): 0.0\n",
            "a6_8_g2_(gain): 0.001\n",
            "a6_98_g1_(gain): 0.002\n",
            "a7_140_g3_(gain): 0.0\n",
            "a7_400_g4_(cost): 0.002\n",
            "a7_8_g2_(gain): 0.0\n",
            "a7_98_g1_(gain): 0.0\n",
            "a8_140_g3_(gain): 0.002\n",
            "a8_400_g4_(cost): 0.0\n",
            "a8_8_g2_(gain): 0.001\n",
            "a8_98_g1_(gain): 0.0\n",
            "a9_140_g3_(gain): 0.0\n",
            "a9_400_g4_(cost): 0.0\n",
            "a9_8_g2_(gain): 0.001\n",
            "a9_98_g1_(gain): 0.002\n",
            "binary_variable_('a1',_'a6'): 0\n",
            "binary_variable_('a1',_'a9'): 0\n",
            "binary_variable_('a10',_'a1'): 0\n",
            "binary_variable_('a12',_'a10'): 1 <- inconsistency\n",
            "binary_variable_('a3',_'a1'): 1 <- inconsistency\n",
            "binary_variable_('a3',_'a2'): 0\n",
            "binary_variable_('a4',_'a2'): 0\n",
            "binary_variable_('a5',_'a1'): 0\n",
            "binary_variable_('a5',_'a12'): 0\n",
            "binary_variable_('a5',_'a6'): 0\n",
            "binary_variable_('a7',_'a4'): 0\n",
            "binary_variable_('a8',_'a7'): 0\n",
            "binary_variable_('a9',_'a3'): 0\n"
          ]
        }
      ]
    },
    {
      "cell_type": "markdown",
      "source": [
        "---\n",
        "As it can be seen, the model detected the inconsistencies: `(a12, a10)` and `(a3, a1)`.\n",
        "\n",
        "---"
      ],
      "metadata": {
        "id": "ruwNmeko2p6G"
      },
      "id": "ruwNmeko2p6G"
    },
    {
      "cell_type": "markdown",
      "source": [
        "## Model constraints"
      ],
      "metadata": {
        "id": "CaPUyZZhcWWo"
      },
      "id": "CaPUyZZhcWWo"
    },
    {
      "cell_type": "code",
      "source": [
        "for constraint in model_inc.constraints.values():\n",
        "    print(\"[•] \", constraint)"
      ],
      "metadata": {
        "colab": {
          "base_uri": "https://localhost:8080/"
        },
        "id": "1Ep87ED3bjYc",
        "outputId": "3170d42c-66d9-4989-b280-a6d6ead77336"
      },
      "id": "1Ep87ED3bjYc",
      "execution_count": 12,
      "outputs": [
        {
          "output_type": "stream",
          "name": "stdout",
          "text": [
            "[•]  -a7_140_g3_(gain) - a7_400_g4_(cost) - a7_8_g2_(gain) - a7_98_g1_(gain) + a8_140_g3_(gain) + a8_400_g4_(cost) + a8_8_g2_(gain) + a8_98_g1_(gain) + binary_variable_('a8',_'a7') >= 0.001\n",
            "[•]  -a1_140_g3_(gain) - a1_400_g4_(cost) - a1_8_g2_(gain) - a1_98_g1_(gain) + a3_140_g3_(gain) + a3_400_g4_(cost) + a3_8_g2_(gain) + a3_98_g1_(gain) + binary_variable_('a3',_'a1') >= 0.001\n",
            "[•]  -a1_140_g3_(gain) - a1_400_g4_(cost) - a1_8_g2_(gain) - a1_98_g1_(gain) + a5_140_g3_(gain) + a5_400_g4_(cost) + a5_8_g2_(gain) + a5_98_g1_(gain) + binary_variable_('a5',_'a1') >= 0.001\n",
            "[•]  -a4_140_g3_(gain) - a4_400_g4_(cost) - a4_8_g2_(gain) - a4_98_g1_(gain) + a7_140_g3_(gain) + a7_400_g4_(cost) + a7_8_g2_(gain) + a7_98_g1_(gain) + binary_variable_('a7',_'a4') >= 0.001\n",
            "[•]  -a2_140_g3_(gain) - a2_400_g4_(cost) - a2_8_g2_(gain) - a2_98_g1_(gain) + a3_140_g3_(gain) + a3_400_g4_(cost) + a3_8_g2_(gain) + a3_98_g1_(gain) + binary_variable_('a3',_'a2') >= 0.001\n",
            "[•]  a1_140_g3_(gain) + a1_400_g4_(cost) + a1_8_g2_(gain) + a1_98_g1_(gain) - a6_140_g3_(gain) - a6_400_g4_(cost) - a6_8_g2_(gain) - a6_98_g1_(gain) + binary_variable_('a1',_'a6') >= 0.001\n",
            "[•]  -a2_140_g3_(gain) - a2_400_g4_(cost) - a2_8_g2_(gain) - a2_98_g1_(gain) + a4_140_g3_(gain) + a4_400_g4_(cost) + a4_8_g2_(gain) + a4_98_g1_(gain) + binary_variable_('a4',_'a2') >= 0.001\n",
            "[•]  -a3_140_g3_(gain) - a3_400_g4_(cost) - a3_8_g2_(gain) - a3_98_g1_(gain) + a9_140_g3_(gain) + a9_400_g4_(cost) + a9_8_g2_(gain) + a9_98_g1_(gain) + binary_variable_('a9',_'a3') >= 0.001\n",
            "[•]  a10_140_g3_(gain) + a10_400_g4_(cost) + a10_8_g2_(gain) + a10_98_g1_(gain) - a1_140_g3_(gain) - a1_400_g4_(cost) - a1_8_g2_(gain) - a1_98_g1_(gain) + binary_variable_('a10',_'a1') >= 0.001\n",
            "[•]  -a10_140_g3_(gain) - a10_400_g4_(cost) - a10_8_g2_(gain) - a10_98_g1_(gain) + a12_140_g3_(gain) + a12_400_g4_(cost) + a12_8_g2_(gain) + a12_98_g1_(gain) + binary_variable_('a12',_'a10') >= 0.001\n",
            "[•]  a5_140_g3_(gain) + a5_400_g4_(cost) + a5_8_g2_(gain) + a5_98_g1_(gain) - a6_140_g3_(gain) - a6_400_g4_(cost) - a6_8_g2_(gain) - a6_98_g1_(gain) + binary_variable_('a5',_'a6') >= 0.001\n",
            "[•]  -a12_140_g3_(gain) - a12_400_g4_(cost) - a12_8_g2_(gain) - a12_98_g1_(gain) + a5_140_g3_(gain) + a5_400_g4_(cost) + a5_8_g2_(gain) + a5_98_g1_(gain) + binary_variable_('a5',_'a12') >= 0.001\n",
            "[•]  a1_140_g3_(gain) + a1_400_g4_(cost) + a1_8_g2_(gain) + a1_98_g1_(gain) - a9_140_g3_(gain) - a9_400_g4_(cost) - a9_8_g2_(gain) - a9_98_g1_(gain) + binary_variable_('a1',_'a9') >= 0.001\n",
            "[•]  a2_98_g1_(gain) = 0\n",
            "[•]  a2_8_g2_(gain) = 0\n",
            "[•]  a11_140_g3_(gain) = 0\n",
            "[•]  a3_400_g4_(cost) = 0\n",
            "[•]  a10_98_g1_(gain) + a5_140_g3_(gain) + a5_400_g4_(cost) + a8_8_g2_(gain) = 1\n",
            "[•]  a10_98_g1_(gain) - a1_98_g1_(gain) >= 0\n",
            "[•]  a1_98_g1_(gain) - a9_98_g1_(gain) >= 0\n",
            "[•]  -a6_98_g1_(gain) + a9_98_g1_(gain) >= 0\n",
            "[•]  -a11_98_g1_(gain) + a6_98_g1_(gain) >= 0\n",
            "[•]  a11_98_g1_(gain) - a5_98_g1_(gain) >= 0\n",
            "[•]  -a4_98_g1_(gain) + a5_98_g1_(gain) >= 0\n",
            "[•]  a4_98_g1_(gain) - a8_98_g1_(gain) >= 0\n",
            "[•]  -a12_98_g1_(gain) + a8_98_g1_(gain) >= 0\n",
            "[•]  a12_98_g1_(gain) - a3_98_g1_(gain) >= 0\n",
            "[•]  -a2_98_g1_(gain) + a3_98_g1_(gain) >= 0\n",
            "[•]  a2_98_g1_(gain) - a7_98_g1_(gain) >= 0\n",
            "[•]  -a6_8_g2_(gain) + a8_8_g2_(gain) >= 0\n",
            "[•]  a6_8_g2_(gain) - a9_8_g2_(gain) >= 0\n",
            "[•]  -a1_8_g2_(gain) + a9_8_g2_(gain) >= 0\n",
            "[•]  a1_8_g2_(gain) - a5_8_g2_(gain) >= 0\n",
            "[•]  -a10_8_g2_(gain) + a5_8_g2_(gain) >= 0\n",
            "[•]  a10_8_g2_(gain) - a3_8_g2_(gain) >= 0\n",
            "[•]  -a12_8_g2_(gain) + a3_8_g2_(gain) >= 0\n",
            "[•]  a12_8_g2_(gain) - a4_8_g2_(gain) >= 0\n",
            "[•]  -a11_8_g2_(gain) + a4_8_g2_(gain) >= 0\n",
            "[•]  a11_8_g2_(gain) - a7_8_g2_(gain) >= 0\n",
            "[•]  -a2_8_g2_(gain) + a7_8_g2_(gain) >= 0\n",
            "[•]  -a10_140_g3_(gain) + a5_140_g3_(gain) >= 0\n",
            "[•]  a10_140_g3_(gain) - a1_140_g3_(gain) >= 0\n",
            "[•]  a1_140_g3_(gain) - a8_140_g3_(gain) >= 0\n",
            "[•]  -a3_140_g3_(gain) + a8_140_g3_(gain) >= 0\n",
            "[•]  -a2_140_g3_(gain) + a3_140_g3_(gain) >= 0\n",
            "[•]  a2_140_g3_(gain) - a9_140_g3_(gain) >= 0\n",
            "[•]  -a6_140_g3_(gain) + a9_140_g3_(gain) >= 0\n",
            "[•]  a6_140_g3_(gain) - a7_140_g3_(gain) >= 0\n",
            "[•]  -a4_140_g3_(gain) + a7_140_g3_(gain) >= 0\n",
            "[•]  -a11_140_g3_(gain) + a4_140_g3_(gain) >= 0\n",
            "[•]  a11_140_g3_(gain) - a12_140_g3_(gain) >= 0\n",
            "[•]  a5_400_g4_(cost) - a7_400_g4_(cost) >= 0\n",
            "[•]  -a10_400_g4_(cost) + a7_400_g4_(cost) >= 0\n",
            "[•]  a10_400_g4_(cost) - a1_400_g4_(cost) >= 0\n",
            "[•]  a1_400_g4_(cost) - a9_400_g4_(cost) >= 0\n",
            "[•]  -a4_400_g4_(cost) + a9_400_g4_(cost) >= 0\n",
            "[•]  a4_400_g4_(cost) - a6_400_g4_(cost) >= 0\n",
            "[•]  -a11_400_g4_(cost) + a6_400_g4_(cost) >= 0\n",
            "[•]  a11_400_g4_(cost) - a2_400_g4_(cost) >= 0\n",
            "[•]  a2_400_g4_(cost) - a8_400_g4_(cost) >= 0\n",
            "[•]  -a12_400_g4_(cost) + a8_400_g4_(cost) >= 0\n",
            "[•]  a12_400_g4_(cost) - a3_400_g4_(cost) >= 0\n"
          ]
        }
      ]
    },
    {
      "cell_type": "markdown",
      "source": [
        "# Model without inconsistencies"
      ],
      "metadata": {
        "id": "YyLrfLr4pzdt"
      },
      "id": "YyLrfLr4pzdt"
    },
    {
      "cell_type": "code",
      "source": [
        "dominant_alternatives_no_inc = ['a8', 'a5', 'a7', 'a3', 'a1', 'a4', 'a9', 'a10', 'a5', 'a1', 'a5']\n",
        "dominated_alternatives_no_inc = ['a7', 'a1', 'a4', 'a2', 'a6', 'a2', 'a3', 'a1', 'a6', 'a9', 'a12']\n",
        "pairwise_comparisons_no_inc = list(zip(dominant_alternatives_no_inc, dominated_alternatives_no_inc))"
      ],
      "metadata": {
        "id": "vuspob3q1UE9"
      },
      "id": "vuspob3q1UE9",
      "execution_count": 13,
      "outputs": []
    },
    {
      "cell_type": "code",
      "source": [
        "model_no_inc = uta_model(df, pairwise_comparisons_no_inc, 'house-problem-no-inconsistency')\n",
        "status = model_no_inc.solve(solver = GLPK())"
      ],
      "metadata": {
        "id": "7opG-jx81X1I"
      },
      "id": "7opG-jx81X1I",
      "execution_count": 14,
      "outputs": []
    },
    {
      "cell_type": "markdown",
      "source": [
        "## Model objective"
      ],
      "metadata": {
        "id": "_o0ezOey1ZBA"
      },
      "id": "_o0ezOey1ZBA"
    },
    {
      "cell_type": "code",
      "source": [
        "print(f\"status: {model_no_inc.status}, {LpStatus[model_no_inc.status]}\")\n",
        "print(f\"objective: {model_no_inc.objective.value()}\")"
      ],
      "metadata": {
        "colab": {
          "base_uri": "https://localhost:8080/"
        },
        "id": "bF_Wdr0VpSas",
        "outputId": "0815e70d-5ebb-4e0a-9d94-11a61217f9e7"
      },
      "id": "bF_Wdr0VpSas",
      "execution_count": 15,
      "outputs": [
        {
          "output_type": "stream",
          "name": "stdout",
          "text": [
            "status: 1, Optimal\n",
            "objective: 0\n"
          ]
        }
      ]
    },
    {
      "cell_type": "markdown",
      "source": [
        "---\n",
        "There are no inconsistencies, therefore, the objective function value is equal to 0.\n",
        "\n",
        "---"
      ],
      "metadata": {
        "id": "I_GUIqOI28zU"
      },
      "id": "I_GUIqOI28zU"
    },
    {
      "cell_type": "markdown",
      "source": [
        "## Model constraints"
      ],
      "metadata": {
        "id": "R2TpiMuC1bts"
      },
      "id": "R2TpiMuC1bts"
    },
    {
      "cell_type": "code",
      "source": [
        "for constraint in model_no_inc.constraints.values():\n",
        "    print(\"[•] \", constraint)"
      ],
      "metadata": {
        "colab": {
          "base_uri": "https://localhost:8080/"
        },
        "id": "M3v_houAp_Za",
        "outputId": "3b6cc9cc-b8c1-4539-9ea5-f89a8d388acd"
      },
      "id": "M3v_houAp_Za",
      "execution_count": 16,
      "outputs": [
        {
          "output_type": "stream",
          "name": "stdout",
          "text": [
            "[•]  -a7_140_g3_(gain) - a7_400_g4_(cost) - a7_8_g2_(gain) - a7_98_g1_(gain) + a8_140_g3_(gain) + a8_400_g4_(cost) + a8_8_g2_(gain) + a8_98_g1_(gain) + binary_variable_('a8',_'a7') >= 0.001\n",
            "[•]  -a1_140_g3_(gain) - a1_400_g4_(cost) - a1_8_g2_(gain) - a1_98_g1_(gain) + a5_140_g3_(gain) + a5_400_g4_(cost) + a5_8_g2_(gain) + a5_98_g1_(gain) + binary_variable_('a5',_'a1') >= 0.001\n",
            "[•]  -a4_140_g3_(gain) - a4_400_g4_(cost) - a4_8_g2_(gain) - a4_98_g1_(gain) + a7_140_g3_(gain) + a7_400_g4_(cost) + a7_8_g2_(gain) + a7_98_g1_(gain) + binary_variable_('a7',_'a4') >= 0.001\n",
            "[•]  -a2_140_g3_(gain) - a2_400_g4_(cost) - a2_8_g2_(gain) - a2_98_g1_(gain) + a3_140_g3_(gain) + a3_400_g4_(cost) + a3_8_g2_(gain) + a3_98_g1_(gain) + binary_variable_('a3',_'a2') >= 0.001\n",
            "[•]  a1_140_g3_(gain) + a1_400_g4_(cost) + a1_8_g2_(gain) + a1_98_g1_(gain) - a6_140_g3_(gain) - a6_400_g4_(cost) - a6_8_g2_(gain) - a6_98_g1_(gain) + binary_variable_('a1',_'a6') >= 0.001\n",
            "[•]  -a2_140_g3_(gain) - a2_400_g4_(cost) - a2_8_g2_(gain) - a2_98_g1_(gain) + a4_140_g3_(gain) + a4_400_g4_(cost) + a4_8_g2_(gain) + a4_98_g1_(gain) + binary_variable_('a4',_'a2') >= 0.001\n",
            "[•]  -a3_140_g3_(gain) - a3_400_g4_(cost) - a3_8_g2_(gain) - a3_98_g1_(gain) + a9_140_g3_(gain) + a9_400_g4_(cost) + a9_8_g2_(gain) + a9_98_g1_(gain) + binary_variable_('a9',_'a3') >= 0.001\n",
            "[•]  a10_140_g3_(gain) + a10_400_g4_(cost) + a10_8_g2_(gain) + a10_98_g1_(gain) - a1_140_g3_(gain) - a1_400_g4_(cost) - a1_8_g2_(gain) - a1_98_g1_(gain) + binary_variable_('a10',_'a1') >= 0.001\n",
            "[•]  a5_140_g3_(gain) + a5_400_g4_(cost) + a5_8_g2_(gain) + a5_98_g1_(gain) - a6_140_g3_(gain) - a6_400_g4_(cost) - a6_8_g2_(gain) - a6_98_g1_(gain) + binary_variable_('a5',_'a6') >= 0.001\n",
            "[•]  a1_140_g3_(gain) + a1_400_g4_(cost) + a1_8_g2_(gain) + a1_98_g1_(gain) - a9_140_g3_(gain) - a9_400_g4_(cost) - a9_8_g2_(gain) - a9_98_g1_(gain) + binary_variable_('a1',_'a9') >= 0.001\n",
            "[•]  -a12_140_g3_(gain) - a12_400_g4_(cost) - a12_8_g2_(gain) - a12_98_g1_(gain) + a5_140_g3_(gain) + a5_400_g4_(cost) + a5_8_g2_(gain) + a5_98_g1_(gain) + binary_variable_('a5',_'a12') >= 0.001\n",
            "[•]  a2_98_g1_(gain) = 0\n",
            "[•]  a2_8_g2_(gain) = 0\n",
            "[•]  a11_140_g3_(gain) = 0\n",
            "[•]  a3_400_g4_(cost) = 0\n",
            "[•]  a10_98_g1_(gain) + a5_140_g3_(gain) + a5_400_g4_(cost) + a8_8_g2_(gain) = 1\n",
            "[•]  a10_98_g1_(gain) - a1_98_g1_(gain) >= 0\n",
            "[•]  a1_98_g1_(gain) - a9_98_g1_(gain) >= 0\n",
            "[•]  -a6_98_g1_(gain) + a9_98_g1_(gain) >= 0\n",
            "[•]  -a11_98_g1_(gain) + a6_98_g1_(gain) >= 0\n",
            "[•]  a11_98_g1_(gain) - a5_98_g1_(gain) >= 0\n",
            "[•]  -a4_98_g1_(gain) + a5_98_g1_(gain) >= 0\n",
            "[•]  a4_98_g1_(gain) - a8_98_g1_(gain) >= 0\n",
            "[•]  -a12_98_g1_(gain) + a8_98_g1_(gain) >= 0\n",
            "[•]  a12_98_g1_(gain) - a3_98_g1_(gain) >= 0\n",
            "[•]  -a2_98_g1_(gain) + a3_98_g1_(gain) >= 0\n",
            "[•]  a2_98_g1_(gain) - a7_98_g1_(gain) >= 0\n",
            "[•]  -a6_8_g2_(gain) + a8_8_g2_(gain) >= 0\n",
            "[•]  a6_8_g2_(gain) - a9_8_g2_(gain) >= 0\n",
            "[•]  -a1_8_g2_(gain) + a9_8_g2_(gain) >= 0\n",
            "[•]  a1_8_g2_(gain) - a5_8_g2_(gain) >= 0\n",
            "[•]  -a10_8_g2_(gain) + a5_8_g2_(gain) >= 0\n",
            "[•]  a10_8_g2_(gain) - a3_8_g2_(gain) >= 0\n",
            "[•]  -a12_8_g2_(gain) + a3_8_g2_(gain) >= 0\n",
            "[•]  a12_8_g2_(gain) - a4_8_g2_(gain) >= 0\n",
            "[•]  -a11_8_g2_(gain) + a4_8_g2_(gain) >= 0\n",
            "[•]  a11_8_g2_(gain) - a7_8_g2_(gain) >= 0\n",
            "[•]  -a2_8_g2_(gain) + a7_8_g2_(gain) >= 0\n",
            "[•]  -a10_140_g3_(gain) + a5_140_g3_(gain) >= 0\n",
            "[•]  a10_140_g3_(gain) - a1_140_g3_(gain) >= 0\n",
            "[•]  a1_140_g3_(gain) - a8_140_g3_(gain) >= 0\n",
            "[•]  -a3_140_g3_(gain) + a8_140_g3_(gain) >= 0\n",
            "[•]  -a2_140_g3_(gain) + a3_140_g3_(gain) >= 0\n",
            "[•]  a2_140_g3_(gain) - a9_140_g3_(gain) >= 0\n",
            "[•]  -a6_140_g3_(gain) + a9_140_g3_(gain) >= 0\n",
            "[•]  a6_140_g3_(gain) - a7_140_g3_(gain) >= 0\n",
            "[•]  -a4_140_g3_(gain) + a7_140_g3_(gain) >= 0\n",
            "[•]  -a11_140_g3_(gain) + a4_140_g3_(gain) >= 0\n",
            "[•]  a11_140_g3_(gain) - a12_140_g3_(gain) >= 0\n",
            "[•]  a5_400_g4_(cost) - a7_400_g4_(cost) >= 0\n",
            "[•]  -a10_400_g4_(cost) + a7_400_g4_(cost) >= 0\n",
            "[•]  a10_400_g4_(cost) - a1_400_g4_(cost) >= 0\n",
            "[•]  a1_400_g4_(cost) - a9_400_g4_(cost) >= 0\n",
            "[•]  -a4_400_g4_(cost) + a9_400_g4_(cost) >= 0\n",
            "[•]  a4_400_g4_(cost) - a6_400_g4_(cost) >= 0\n",
            "[•]  -a11_400_g4_(cost) + a6_400_g4_(cost) >= 0\n",
            "[•]  a11_400_g4_(cost) - a2_400_g4_(cost) >= 0\n",
            "[•]  a2_400_g4_(cost) - a8_400_g4_(cost) >= 0\n",
            "[•]  -a12_400_g4_(cost) + a8_400_g4_(cost) >= 0\n",
            "[•]  a12_400_g4_(cost) - a3_400_g4_(cost) >= 0\n"
          ]
        }
      ]
    },
    {
      "cell_type": "markdown",
      "source": [
        "## Model variables' optimized values"
      ],
      "metadata": {
        "id": "1j893RoN1lBE"
      },
      "id": "1j893RoN1lBE"
    },
    {
      "cell_type": "code",
      "source": [
        "criteria_function_values = dict()\n",
        "for var in model_no_inc.variables():\n",
        "    if 'binary_variable' in var.name and var.value() > 0:\n",
        "        print(f\"{var.name}: {var.value()} <- inconsistency\")\n",
        "    else:\n",
        "        print(f\"{var.name}: {var.value()}\")\n",
        "        if 'binary_variable' not in var.name:\n",
        "            criteria_name = re.search('g(.+?)\\)', var.name).group(0)\n",
        "            criteria_function_values.setdefault(criteria_name, []).append(var.value())"
      ],
      "metadata": {
        "colab": {
          "base_uri": "https://localhost:8080/"
        },
        "id": "nky4UGxup-vc",
        "outputId": "3ee237af-dcfe-4dc4-f852-807b17814eb7"
      },
      "id": "nky4UGxup-vc",
      "execution_count": 17,
      "outputs": [
        {
          "output_type": "stream",
          "name": "stdout",
          "text": [
            "a10_140_g3_(gain): 0.0\n",
            "a10_400_g4_(cost): 0.0\n",
            "a10_8_g2_(gain): 0.001\n",
            "a10_98_g1_(gain): 0.994\n",
            "a11_140_g3_(gain): 0.0\n",
            "a11_400_g4_(cost): 0.0\n",
            "a11_8_g2_(gain): 0.001\n",
            "a11_98_g1_(gain): 0.0\n",
            "a12_140_g3_(gain): 0.0\n",
            "a12_400_g4_(cost): 0.0\n",
            "a12_8_g2_(gain): 0.001\n",
            "a12_98_g1_(gain): 0.0\n",
            "a1_140_g3_(gain): 0.0\n",
            "a1_400_g4_(cost): 0.0\n",
            "a1_8_g2_(gain): 0.001\n",
            "a1_98_g1_(gain): 0.002\n",
            "a2_140_g3_(gain): 0.0\n",
            "a2_400_g4_(cost): 0.0\n",
            "a2_8_g2_(gain): 0.0\n",
            "a2_98_g1_(gain): 0.0\n",
            "a3_140_g3_(gain): 0.0\n",
            "a3_400_g4_(cost): 0.0\n",
            "a3_8_g2_(gain): 0.001\n",
            "a3_98_g1_(gain): 0.0\n",
            "a4_140_g3_(gain): 0.0\n",
            "a4_400_g4_(cost): 0.0\n",
            "a4_8_g2_(gain): 0.001\n",
            "a4_98_g1_(gain): 0.0\n",
            "a5_140_g3_(gain): 0.002\n",
            "a5_400_g4_(cost): 0.001\n",
            "a5_8_g2_(gain): 0.001\n",
            "a5_98_g1_(gain): 0.0\n",
            "a6_140_g3_(gain): 0.0\n",
            "a6_400_g4_(cost): 0.0\n",
            "a6_8_g2_(gain): 0.001\n",
            "a6_98_g1_(gain): 0.0\n",
            "a7_140_g3_(gain): 0.0\n",
            "a7_400_g4_(cost): 0.001\n",
            "a7_8_g2_(gain): 0.001\n",
            "a7_98_g1_(gain): 0.0\n",
            "a8_140_g3_(gain): 0.0\n",
            "a8_400_g4_(cost): 0.0\n",
            "a8_8_g2_(gain): 0.003\n",
            "a8_98_g1_(gain): 0.0\n",
            "a9_140_g3_(gain): 0.0\n",
            "a9_400_g4_(cost): 0.0\n",
            "a9_8_g2_(gain): 0.001\n",
            "a9_98_g1_(gain): 0.001\n",
            "binary_variable_('a1',_'a6'): 0\n",
            "binary_variable_('a1',_'a9'): 0\n",
            "binary_variable_('a10',_'a1'): 0\n",
            "binary_variable_('a3',_'a2'): 0\n",
            "binary_variable_('a4',_'a2'): 0\n",
            "binary_variable_('a5',_'a1'): 0\n",
            "binary_variable_('a5',_'a12'): 0\n",
            "binary_variable_('a5',_'a6'): 0\n",
            "binary_variable_('a7',_'a4'): 0\n",
            "binary_variable_('a8',_'a7'): 0\n",
            "binary_variable_('a9',_'a3'): 0\n"
          ]
        }
      ]
    },
    {
      "cell_type": "markdown",
      "source": [
        "# Marginal utility function plots"
      ],
      "metadata": {
        "id": "EMkGApyA1nsP"
      },
      "id": "EMkGApyA1nsP"
    },
    {
      "cell_type": "code",
      "source": [
        "fig, ax = plt.subplots(2, 2, figsize=(10, 7))\n",
        "ax = ax.ravel()\n",
        "\n",
        "criteria_function_values = dict(sorted(criteria_function_values.items()))\n",
        "math_functions = dict()\n",
        "for i, (k, v) in enumerate(criteria_function_values.items()):\n",
        "    criteria_type = re.search('\\((.+?)\\)', k).group(1)\n",
        "    v = sorted(v, reverse=bool(criteria_type=='cost'))\n",
        "    v = np.array(v)\n",
        "    v = (v - min(v)) / (max(v) - min(v)) ## scaling to the same max utility value\n",
        "\n",
        "    x = np.linspace(min(df[k]), max(df[k]), len(v))\n",
        "    math_functions[k] = interp1d(x, v)\n",
        "\n",
        "    ax[i].plot(x, v)\n",
        "    ax[i].set_title(f'Marginal utility function for {k}')\n",
        "    ax[i].set_ylabel(f'u{i+1}(a)')\n",
        "    ax[i].set_xlabel(f'g{i+1}(a)')\n",
        "\n",
        "fig.tight_layout(pad=2.5)"
      ],
      "metadata": {
        "colab": {
          "base_uri": "https://localhost:8080/",
          "height": 667
        },
        "id": "zy8kLPw3co2Y",
        "outputId": "c6d5daf8-d058-4960-e76c-a59f85641c11"
      },
      "id": "zy8kLPw3co2Y",
      "execution_count": 18,
      "outputs": [
        {
          "output_type": "display_data",
          "data": {
            "text/plain": [
              "<Figure size 1000x700 with 4 Axes>"
            ],
            "image/png": "[encoded data removed]"
          },
          "metadata": {}
        }
      ]
    },
    {
      "cell_type": "markdown",
      "source": [
        "# UTA Ranking"
      ],
      "metadata": {
        "id": "KLT4upq-10eF"
      },
      "id": "KLT4upq-10eF"
    },
    {
      "cell_type": "code",
      "source": [
        "def get_addval_matrix(df, math_functions, weights):\n",
        "    matrix = pd.DataFrame(index=df.index)\n",
        "    for idx, col in enumerate(df.columns):\n",
        "      matrix[f'u{idx+1}'] = df[col].apply(math_functions[col])\n",
        "      \n",
        "    matrix['U'] = np.sum(matrix * weights, axis=1)\n",
        "    \n",
        "    return matrix"
      ],
      "metadata": {
        "id": "sxFkHkmhuCaN"
      },
      "id": "sxFkHkmhuCaN",
      "execution_count": 19,
      "outputs": []
    },
    {
      "cell_type": "code",
      "source": [
        "equal_weights = [1, 1, 1, 1]\n",
        "mat_equal_weights = get_addval_matrix(df, math_functions, equal_weights)\n",
        "mat_equal_weights"
      ],
      "metadata": {
        "colab": {
          "base_uri": "https://localhost:8080/",
          "height": 457
        },
        "id": "En8UDVUWv3pz",
        "outputId": "a0abc760-d6c4-4b83-fe2d-f5f95eebdecf"
      },
      "id": "En8UDVUWv3pz",
      "execution_count": 20,
      "outputs": [
        {
          "output_type": "execute_result",
          "data": {
            "text/plain": [
              "                   u1        u2        u3     u4         U\n",
              "Alternative                                               \n",
              "a1           0.477244  0.333333  0.000000  0.000  0.810578\n",
              "a2           0.000000  0.000000  0.000000  0.000  0.000000\n",
              "a3           0.000000  0.333333  0.000000  0.000  0.333333\n",
              "a4           0.000000  0.333333  0.000000  0.000  0.333333\n",
              "a5           0.000000  0.333333  1.000000  1.000  2.333333\n",
              "a6           0.000000  0.333333  0.000000  0.000  0.333333\n",
              "a7           0.000000  0.305556  0.000000  1.000  1.305556\n",
              "a8           0.000000  1.000000  0.000000  0.000  1.000000\n",
              "a9           0.000910  0.333333  0.000000  0.000  0.334244\n",
              "a10          1.000000  0.333333  0.738095  0.625  2.696429\n",
              "a11          0.000000  0.333333  0.000000  0.000  0.333333\n",
              "a12          0.000000  0.333333  0.000000  0.000  0.333333"
            ],
            "text/html": [
              "\n",
              "  <div id=\"df-fdfe096a-6394-48d3-a4ad-5eb4832e8f89\">\n",
              "    <div class=\"colab-df-container\">\n",
              "      <div>\n",
              "<style scoped>\n",
              "    .dataframe tbody tr th:only-of-type {\n",
              "        vertical-align: middle;\n",
              "    }\n",
              "\n",
              "    .dataframe tbody tr th {\n",
              "        vertical-align: top;\n",
              "    }\n",
              "\n",
              "    .dataframe thead th {\n",
              "        text-align: right;\n",
              "    }\n",
              "</style>\n",
              "<table border=\"1\" class=\"dataframe\">\n",
              "  <thead>\n",
              "    <tr style=\"text-align: right;\">\n",
              "      <th></th>\n",
              "      <th>u1</th>\n",
              "      <th>u2</th>\n",
              "      <th>u3</th>\n",
              "      <th>u4</th>\n",
              "      <th>U</th>\n",
              "    </tr>\n",
              "    <tr>\n",
              "      <th>Alternative</th>\n",
              "      <th></th>\n",
              "      <th></th>\n",
              "      <th></th>\n",
              "      <th></th>\n",
              "      <th></th>\n",
              "    </tr>\n",
              "  </thead>\n",
              "  <tbody>\n",
              "    <tr>\n",
              "      <th>a1</th>\n",
              "      <td>0.477244</td>\n",
              "      <td>0.333333</td>\n",
              "      <td>0.000000</td>\n",
              "      <td>0.000</td>\n",
              "      <td>0.810578</td>\n",
              "    </tr>\n",
              "    <tr>\n",
              "      <th>a2</th>\n",
              "      <td>0.000000</td>\n",
              "      <td>0.000000</td>\n",
              "      <td>0.000000</td>\n",
              "      <td>0.000</td>\n",
              "      <td>0.000000</td>\n",
              "    </tr>\n",
              "    <tr>\n",
              "      <th>a3</th>\n",
              "      <td>0.000000</td>\n",
              "      <td>0.333333</td>\n",
              "      <td>0.000000</td>\n",
              "      <td>0.000</td>\n",
              "      <td>0.333333</td>\n",
              "    </tr>\n",
              "    <tr>\n",
              "      <th>a4</th>\n",
              "      <td>0.000000</td>\n",
              "      <td>0.333333</td>\n",
              "      <td>0.000000</td>\n",
              "      <td>0.000</td>\n",
              "      <td>0.333333</td>\n",
              "    </tr>\n",
              "    <tr>\n",
              "      <th>a5</th>\n",
              "      <td>0.000000</td>\n",
              "      <td>0.333333</td>\n",
              "      <td>1.000000</td>\n",
              "      <td>1.000</td>\n",
              "      <td>2.333333</td>\n",
              "    </tr>\n",
              "    <tr>\n",
              "      <th>a6</th>\n",
              "      <td>0.000000</td>\n",
              "      <td>0.333333</td>\n",
              "      <td>0.000000</td>\n",
              "      <td>0.000</td>\n",
              "      <td>0.333333</td>\n",
              "    </tr>\n",
              "    <tr>\n",
              "      <th>a7</th>\n",
              "      <td>0.000000</td>\n",
              "      <td>0.305556</td>\n",
              "      <td>0.000000</td>\n",
              "      <td>1.000</td>\n",
              "      <td>1.305556</td>\n",
              "    </tr>\n",
              "    <tr>\n",
              "      <th>a8</th>\n",
              "      <td>0.000000</td>\n",
              "      <td>1.000000</td>\n",
              "      <td>0.000000</td>\n",
              "      <td>0.000</td>\n",
              "      <td>1.000000</td>\n",
              "    </tr>\n",
              "    <tr>\n",
              "      <th>a9</th>\n",
              "      <td>0.000910</td>\n",
              "      <td>0.333333</td>\n",
              "      <td>0.000000</td>\n",
              "      <td>0.000</td>\n",
              "      <td>0.334244</td>\n",
              "    </tr>\n",
              "    <tr>\n",
              "      <th>a10</th>\n",
              "      <td>1.000000</td>\n",
              "      <td>0.333333</td>\n",
              "      <td>0.738095</td>\n",
              "      <td>0.625</td>\n",
              "      <td>2.696429</td>\n",
              "    </tr>\n",
              "    <tr>\n",
              "      <th>a11</th>\n",
              "      <td>0.000000</td>\n",
              "      <td>0.333333</td>\n",
              "      <td>0.000000</td>\n",
              "      <td>0.000</td>\n",
              "      <td>0.333333</td>\n",
              "    </tr>\n",
              "    <tr>\n",
              "      <th>a12</th>\n",
              "      <td>0.000000</td>\n",
              "      <td>0.333333</td>\n",
              "      <td>0.000000</td>\n",
              "      <td>0.000</td>\n",
              "      <td>0.333333</td>\n",
              "    </tr>\n",
              "  </tbody>\n",
              "</table>\n",
              "</div>\n",
              "      <button class=\"colab-df-convert\" onclick=\"convertToInteractive('df-fdfe096a-6394-48d3-a4ad-5eb4832e8f89')\"\n",
              "              title=\"Convert this dataframe to an interactive table.\"\n",
              "              style=\"display:none;\">\n",
              "        \n",
              "  <svg xmlns=\"http://www.w3.org/2000/svg\" height=\"24px\"viewBox=\"0 0 24 24\"\n",
              "       width=\"24px\">\n",
              "    <path d=\"M0 0h24v24H0V0z\" fill=\"none\"/>\n",
              "    <path d=\"M18.56 5.44l.94 2.06.94-2.06 2.06-.94-2.06-.94-.94-2.06-.94 2.06-2.06.94zm-11 1L8.5 8.5l.94-2.06 2.06-.94-2.06-.94L8.5 2.5l-.94 2.06-2.06.94zm10 10l.94 2.06.94-2.06 2.06-.94-2.06-.94-.94-2.06-.94 2.06-2.06.94z\"/><path d=\"M17.41 7.96l-1.37-1.37c-.4-.4-.92-.59-1.43-.59-.52 0-1.04.2-1.43.59L10.3 9.45l-7.72 7.72c-.78.78-.78 2.05 0 2.83L4 21.41c.39.39.9.59 1.41.59.51 0 1.02-.2 1.41-.59l7.78-7.78 2.81-2.81c.8-.78.8-2.07 0-2.86zM5.41 20L4 18.59l7.72-7.72 1.47 1.35L5.41 20z\"/>\n",
              "  </svg>\n",
              "      </button>\n",
              "      \n",
              "  <style>\n",
              "    .colab-df-container {\n",
              "      display:flex;\n",
              "      flex-wrap:wrap;\n",
              "      gap: 12px;\n",
              "    }\n",
              "\n",
              "    .colab-df-convert {\n",
              "      background-color: #E8F0FE;\n",
              "      border: none;\n",
              "      border-radius: 50%;\n",
              "      cursor: pointer;\n",
              "      display: none;\n",
              "      fill: #1967D2;\n",
              "      height: 32px;\n",
              "      padding: 0 0 0 0;\n",
              "      width: 32px;\n",
              "    }\n",
              "\n",
              "    .colab-df-convert:hover {\n",
              "      background-color: #E2EBFA;\n",
              "      box-shadow: 0px 1px 2px rgba(60, 64, 67, 0.3), 0px 1px 3px 1px rgba(60, 64, 67, 0.15);\n",
              "      fill: #174EA6;\n",
              "    }\n",
              "\n",
              "    [theme=dark] .colab-df-convert {\n",
              "      background-color: #3B4455;\n",
              "      fill: #D2E3FC;\n",
              "    }\n",
              "\n",
              "    [theme=dark] .colab-df-convert:hover {\n",
              "      background-color: #434B5C;\n",
              "      box-shadow: 0px 1px 3px 1px rgba(0, 0, 0, 0.15);\n",
              "      filter: drop-shadow(0px 1px 2px rgba(0, 0, 0, 0.3));\n",
              "      fill: #FFFFFF;\n",
              "    }\n",
              "  </style>\n",
              "\n",
              "      <script>\n",
              "        const buttonEl =\n",
              "          document.querySelector('#df-fdfe096a-6394-48d3-a4ad-5eb4832e8f89 button.colab-df-convert');\n",
              "        buttonEl.style.display =\n",
              "          google.colab.kernel.accessAllowed ? 'block' : 'none';\n",
              "\n",
              "        async function convertToInteractive(key) {\n",
              "          const element = document.querySelector('#df-fdfe096a-6394-48d3-a4ad-5eb4832e8f89');\n",
              "          const dataTable =\n",
              "            await google.colab.kernel.invokeFunction('convertToInteractive',\n",
              "                                                     [key], {});\n",
              "          if (!dataTable) return;\n",
              "\n",
              "          const docLinkHtml = 'Like what you see? Visit the ' +\n",
              "            '<a target=\"_blank\" href=https://colab.research.google.com/notebooks/data_table.ipynb>data table notebook</a>'\n",
              "            + ' to learn more about interactive tables.';\n",
              "          element.innerHTML = '';\n",
              "          dataTable['output_type'] = 'display_data';\n",
              "          await google.colab.output.renderOutput(dataTable, element);\n",
              "          const docLink = document.createElement('div');\n",
              "          docLink.innerHTML = docLinkHtml;\n",
              "          element.appendChild(docLink);\n",
              "        }\n",
              "      </script>\n",
              "    </div>\n",
              "  </div>\n",
              "  "
            ]
          },
          "metadata": {},
          "execution_count": 20
        }
      ]
    },
    {
      "cell_type": "code",
      "source": [
        "ranking_equal_weights = mat_equal_weights.sort_values(by='U', ascending=False).index\n",
        "ranking_equal_weights"
      ],
      "metadata": {
        "colab": {
          "base_uri": "https://localhost:8080/"
        },
        "id": "zhkAq7pyws0j",
        "outputId": "e5a608f5-9a72-42f2-fc94-acc3c2a285a3"
      },
      "id": "zhkAq7pyws0j",
      "execution_count": 21,
      "outputs": [
        {
          "output_type": "execute_result",
          "data": {
            "text/plain": [
              "Index(['a10', 'a5', 'a7', 'a8', 'a1', 'a9', 'a3', 'a4', 'a6', 'a11', 'a12',\n",
              "       'a2'],\n",
              "      dtype='object', name='Alternative')"
            ]
          },
          "metadata": {},
          "execution_count": 21
        }
      ]
    },
    {
      "cell_type": "code",
      "source": [
        "weights = srf(pd.Series([3, 1, 4, 6]))\n",
        "mat_with_weights = get_addval_matrix(df, math_functions, weights)\n",
        "mat_with_weights"
      ],
      "metadata": {
        "colab": {
          "base_uri": "https://localhost:8080/",
          "height": 493
        },
        "id": "12jhwaEqwRBy",
        "outputId": "90c1942c-30fa-4f3c-a1ca-bb8461f73123"
      },
      "id": "12jhwaEqwRBy",
      "execution_count": 22,
      "outputs": [
        {
          "output_type": "stream",
          "name": "stdout",
          "text": [
            "Ratio: [1, 'wc', 3, 4, 'wc', 6]\n",
            "Normalized weights: [0.21428571428571427, 0.07142857142857142, 0.2857142857142857, 0.42857142857142855]\n"
          ]
        },
        {
          "output_type": "execute_result",
          "data": {
            "text/plain": [
              "                   u1        u2        u3     u4         U\n",
              "Alternative                                               \n",
              "a1           0.477244  0.333333  0.000000  0.000  0.126076\n",
              "a2           0.000000  0.000000  0.000000  0.000  0.000000\n",
              "a3           0.000000  0.333333  0.000000  0.000  0.023810\n",
              "a4           0.000000  0.333333  0.000000  0.000  0.023810\n",
              "a5           0.000000  0.333333  1.000000  1.000  0.738095\n",
              "a6           0.000000  0.333333  0.000000  0.000  0.023810\n",
              "a7           0.000000  0.305556  0.000000  1.000  0.450397\n",
              "a8           0.000000  1.000000  0.000000  0.000  0.071429\n",
              "a9           0.000910  0.333333  0.000000  0.000  0.024005\n",
              "a10          1.000000  0.333333  0.738095  0.625  0.716837\n",
              "a11          0.000000  0.333333  0.000000  0.000  0.023810\n",
              "a12          0.000000  0.333333  0.000000  0.000  0.023810"
            ],
            "text/html": [
              "\n",
              "  <div id=\"df-482e02c4-69f6-41e4-9e04-710b0c513ce0\">\n",
              "    <div class=\"colab-df-container\">\n",
              "      <div>\n",
              "<style scoped>\n",
              "    .dataframe tbody tr th:only-of-type {\n",
              "        vertical-align: middle;\n",
              "    }\n",
              "\n",
              "    .dataframe tbody tr th {\n",
              "        vertical-align: top;\n",
              "    }\n",
              "\n",
              "    .dataframe thead th {\n",
              "        text-align: right;\n",
              "    }\n",
              "</style>\n",
              "<table border=\"1\" class=\"dataframe\">\n",
              "  <thead>\n",
              "    <tr style=\"text-align: right;\">\n",
              "      <th></th>\n",
              "      <th>u1</th>\n",
              "      <th>u2</th>\n",
              "      <th>u3</th>\n",
              "      <th>u4</th>\n",
              "      <th>U</th>\n",
              "    </tr>\n",
              "    <tr>\n",
              "      <th>Alternative</th>\n",
              "      <th></th>\n",
              "      <th></th>\n",
              "      <th></th>\n",
              "      <th></th>\n",
              "      <th></th>\n",
              "    </tr>\n",
              "  </thead>\n",
              "  <tbody>\n",
              "    <tr>\n",
              "      <th>a1</th>\n",
              "      <td>0.477244</td>\n",
              "      <td>0.333333</td>\n",
              "      <td>0.000000</td>\n",
              "      <td>0.000</td>\n",
              "      <td>0.126076</td>\n",
              "    </tr>\n",
              "    <tr>\n",
              "      <th>a2</th>\n",
              "      <td>0.000000</td>\n",
              "      <td>0.000000</td>\n",
              "      <td>0.000000</td>\n",
              "      <td>0.000</td>\n",
              "      <td>0.000000</td>\n",
              "    </tr>\n",
              "    <tr>\n",
              "      <th>a3</th>\n",
              "      <td>0.000000</td>\n",
              "      <td>0.333333</td>\n",
              "      <td>0.000000</td>\n",
              "      <td>0.000</td>\n",
              "      <td>0.023810</td>\n",
              "    </tr>\n",
              "    <tr>\n",
              "      <th>a4</th>\n",
              "      <td>0.000000</td>\n",
              "      <td>0.333333</td>\n",
              "      <td>0.000000</td>\n",
              "      <td>0.000</td>\n",
              "      <td>0.023810</td>\n",
              "    </tr>\n",
              "    <tr>\n",
              "      <th>a5</th>\n",
              "      <td>0.000000</td>\n",
              "      <td>0.333333</td>\n",
              "      <td>1.000000</td>\n",
              "      <td>1.000</td>\n",
              "      <td>0.738095</td>\n",
              "    </tr>\n",
              "    <tr>\n",
              "      <th>a6</th>\n",
              "      <td>0.000000</td>\n",
              "      <td>0.333333</td>\n",
              "      <td>0.000000</td>\n",
              "      <td>0.000</td>\n",
              "      <td>0.023810</td>\n",
              "    </tr>\n",
              "    <tr>\n",
              "      <th>a7</th>\n",
              "      <td>0.000000</td>\n",
              "      <td>0.305556</td>\n",
              "      <td>0.000000</td>\n",
              "      <td>1.000</td>\n",
              "      <td>0.450397</td>\n",
              "    </tr>\n",
              "    <tr>\n",
              "      <th>a8</th>\n",
              "      <td>0.000000</td>\n",
              "      <td>1.000000</td>\n",
              "      <td>0.000000</td>\n",
              "      <td>0.000</td>\n",
              "      <td>0.071429</td>\n",
              "    </tr>\n",
              "    <tr>\n",
              "      <th>a9</th>\n",
              "      <td>0.000910</td>\n",
              "      <td>0.333333</td>\n",
              "      <td>0.000000</td>\n",
              "      <td>0.000</td>\n",
              "      <td>0.024005</td>\n",
              "    </tr>\n",
              "    <tr>\n",
              "      <th>a10</th>\n",
              "      <td>1.000000</td>\n",
              "      <td>0.333333</td>\n",
              "      <td>0.738095</td>\n",
              "      <td>0.625</td>\n",
              "      <td>0.716837</td>\n",
              "    </tr>\n",
              "    <tr>\n",
              "      <th>a11</th>\n",
              "      <td>0.000000</td>\n",
              "      <td>0.333333</td>\n",
              "      <td>0.000000</td>\n",
              "      <td>0.000</td>\n",
              "      <td>0.023810</td>\n",
              "    </tr>\n",
              "    <tr>\n",
              "      <th>a12</th>\n",
              "      <td>0.000000</td>\n",
              "      <td>0.333333</td>\n",
              "      <td>0.000000</td>\n",
              "      <td>0.000</td>\n",
              "      <td>0.023810</td>\n",
              "    </tr>\n",
              "  </tbody>\n",
              "</table>\n",
              "</div>\n",
              "      <button class=\"colab-df-convert\" onclick=\"convertToInteractive('df-482e02c4-69f6-41e4-9e04-710b0c513ce0')\"\n",
              "              title=\"Convert this dataframe to an interactive table.\"\n",
              "              style=\"display:none;\">\n",
              "        \n",
              "  <svg xmlns=\"http://www.w3.org/2000/svg\" height=\"24px\"viewBox=\"0 0 24 24\"\n",
              "       width=\"24px\">\n",
              "    <path d=\"M0 0h24v24H0V0z\" fill=\"none\"/>\n",
              "    <path d=\"M18.56 5.44l.94 2.06.94-2.06 2.06-.94-2.06-.94-.94-2.06-.94 2.06-2.06.94zm-11 1L8.5 8.5l.94-2.06 2.06-.94-2.06-.94L8.5 2.5l-.94 2.06-2.06.94zm10 10l.94 2.06.94-2.06 2.06-.94-2.06-.94-.94-2.06-.94 2.06-2.06.94z\"/><path d=\"M17.41 7.96l-1.37-1.37c-.4-.4-.92-.59-1.43-.59-.52 0-1.04.2-1.43.59L10.3 9.45l-7.72 7.72c-.78.78-.78 2.05 0 2.83L4 21.41c.39.39.9.59 1.41.59.51 0 1.02-.2 1.41-.59l7.78-7.78 2.81-2.81c.8-.78.8-2.07 0-2.86zM5.41 20L4 18.59l7.72-7.72 1.47 1.35L5.41 20z\"/>\n",
              "  </svg>\n",
              "      </button>\n",
              "      \n",
              "  <style>\n",
              "    .colab-df-container {\n",
              "      display:flex;\n",
              "      flex-wrap:wrap;\n",
              "      gap: 12px;\n",
              "    }\n",
              "\n",
              "    .colab-df-convert {\n",
              "      background-color: #E8F0FE;\n",
              "      border: none;\n",
              "      border-radius: 50%;\n",
              "      cursor: pointer;\n",
              "      display: none;\n",
              "      fill: #1967D2;\n",
              "      height: 32px;\n",
              "      padding: 0 0 0 0;\n",
              "      width: 32px;\n",
              "    }\n",
              "\n",
              "    .colab-df-convert:hover {\n",
              "      background-color: #E2EBFA;\n",
              "      box-shadow: 0px 1px 2px rgba(60, 64, 67, 0.3), 0px 1px 3px 1px rgba(60, 64, 67, 0.15);\n",
              "      fill: #174EA6;\n",
              "    }\n",
              "\n",
              "    [theme=dark] .colab-df-convert {\n",
              "      background-color: #3B4455;\n",
              "      fill: #D2E3FC;\n",
              "    }\n",
              "\n",
              "    [theme=dark] .colab-df-convert:hover {\n",
              "      background-color: #434B5C;\n",
              "      box-shadow: 0px 1px 3px 1px rgba(0, 0, 0, 0.15);\n",
              "      filter: drop-shadow(0px 1px 2px rgba(0, 0, 0, 0.3));\n",
              "      fill: #FFFFFF;\n",
              "    }\n",
              "  </style>\n",
              "\n",
              "      <script>\n",
              "        const buttonEl =\n",
              "          document.querySelector('#df-482e02c4-69f6-41e4-9e04-710b0c513ce0 button.colab-df-convert');\n",
              "        buttonEl.style.display =\n",
              "          google.colab.kernel.accessAllowed ? 'block' : 'none';\n",
              "\n",
              "        async function convertToInteractive(key) {\n",
              "          const element = document.querySelector('#df-482e02c4-69f6-41e4-9e04-710b0c513ce0');\n",
              "          const dataTable =\n",
              "            await google.colab.kernel.invokeFunction('convertToInteractive',\n",
              "                                                     [key], {});\n",
              "          if (!dataTable) return;\n",
              "\n",
              "          const docLinkHtml = 'Like what you see? Visit the ' +\n",
              "            '<a target=\"_blank\" href=https://colab.research.google.com/notebooks/data_table.ipynb>data table notebook</a>'\n",
              "            + ' to learn more about interactive tables.';\n",
              "          element.innerHTML = '';\n",
              "          dataTable['output_type'] = 'display_data';\n",
              "          await google.colab.output.renderOutput(dataTable, element);\n",
              "          const docLink = document.createElement('div');\n",
              "          docLink.innerHTML = docLinkHtml;\n",
              "          element.appendChild(docLink);\n",
              "        }\n",
              "      </script>\n",
              "    </div>\n",
              "  </div>\n",
              "  "
            ]
          },
          "metadata": {},
          "execution_count": 22
        }
      ]
    },
    {
      "cell_type": "code",
      "source": [
        "ranking_with_weights = mat_with_weights.sort_values(by='U', ascending=False).index\n",
        "ranking_with_weights"
      ],
      "metadata": {
        "colab": {
          "base_uri": "https://localhost:8080/"
        },
        "id": "Wb5MrEXNxRFg",
        "outputId": "31938d95-0630-4424-f3b9-256c2f34c978"
      },
      "id": "Wb5MrEXNxRFg",
      "execution_count": 23,
      "outputs": [
        {
          "output_type": "execute_result",
          "data": {
            "text/plain": [
              "Index(['a5', 'a10', 'a7', 'a1', 'a8', 'a9', 'a3', 'a4', 'a6', 'a11', 'a12',\n",
              "       'a2'],\n",
              "      dtype='object', name='Alternative')"
            ]
          },
          "metadata": {},
          "execution_count": 23
        }
      ]
    },
    {
      "cell_type": "markdown",
      "id": "233138c0-0771-40b8-b01c-96921d3aaa2d",
      "metadata": {
        "id": "233138c0-0771-40b8-b01c-96921d3aaa2d"
      },
      "source": [
        "## Result Comparison\n",
        "\n",
        "**Note:** PROMETHEE Methods' ranks are taken from the previous project."
      ]
    },
    {
      "cell_type": "code",
      "execution_count": 24,
      "id": "83e1d3a4-833f-4238-af85-b851f2b3216d",
      "metadata": {
        "id": "83e1d3a4-833f-4238-af85-b851f2b3216d",
        "colab": {
          "base_uri": "https://localhost:8080/"
        },
        "outputId": "6eee91d7-15fe-4018-c77e-1baf14a2ace2"
      },
      "outputs": [
        {
          "output_type": "stream",
          "name": "stdout",
          "text": [
            "Ranks of all methods:\n",
            "['a10' 'a5' 'a1' 'a9' 'a6' 'a8' 'a7' 'a4' 'a11' 'a3' 'a2' 'a12'] <- PROMETHEE II\n",
            "['a10' 'a5' 'a7' 'a8' 'a1' 'a9' 'a3' 'a4' 'a6' 'a11' 'a12' 'a2'] <- UTA equal weights\n",
            "['a5' 'a10' 'a7' 'a1' 'a8' 'a9' 'a3' 'a4' 'a6' 'a11' 'a12' 'a2'] <- UTA weights applied\n",
            "['a10' 'a5' 'a1' 'a9' 'a7' 'a6' 'a8' 'a3' 'a4' 'a2' 'a11' 'a12'] <- PROMETHEE I Ф+\n",
            "['a10' 'a5' 'a1' 'a9' 'a6' 'a8' 'a7' 'a4' 'a11' 'a2' 'a12' 'a3'] <- PROMETHEE I Ф-\n"
          ]
        }
      ],
      "source": [
        "promethee2_rank = np.array(['a10', 'a5', 'a1', 'a9', 'a6', 'a8', 'a7', 'a4', 'a11', 'a3', 'a2', 'a12'])\n",
        "promethee1_pos_rank = np.array(['a10', 'a5', 'a1', 'a9', 'a7', 'a6', 'a8', 'a3', 'a4', 'a2', 'a11', 'a12'])\n",
        "promethee1_neg_rank = np.array(['a10', 'a5', 'a1', 'a9', 'a6', 'a8', 'a7', 'a4', 'a11', 'a2', 'a12', 'a3'])\n",
        "uta_rank_equal_weights = np.array(ranking_equal_weights)\n",
        "uta_rank_with_weights = np.array(ranking_with_weights)\n",
        "\n",
        "print('Ranks of all methods:')\n",
        "print(promethee2_rank, '<- PROMETHEE II')\n",
        "print(uta_rank_equal_weights, '<- UTA equal weights')\n",
        "print(uta_rank_with_weights, '<- UTA weights applied')\n",
        "print(promethee1_pos_rank, '<- PROMETHEE I Ф+')\n",
        "print(promethee1_neg_rank, '<- PROMETHEE I Ф-')"
      ]
    },
    {
      "cell_type": "markdown",
      "id": "3784190a-47c9-4e7a-b931-97b69a79f9f9",
      "metadata": {
        "id": "3784190a-47c9-4e7a-b931-97b69a79f9f9"
      },
      "source": [
        "---\n",
        "As it can be seen, the best and worst alternatives found by different methods are nearly the same, except `(a5, a10)`, `(a12, a2)` pairs of alternatives \"switching\" the places.\n",
        "\n",
        "---"
      ]
    },
    {
      "cell_type": "code",
      "source": [
        "def get_kendalls_tau(rank1, rank2):\n",
        "    d = 0.5 * sum(rank1 != rank2)\n",
        "    m = len(rank2)\n",
        "    t = 1 - 4 * (d / (m * (m - 1)))\n",
        "\n",
        "    return t"
      ],
      "metadata": {
        "id": "We9mAE5JyOjm"
      },
      "id": "We9mAE5JyOjm",
      "execution_count": 25,
      "outputs": []
    },
    {
      "cell_type": "code",
      "execution_count": 26,
      "id": "aeac9658-9641-40d3-b947-9a92a488ad60",
      "metadata": {
        "id": "aeac9658-9641-40d3-b947-9a92a488ad60",
        "colab": {
          "base_uri": "https://localhost:8080/"
        },
        "outputId": "bcb49005-7267-4737-b9c2-bda1b3774dce"
      },
      "outputs": [
        {
          "output_type": "stream",
          "name": "stdout",
          "text": [
            "Kendall’s tau between Promethee II and UTA equal weights methods: 0.8636363636363636\n",
            "Kendall’s tau between Promethee II and UTA weights applied methods: 0.8333333333333334\n"
          ]
        }
      ],
      "source": [
        "print(f'Kendall’s tau between Promethee II and UTA equal weights methods: {get_kendalls_tau(promethee2_rank, uta_rank_equal_weights)}')\n",
        "print(f'Kendall’s tau between Promethee II and UTA weights applied methods: {get_kendalls_tau(promethee2_rank, uta_rank_with_weights)}')"
      ]
    },
    {
      "cell_type": "markdown",
      "id": "cc4dfcd8-c830-4a5c-af65-e1b9bb12ca96",
      "metadata": {
        "id": "cc4dfcd8-c830-4a5c-af65-e1b9bb12ca96"
      },
      "source": [
        "---\n",
        "Kendall's tau of around 0.85 constitutes to the fact that there's very good agreement between the two rankings.\n",
        "\n",
        "---"
      ]
    },
    {
      "cell_type": "markdown",
      "id": "92db2670-8f86-48e3-8512-28cf2a67f33e",
      "metadata": {
        "id": "92db2670-8f86-48e3-8512-28cf2a67f33e"
      },
      "source": [
        "**Observations:** After experimenting with various weight distributions, it was noticed that it does not influence the results of UTA Method ranking that much."
      ]
    }
  ],
  "metadata": {
    "kernelspec": {
      "display_name": "Python 3 (ipykernel)",
      "language": "python",
      "name": "python3"
    },
    "language_info": {
      "codemirror_mode": {
        "name": "ipython",
        "version": 3
      },
      "file_extension": ".py",
      "mimetype": "text/x-python",
      "name": "python",
      "nbconvert_exporter": "python",
      "pygments_lexer": "ipython3",
      "version": "3.11.2"
    },
    "colab": {
      "provenance": []
    }
  },
  "nbformat": 4,
  "nbformat_minor": 5
}