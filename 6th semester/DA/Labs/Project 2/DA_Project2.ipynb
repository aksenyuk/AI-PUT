{
 "cells": [
  {
   "cell_type": "markdown",
   "id": "8b413f50",
   "metadata": {},
   "source": [
    "# Decision Analysis - Project 2"
   ]
  },
  {
   "cell_type": "markdown",
   "id": "960d54f0",
   "metadata": {},
   "source": [
    "### UTA Method"
   ]
  },
  {
   "cell_type": "markdown",
   "id": "251f1e0d",
   "metadata": {},
   "source": [
    "---\n",
    "**Team members:**\n",
    "\n",
    "- Sofya Aksenyuk, 150284\n",
    "- Uladzimir Ivashka, 150281\n",
    "\n",
    "---"
   ]
  },
  {
   "cell_type": "markdown",
   "id": "06ec8524",
   "metadata": {},
   "source": [
    "## Libraries"
   ]
  },
  {
   "cell_type": "code",
   "execution_count": 1,
   "id": "8b1bac9b-4316-4db3-93fe-87c6c8f3972a",
   "metadata": {},
   "outputs": [],
   "source": [
    "import numpy as np\n",
    "import pandas as pd\n",
    "import networkx as nx\n",
    "from matplotlib import pyplot as plt\n",
    "from pulp import *  \n",
    "import pulp"
   ]
  },
  {
   "cell_type": "markdown",
   "id": "c08776f2",
   "metadata": {},
   "source": [
    "## Dataset"
   ]
  },
  {
   "cell_type": "code",
   "execution_count": 2,
   "id": "135dc199-888f-4fb5-87d8-babb0f6d3009",
   "metadata": {},
   "outputs": [],
   "source": [
    "df = pd.read_csv('Dataset.csv')"
   ]
  },
  {
   "cell_type": "code",
   "execution_count": 3,
   "id": "c506b984-d2df-4fa8-9b5b-7ec7658d525a",
   "metadata": {},
   "outputs": [],
   "source": [
    "df = df.set_index('Alternative')"
   ]
  },
  {
   "cell_type": "code",
   "execution_count": 4,
   "id": "a6c59414-5862-48e0-87a3-2b37d919a3fb",
   "metadata": {},
   "outputs": [
    {
     "data": {
      "text/html": [
       "<div>\n",
       "<style scoped>\n",
       "    .dataframe tbody tr th:only-of-type {\n",
       "        vertical-align: middle;\n",
       "    }\n",
       "\n",
       "    .dataframe tbody tr th {\n",
       "        vertical-align: top;\n",
       "    }\n",
       "\n",
       "    .dataframe thead th {\n",
       "        text-align: right;\n",
       "    }\n",
       "</style>\n",
       "<table border=\"1\" class=\"dataframe\">\n",
       "  <thead>\n",
       "    <tr style=\"text-align: right;\">\n",
       "      <th></th>\n",
       "      <th>g1 (gain)</th>\n",
       "      <th>g2 (gain)</th>\n",
       "      <th>g3 (gain)</th>\n",
       "      <th>g4 (cost)</th>\n",
       "    </tr>\n",
       "    <tr>\n",
       "      <th>Alternative</th>\n",
       "      <th></th>\n",
       "      <th></th>\n",
       "      <th></th>\n",
       "      <th></th>\n",
       "    </tr>\n",
       "  </thead>\n",
       "  <tbody>\n",
       "    <tr>\n",
       "      <th>a1</th>\n",
       "      <td>98</td>\n",
       "      <td>8</td>\n",
       "      <td>140</td>\n",
       "      <td>400</td>\n",
       "    </tr>\n",
       "    <tr>\n",
       "      <th>a2</th>\n",
       "      <td>58</td>\n",
       "      <td>0</td>\n",
       "      <td>123</td>\n",
       "      <td>800</td>\n",
       "    </tr>\n",
       "    <tr>\n",
       "      <th>a3</th>\n",
       "      <td>66</td>\n",
       "      <td>5</td>\n",
       "      <td>128</td>\n",
       "      <td>1000</td>\n",
       "    </tr>\n",
       "    <tr>\n",
       "      <th>a4</th>\n",
       "      <td>74</td>\n",
       "      <td>3</td>\n",
       "      <td>106</td>\n",
       "      <td>600</td>\n",
       "    </tr>\n",
       "    <tr>\n",
       "      <th>a5</th>\n",
       "      <td>80</td>\n",
       "      <td>7</td>\n",
       "      <td>147</td>\n",
       "      <td>200</td>\n",
       "    </tr>\n",
       "    <tr>\n",
       "      <th>a6</th>\n",
       "      <td>82</td>\n",
       "      <td>10</td>\n",
       "      <td>118</td>\n",
       "      <td>600</td>\n",
       "    </tr>\n",
       "    <tr>\n",
       "      <th>a7</th>\n",
       "      <td>58</td>\n",
       "      <td>1</td>\n",
       "      <td>109</td>\n",
       "      <td>200</td>\n",
       "    </tr>\n",
       "    <tr>\n",
       "      <th>a8</th>\n",
       "      <td>73</td>\n",
       "      <td>12</td>\n",
       "      <td>132</td>\n",
       "      <td>800</td>\n",
       "    </tr>\n",
       "    <tr>\n",
       "      <th>a9</th>\n",
       "      <td>92</td>\n",
       "      <td>9</td>\n",
       "      <td>121</td>\n",
       "      <td>500</td>\n",
       "    </tr>\n",
       "    <tr>\n",
       "      <th>a10</th>\n",
       "      <td>100</td>\n",
       "      <td>6</td>\n",
       "      <td>146</td>\n",
       "      <td>300</td>\n",
       "    </tr>\n",
       "    <tr>\n",
       "      <th>a11</th>\n",
       "      <td>81</td>\n",
       "      <td>3</td>\n",
       "      <td>105</td>\n",
       "      <td>700</td>\n",
       "    </tr>\n",
       "    <tr>\n",
       "      <th>a12</th>\n",
       "      <td>67</td>\n",
       "      <td>5</td>\n",
       "      <td>105</td>\n",
       "      <td>800</td>\n",
       "    </tr>\n",
       "  </tbody>\n",
       "</table>\n",
       "</div>"
      ],
      "text/plain": [
       "             g1 (gain)  g2 (gain)  g3 (gain)  g4 (cost)\n",
       "Alternative                                            \n",
       "a1                  98          8        140        400\n",
       "a2                  58          0        123        800\n",
       "a3                  66          5        128       1000\n",
       "a4                  74          3        106        600\n",
       "a5                  80          7        147        200\n",
       "a6                  82         10        118        600\n",
       "a7                  58          1        109        200\n",
       "a8                  73         12        132        800\n",
       "a9                  92          9        121        500\n",
       "a10                100          6        146        300\n",
       "a11                 81          3        105        700\n",
       "a12                 67          5        105        800"
      ]
     },
     "execution_count": 4,
     "metadata": {},
     "output_type": "execute_result"
    }
   ],
   "source": [
    "df"
   ]
  },
  {
   "cell_type": "code",
   "execution_count": 5,
   "id": "019e465b",
   "metadata": {},
   "outputs": [
    {
     "data": {
      "text/html": [
       "<div>\n",
       "<style scoped>\n",
       "    .dataframe tbody tr th:only-of-type {\n",
       "        vertical-align: middle;\n",
       "    }\n",
       "\n",
       "    .dataframe tbody tr th {\n",
       "        vertical-align: top;\n",
       "    }\n",
       "\n",
       "    .dataframe thead th {\n",
       "        text-align: right;\n",
       "    }\n",
       "</style>\n",
       "<table border=\"1\" class=\"dataframe\">\n",
       "  <thead>\n",
       "    <tr style=\"text-align: right;\">\n",
       "      <th></th>\n",
       "      <th>g1 (gain)</th>\n",
       "      <th>g2 (gain)</th>\n",
       "      <th>g3 (gain)</th>\n",
       "      <th>g4 (cost)</th>\n",
       "    </tr>\n",
       "  </thead>\n",
       "  <tbody>\n",
       "    <tr>\n",
       "      <th>count</th>\n",
       "      <td>12.000000</td>\n",
       "      <td>12.000000</td>\n",
       "      <td>12.000000</td>\n",
       "      <td>12.000000</td>\n",
       "    </tr>\n",
       "    <tr>\n",
       "      <th>mean</th>\n",
       "      <td>77.416667</td>\n",
       "      <td>5.750000</td>\n",
       "      <td>123.333333</td>\n",
       "      <td>575.000000</td>\n",
       "    </tr>\n",
       "    <tr>\n",
       "      <th>std</th>\n",
       "      <td>14.177180</td>\n",
       "      <td>3.646293</td>\n",
       "      <td>15.552453</td>\n",
       "      <td>259.807621</td>\n",
       "    </tr>\n",
       "    <tr>\n",
       "      <th>min</th>\n",
       "      <td>58.000000</td>\n",
       "      <td>0.000000</td>\n",
       "      <td>105.000000</td>\n",
       "      <td>200.000000</td>\n",
       "    </tr>\n",
       "    <tr>\n",
       "      <th>25%</th>\n",
       "      <td>66.750000</td>\n",
       "      <td>3.000000</td>\n",
       "      <td>108.250000</td>\n",
       "      <td>375.000000</td>\n",
       "    </tr>\n",
       "    <tr>\n",
       "      <th>50%</th>\n",
       "      <td>77.000000</td>\n",
       "      <td>5.500000</td>\n",
       "      <td>122.000000</td>\n",
       "      <td>600.000000</td>\n",
       "    </tr>\n",
       "    <tr>\n",
       "      <th>75%</th>\n",
       "      <td>84.500000</td>\n",
       "      <td>8.250000</td>\n",
       "      <td>134.000000</td>\n",
       "      <td>800.000000</td>\n",
       "    </tr>\n",
       "    <tr>\n",
       "      <th>max</th>\n",
       "      <td>100.000000</td>\n",
       "      <td>12.000000</td>\n",
       "      <td>147.000000</td>\n",
       "      <td>1000.000000</td>\n",
       "    </tr>\n",
       "  </tbody>\n",
       "</table>\n",
       "</div>"
      ],
      "text/plain": [
       "        g1 (gain)  g2 (gain)   g3 (gain)    g4 (cost)\n",
       "count   12.000000  12.000000   12.000000    12.000000\n",
       "mean    77.416667   5.750000  123.333333   575.000000\n",
       "std     14.177180   3.646293   15.552453   259.807621\n",
       "min     58.000000   0.000000  105.000000   200.000000\n",
       "25%     66.750000   3.000000  108.250000   375.000000\n",
       "50%     77.000000   5.500000  122.000000   600.000000\n",
       "75%     84.500000   8.250000  134.000000   800.000000\n",
       "max    100.000000  12.000000  147.000000  1000.000000"
      ]
     },
     "execution_count": 5,
     "metadata": {},
     "output_type": "execute_result"
    }
   ],
   "source": [
    "df.describe()"
   ]
  },
  {
   "cell_type": "markdown",
   "id": "01185cb1",
   "metadata": {},
   "source": [
    "---\n",
    "\n",
    "There are **twelve alternatives**, each of them representing a house to buy, e.g.:\n",
    "\n",
    "- a1 - one-store countryside house of 140 $m^2$ area with the garage of 98 $m^2$ and garden of 8 hectares. All for the cost of 400'000 USD.\n",
    "\n",
    "There are **four criterias** describing a place, taken from a local estate agency website:\n",
    "\n",
    "- g1 - garage area (in $m^2$) \n",
    "- g2 - garden size (in hectares)\n",
    "- g3 - living area (in $m^2$)\n",
    "- g4 - cost (in thousands USD)\n",
    "\n",
    "where, we would like to maximize first three criterias for as less price as possible.\n",
    "\n",
    "Decision Maker stated their preferences on the importance of each criteria. Therefore, the **weights** are different for each of them. Each of them is relevant, but garden area (g2) is of least priority. The weights are as follows:\n",
    "\n",
    "- [3, 1, 4, 6]\n",
    "\n",
    "for criterias [g1, g2, g3, g4] respectively.\n",
    "\n",
    "Ranges of each criteria values:\n",
    "\n",
    "- g1: 58-100 ($m^2$) (gain type)\n",
    "- g2: 0-10 (hectares) (gain type)\n",
    "- g3: 105-147 ($m^2$) (gain type)\n",
    "- g4: 200-1000 (thousands USD) (cost type)\n",
    "\n",
    "where, all of them are continious."
   ]
  },
  {
   "cell_type": "code",
   "execution_count": 6,
   "id": "0ffbd72c",
   "metadata": {},
   "outputs": [],
   "source": [
    "def get_addval_matrix(df, value_functions, weights):\n",
    "    matrix = pd.DataFrame(index=df.index)\n",
    "    \n",
    "    matrix['u1'] = df['g1 (gain)'].apply(value_functions[0])\n",
    "    matrix['u2'] = df['g2 (gain)'].apply(value_functions[1])\n",
    "    matrix['u3'] = df['g3 (gain)'].apply(value_functions[2])\n",
    "    matrix['u4'] = df['g4 (cost)'].apply(value_functions[3])\n",
    "    matrix['U'] = np.sum(matrix * weights, axis=1)\n",
    "    \n",
    "    return matrix"
   ]
  },
  {
   "cell_type": "code",
   "execution_count": 7,
   "id": "8704555b",
   "metadata": {},
   "outputs": [],
   "source": [
    "g1_value_func = lambda x: np.where(x <= 79, 0.038 * x - 2.2, 0.009 * x + 0.047)\n",
    "g2_value_func = lambda x: np.where(x <= 10, 0.05 * x, 0.25 * x - 2)\n",
    "g3_value_func = lambda x: x / 42 - 2.5\n",
    "g4_value_func = lambda x: -x / 800 + 1.25\n",
    "\n",
    "value_functions = [g1_value_func, g2_value_func, g3_value_func, g4_value_func]\n",
    "weights = np.array([3, 1, 4, 6])"
   ]
  },
  {
   "cell_type": "code",
   "execution_count": 8,
   "id": "c8d0aeec",
   "metadata": {},
   "outputs": [
    {
     "data": {
      "image/png": "[encoded data removed]",
      "text/plain": [
       "<Figure size 1000x700 with 4 Axes>"
      ]
     },
     "metadata": {},
     "output_type": "display_data"
    }
   ],
   "source": [
    "fig, ax = plt.subplots(2, 2, figsize=(10, 7))\n",
    "ax = ax.ravel()\n",
    "\n",
    "for i, (col, val_func) in enumerate(zip(df.columns, value_functions)):\n",
    "    x = np.linspace(min(df[col]), max(df[col]), len(df))\n",
    "    ax[i].plot(x, val_func(x))\n",
    "    ax[i].set_title(f'Additive value function for {col}')\n",
    "    ax[i].set_ylabel(f'u{i+1}(a)')\n",
    "    ax[i].set_xlabel(f'g{i+1}(a)')\n",
    "fig.tight_layout(pad=2.5)"
   ]
  },
  {
   "cell_type": "code",
   "execution_count": 9,
   "id": "3d7bb203",
   "metadata": {},
   "outputs": [
    {
     "data": {
      "text/html": [
       "<div>\n",
       "<style scoped>\n",
       "    .dataframe tbody tr th:only-of-type {\n",
       "        vertical-align: middle;\n",
       "    }\n",
       "\n",
       "    .dataframe tbody tr th {\n",
       "        vertical-align: top;\n",
       "    }\n",
       "\n",
       "    .dataframe thead th {\n",
       "        text-align: right;\n",
       "    }\n",
       "</style>\n",
       "<table border=\"1\" class=\"dataframe\">\n",
       "  <thead>\n",
       "    <tr style=\"text-align: right;\">\n",
       "      <th></th>\n",
       "      <th>u1</th>\n",
       "      <th>u2</th>\n",
       "      <th>u3</th>\n",
       "      <th>u4</th>\n",
       "      <th>U</th>\n",
       "    </tr>\n",
       "    <tr>\n",
       "      <th>Alternative</th>\n",
       "      <th></th>\n",
       "      <th></th>\n",
       "      <th></th>\n",
       "      <th></th>\n",
       "      <th></th>\n",
       "    </tr>\n",
       "  </thead>\n",
       "  <tbody>\n",
       "    <tr>\n",
       "      <th>a1</th>\n",
       "      <td>0.929</td>\n",
       "      <td>0.40</td>\n",
       "      <td>0.833333</td>\n",
       "      <td>0.750</td>\n",
       "      <td>11.020333</td>\n",
       "    </tr>\n",
       "    <tr>\n",
       "      <th>a2</th>\n",
       "      <td>0.004</td>\n",
       "      <td>0.00</td>\n",
       "      <td>0.428571</td>\n",
       "      <td>0.250</td>\n",
       "      <td>3.226286</td>\n",
       "    </tr>\n",
       "    <tr>\n",
       "      <th>a3</th>\n",
       "      <td>0.308</td>\n",
       "      <td>0.25</td>\n",
       "      <td>0.547619</td>\n",
       "      <td>0.000</td>\n",
       "      <td>3.364476</td>\n",
       "    </tr>\n",
       "    <tr>\n",
       "      <th>a4</th>\n",
       "      <td>0.612</td>\n",
       "      <td>0.15</td>\n",
       "      <td>0.023810</td>\n",
       "      <td>0.500</td>\n",
       "      <td>5.081238</td>\n",
       "    </tr>\n",
       "    <tr>\n",
       "      <th>a5</th>\n",
       "      <td>0.767</td>\n",
       "      <td>0.35</td>\n",
       "      <td>1.000000</td>\n",
       "      <td>1.000</td>\n",
       "      <td>12.651000</td>\n",
       "    </tr>\n",
       "    <tr>\n",
       "      <th>a6</th>\n",
       "      <td>0.785</td>\n",
       "      <td>0.50</td>\n",
       "      <td>0.309524</td>\n",
       "      <td>0.500</td>\n",
       "      <td>7.093095</td>\n",
       "    </tr>\n",
       "    <tr>\n",
       "      <th>a7</th>\n",
       "      <td>0.004</td>\n",
       "      <td>0.05</td>\n",
       "      <td>0.095238</td>\n",
       "      <td>1.000</td>\n",
       "      <td>6.442952</td>\n",
       "    </tr>\n",
       "    <tr>\n",
       "      <th>a8</th>\n",
       "      <td>0.574</td>\n",
       "      <td>1.00</td>\n",
       "      <td>0.642857</td>\n",
       "      <td>0.250</td>\n",
       "      <td>6.793429</td>\n",
       "    </tr>\n",
       "    <tr>\n",
       "      <th>a9</th>\n",
       "      <td>0.875</td>\n",
       "      <td>0.45</td>\n",
       "      <td>0.380952</td>\n",
       "      <td>0.625</td>\n",
       "      <td>8.348810</td>\n",
       "    </tr>\n",
       "    <tr>\n",
       "      <th>a10</th>\n",
       "      <td>0.947</td>\n",
       "      <td>0.30</td>\n",
       "      <td>0.976190</td>\n",
       "      <td>0.875</td>\n",
       "      <td>12.295762</td>\n",
       "    </tr>\n",
       "    <tr>\n",
       "      <th>a11</th>\n",
       "      <td>0.776</td>\n",
       "      <td>0.15</td>\n",
       "      <td>0.000000</td>\n",
       "      <td>0.375</td>\n",
       "      <td>4.728000</td>\n",
       "    </tr>\n",
       "    <tr>\n",
       "      <th>a12</th>\n",
       "      <td>0.346</td>\n",
       "      <td>0.25</td>\n",
       "      <td>0.000000</td>\n",
       "      <td>0.250</td>\n",
       "      <td>2.788000</td>\n",
       "    </tr>\n",
       "  </tbody>\n",
       "</table>\n",
       "</div>"
      ],
      "text/plain": [
       "                u1    u2        u3     u4          U\n",
       "Alternative                                         \n",
       "a1           0.929  0.40  0.833333  0.750  11.020333\n",
       "a2           0.004  0.00  0.428571  0.250   3.226286\n",
       "a3           0.308  0.25  0.547619  0.000   3.364476\n",
       "a4           0.612  0.15  0.023810  0.500   5.081238\n",
       "a5           0.767  0.35  1.000000  1.000  12.651000\n",
       "a6           0.785  0.50  0.309524  0.500   7.093095\n",
       "a7           0.004  0.05  0.095238  1.000   6.442952\n",
       "a8           0.574  1.00  0.642857  0.250   6.793429\n",
       "a9           0.875  0.45  0.380952  0.625   8.348810\n",
       "a10          0.947  0.30  0.976190  0.875  12.295762\n",
       "a11          0.776  0.15  0.000000  0.375   4.728000\n",
       "a12          0.346  0.25  0.000000  0.250   2.788000"
      ]
     },
     "metadata": {},
     "output_type": "display_data"
    }
   ],
   "source": [
    "addval_matrix = get_addval_matrix(df, value_functions, weights)\n",
    "display(addval_matrix)"
   ]
  },
  {
   "cell_type": "markdown",
   "id": "cfe9a8a1",
   "metadata": {},
   "source": [
    "## LP Model"
   ]
  },
  {
   "cell_type": "markdown",
   "id": "d69e8d93-fa6a-4cf8-8a02-67ad6e854f2c",
   "metadata": {},
   "source": [
    "---\n",
    "### Apriori\n",
    "\n",
    "Pairwise ranking comparison:\n",
    "\n",
    "- a8 is preferred to a7 \n",
    "- a5 is preferred to a1 \n",
    "- a7 is preferred to a4 \n",
    "- a3 is preferred to a2\n",
    "- a1 is preferred to a6\n",
    "- a4 is preferred to a2\n",
    "- a9 is preferred to a7\n",
    "- a10 is preferred to a1\n",
    "- a12 is preferred to a11\n",
    "- a5 is preferred to a6\n",
    "\n",
    "Inconsistency added to LP Model:\n",
    "\n",
    "- a12 is preferred to a11, when it is actually the opposite\n",
    "\n",
    "---"
   ]
  },
  {
   "cell_type": "code",
   "execution_count": 10,
   "id": "27589180",
   "metadata": {},
   "outputs": [
    {
     "data": {
      "text/plain": [
       "house-problem-with-inconsistency:\n",
       "MINIMIZE\n",
       "1*v_a10_a1 + 1*v_a11_a12 + 1*v_a1_a6 + 1*v_a4_a2 + 1*v_a5_a6 + 1*v_a9_a7 + 0\n",
       "SUBJECT TO\n",
       "#1_constraint: - v_a1_a6 <= 3.92723809524\n",
       "\n",
       "#2_constraint: - v_a4_a2 <= 1.85495238095\n",
       "\n",
       "#3_constraint: - v_a9_a7 <= 1.90585714286\n",
       "\n",
       "#4_constraint: - v_a10_a1 <= 1.27542857143\n",
       "\n",
       "#6_constraint: - v_a11_a12 <= -1.94\n",
       "\n",
       "#7_constraint: - v_a5_a6 <= 5.5579047619\n",
       "\n",
       "#8_constraint: - v_a8_a7 <= 0.350476190476\n",
       "\n",
       "#9_constraint: - v_a5_a1 <= 1.63066666667\n",
       "\n",
       "#10_constraint: - v_a7_a4 <= 1.36171428571\n",
       "\n",
       "#11_constraint: - v_a3_a2 <= 0.13819047619\n",
       "\n",
       "VARIABLES\n",
       "0 <= v_a10_a1 <= 1 Integer\n",
       "0 <= v_a11_a12 <= 1 Integer\n",
       "0 <= v_a1_a6 <= 1 Integer\n",
       "0 <= v_a3_a2 <= 1 Integer\n",
       "0 <= v_a4_a2 <= 1 Integer\n",
       "0 <= v_a5_a1 <= 1 Integer\n",
       "0 <= v_a5_a6 <= 1 Integer\n",
       "0 <= v_a7_a4 <= 1 Integer\n",
       "0 <= v_a8_a7 <= 1 Integer\n",
       "0 <= v_a9_a7 <= 1 Integer"
      ]
     },
     "execution_count": 10,
     "metadata": {},
     "output_type": "execute_result"
    }
   ],
   "source": [
    "model_inc = LpProblem(name=\"house-problem-with-inconsistency\", sense=LpMinimize)\n",
    "\n",
    "v_a1_a6 = LpVariable(name=\"v_a1_a6\", cat=LpBinary)\n",
    "v_a4_a2 = LpVariable(name=\"v_a4_a2\", cat=LpBinary)\n",
    "v_a9_a7 = LpVariable(name=\"v_a9_a7\", cat=LpBinary)\n",
    "v_a10_a1 = LpVariable(name=\"v_a10_a1\", cat=LpBinary)\n",
    "v_a11_a12 = LpVariable(name=\"v_a11_a12\", cat=LpBinary)\n",
    "v_a5_a6 = LpVariable(name=\"v_a5_a6\", cat=LpBinary)\n",
    "v_a8_a7 = LpVariable(name=\"v_a8_a7\", cat=LpBinary)\n",
    "v_a5_a1 = LpVariable(name=\"v_a5_a1\", cat=LpBinary)\n",
    "v_a7_a4 = LpVariable(name=\"v_a7_a4\", cat=LpBinary)\n",
    "v_a3_a2 = LpVariable(name=\"v_a3_a2\", cat=LpBinary)\n",
    "\n",
    "variables = [v_a1_a6, v_a4_a2, v_a9_a7, v_a10_a1, v_a11_a12, v_a5_a6]\n",
    "\n",
    "model_inc += (addval_matrix.loc['a6']['U'] - v_a1_a6 <= addval_matrix.loc['a1']['U'], \"#1 constraint\")\n",
    "model_inc += (addval_matrix.loc['a2']['U'] - v_a4_a2 <= addval_matrix.loc['a4']['U'], \"#2 constraint\")\n",
    "model_inc += (addval_matrix.loc['a7']['U'] - v_a9_a7 <= addval_matrix.loc['a9']['U'], \"#3 constraint\")\n",
    "model_inc += (addval_matrix.loc['a1']['U'] - v_a10_a1 <= addval_matrix.loc['a10']['U'], \"#4 constraint\")\n",
    "model_inc += (addval_matrix.loc['a11']['U'] - v_a11_a12 <= addval_matrix.loc['a12']['U'], \"#6 constraint\")  ## inconsistency\n",
    "model_inc += (addval_matrix.loc['a6']['U'] - v_a5_a6 <= addval_matrix.loc['a5']['U'], \"#7 constraint\")\n",
    "model_inc += (addval_matrix.loc['a7']['U'] - v_a8_a7 <= addval_matrix.loc['a8']['U'], \"#8 constraint\")\n",
    "model_inc += (addval_matrix.loc['a1']['U'] - v_a5_a1 <= addval_matrix.loc['a5']['U'], \"#9 constraint\")\n",
    "model_inc += (addval_matrix.loc['a4']['U'] - v_a7_a4 <= addval_matrix.loc['a7']['U'], \"#10 constraint\")\n",
    "model_inc += (addval_matrix.loc['a2']['U'] - v_a3_a2 <= addval_matrix.loc['a3']['U'], \"#11 constraint\")\n",
    "\n",
    "V = v_a1_a6 + v_a4_a2 + v_a9_a7 + v_a10_a1 + v_a11_a12 + v_a5_a6\n",
    "model_inc += V\n",
    "\n",
    "model_inc"
   ]
  },
  {
   "cell_type": "code",
   "execution_count": 11,
   "id": "7253ecf0",
   "metadata": {},
   "outputs": [
    {
     "name": "stdout",
     "output_type": "stream",
     "text": [
      "--------Model with inconsistency--------\n",
      "Version identifier: 22.1.1.0 | 2023-02-11 | 22d6266e5\n",
      "CPXPARAM_Read_DataCheck                          1\n",
      "Bound infeasibility column 'v_a11_a12'.\n",
      "Presolve time = 0.00 sec. (0.00 ticks)\n",
      "\n",
      "Root node processing (before b&c):\n",
      "  Real time             =    0.00 sec. (0.00 ticks)\n",
      "Parallel b&c, 12 threads:\n",
      "  Real time             =    0.00 sec. (0.00 ticks)\n",
      "  Sync time (average)   =    0.00 sec.\n",
      "  Wait time (average)   =    0.00 sec.\n",
      "                          ------------\n",
      "Total (root+branch&cut) =    0.00 sec. (0.00 ticks)\n"
     ]
    },
    {
     "name": "stderr",
     "output_type": "stream",
     "text": [
      "CPLEX Error  1217: No solution exists.\n"
     ]
    },
    {
     "name": "stdout",
     "output_type": "stream",
     "text": [
      "Cplex status= 103\n",
      "status: -1, Infeasible\n",
      "objective: None\n",
      "v_a1_a6 None\n",
      "v_a4_a2 None\n",
      "v_a9_a7 None\n",
      "v_a10_a1 None\n",
      "v_a11_a12 None\n",
      "v_a5_a6 None\n"
     ]
    }
   ],
   "source": [
    "print('--------Model with inconsistency--------')\n",
    "status = model_inc.solve(solver = pulp.CPLEX_PY())\n",
    "print(f\"status: {model_inc.status}, {LpStatus[model_inc.status]}\")\n",
    "print(f\"objective: {model_inc.objective.value()}\")\n",
    "for var in variables:\n",
    "    print(var.name, pulp.value(var))"
   ]
  },
  {
   "cell_type": "markdown",
   "id": "cb3f8ff0-a935-4ed3-89f7-140fdf9cefca",
   "metadata": {},
   "source": [
    "---\n",
    "The detected inconsistent constraint can be found as `Bound infeasibility column` in the CPLEX-solver output above. As it can be seen, the inconsistency was detected correctly, which also resulted in the objective function as well as variable values being equal to _None_.\n",
    "\n",
    "---"
   ]
  },
  {
   "cell_type": "code",
   "execution_count": 12,
   "id": "59b01ccb-ab7d-40f9-bc1d-0344611d2e66",
   "metadata": {},
   "outputs": [],
   "source": [
    "model_no = LpProblem(name=\"house-problem-no-inconsistency\", sense=LpMinimize)\n",
    "\n",
    "model_no += (addval_matrix.loc['a6']['U'] - v_a1_a6 <= addval_matrix.loc['a1']['U'], \"#1 constraint\")\n",
    "model_no += (addval_matrix.loc['a2']['U'] - v_a4_a2 <= addval_matrix.loc['a4']['U'], \"#2 constraint\")\n",
    "model_no += (addval_matrix.loc['a7']['U'] - v_a9_a7 <= addval_matrix.loc['a9']['U'], \"#3 constraint\")\n",
    "model_no += (addval_matrix.loc['a1']['U'] - v_a10_a1 <= addval_matrix.loc['a10']['U'], \"#4 constraint\")\n",
    "\n",
    "## inconsistency removed\n",
    "model_no += (addval_matrix.loc['a12']['U'] - v_a11_a12 <= addval_matrix.loc['a11']['U'], \"#6 constraint\") \n",
    "\n",
    "model_no += (addval_matrix.loc['a6']['U'] - v_a5_a6 <= addval_matrix.loc['a5']['U'], \"#7 constraint\")\n",
    "model_no += (addval_matrix.loc['a7']['U'] - v_a8_a7 <= addval_matrix.loc['a8']['U'], \"#8 constraint\")\n",
    "model_no += (addval_matrix.loc['a1']['U'] - v_a5_a1 <= addval_matrix.loc['a5']['U'], \"#9 constraint\")\n",
    "model_no += (addval_matrix.loc['a4']['U'] - v_a7_a4 <= addval_matrix.loc['a7']['U'], \"#10 constraint\")\n",
    "model_no += (addval_matrix.loc['a2']['U'] - v_a3_a2 <= addval_matrix.loc['a3']['U'], \"#11 constraint\")\n",
    "\n",
    "V_no = v_a1_a6 + v_a4_a2 + v_a9_a7 + v_a10_a1 + v_a11_a12 + v_a5_a6\n",
    "model_no += V_no"
   ]
  },
  {
   "cell_type": "code",
   "execution_count": 13,
   "id": "cd3403bb-9e99-4306-8ce6-d36e9aec7801",
   "metadata": {},
   "outputs": [
    {
     "name": "stdout",
     "output_type": "stream",
     "text": [
      "--------Model without inconsistency--------\n",
      "Version identifier: 22.1.1.0 | 2023-02-11 | 22d6266e5\n",
      "CPXPARAM_Read_DataCheck                          1\n",
      "Found incumbent of value 0.000000 after 0.00 sec. (0.00 ticks)\n",
      "\n",
      "Root node processing (before b&c):\n",
      "  Real time             =    0.00 sec. (0.00 ticks)\n",
      "Parallel b&c, 12 threads:\n",
      "  Real time             =    0.00 sec. (0.00 ticks)\n",
      "  Sync time (average)   =    0.00 sec.\n",
      "  Wait time (average)   =    0.00 sec.\n",
      "                          ------------\n",
      "Total (root+branch&cut) =    0.00 sec. (0.00 ticks)\n",
      "Cplex status= 101\n",
      "status: 1, Optimal\n",
      "objective: 0.0\n",
      "v_a1_a6 0.0\n",
      "v_a4_a2 0.0\n",
      "v_a9_a7 0.0\n",
      "v_a10_a1 0.0\n",
      "v_a11_a12 0.0\n",
      "v_a5_a6 0.0\n"
     ]
    }
   ],
   "source": [
    "print('--------Model without inconsistency--------')\n",
    "status = model_no.solve(solver = pulp.CPLEX_PY())\n",
    "print(f\"status: {model_no.status}, {LpStatus[model_no.status]}\")\n",
    "print(f\"objective: {model_no.objective.value()}\")\n",
    "for var in variables:\n",
    "    print(var.name, pulp.value(var))"
   ]
  },
  {
   "cell_type": "markdown",
   "id": "4c19b1c0-a4a0-4e00-a74e-e0643c416ec0",
   "metadata": {},
   "source": [
    "---\n",
    "Once the inconsistent constraint is removed, the solver is able to fins the optimal solution (which is zero).\n",
    "\n",
    "---"
   ]
  },
  {
   "cell_type": "markdown",
   "id": "233138c0-0771-40b8-b01c-96921d3aaa2d",
   "metadata": {},
   "source": [
    "## Result Comparison"
   ]
  },
  {
   "cell_type": "code",
   "execution_count": 14,
   "id": "83e1d3a4-833f-4238-af85-b851f2b3216d",
   "metadata": {},
   "outputs": [
    {
     "name": "stdout",
     "output_type": "stream",
     "text": [
      "Ranks of all methods:\n",
      "['a10' 'a5' 'a1' 'a9' 'a6' 'a8' 'a7' 'a4' 'a11' 'a3' 'a2' 'a12'] <- PROMETHEE II\n",
      "['a5' 'a10' 'a1' 'a9' 'a6' 'a8' 'a7' 'a4' 'a11' 'a3' 'a2' 'a12'] <- UTA\n",
      "['a10' 'a5' 'a1' 'a9' 'a7' 'a6' 'a8' 'a3' 'a4' 'a2' 'a11' 'a12'] <- PROMETHEE I Ф+\n",
      "['a10' 'a5' 'a1' 'a9' 'a6' 'a8' 'a7' 'a4' 'a11' 'a2' 'a12' 'a3'] <- PROMETHEE I Ф-\n"
     ]
    }
   ],
   "source": [
    "promethee2_rank = np.array(['a10', 'a5', 'a1', 'a9', 'a6', 'a8', 'a7', 'a4', 'a11', 'a3', 'a2', 'a12'])\n",
    "promethee1_pos_rank = np.array(['a10', 'a5', 'a1', 'a9', 'a7', 'a6', 'a8', 'a3', 'a4', 'a2', 'a11', 'a12'])\n",
    "promethee1_neg_rank = np.array(['a10', 'a5', 'a1', 'a9', 'a6', 'a8', 'a7', 'a4', 'a11', 'a2', 'a12', 'a3'])\n",
    "uta_rank = np.array(addval_matrix['U'].sort_values(ascending=False).index)\n",
    "\n",
    "print('Ranks of all methods:')\n",
    "print(promethee2_rank, '<- PROMETHEE II')\n",
    "print(uta_rank, '<- UTA')\n",
    "print(promethee1_pos_rank, '<- PROMETHEE I Ф+')\n",
    "print(promethee1_neg_rank, '<- PROMETHEE I Ф-')"
   ]
  },
  {
   "cell_type": "markdown",
   "id": "3784190a-47c9-4e7a-b931-97b69a79f9f9",
   "metadata": {},
   "source": [
    "---\n",
    "As it can be seen, the best and worst alternatives found by different methods are nearly the same, except a5 and a10 alternatives \"switching\" first and second places.\n",
    "\n",
    "---"
   ]
  },
  {
   "cell_type": "code",
   "execution_count": 15,
   "id": "aeac9658-9641-40d3-b947-9a92a488ad60",
   "metadata": {},
   "outputs": [
    {
     "name": "stdout",
     "output_type": "stream",
     "text": [
      "Kendall’s tau between Promethee II and UTA methods: 0.9696969696969697\n"
     ]
    }
   ],
   "source": [
    "d = 0.5 * sum(promethee2_rank != uta_rank)\n",
    "m = len(uta_rank)\n",
    "t = 1 - 4 * (d / (m * (m - 1)))\n",
    "\n",
    "print(f'Kendall’s tau between Promethee II and UTA methods: {t}')"
   ]
  },
  {
   "cell_type": "markdown",
   "id": "cc4dfcd8-c830-4a5c-af65-e1b9bb12ca96",
   "metadata": {},
   "source": [
    "---\n",
    "Kendall's tau of around 0.97 constitutes to the fact that there's almost perfect agreement between the two rankings.\n",
    "\n",
    "---"
   ]
  },
  {
   "cell_type": "markdown",
   "id": "92db2670-8f86-48e3-8512-28cf2a67f33e",
   "metadata": {},
   "source": [
    "It was noticed that weights distribution plays a big role in the results. In case of UTA, defining weights was essential to obtain the correct, consistent with the Apriori DM preference information results. In contrary, when no weights are assigned, the ranking is rather general, taking no DM's preferences into account."
   ]
  }
 ],
 "metadata": {
  "kernelspec": {
   "display_name": "Python 3 (ipykernel)",
   "language": "python",
   "name": "python3"
  },
  "language_info": {
   "codemirror_mode": {
    "name": "ipython",
    "version": 3
   },
   "file_extension": ".py",
   "mimetype": "text/x-python",
   "name": "python",
   "nbconvert_exporter": "python",
   "pygments_lexer": "ipython3",
   "version": "3.11.2"
  }
 },
 "nbformat": 4,
 "nbformat_minor": 5
}
