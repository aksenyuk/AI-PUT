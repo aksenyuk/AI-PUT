{
 "cells": [
  {
   "cell_type": "markdown",
   "metadata": {},
   "source": [
    "# Association rule discovery\n",
    "\n",
    "To complete the exercise we will need the `mlextend` library since `scikit-learn` does not provide any tools for frequent itemset or association rule discovery."
   ]
  },
  {
   "cell_type": "code",
   "execution_count": 1,
   "metadata": {
    "ExecuteTime": {
     "end_time": "2021-04-06T09:02:10.505976Z",
     "start_time": "2021-04-06T09:02:06.042048Z"
    }
   },
   "outputs": [
    {
     "name": "stdout",
     "output_type": "stream",
     "text": [
      "Requirement already satisfied: mlxtend in c:\\users\\1625203\\anaconda3\\lib\\site-packages (0.19.0)\n",
      "Requirement already satisfied: scikit-learn>=0.20.3 in c:\\users\\1625203\\anaconda3\\lib\\site-packages (from mlxtend) (0.23.2)\n",
      "Requirement already satisfied: numpy>=1.16.2 in c:\\users\\1625203\\anaconda3\\lib\\site-packages (from mlxtend) (1.19.2)\n",
      "Requirement already satisfied: scipy>=1.2.1 in c:\\users\\1625203\\anaconda3\\lib\\site-packages (from mlxtend) (1.5.2)\n",
      "Requirement already satisfied: matplotlib>=3.0.0 in c:\\users\\1625203\\anaconda3\\lib\\site-packages (from mlxtend) (3.3.2)\n",
      "Requirement already satisfied: setuptools in c:\\users\\1625203\\anaconda3\\lib\\site-packages (from mlxtend) (50.3.1.post20201107)\n",
      "Requirement already satisfied: pandas>=0.24.2 in c:\\users\\1625203\\anaconda3\\lib\\site-packages (from mlxtend) (1.1.3)\n",
      "Requirement already satisfied: joblib>=0.13.2 in c:\\users\\1625203\\anaconda3\\lib\\site-packages (from mlxtend) (0.17.0)\n",
      "Requirement already satisfied: threadpoolctl>=2.0.0 in c:\\users\\1625203\\anaconda3\\lib\\site-packages (from scikit-learn>=0.20.3->mlxtend) (2.1.0)\n",
      "Requirement already satisfied: pyparsing!=2.0.4,!=2.1.2,!=2.1.6,>=2.0.3 in c:\\users\\1625203\\anaconda3\\lib\\site-packages (from matplotlib>=3.0.0->mlxtend) (2.4.7)\n",
      "Requirement already satisfied: certifi>=2020.06.20 in c:\\users\\1625203\\anaconda3\\lib\\site-packages (from matplotlib>=3.0.0->mlxtend) (2020.6.20)\n",
      "Requirement already satisfied: python-dateutil>=2.1 in c:\\users\\1625203\\anaconda3\\lib\\site-packages (from matplotlib>=3.0.0->mlxtend) (2.8.1)\n",
      "Requirement already satisfied: cycler>=0.10 in c:\\users\\1625203\\anaconda3\\lib\\site-packages (from matplotlib>=3.0.0->mlxtend) (0.10.0)\n",
      "Requirement already satisfied: pillow>=6.2.0 in c:\\users\\1625203\\anaconda3\\lib\\site-packages (from matplotlib>=3.0.0->mlxtend) (8.0.1)\n",
      "Requirement already satisfied: kiwisolver>=1.0.1 in c:\\users\\1625203\\anaconda3\\lib\\site-packages (from matplotlib>=3.0.0->mlxtend) (1.3.0)\n",
      "Requirement already satisfied: pytz>=2017.2 in c:\\users\\1625203\\anaconda3\\lib\\site-packages (from pandas>=0.24.2->mlxtend) (2020.1)\n",
      "Requirement already satisfied: six>=1.5 in c:\\users\\1625203\\anaconda3\\lib\\site-packages (from python-dateutil>=2.1->matplotlib>=3.0.0->mlxtend) (1.15.0)\n"
     ]
    }
   ],
   "source": [
    "!pip install mlxtend"
   ]
  },
  {
   "cell_type": "markdown",
   "metadata": {},
   "source": [
    "Our first step is to download a piece of text from Wikipedia and to parse paragraphs."
   ]
  },
  {
   "cell_type": "code",
   "execution_count": 2,
   "metadata": {
    "ExecuteTime": {
     "end_time": "2021-04-06T09:02:17.517260Z",
     "start_time": "2021-04-06T09:02:16.846909Z"
    }
   },
   "outputs": [
    {
     "name": "stdout",
     "output_type": "stream",
     "text": [
      "['\\n', \"Poznań (Polish:\\xa0[ˈpɔznaɲ] (listen))[a] is a city on the River Warta in west-central Poland, within the Greater Poland region. The city is an important cultural and business centre, and one of Poland's most populous regions with many regional customs such as Saint John's Fair (Jarmark Świętojański), traditional Saint Martin's croissants and a local dialect. Among its most important heritage sites are the Renaissance Old Town, Town Hall and Gothic Cathedral.\\n\", \"Poznań is the fifth-largest and one of the oldest cities in Poland. As of 2020, the city's population is 532,048, while the Poznań metropolitan area (Metropolia Poznań) comprising Poznań County and several other communities is inhabited by over 1.1\\xa0million people.[2] It is one of four historical capitals of medieval Poland and the ancient capital of the Greater Poland region, currently the administrative capital of the province called Greater Poland Voivodeship.\\n\", \"Poznań is a center of trade, sports, education, technology and tourism. It is an important academic site, with about 130,000 students and Adam Mickiewicz University, the third largest Polish university. The city serves as the seat of the oldest Polish diocese, now being one of the most populous Catholic archdioceses in the country. The city also hosts the Poznań International Fair – the biggest industrial fair in Poland and one of the largest fairs in Europe. The city's other renowned landmarks include the National Museum, Grand Theatre, Fara Church and the Imperial Castle.\\n\", 'Poznań is classified as a Gamma- global city by Globalization and World Cities Research Network.[4] According to several rankings it is one of the most business-friendly cities in Poland.[5] It also ranks highly in safety and healthcare quality.[6] The city of Poznań has also, many times, won the prize awarded by \"Superbrands\" for a very high quality city brand. In 2012, the Poznań\\'s Art and Business Center \"Stary Browar\" won a competition organised by National Geographic Traveler and was given the first prize as one of the seven \"New Polish Wonders\".\\n', 'The official patron saints of Poznań are Saint Peter and Paul of Tarsus, the patrons of the cathedral. Martin of Tours – the patron of the main street Święty Marcin – is also regarded as one of the patron saints of the city.\\n', 'The name Poznań probably comes from a personal name Poznan, which was in turn derived from the Polish participle poznan(y) – \"one who is known/recognized\", and would mean \"Poznan\\'s town\". It is also possible that the name comes directly from the verb poznać, which means \"to get to know\" or \"to recognize\", so it may simply mean \"known town\".\\n', 'The earliest surviving references to the city are found in the chronicles of Thietmar of Merseburg written between 1012 and 1018: episcopus Posnaniensis (\"bishop of Poznań\", in an entry for 970) and ab urbe Posnani (\"from the city of Poznań\", for 1005). The city\\'s name appears in documents in the Latin nominative case as Posnania in 1236 and Poznania in 1247. The phrase in Poznan appears in 1146 and 1244.\\n', \"The city's full official name is Stołeczne Miasto Poznań (The Capital City of Poznań), in reference to its role as a centre of political power in the early Polish state under the Piast dynasty. Poznań is known as Posen in German, and was officially called Haupt- und Residenzstadt Posen (Capital and Residence City of Poznań) between 20 August 1910 and 28 November 1918. The Latin names of the city are Posnania and Civitas Posnaniensis. Its Yiddish name is פּױזן, or Poyzn.\\n\", \"In Polish, the city's name has masculine grammatical gender.\\n\", \"For centuries before the Christianization of Poland (an event that essentially is credited as the creation of the very first Polish state, the Duchy of Poland), Poznań was an important cultural and political centre of the Western Polans. It consisted of a fortified stronghold between the Warta and Cybina rivers on what is now Ostrów Tumski. Mieszko I, the first historically recorded ruler of the West Polans and of the early Polish state which they dominated, built one of his main stable headquarters in Poznań. Mieszko's baptism in AD 966, seen as a defining moment in the Christianization of the Polish state, may have taken place in Poznań.[7]\\n\", \"Following the baptism, construction began of Poznań's cathedral, the first in Poland. Poznań was probably the main seat of the first missionary bishop sent to Poland, Bishop Jordan. The Congress of Gniezno in 1000 led to the country's first permanent archbishopric being established in Gniezno (which is generally regarded as Poland's capital in that period), although Poznań continued to have independent bishops of its own. Poznań's cathedral was the place of burial of the early Piast monarchs, among them Mieszko I, Boleslaus I, Mieszko II Lambert, Casimir I, and later of Przemysł I and Przemysł II.[8]\\n\", \"The pagan reaction that followed Mieszko II's death (probably in Poznań) in 1034 left the region weak, and in 1038, Duke Bretislaus I of Bohemia sacked and destroyed both Poznań and Gniezno. Poland was reunited under Casimir I the Restorer in 1039, but the capital was moved to Kraków, which had been relatively unaffected by the troubles. In 1138, by the testament of Boleslaus III, Poland was divided into separate duchies under the late king's sons, and Poznań and its surroundings became the domain of Mieszko III the Old, the first of the Dukes of Greater Poland. This period of fragmentation lasted until 1320. Duchies frequently changed hands; control of Poznań, Gniezno and Kalisz sometimes lay with a single duke, but at other times these constituted separate duchies.\\n\", \"In about 1249, Duke Przemysł I began constructing what would become the Royal Castle on a hill on the left bank of the Warta. Then in 1253, Przemysł issued a charter to Thomas of Guben (Gubin) for the founding of a town under Magdeburg law, between the castle and the river. Thomas brought a large number of German settlers to aid in the building and settlement of the city – this is an example of the German eastern migration (Ostsiedlung) characteristic of that period.[9][10] The city, which covered the area of today's Old Town neighbourhood, was surrounded by a defensive wall, integrated with the castle.[11] The royal chancery and the University ensured a first flourishing of Polish literary culture in the city.\\n\", \"In reunited Poland, and later in the Polish–Lithuanian Commonwealth, Poznań was the seat of a voivodeship. The city's importance began to grow in the Jagiellonian period, due to its position on trading routes from Lithuania and Ruthenia to western Europe. It would become a major center for the fur trade by the late 16th century. Suburban settlements developed around the city walls, on the river islands, and on the right bank, with some (Ostrów Tumski, Śródka, Chwaliszewo, Ostrówek) obtaining their own town charters. However, the city's development was hampered by regular major fires and floods. On 2 May 1536 a fire destroyed 175 buildings, including the castle, the town hall, the monastery, and the suburban settlement called St. Martin.[12] In 1519, the Lubrański Academy had been established in Poznań as an institution of higher education, but without the right to award degrees, which was reserved to Kraków's Jagiellonian University. However, the Jesuits' college, founded in the city in 1571 during the Counter-Reformation, had the right to award degrees from 1611 until 1773, when it was combined with the Academy.\\n\", 'In the second half of the 17th century and most of the 18th, Poznań was severely affected by a series of wars, attendant military occupations, lootings and destruction – the Second and Third Northern Wars, the War of the Polish Succession, the Seven Years\\' War and the Bar Confederation rebellion. It was also hit by frequent outbreaks of plague, and by floods, particularly that of 1736, which destroyed most of the suburban buildings. The population of the conurbation declined from 20,000 around 1600 to 6,000 around 1730, and Bambergian and Dutch settlers (Bambrzy and Olędrzy) were brought in to rebuild the devastated suburbs. In 1778, a \"Committee of Good Order\" (Komisja Dobrego Porządku) was established in the city, which oversaw rebuilding efforts and reorganized the city\\'s administration. However, in 1793, in the Second Partition of Poland, Poznań came under the control of the Kingdom of Prussia, becoming part of (and initially the seat of) the province of South Prussia.\\n', \"The Prussian authorities expanded the city boundaries, making the walled city and its closest suburbs into a single administrative unit. Left-bank suburbs were incorporated in 1797, and Ostrów Tumski, Chwaliszewo, Śródka, Ostrówek and Łacina (St. Roch) in 1800. The old city walls were taken down in the early 19th century, and major development took place to the west of the old city, with many of the main streets of today's city center being laid out.\\n\", 'In the Greater Poland uprising of 1806, Polish soldiers and civilian volunteers assisted the efforts of Napoleon by driving out Prussian forces from the region. The city became a part of the Duchy of Warsaw in 1807, and was the seat of Poznań Department – a unit of administrative division and local government. However, in 1815, following the Congress of Vienna, the region was returned to Prussia, and Poznań became the capital of the semi-autonomous Grand Duchy of Posen. Around 1820, Poznań had over 20,000 inhabitants, 70% of whom were Poles, 20% Jews, and 10% Germans.\\n', \"The city continued to expand, and various projects were funded by Polish philanthropists, such as the Raczyński Library and the Bazar hotel. The city's first railway, running north-west to Stargard, opened in 1848. Due to its strategic location, the Prussian authorities intended to make Poznań into a fortress city, building a ring of defensive fortifications around it. Work began on the citadel with Fort Winiary in 1828, and in subsequent years the entire set of defenses called Festung Posen was completed.\\n\", \"A Greater Poland Uprising during the Revolutions of 1848 was ultimately unsuccessful, and the Grand Duchy lost its remaining autonomy, Poznań becoming simply the capital of the Prussian Province of Posen. It would become part of the German Empire with the unification of German states in 1871. Polish patriots continued to form societies such as the Central Economic Society for the Grand Duchy of Poznań, and a Polish theatre opened in 1875. However, the authorities made efforts to Germanize the region, particularly through the Prussian Settlement Commission founded in 1886. Germans accounted for 38% of the city's population in 1867, though this percentage would later decline somewhat, particularly after the region returned to Poland.\\n\", \"Another expansion of Festung Posen was planned, with an outer ring of more widely spaced forts around the perimeter of the city. Building of the first nine forts began in 1876, and nine intermediate forts were built from 1887. The inner ring of fortifications was now considered obsolete and came to be mostly taken down by the early 20th century, although the citadel remained in use. This made space for further civilian construction, particularly the Imperial Castle (Zamek) which was completed in 1910, and other grand buildings around it, including today's central university buildings and the opera house. The city's boundaries were also significantly extended to take in former suburban villages: Piotrowo and Berdychowo in 1896, Łazarz, Górczyn, Jeżyce and Wilda in 1900, and Sołacz in 1907. \\nIn 1910, Poznań had 156,696 inhabitants, of which nearly 60% were Poles (over 91,000 Polish inhabitants of the city), and around 40% were Germans (over 65,000 German inhabitants of the city). Other nationalities accounted for 1-2% of the population (mainly Jews).\\n\", \"At the end of World War I, the final Greater Poland Uprising in 1918–1919 brought Poznań and most of the region back to newly reborn Poland, which was confirmed by the Treaty of Versailles. The local German populace had to acquire Polish citizenship or leave the country. This led to a wide emigration of the ethnic Germans of the town's population – the town's German population decreased from 65,321 in 1910 to 5,980 in 1926 and further to 4,387 in 1934.[13] In the interwar Second Polish Republic, the city again became the capital of Poznań Voivodeship. Poznań's university, today called Adam Mickiewicz University, was founded in 1919, and in 1924 the Poznań International Fair began. In 1929, the fair site was the venue for a major National Exhibition (Powszechna Wystawa Krajowa, popularly PeWuKa) marking the tenth anniversary of independence; it attracted around 4.5\\xa0million visitors. In the 1930s, the fair ranked as Europe's fourth largest organiser of international trade events.[14] The city's boundaries were again expanded in 1925 to include Główna, Komandoria, Rataje, Starołęka, Dębiec, Szeląg and Winogrady, and in 1933: Golęcin and Podolany.\\n\", 'During the German occupation of 1939–1945, Poznań was incorporated into the Nazi Germany as the capital of Reichsgau Wartheland. Many Polish inhabitants were executed, arrested, expelled to the General Government or used as forced labour; at the same time, many Germans and Volksdeutsche were settled in the city. The German population increased from around 5,000 in 1939 (some 2% of the inhabitants) to around 95,000 in 1944.[15][16]\\n', \"The Jewish community's history in the city dates back to the 13th century.[17] In the past, the Jewish council in Poznan became one of the oldest and most important Jewish councils in Poland.[18] The pre-war Jewish population of at least about 2,000[19] were mostly murdered in the Holocaust. A concentration camp was set up in Fort VII, one of the 19th-century perimeter forts. The camp was later moved to Żabikowo south of Poznań.\\n\", \"The Nazi authorities significantly expanded Poznań's boundaries to include most of the present-day area of the city; these boundaries were retained after the war. Poznań was captured by the Red Army, assisted by Polish volunteers, on 23 February 1945 following the Battle of Poznań, in which the German army conducted a last-ditch defense in line with Hitler's designation of the city as a Festung. The Citadel was the last point to be taken, and the fighting left much of the city, particularly the Old Town, in ruins. Many monuments were also destroyed, including Gutzon Borglum's statue of Woodrow Wilson in Poznan.[20]\\n\", \"Due to the expulsion and flight of German population Poznań's post-war population was almost uniformly Polish. The city again became a voivodeship capital. In 1950, the size of Poznań Voivodeship was reduced, and the city itself was given separate voivodeship status. This status was lost in the 1975 reforms, which also significantly reduced the size of Poznań Voivodeship.\\n\", \"The Poznań 1956 protests are seen as an early instance of discontent with communist rule. In June 1956, a protest by workers at the city's Cegielski locomotive factory developed into a series of strikes and popular protests against the policies of the government. After a protest march on 28 June was fired on, crowds attacked the communist party and secret police headquarters, where they were repulsed by gunfire. Riots continued for two days until being quelled by the army; 67 people were killed according to official figures. A monument to the victims was erected in 1981 at Plac Mickiewicza.[21]\\n\", 'The post-war years had seen much reconstruction work on buildings damaged in the fighting. From the 1960s onwards intensive housing development took place, consisting mainly of pre-fabricated concrete blocks of flats, especially in Rataje and Winogrady, and later Piątkowo, following its incorporation into the city in 1974. Another infrastructural change, which was completed in 1968, was the rerouting of the river Warta to follow two straight branches either side of Ostrów Tumski.\\n', \"The most recent expansion of the city's boundaries took place in 1987, with the addition of new areas mainly to the north, including Morasko, Radojewo and Kiekrz. The first free local elections following the fall of communism took place in 1990. With the Polish local government reforms of 1999, Poznań again became the capital of a larger province entitled Greater Poland Voivodeship. It also became the seat of a powiat Poznań County, with the city itself gaining separate powiat status.\\n\", \"Post-communism infrastructural developments include the opening of the Pestka Fast Tram route in 1997, and Poznań's first motorway connections in 2003 as Poland's east-west A2 highway runs south of the city centre, serving also as a bypass. In 2006 country's first F-16 Fighting Falcons came to be stationed at the 31st Air Base in Krzesiny in the south-east of the city.\\n\", 'Poznań continues to host regular trade fairs and international events, including the United Nations Climate Change Conference in 2008. It was one of the host cities for UEFA Euro 2012.\\n', \"Poznań covers an area of 261.3\\xa0km2 (100.9\\xa0sq\\xa0mi), and has coordinates in the range 52°17'34''–52°30'27''N, 16°44'08''–17°04'28''E. Its highest point, with an altitude of 157\\xa0m (515\\xa0ft), is the summit of Morasko hill within the Morasko meteorite nature reserve in the north of the city. The lowest altitude is 60\\xa0m (197\\xa0ft), in the Warta valley.\\n\", 'Poznań\\'s main river is the Warta, which flows through the city from south to north. As it approaches the city centre it divides into two branches, flowing west and east of Ostrów Tumski Cathedral island, and meeting again further north. The smaller Cybina river flows through eastern Poznań to meet the east branch of the Warta, which is also called Cybina – its northern section was originally a continuation of that river, while its southern section has been artificially widened to form a main stream of the Warta. Other tributaries of the Warta within Poznań are the Junikowo Stream (Strumień Junikowski), which flows through southern Poznań from the west, meeting the Warta just outside the city boundary in Luboń; the Bogdanka and Wierzbak, formerly two separate tributaries flowing from the north-west and along the north side of the city centre, now with their lower sections diverted underground; the Główna, flowing through the neighbourhood of the same name in north-east Poznań; and the Rose Stream (Strumień Różany) flowing east from Morasko in the north of the city. The course of the Warta in central Poznań was formerly quite different from today: the main stream ran between Grobla and Chwaliszewo, which were originally both islands. The branch west of Grobla (the Zgniła Warta – \"rotten Warta\") was filled in late in the 19th century, and the former main stream west of Chwaliszewo was diverted and filled in during the 1960s. This was done partly to prevent floods, which did serious damage to Poznań frequently throughout history.\\n', \"Poznań's largest lake is Kiekrz in the north-west end of the city. Other large lakes include Malta, an artificial lake formed in 1952 on the lower Cybina river, Strzeszyn on the Bogdanka, and Rusałka, an artificial lake formed in 1943 further down the Bogdanka river. The latter two are popular bathing places. Kiekrz lake is much used for sailing, while Malta is a competitive rowing and canoeing venue.\\n\", 'The city centre – including the Old Town, the former islands of Grobla and Chwaliszewo, the main street Święty Marcin and many other important buildings and districts – lies on the west side of the Warta. Opposite it between the two branches of the Warta is Ostrów Tumski, containing Cathedral and other ecclesiastical buildings, as well as housing and industrial facilities. Facing the cathedral on the east bank of the river is the historic district of Śródka. Large areas of apartment blocks, built from the 1960s onwards, include Rataje in the east, and Winogrady and Piątkowo north of the centre. Older residential and commercial districts include those of Wilda, Łazarz and Górczyn to the south, and Jeżyce to the west. There are also significant areas of forest within the city boundaries, particularly in the east adjoining Swarzędz, and around the lakes in the north-west.\\n', \"For more details on Poznań's geography, see the articles on its five main districts: Stare Miasto, Nowe Miasto, Jeżyce, Grunwald, and Wilda.\\n\", 'The climate of Poznań is within the transition zone between a humid continental and oceanic climate (Köppen: Cfb to Dfb although it just fits in the second in the 0\\xa0°C isotherm) and with relatively cold winters and warm summers. Snow is common in winter, when night-time temperatures are typically below zero. In summer temperatures may often reach 30\\xa0°C (86\\xa0°F). Annual rainfall is more than 500\\xa0mm (20\\xa0in), among the lowest in Poland. The rainiest month is July, mainly due to short but intense cloudbursts and thunderstorms. The number of hours of sunshine are among the highest in the country. Climate in this area has mild differences between highs and lows, and there is adequate rainfall year-round. The Köppen Climate Classification subtype for this climate is \"humid continental climate).[22] The warmest temperature was recorded on 11 July 1959 at 38.7\\xa0°C (101\\xa0°F)\\n', 'Poznań is divided into 42 neighbourhoods called osiedle, each of which has its own elected council with certain decision-making and spending powers. The first uniform elections for these councils covering the whole area of the city were held on 20 March 2011.[citation needed]\\n', 'For certain administrative purposes, the old division into five districts called dzielnica is used – although these ceased to be governmental units in 1990. These were:\\n', 'Many citizens of Poznań thanks to the strong economy of the city and high salaries started moving to suburbs of the Poznań County (powiat) in the 1990s.[citation needed] Although the number of inhabitants in Poznań itself was decreasing for the past two decades, the suburbs gained almost twice as many inhabitants.[citation needed] The Poznań metropolitan area Metropolia Poznań comprising Poznań County and several other communities is home to over 1\\xa0million inhabitants.[2] The complex infrastructure, population density, number of companies and gross product per capita of Poznań suburbs may be only compared to Warsaw suburbs.[citation needed] Many parts of closer suburbs such as Tarnowo Podgorne, Komorniki, Suchy Las, and Dopiewo produce more in terms of GDP per capita than the city itself.[citation needed]\\n', \"Poznań has been an important trade centre since the Middle Ages. Starting in the 19th century, local heavy industry began to grow. Several major factories were built, including the Hipolit Cegielski's steel mill and railway factory, popularly called Ceglorz.\\n\", \"Nowadays, Poznań is one of the major trade centres in Poland. It is regarded as the second most prosperous city in Poland after its capital Warsaw.[35] The city of Poznań produced PLN 31.8\\xa0billion of Poland's gross domestic product in 2006.\\n\", 'Many Western European companies have established their Polish headquarters in Poznań or in nearby towns such as Tarnowo Podgórne and Swarzędz. Most foreign investors are German (36%) and Dutch companies (14%).[2] The best known examples of corporation who have their headquarters in Poznań and the surrounding areas are that of Volkswagen, GlaxoSmithKline, Amazon, Bridgestone, Beiersdorf, Raben Group (near Kórnik) and Kuehne + Nagel (near Gądki). There are also several shared services centers, and IT branch offices. Investors are mostly from the food processing, furniture, automotive and transport and logistics industries. Foreign companies are primarily attracted by relatively low labour costs, good road and railway network, good vocational skills of workers, and relatively liberal employment laws.[citation needed]\\n', \"Some of the best-known major corporations founded and still based in Poznań and the city's metropolitan area include Allegro – owner of the Poland's biggest e-commerce site, H. Cegielski-Poznań SA – a historic manufacturer, Solaris Bus & Coach – a modern bus and coach maker based in Bolechowo, and Enea S.A. – one of the country's biggest energy firms. Kompania Piwowarska based in Poznań produces some of Poland's best known beers, and includes not only the local Lech Brewery's products but also Tyskie from Tychy and Dojlidy Brewery from Białystok among many others.\\n\", 'In 2008, three Poznań students founded Netguru, a software development and digital consultancy company. It grew fast to employ about 600 people in 2019.\\n', 'Stary Browar, the center of commerce and art opened in 2003, won several awards for its architecture.[36][37] Other notable shopping centers include Posnania, the biggest commerce facility in Greater Poland, Galeria Malta, and the shops at the Hotel Bazar – a historical hotel and commercial center in the Old Town.[citation needed]\\n', 'The main Poznań railway station is called Poznań Główny, and is located just southwest of the city centre. There are also the smaller East Poznań and Poznań Garbary stations northeast of the centre, and a number of other stations on the outskirts of the city. The main east-west A2 motorway runs south of the city centre connecting it with Berlin in the west and Łódż and Warsaw in the east, serving also as a centre bypass. Other main roads run in the direction of Warsaw, Bydgoszcz, Wągrowiec, Oborniki, Katowice, Wrocław, Buk and Berlin.\\n', 'Poznań has one of the biggest airports in the west of Poland called Ławica Airport. In 2016 it handled approximately 1.71\\xa0million passengers.[39]\\n', 'Since the bend of the communist era in 1989, city investments into transportation have been mostly into public transport. While the number of cars since 1989 has at least doubled, municipal policy concentrated on improving public transport, which mostly consists of trams and both urban and suburban buses. New tram lines are planned and built, including Pestka Fast Tram sections, and the rolling stock is being replaced for modern low-floor vehicles such as trams Solaris Tramino / Combino and Moderus Gamma, and buses such as Solaris Urbino.\\n', 'Paid parking zones in the city centre were established, and Park & Ride car parks have been built to encourage commuters to leave their car on the outskirts of the city and continue their journey by public transport, as well as to allow safe and legal parking outside the city centre. Limiting car access to the strict centre actually increased the level of ridership.[citation needed]\\n', 'Poznań Główny – main railway station\\n', 'Greater Poland Railways train at the Poznań Główny\\n', 'A2 motorway before the six-lane expansion done in 2019\\n', \"Moderus Gamma tram, which is produced near Poznań, in city's eastern underground section\\n\", \"City Bike's station\\n\", 'Solaris bus; they are also produced near Poznań\\n', 'Eurocopter EC135 Lifeguard 9 waiting for an emergency dispatch at the Ławica Airport\\n', \"Poznań possesses many historic buildings and heritage sites, mostly concentrated around the Old Town and other parts of the city centre. Many of these lie on the tourist Royal-Imperial Route – a walk leading through the most important parts of the city showing its history, culture and identity. Parts of the city centre are listed as one of Poland's official national historic monuments, as designated 28 November 2008, along with other portions of the city's historic core. Its listing is maintained by the National Heritage Board of Poland.[40]\\n\", 'Apart from traditional theatres with a long history such as Teatr Wielki, Teatr Polski, Teatr Nowy, and others like Teatr Animacji, Teatr Muzyczny and Polish Dance Theatre, Poznań is also home to a growing number of different kind of alternative theatre groups. It is believed that even up to 30 more or less known groups may work in the city, and thus, the city has recently become a new Polish off-theatre performance centre.[41]\\n', 'Classical music events include the Henryk Wieniawski Violin Competition which is held every 5 years, and classical music concerts by the Poznań Philharmonic orchestra held each month in the Hall of the Adam Mickiewicz University, considered to be one of the best in terms of acoustics in Poland. Especially popular are concerts by the Poznań Nightingales.\\n', \"Every year on 11 November, city residents celebrate the Day of St. Martin. A procession of horses, with Saint Martin at its head, parades along Saint Martin Street (ulica Święty Marcin), in front of the Imperial Castle. The renowned St. Martin's Croissant, a regional product of Poznań, are widely sold during the festivities.[42]\\n\", \"An important cultural event in Poznań is the annual Malta Festival, which takes place at many city venues, usually in late June and early July. It hosts mainly modern experimental off-theatre performances often taking place on squares and other public spaces. It also includes cinema, visual, music and dancing events. Poznań also stages the Ale Kino! International Young Audience Film Festival in December, and Off Cinema festival of independent films. Other festivals: Animator (animated film festival), Ethno Port festival of traditional world's ethnic music, Maski Theater Festival, Dance International Workshops by Polish Dance Theater, Made in Chicago (jazz festival), Festival of Ice Sculpture, Science and Art Festival, Tzadik (Jewish music festival), and Meditations Biennale (modern art).\\n\", 'Poznań has several museums as well as cinemas, including multiplexes and art-house institutions. The Rozbrat social centre, a squatted former factory in Jeżyce, serves as a home for independent and open-minded culture. It hosts frequent gigs, an anarchist library, vernissages, exhibitions, annual birthday festival in October, poetry evenings and graffiti festivals. The city centre has many clubs, pubs and coffee houses.\\n', 'A popular venue is Malta, a park with an artificial lake situated in its centre. On one south bank of the lake there are ski and sleigh slopes of Malta Ski centre, and on the opposite bank a large complex of Termy Maltańskie swimming pools.\\n', \"Poznań Zoological Garden has two facilities. The Old Zoo is one of the oldest in Poland, established in 1874 just west of the city centre.[43] The big 116 hectare New Zoo was opened to the public in 1974, becoming second largest in Poland in terms of area. It is located on a hilly forest area with six large ponds at the eastern city's wedge of greenery, beyond the Malta lake. There is a dedicated and adored by children Maltanka mini-railway, that starts the route near the Śródka roundabout.\\n\", 'Freedom Square (Plac Wolności)\\n', 'Imperial Castle, now the Zamek Culture Centre\\n', \"Merchant houses, originally 16th century's herring stalls, at the Old Market Square\\n\", 'Bamberka fountain at the Old Market Square\\n', \"Śródka's Tale Mural in 2015\\n\", 'Stary Browar, Kufel by Wojciech Kujawski (Guinness ratified largest beer mug in the world), and Art Stations Foundation gallery in the background\\n', 'Poznań Goat mascot, Old Market Square\\n', \"Rogalin's Raczyński Palace within Rogalin Landscape Park, some 8 mi south of Poznań. Rear view\\n\", \"In 1600, approximately 20,000 inhabitants resided in the whole Poznań conurbation. By 1732 the population had dropped to 4,000 due to wars, floods and plague. Historically, its growth rate was high throughout the 19th and 20th centuries; in the year 1900 approximately 110,000 people were registered as residents and by 1939 there was already 274,155 people. The population of Poznań has declined steadily since 1990, when it reached a maximum of 590,101. This phenomenon, which also affected other European cities, is caused in part by the growth of satellite suburbs at the expense of the downtown region within the city proper. In 2020, Poznań had 532,048 registered inhabitants being the fifth most populous town in Poland, while the metropolitan area had a population of more than 1,200,000 people. The city's population density was 5,300 people per square mile (2,040/km2).\\n\", \"Contemporary Poznań has one of the highest concentration of foreigners in Poland alongside Warsaw and Wrocław; a significant majority are migrant workers from Ukraine; others came from Italy, Spain, South Korea, India, Russia and Turkey. No exact statistic exists on the number of temporary residents from abroad. Many are students studying at Poznań's schools and institutions of higher learning.\\n\", 'Poznań is one of the four largest academic centres in Poland. The number of students in the city is about 140,000, which ranks it the third / fourth after Warsaw and Kraków and about equal to Wrocław in student population. Every one in four inhabitants of Poznań is a student. Since Poznań is smaller than Warsaw or Kraków still having a very large number of students it makes the city even more vibrant and dense academic hub than both former and current capital of Poland – Kraków and Warsaw respectively. Poznań with its almost 30 universities and colleges has the second richest educational offering in the country after Warsaw.\\n', 'The city has eight state-owned universities. Adam Mickiewicz University (AMU, UAM in Polish) is one of the most influential and biggest universities in Poland. Poznań University of Technology (PUT, PP in Polish) is one of the most influential and biggest technical universities in Poland.\\n', 'Adam Mickiewicz University is one of the three best universities in Poland after University of Warsaw and University of Kraków. They all have a very high number of international student and scientist exchange, research grants and top publications.\\nIn northern suburbs of Poznań a very large \"Morasko Campus\" has been built (Faculty of Biology, Physics, Mathematics, Chemistry, Political Sciences, Geography). The majority of faculties are already open, although a few more facilities will be constructed. The campus infrastructure belongs to the most impressive among Polish universities. Also, there are plans for \"Uniwersytecki Park Historii Ziemii\" (Earth History Park), one of the reason for the park construction is a \"Morasko meteorite nature reserve\" situated close by, it is one of the rare sites of Europe where a number of meteorites fell and some traces may be still seen.\\n', 'Poznań University of Technology was ranked fifth among all universities in Poland, and third among Polish technical universities, in the 2018 international Scimago Institutions Ranking.[44] In the 2019 Academic Ranking of World Universities, known also as the Shanghai Ranking, PUT was classified among the 500 best universities in the world in two disciplines, i.e. \"Computer Science & Engineering\" and \"Mechanical Engineering\".[45][46] PUT was ranked third among all Polish universities in the 2019–20 Ministry of Science and Higher Education popularity ranking.[47] Recent years have brought extensive development of university infrastructure at the \"Warta campus\", located on the right side of Warta river between Malta lake and Poznań city center. Location of this campus belongs to the most impressive among Polish universities.\\n', 'There is also a great number of smaller, mostly private-run colleges and institutions of higher education, including SWPS University of Social Sciences and Humanities, Collegium Da Vinci, and WSB University.[48]\\n', 'Poznań has numerous high schools, which have different programmes focusing on different subjects. Some of the most notable are:\\n', \"There are several multi-sport clubs in Poznań. Warta Poznań was one of the most successful clubs in pre-World War II history, and Lech Poznań football team frequently plays in European cups. Lech plays at the Municipal Stadium, which hosted the 2012 European Championship group stages as well as the opening game and the final of the 2006 under-19 Euro Championship. Warta usually plays at the small Dębińska Road Stadium, a former training ground for Edmund Szyc Stadium, however, since the latter fell into disrepair in 1998 and was sold in 2001, it became the team's main ground. The club was planning to rebuild Szyc Stadium with historical 60,000 seats capacity.[49] In 2019/2020 season, Warta played their I liga matches at the stadium in Grodzisk Wielkopolski, as Dębińska Road Stadium did not fulfill the requirements of the I liga's authorities.[50]\\n\", \"The city's third professional football team of multi-sport Olimpia Poznań club ceased activity in 2004, and the club focused on other sports, achieving good results in judo and tennis. Olimpia is hosting the annual tennis Poznań Open tournament at its Olimpia Tennis Park. The club owns a large sports complex near Rusałka lake, and apart from the tennis facilities boasts a large city recreation areas: mountain biking facilities with a four-cross track, an athletics stadium with 3,000 capacity, and an football-speedway stadium with 20,000 capacity. The latter had fallen into vast disrepair until it was acquired by the City Council from the Police in 2013 and was renovated. The football-speedway stadium hosts speedway club PSŻ Poznań, rugby union side NKR Chaos, American football team the Armia Poznań,[51] and football team Poznaniak Poznań.\\n\", 'Artificial Malta lake, which was formed in 1952 and is about 2.2\\xa0km long, hosted the 2009 World Rowing Championships and some regattas of the World Rowing Cup. It also held the ICF Canoe Sprint World Championships in 1990, 2001, and 2010.\\n', 'Termy Maltańskie, big water sports and recreation complex featuring Olympic-size swimming pool, is located at the north bank of the lake. A 50-metres pool can be divided into two 25-metres pools. The other pool with a diving tower also fulfils all requirements necessary for organizing sports competitions. Termy Maltańskie consists of as many as 18 sports and recreational swimming pools with a total water surface area of 5000 m2 as well as many other attractions such as different kind of saunas and spa, among others. The complex uses natural geothermal waters drawn nearby from a depth of 1306 meters and saturated with beneficial minerals and elements, for some of the swimming pools.\\n', 'At the south bank of the lake, Malta-Ski year-long skiing complex is situated, and is hosting minor sport competitions, equipped with a toboggan run and a minigolf course. There is also a roller rink with a roller skating club nearby.\\n', \"Poznań's indoor sporting arena is simply called Arena. Located west of city centre and built in 1974, it originally seated about 5,500 people and is used for many different indoor sports and cultural events such as volleyball and concerts, among others. Currently the facility is modernized, including lowering the level of the ground floor to increase arena capacity to about 9,200. Poznań has experience as a host for international sporting events such as the 2009 EuroBasket.[52]\\n\", \"The city has the largest motorsport race track in Poland, Tor Poznań, located at the west city's suburbs in Przeźmierowo.\\n\", \"Poznań is also considered to be the hotbed of Polish field hockey, with several top teams of Warta Poznań, Grunwald Poznań – multi-sport club which also has shooting, wrestling, handball and tennis sections, Pocztowiec Poznań, and AZS AWF Poznań – an academic club which also fields professional teams in women's volleyball and basketball. Other clubs include: Posnania Poznań – one of the best rugby union teams in the country, Polonia Poznań – formerly a multi-sport club achieving many successes in rugby with only a football section remaining, KKS Wiara Lecha – football club formed by the supporters of Lech Poznań, and Odlew Poznań – arguably the most famous amateur club in the country due to their extensive media coverage and humorous exploits. There are also numerous rhythmic gymnastics and synchronised swimming clubs, as well as numerous less notable amateur football teams.\\n\", 'The E11 European long distance path for hikers passes through Poznań.\\n', \"Poznań bid for the 2014 Summer Youth Olympics but lost to Nanjing, with the Chinese city receiving 47 votes over Poznań's 42.\\n\", 'Poznań is twinned with:[53][54]\\n']\n"
     ]
    }
   ],
   "source": [
    "from bs4 import BeautifulSoup\n",
    "import requests\n",
    "\n",
    "respond = requests.get(\"https://en.wikipedia.org/wiki/Poznań\")\n",
    "soup = BeautifulSoup(respond.text, \"lxml\")\n",
    "page = soup.find_all('p')\n",
    "\n",
    "raw_text = [paragraph.text for paragraph in page]\n",
    "\n",
    "print(raw_text)"
   ]
  },
  {
   "cell_type": "markdown",
   "metadata": {},
   "source": [
    "Next, we will split the text into paragraphs and remove the lines with less than 3 words."
   ]
  },
  {
   "cell_type": "code",
   "execution_count": 3,
   "metadata": {
    "ExecuteTime": {
     "end_time": "2021-04-06T09:02:25.367504Z",
     "start_time": "2021-04-06T09:02:25.347776Z"
    }
   },
   "outputs": [
    {
     "name": "stdout",
     "output_type": "stream",
     "text": [
      "['Poznań', '(Polish:', '[ˈpɔznaɲ]', '(listen))[a]', 'is', 'a', 'city', 'on', 'the', 'River', 'Warta', 'in', 'west-central', 'Poland,', 'within', 'the', 'Greater', 'Poland', 'region.', 'The', 'city', 'is', 'an', 'important', 'cultural', 'and', 'business', 'centre,', 'and', 'one', 'of', \"Poland's\", 'most', 'populous', 'regions', 'with', 'many', 'regional', 'customs', 'such', 'as', 'Saint', \"John's\", 'Fair', '(Jarmark', 'Świętojański),', 'traditional', 'Saint', \"Martin's\", 'croissants', 'and', 'a', 'local', 'dialect.', 'Among', 'its', 'most', 'important', 'heritage', 'sites', 'are', 'the', 'Renaissance', 'Old', 'Town,', 'Town', 'Hall', 'and', 'Gothic', 'Cathedral.']\n",
      "['Poznań', 'is', 'the', 'fifth-largest', 'and', 'one', 'of', 'the', 'oldest', 'cities', 'in', 'Poland.', 'As', 'of', '2020,', 'the', \"city's\", 'population', 'is', '532,048,', 'while', 'the', 'Poznań', 'metropolitan', 'area', '(Metropolia', 'Poznań)', 'comprising', 'Poznań', 'County', 'and', 'several', 'other', 'communities', 'is', 'inhabited', 'by', 'over', '1.1', 'million', 'people.[2]', 'It', 'is', 'one', 'of', 'four', 'historical', 'capitals', 'of', 'medieval', 'Poland', 'and', 'the', 'ancient', 'capital', 'of', 'the', 'Greater', 'Poland', 'region,', 'currently', 'the', 'administrative', 'capital', 'of', 'the', 'province', 'called', 'Greater', 'Poland', 'Voivodeship.']\n",
      "['Poznań', 'is', 'a', 'center', 'of', 'trade,', 'sports,', 'education,', 'technology', 'and', 'tourism.', 'It', 'is', 'an', 'important', 'academic', 'site,', 'with', 'about', '130,000', 'students', 'and', 'Adam', 'Mickiewicz', 'University,', 'the', 'third', 'largest', 'Polish', 'university.', 'The', 'city', 'serves', 'as', 'the', 'seat', 'of', 'the', 'oldest', 'Polish', 'diocese,', 'now', 'being', 'one', 'of', 'the', 'most', 'populous', 'Catholic', 'archdioceses', 'in', 'the', 'country.', 'The', 'city', 'also', 'hosts', 'the', 'Poznań', 'International', 'Fair', '–', 'the', 'biggest', 'industrial', 'fair', 'in', 'Poland', 'and', 'one', 'of', 'the', 'largest', 'fairs', 'in', 'Europe.', 'The', \"city's\", 'other', 'renowned', 'landmarks', 'include', 'the', 'National', 'Museum,', 'Grand', 'Theatre,', 'Fara', 'Church', 'and', 'the', 'Imperial', 'Castle.']\n",
      "['Poznań', 'is', 'classified', 'as', 'a', 'Gamma-', 'global', 'city', 'by', 'Globalization', 'and', 'World', 'Cities', 'Research', 'Network.[4]', 'According', 'to', 'several', 'rankings', 'it', 'is', 'one', 'of', 'the', 'most', 'business-friendly', 'cities', 'in', 'Poland.[5]', 'It', 'also', 'ranks', 'highly', 'in', 'safety', 'and', 'healthcare', 'quality.[6]', 'The', 'city', 'of', 'Poznań', 'has', 'also,', 'many', 'times,', 'won', 'the', 'prize', 'awarded', 'by', '\"Superbrands\"', 'for', 'a', 'very', 'high', 'quality', 'city', 'brand.', 'In', '2012,', 'the', \"Poznań's\", 'Art', 'and', 'Business', 'Center', '\"Stary', 'Browar\"', 'won', 'a', 'competition', 'organised', 'by', 'National', 'Geographic', 'Traveler', 'and', 'was', 'given', 'the', 'first', 'prize', 'as', 'one', 'of', 'the', 'seven', '\"New', 'Polish', 'Wonders\".']\n",
      "['The', 'official', 'patron', 'saints', 'of', 'Poznań', 'are', 'Saint', 'Peter', 'and', 'Paul', 'of', 'Tarsus,', 'the', 'patrons', 'of', 'the', 'cathedral.', 'Martin', 'of', 'Tours', '–', 'the', 'patron', 'of', 'the', 'main', 'street', 'Święty', 'Marcin', '–', 'is', 'also', 'regarded', 'as', 'one', 'of', 'the', 'patron', 'saints', 'of', 'the', 'city.']\n",
      "['The', 'name', 'Poznań', 'probably', 'comes', 'from', 'a', 'personal', 'name', 'Poznan,', 'which', 'was', 'in', 'turn', 'derived', 'from', 'the', 'Polish', 'participle', 'poznan(y)', '–', '\"one', 'who', 'is', 'known/recognized\",', 'and', 'would', 'mean', '\"Poznan\\'s', 'town\".', 'It', 'is', 'also', 'possible', 'that', 'the', 'name', 'comes', 'directly', 'from', 'the', 'verb', 'poznać,', 'which', 'means', '\"to', 'get', 'to', 'know\"', 'or', '\"to', 'recognize\",', 'so', 'it', 'may', 'simply', 'mean', '\"known', 'town\".']\n",
      "['The', 'earliest', 'surviving', 'references', 'to', 'the', 'city', 'are', 'found', 'in', 'the', 'chronicles', 'of', 'Thietmar', 'of', 'Merseburg', 'written', 'between', '1012', 'and', '1018:', 'episcopus', 'Posnaniensis', '(\"bishop', 'of', 'Poznań\",', 'in', 'an', 'entry', 'for', '970)', 'and', 'ab', 'urbe', 'Posnani', '(\"from', 'the', 'city', 'of', 'Poznań\",', 'for', '1005).', 'The', \"city's\", 'name', 'appears', 'in', 'documents', 'in', 'the', 'Latin', 'nominative', 'case', 'as', 'Posnania', 'in', '1236', 'and', 'Poznania', 'in', '1247.', 'The', 'phrase', 'in', 'Poznan', 'appears', 'in', '1146', 'and', '1244.']\n",
      "['The', \"city's\", 'full', 'official', 'name', 'is', 'Stołeczne', 'Miasto', 'Poznań', '(The', 'Capital', 'City', 'of', 'Poznań),', 'in', 'reference', 'to', 'its', 'role', 'as', 'a', 'centre', 'of', 'political', 'power', 'in', 'the', 'early', 'Polish', 'state', 'under', 'the', 'Piast', 'dynasty.', 'Poznań', 'is', 'known', 'as', 'Posen', 'in', 'German,', 'and', 'was', 'officially', 'called', 'Haupt-', 'und', 'Residenzstadt', 'Posen', '(Capital', 'and', 'Residence', 'City', 'of', 'Poznań)', 'between', '20', 'August', '1910', 'and', '28', 'November', '1918.', 'The', 'Latin', 'names', 'of', 'the', 'city', 'are', 'Posnania', 'and', 'Civitas', 'Posnaniensis.', 'Its', 'Yiddish', 'name', 'is', 'פּױזן,', 'or', 'Poyzn.']\n",
      "['In', 'Polish,', 'the', \"city's\", 'name', 'has', 'masculine', 'grammatical', 'gender.']\n",
      "['For', 'centuries', 'before', 'the', 'Christianization', 'of', 'Poland', '(an', 'event', 'that', 'essentially', 'is', 'credited', 'as', 'the', 'creation', 'of', 'the', 'very', 'first', 'Polish', 'state,', 'the', 'Duchy', 'of', 'Poland),', 'Poznań', 'was', 'an', 'important', 'cultural', 'and', 'political', 'centre', 'of', 'the', 'Western', 'Polans.', 'It', 'consisted', 'of', 'a', 'fortified', 'stronghold', 'between', 'the', 'Warta', 'and', 'Cybina', 'rivers', 'on', 'what', 'is', 'now', 'Ostrów', 'Tumski.', 'Mieszko', 'I,', 'the', 'first', 'historically', 'recorded', 'ruler', 'of', 'the', 'West', 'Polans', 'and', 'of', 'the', 'early', 'Polish', 'state', 'which', 'they', 'dominated,', 'built', 'one', 'of', 'his', 'main', 'stable', 'headquarters', 'in', 'Poznań.', \"Mieszko's\", 'baptism', 'in', 'AD', '966,', 'seen', 'as', 'a', 'defining', 'moment', 'in', 'the', 'Christianization', 'of', 'the', 'Polish', 'state,', 'may', 'have', 'taken', 'place', 'in', 'Poznań.[7]']\n"
     ]
    }
   ],
   "source": [
    "text = [ line.split() for line in raw_text if len(line) > 2 ]\n",
    "\n",
    "for line in text[:10]:\n",
    "    print(line)"
   ]
  },
  {
   "cell_type": "markdown",
   "metadata": {},
   "source": [
    "Our text still contains a lot of stop-words and some additional tokens such as 1.2, [2], etc. We will use the `nltk` library to remove the stop-words and we'll transform everything to alpha tokens."
   ]
  },
  {
   "cell_type": "code",
   "execution_count": 4,
   "metadata": {
    "ExecuteTime": {
     "end_time": "2021-04-06T09:02:43.748082Z",
     "start_time": "2021-04-06T09:02:42.137114Z"
    }
   },
   "outputs": [
    {
     "name": "stderr",
     "output_type": "stream",
     "text": [
      "[nltk_data] Downloading package stopwords to\n",
      "[nltk_data]     C:\\Users\\1625203\\AppData\\Roaming\\nltk_data...\n",
      "[nltk_data]   Package stopwords is already up-to-date!\n"
     ]
    },
    {
     "data": {
      "text/plain": [
       "True"
      ]
     },
     "execution_count": 4,
     "metadata": {},
     "output_type": "execute_result"
    }
   ],
   "source": [
    "import nltk\n",
    "\n",
    "nltk.download('stopwords')"
   ]
  },
  {
   "cell_type": "code",
   "execution_count": 5,
   "metadata": {
    "ExecuteTime": {
     "end_time": "2021-04-06T09:02:46.535741Z",
     "start_time": "2021-04-06T09:02:46.513709Z"
    }
   },
   "outputs": [
    {
     "data": {
      "text/plain": [
       "['i',\n",
       " 'me',\n",
       " 'my',\n",
       " 'myself',\n",
       " 'we',\n",
       " 'our',\n",
       " 'ours',\n",
       " 'ourselves',\n",
       " 'you',\n",
       " \"you're\",\n",
       " \"you've\",\n",
       " \"you'll\",\n",
       " \"you'd\",\n",
       " 'your',\n",
       " 'yours',\n",
       " 'yourself',\n",
       " 'yourselves',\n",
       " 'he',\n",
       " 'him',\n",
       " 'his',\n",
       " 'himself',\n",
       " 'she',\n",
       " \"she's\",\n",
       " 'her',\n",
       " 'hers',\n",
       " 'herself',\n",
       " 'it',\n",
       " \"it's\",\n",
       " 'its',\n",
       " 'itself',\n",
       " 'they',\n",
       " 'them',\n",
       " 'their',\n",
       " 'theirs',\n",
       " 'themselves',\n",
       " 'what',\n",
       " 'which',\n",
       " 'who',\n",
       " 'whom',\n",
       " 'this',\n",
       " 'that',\n",
       " \"that'll\",\n",
       " 'these',\n",
       " 'those',\n",
       " 'am',\n",
       " 'is',\n",
       " 'are',\n",
       " 'was',\n",
       " 'were',\n",
       " 'be',\n",
       " 'been',\n",
       " 'being',\n",
       " 'have',\n",
       " 'has',\n",
       " 'had',\n",
       " 'having',\n",
       " 'do',\n",
       " 'does',\n",
       " 'did',\n",
       " 'doing',\n",
       " 'a',\n",
       " 'an',\n",
       " 'the',\n",
       " 'and',\n",
       " 'but',\n",
       " 'if',\n",
       " 'or',\n",
       " 'because',\n",
       " 'as',\n",
       " 'until',\n",
       " 'while',\n",
       " 'of',\n",
       " 'at',\n",
       " 'by',\n",
       " 'for',\n",
       " 'with',\n",
       " 'about',\n",
       " 'against',\n",
       " 'between',\n",
       " 'into',\n",
       " 'through',\n",
       " 'during',\n",
       " 'before',\n",
       " 'after',\n",
       " 'above',\n",
       " 'below',\n",
       " 'to',\n",
       " 'from',\n",
       " 'up',\n",
       " 'down',\n",
       " 'in',\n",
       " 'out',\n",
       " 'on',\n",
       " 'off',\n",
       " 'over',\n",
       " 'under',\n",
       " 'again',\n",
       " 'further',\n",
       " 'then',\n",
       " 'once',\n",
       " 'here',\n",
       " 'there',\n",
       " 'when',\n",
       " 'where',\n",
       " 'why',\n",
       " 'how',\n",
       " 'all',\n",
       " 'any',\n",
       " 'both',\n",
       " 'each',\n",
       " 'few',\n",
       " 'more',\n",
       " 'most',\n",
       " 'other',\n",
       " 'some',\n",
       " 'such',\n",
       " 'no',\n",
       " 'nor',\n",
       " 'not',\n",
       " 'only',\n",
       " 'own',\n",
       " 'same',\n",
       " 'so',\n",
       " 'than',\n",
       " 'too',\n",
       " 'very',\n",
       " 's',\n",
       " 't',\n",
       " 'can',\n",
       " 'will',\n",
       " 'just',\n",
       " 'don',\n",
       " \"don't\",\n",
       " 'should',\n",
       " \"should've\",\n",
       " 'now',\n",
       " 'd',\n",
       " 'll',\n",
       " 'm',\n",
       " 'o',\n",
       " 're',\n",
       " 've',\n",
       " 'y',\n",
       " 'ain',\n",
       " 'aren',\n",
       " \"aren't\",\n",
       " 'couldn',\n",
       " \"couldn't\",\n",
       " 'didn',\n",
       " \"didn't\",\n",
       " 'doesn',\n",
       " \"doesn't\",\n",
       " 'hadn',\n",
       " \"hadn't\",\n",
       " 'hasn',\n",
       " \"hasn't\",\n",
       " 'haven',\n",
       " \"haven't\",\n",
       " 'isn',\n",
       " \"isn't\",\n",
       " 'ma',\n",
       " 'mightn',\n",
       " \"mightn't\",\n",
       " 'mustn',\n",
       " \"mustn't\",\n",
       " 'needn',\n",
       " \"needn't\",\n",
       " 'shan',\n",
       " \"shan't\",\n",
       " 'shouldn',\n",
       " \"shouldn't\",\n",
       " 'wasn',\n",
       " \"wasn't\",\n",
       " 'weren',\n",
       " \"weren't\",\n",
       " 'won',\n",
       " \"won't\",\n",
       " 'wouldn',\n",
       " \"wouldn't\"]"
      ]
     },
     "execution_count": 5,
     "metadata": {},
     "output_type": "execute_result"
    }
   ],
   "source": [
    "from nltk.corpus import stopwords\n",
    "\n",
    "stopwords.words('english')"
   ]
  },
  {
   "cell_type": "code",
   "execution_count": 6,
   "metadata": {
    "ExecuteTime": {
     "end_time": "2021-04-06T09:02:54.082002Z",
     "start_time": "2021-04-06T09:02:53.594830Z"
    }
   },
   "outputs": [
    {
     "name": "stdout",
     "output_type": "stream",
     "text": [
      "['poznań', 'city', 'river', 'warta', 'within', 'greater', 'poland', 'city', 'important', 'cultural', 'business', 'one', 'populous', 'regions', 'many', 'regional', 'customs', 'saint', 'fair', 'traditional', 'saint', 'croissants', 'local', 'among', 'important', 'heritage', 'sites', 'renaissance', 'old', 'town', 'hall', 'gothic']\n",
      "['poznań', 'one', 'oldest', 'cities', 'population', 'poznań', 'metropolitan', 'area', 'comprising', 'poznań', 'county', 'several', 'communities', 'inhabited', 'million', 'one', 'four', 'historical', 'capitals', 'medieval', 'poland', 'ancient', 'capital', 'greater', 'poland', 'currently', 'administrative', 'capital', 'province', 'called', 'greater', 'poland']\n",
      "['poznań', 'center', 'technology', 'important', 'academic', 'students', 'adam', 'mickiewicz', 'third', 'largest', 'polish', 'city', 'serves', 'seat', 'oldest', 'polish', 'one', 'populous', 'catholic', 'archdioceses', 'city', 'also', 'hosts', 'poznań', 'international', 'fair', 'biggest', 'industrial', 'fair', 'poland', 'one', 'largest', 'fairs', 'renowned', 'landmarks', 'include', 'national', 'grand', 'fara', 'church', 'imperial']\n",
      "['poznań', 'classified', 'global', 'city', 'globalization', 'world', 'cities', 'research', 'according', 'several', 'rankings', 'one', 'cities', 'also', 'ranks', 'highly', 'safety', 'healthcare', 'city', 'poznań', 'many', 'prize', 'awarded', 'high', 'quality', 'city', 'art', 'business', 'center', 'competition', 'organised', 'national', 'geographic', 'traveler', 'given', 'first', 'prize', 'one', 'seven', 'polish']\n",
      "['official', 'patron', 'saints', 'poznań', 'saint', 'peter', 'paul', 'patrons', 'martin', 'tours', 'patron', 'main', 'street', 'święty', 'marcin', 'also', 'regarded', 'one', 'patron', 'saints']\n",
      "['name', 'poznań', 'probably', 'comes', 'personal', 'name', 'turn', 'derived', 'polish', 'participle', 'would', 'mean', 'also', 'possible', 'name', 'comes', 'directly', 'verb', 'means', 'get', 'may', 'simply', 'mean']\n",
      "['earliest', 'surviving', 'references', 'city', 'found', 'chronicles', 'thietmar', 'merseburg', 'written', 'episcopus', 'posnaniensis', 'entry', 'ab', 'urbe', 'posnani', 'city', 'name', 'appears', 'documents', 'latin', 'nominative', 'case', 'posnania', 'poznania', 'phrase', 'poznan', 'appears']\n",
      "['full', 'official', 'name', 'stołeczne', 'miasto', 'poznań', 'capital', 'city', 'reference', 'role', 'centre', 'political', 'power', 'early', 'polish', 'state', 'piast', 'poznań', 'known', 'posen', 'officially', 'called', 'und', 'residenzstadt', 'posen', 'residence', 'city', 'august', 'november', 'latin', 'names', 'city', 'posnania', 'civitas', 'yiddish', 'name']\n",
      "['name', 'masculine', 'grammatical']\n",
      "['centuries', 'christianization', 'poland', 'event', 'essentially', 'credited', 'creation', 'first', 'polish', 'duchy', 'poznań', 'important', 'cultural', 'political', 'centre', 'western', 'consisted', 'fortified', 'stronghold', 'warta', 'cybina', 'rivers', 'ostrów', 'mieszko', 'first', 'historically', 'recorded', 'ruler', 'west', 'polans', 'early', 'polish', 'state', 'built', 'one', 'main', 'stable', 'headquarters', 'baptism', 'ad', 'seen', 'defining', 'moment', 'christianization', 'polish', 'may', 'taken', 'place']\n"
     ]
    }
   ],
   "source": [
    "from nltk.corpus import stopwords\n",
    "\n",
    "clean_text = [\n",
    "    [ \n",
    "        word.lower() \n",
    "         for word \n",
    "        in line \n",
    "        if word.isalpha() \n",
    "        and word.lower() not in stopwords.words('english') \n",
    "    ]\n",
    "    for line \n",
    "    in text\n",
    "]\n",
    "\n",
    "for line in clean_text[:10]:\n",
    "    print(line)"
   ]
  },
  {
   "cell_type": "markdown",
   "metadata": {},
   "source": [
    "Now we are ready to transform the list of lists into the format suitable for association rule mining, i.e., to transform the input lists into boolean flags."
   ]
  },
  {
   "cell_type": "code",
   "execution_count": 7,
   "metadata": {
    "ExecuteTime": {
     "end_time": "2021-04-06T09:03:12.576300Z",
     "start_time": "2021-04-06T09:03:12.413062Z"
    }
   },
   "outputs": [],
   "source": [
    "import pandas as pd\n",
    "\n",
    "from mlxtend.preprocessing import TransactionEncoder\n",
    "from mlxtend.frequent_patterns import apriori\n",
    "\n",
    "te = TransactionEncoder()\n",
    "te_array = te.fit(clean_text).transform(clean_text)"
   ]
  },
  {
   "cell_type": "code",
   "execution_count": 8,
   "metadata": {
    "ExecuteTime": {
     "end_time": "2021-04-06T09:03:13.501348Z",
     "start_time": "2021-04-06T09:03:13.489806Z"
    }
   },
   "outputs": [
    {
     "data": {
      "text/plain": [
       "array([[False, False, False, ..., False, False, False],\n",
       "       [False, False, False, ..., False, False, False],\n",
       "       [False,  True, False, ..., False, False, False],\n",
       "       ...,\n",
       "       [False, False, False, ..., False, False, False],\n",
       "       [False, False, False, ..., False, False, False],\n",
       "       [False, False, False, ..., False, False, False]])"
      ]
     },
     "execution_count": 8,
     "metadata": {},
     "output_type": "execute_result"
    }
   ],
   "source": [
    "# te_array contains binary version of the input data\n",
    "\n",
    "te_array"
   ]
  },
  {
   "cell_type": "code",
   "execution_count": 9,
   "metadata": {
    "ExecuteTime": {
     "end_time": "2021-04-06T09:03:19.194701Z",
     "start_time": "2021-04-06T09:03:19.191052Z"
    }
   },
   "outputs": [
    {
     "data": {
      "text/plain": [
       "(91, 1341)"
      ]
     },
     "execution_count": 9,
     "metadata": {},
     "output_type": "execute_result"
    }
   ],
   "source": [
    "te_array.shape"
   ]
  },
  {
   "cell_type": "code",
   "execution_count": 10,
   "metadata": {
    "ExecuteTime": {
     "end_time": "2021-04-06T09:03:23.011035Z",
     "start_time": "2021-04-06T09:03:22.972110Z"
    }
   },
   "outputs": [
    {
     "data": {
      "text/plain": [
       "['ab',\n",
       " 'academic',\n",
       " 'academy',\n",
       " 'access',\n",
       " 'according',\n",
       " 'accounted',\n",
       " 'achieving',\n",
       " 'acoustics',\n",
       " 'acquire',\n",
       " 'acquired']"
      ]
     },
     "execution_count": 10,
     "metadata": {},
     "output_type": "execute_result"
    }
   ],
   "source": [
    "# original tokens are preserved in the columns_ field\n",
    "\n",
    "te.columns_[:10]"
   ]
  },
  {
   "cell_type": "markdown",
   "metadata": {},
   "source": [
    "`mlxtend` package assumes that the input data are stored as a `pandas.DataFrame`"
   ]
  },
  {
   "cell_type": "code",
   "execution_count": null,
   "metadata": {
    "ExecuteTime": {
     "end_time": "2021-04-06T09:03:33.656849Z",
     "start_time": "2021-04-06T09:03:33.617537Z"
    }
   },
   "outputs": [],
   "source": [
    "df = pd.DataFrame(te_array, columns=te.columns_)\n",
    "\n",
    "df.head()"
   ]
  },
  {
   "cell_type": "markdown",
   "metadata": {},
   "source": [
    "Now we are ready to find frequent collections of words."
   ]
  },
  {
   "cell_type": "code",
   "execution_count": null,
   "metadata": {
    "ExecuteTime": {
     "end_time": "2021-04-06T09:03:41.886358Z",
     "start_time": "2021-04-06T09:03:41.842700Z"
    }
   },
   "outputs": [],
   "source": [
    "frequent_itemsets = apriori(df, min_support=0.05, use_colnames=True)\n",
    "\n",
    "frequent_itemsets"
   ]
  },
  {
   "cell_type": "markdown",
   "metadata": {},
   "source": [
    "We can also mine association rules which will have additional measures of quality and interestingness"
   ]
  },
  {
   "cell_type": "code",
   "execution_count": null,
   "metadata": {
    "ExecuteTime": {
     "end_time": "2021-04-06T09:03:52.890310Z",
     "start_time": "2021-04-06T09:03:52.800962Z"
    }
   },
   "outputs": [],
   "source": [
    "from mlxtend.frequent_patterns import association_rules\n",
    "?association_rules"
   ]
  },
  {
   "cell_type": "code",
   "execution_count": null,
   "metadata": {
    "ExecuteTime": {
     "end_time": "2021-04-06T09:04:00.507227Z",
     "start_time": "2021-04-06T09:04:00.473980Z"
    }
   },
   "outputs": [],
   "source": [
    "from mlxtend.frequent_patterns import association_rules\n",
    "\n",
    "association_rules(frequent_itemsets, \n",
    "                  metric='confidence', \n",
    "                  min_threshold=0.7)"
   ]
  },
  {
   "cell_type": "code",
   "execution_count": null,
   "metadata": {
    "ExecuteTime": {
     "end_time": "2021-04-06T09:04:13.293976Z",
     "start_time": "2021-04-06T09:04:13.267228Z"
    }
   },
   "outputs": [],
   "source": [
    "association_rules(frequent_itemsets, metric='lift', min_threshold=5.0)"
   ]
  },
  {
   "cell_type": "markdown",
   "metadata": {},
   "source": [
    "Both frequent itemsets and association rules (antecedens and consequents) are returned as `frozenset`s, so we can use [standard API calls](https://docs.python.org/3/library/stdtypes.html#set-types-set-frozenset) to find subsets, supersets, etc."
   ]
  },
  {
   "cell_type": "code",
   "execution_count": null,
   "metadata": {
    "ExecuteTime": {
     "end_time": "2021-04-06T09:04:40.396389Z",
     "start_time": "2021-04-06T09:04:40.342822Z"
    }
   },
   "outputs": [],
   "source": [
    "rules = association_rules(frequent_itemsets, metric=\"confidence\", min_threshold=0.5)\n",
    "\n",
    "capital_idx =  rules['antecedents'].apply(lambda x: x.issuperset({'capital'}))\n",
    "rules[capital_idx]"
   ]
  },
  {
   "cell_type": "code",
   "execution_count": null,
   "metadata": {},
   "outputs": [],
   "source": []
  }
 ],
 "metadata": {
  "kernelspec": {
   "display_name": "Python 3",
   "language": "python",
   "name": "python3"
  },
  "language_info": {
   "codemirror_mode": {
    "name": "ipython",
    "version": 3
   },
   "file_extension": ".py",
   "mimetype": "text/x-python",
   "name": "python",
   "nbconvert_exporter": "python",
   "pygments_lexer": "ipython3",
   "version": "3.8.5"
  },
  "toc": {
   "base_numbering": 1,
   "nav_menu": {},
   "number_sections": false,
   "sideBar": true,
   "skip_h1_title": false,
   "title_cell": "Table of Contents",
   "title_sidebar": "Contents",
   "toc_cell": false,
   "toc_position": {},
   "toc_section_display": true,
   "toc_window_display": false
  },
  "varInspector": {
   "cols": {
    "lenName": 16,
    "lenType": 16,
    "lenVar": 40
   },
   "kernels_config": {
    "python": {
     "delete_cmd_postfix": "",
     "delete_cmd_prefix": "del ",
     "library": "var_list.py",
     "varRefreshCmd": "print(var_dic_list())"
    },
    "r": {
     "delete_cmd_postfix": ") ",
     "delete_cmd_prefix": "rm(",
     "library": "var_list.r",
     "varRefreshCmd": "cat(var_dic_list()) "
    }
   },
   "types_to_exclude": [
    "module",
    "function",
    "builtin_function_or_method",
    "instance",
    "_Feature"
   ],
   "window_display": false
  }
 },
 "nbformat": 4,
 "nbformat_minor": 4
}
