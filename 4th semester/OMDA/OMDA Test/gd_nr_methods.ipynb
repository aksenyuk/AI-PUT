{
 "cells": [
  {
   "cell_type": "code",
   "execution_count": 1,
   "metadata": {},
   "outputs": [],
   "source": [
    "from sympy import *\n",
    "import numpy as np\n",
    "\n",
    "x, y = symbols('x y')\n",
    "\n",
    "def evaluate(f, x0, y0):\n",
    "    return lambdify([x,y], f)(x0,y0)\n",
    "\n",
    "def GD(f, x0, y0, alpha):\n",
    "    fx = f.diff(x)\n",
    "    fy = f.diff(y)\n",
    "    gradient = [[evaluate(fx, x0, y0)], \n",
    "                [evaluate(fy, x0, y0)]]\n",
    "    x1, y1 = x0-alpha*gradient[0][0], y0-alpha*gradient[1][0]\n",
    "    \n",
    "    print(\"Gradient:\\n \\t{},\\n \\t{}\".format(gradient[0], gradient[1]))\n",
    "    print(\"GD: (x1, y1) = {}\".format((x1,y1)) )\n",
    "    \n",
    "def NR_method(f, x0, y0):\n",
    "    fx = f.diff(x)\n",
    "    fy = f.diff(y)\n",
    "    gradient = [[evaluate(fx, x0, y0)], \n",
    "                [evaluate(fy, x0, y0)]]\n",
    "    fxx = fx.diff(x)\n",
    "    fyy = fy.diff(y)\n",
    "    fyx = fy.diff(x)\n",
    "    fxy = fx.diff(y)\n",
    "    hessian = [[evaluate(fxx, x0, y0), evaluate(fyx, x0, y0)], \n",
    "               [evaluate(fxy, x0, y0), evaluate(fyy, x0, y0)]]\n",
    "    hessian_inv = [[hessian[1][1], -1*hessian[0][1]], \n",
    "                   [-1*hessian[1][0], hessian[0][0]]]\n",
    "    scalar = 1/(hessian[0][0]*hessian[1][1] - hessian[0][1]*hessian[1][0])\n",
    "    hessian_inv = np.dot(scalar , hessian_inv)\n",
    "    change = np.matmul(hessian_inv, gradient)\n",
    "    \n",
    "    x1, y1 = x0-change[0][0], y0-change[1][0]\n",
    "    \n",
    "    print(\"Hessian:\\n \\t{},\\n \\t{}\".format(hessian[0], hessian[1]))\n",
    "    print(\"Scalar of Inverse Hessian Scalar: {}\".format(scalar))\n",
    "    print(\"Inverse Hessian:\\n \\t{},\\n \\t{}\".format(hessian_inv[0], hessian_inv[1]))\n",
    "    print(\"NR: (x1, y1) = {}\".format((x1,y1)) )"
   ]
  },
  {
   "cell_type": "markdown",
   "metadata": {},
   "source": []
  },
  {
   "cell_type": "code",
   "execution_count": 2,
   "metadata": {},
   "outputs": [],
   "source": [
    "#f = exp(x+y) - 2*x + y**2\n",
    "#f = 0.5 * (x + y)**2 - 8*sqrt(x) - 4 * sqrt(y)\n",
    "f = x**4 + (0.5)*(x**2)*y - (0.5)*x*y + (0.5)*(y**2) + 3\n",
    "x0 = 0.5\n",
    "y0 = 1\n",
    "alpha = 0.4"
   ]
  },
  {
   "cell_type": "code",
   "execution_count": 3,
   "metadata": {},
   "outputs": [
    {
     "name": "stdout",
     "output_type": "stream",
     "text": [
      "Gradient:\n",
      " \t[0.5],\n",
      " \t[0.875]\n",
      "GD: (x1, y1) = (0.3, 0.6499999999999999)\n",
      "Hessian:\n",
      " \t[4.0, 0.0],\n",
      " \t[0.0, 1.0]\n",
      "Scalar of Inverse Hessian Scalar: 0.25\n",
      "Inverse Hessian:\n",
      " \t[0.25 0.  ],\n",
      " \t[0. 1.]\n",
      "NR: (x1, y1) = (0.375, 0.125)\n"
     ]
    }
   ],
   "source": [
    "GD(f, x0, y0, alpha)\n",
    "NR_method(f, x0, y0)"
   ]
  },
  {
   "cell_type": "code",
   "execution_count": null,
   "metadata": {},
   "outputs": [],
   "source": []
  }
 ],
 "metadata": {
  "kernelspec": {
   "display_name": "Python 3",
   "language": "python",
   "name": "python3"
  },
  "language_info": {
   "codemirror_mode": {
    "name": "ipython",
    "version": 3
   },
   "file_extension": ".py",
   "mimetype": "text/x-python",
   "name": "python",
   "nbconvert_exporter": "python",
   "pygments_lexer": "ipython3",
   "version": "3.8.5"
  }
 },
 "nbformat": 4,
 "nbformat_minor": 5
}
