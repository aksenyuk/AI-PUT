{
 "cells": [
  {
   "cell_type": "markdown",
   "metadata": {},
   "source": [
    "# Data pre-processing in Python\n",
    "\n",
    "The exercise shows basic pre-processing techniques (normalization, one-hot encoding, binarization) using `scikit-learn` and `pandas`."
   ]
  },
  {
   "cell_type": "code",
   "execution_count": null,
   "metadata": {
    "ExecuteTime": {
     "end_time": "2021-03-24T14:33:13.669037Z",
     "start_time": "2021-03-24T14:33:12.595785Z"
    }
   },
   "outputs": [],
   "source": [
    "import pandas as pd\n",
    "import numpy as np\n",
    "import sklearn\n",
    "import matplotlib.pyplot as plt\n",
    "\n",
    "from sklearn import datasets, preprocessing"
   ]
  },
  {
   "cell_type": "markdown",
   "metadata": {},
   "source": [
    "## Fisher's irises"
   ]
  },
  {
   "cell_type": "markdown",
   "metadata": {},
   "source": [
    "Function `load_iris()` creates an object which contains the famous [Fischer's irises](https://en.wikipedia.org/wiki/Iris_flower_data_set) dataset."
   ]
  },
  {
   "cell_type": "code",
   "execution_count": null,
   "metadata": {
    "ExecuteTime": {
     "end_time": "2021-03-24T14:34:13.835425Z",
     "start_time": "2021-03-24T14:34:13.827991Z"
    }
   },
   "outputs": [],
   "source": [
    "iris = datasets.load_iris()\n",
    "\n",
    "print('Feature names: ', iris.feature_names)\n",
    "print('Labels: ', iris.target_names)\n",
    "\n",
    "print('shape of the data: ', iris.data.shape)\n",
    "print('shape of labels: ', iris.target.shape)"
   ]
  },
  {
   "cell_type": "markdown",
   "metadata": {
    "ExecuteTime": {
     "end_time": "2021-03-24T14:34:41.143784Z",
     "start_time": "2021-03-24T14:34:41.134198Z"
    }
   },
   "source": [
    "In this exercise we will use `pandas` to store the data and intermediate computations. "
   ]
  },
  {
   "cell_type": "code",
   "execution_count": null,
   "metadata": {
    "ExecuteTime": {
     "end_time": "2021-03-24T14:35:24.519021Z",
     "start_time": "2021-03-24T14:35:24.477298Z"
    }
   },
   "outputs": [],
   "source": [
    "# creating a dataframe based on a NumPy array of feature values\n",
    "df = pd.DataFrame(iris.data)\n",
    "\n",
    "# adding new column\n",
    "df['target'] = iris.target\n",
    "\n",
    "# redefinition of column's names\n",
    "df.columns = iris.feature_names + ['target']\n",
    "\n",
    "df.head(n=10)"
   ]
  },
  {
   "cell_type": "markdown",
   "metadata": {},
   "source": [
    "Each column in the `DataFrame` is a `pd.Series` object with [a rich API](https://pandas.pydata.org/docs/reference/series.html). "
   ]
  },
  {
   "cell_type": "code",
   "execution_count": null,
   "metadata": {
    "ExecuteTime": {
     "end_time": "2021-03-24T14:36:27.244816Z",
     "start_time": "2021-03-24T14:36:27.224861Z"
    }
   },
   "outputs": [],
   "source": [
    "df['sepal length (cm)'].describe()"
   ]
  },
  {
   "cell_type": "markdown",
   "metadata": {},
   "source": [
    "We will use the `apply()` function to define *ad hoc* functions applied to elements of a given Series."
   ]
  },
  {
   "cell_type": "code",
   "execution_count": null,
   "metadata": {
    "ExecuteTime": {
     "end_time": "2021-03-24T16:01:21.770941Z",
     "start_time": "2021-03-24T16:01:21.765104Z"
    }
   },
   "outputs": [],
   "source": [
    "df['sepal length (cm)'].head().apply(lambda x: x > 5.0)"
   ]
  },
  {
   "cell_type": "markdown",
   "metadata": {},
   "source": [
    "Drawing can be easily done using [MatPlot](https://matplotlib.org), a handy library for simple data visualization."
   ]
  },
  {
   "cell_type": "code",
   "execution_count": null,
   "metadata": {
    "ExecuteTime": {
     "end_time": "2021-03-24T16:02:00.860989Z",
     "start_time": "2021-03-24T16:02:00.702737Z"
    }
   },
   "outputs": [],
   "source": [
    "x = df['sepal length (cm)'][:]\n",
    "y = df['sepal width (cm)'][:]\n",
    "t = df['target']\n",
    "\n",
    "plt.scatter(x, y, c=t)\n",
    "plt.show()"
   ]
  },
  {
   "cell_type": "markdown",
   "metadata": {},
   "source": [
    "A similar effect can be obtained by calling directly the `plot()` method of a `pandas.Series`. In the following example `iloc` refers to the *index localization* and represents the selection of all rows (`:`) and second and third columns `[1,2]` (columns are 0-indexed)."
   ]
  },
  {
   "cell_type": "code",
   "execution_count": null,
   "metadata": {
    "ExecuteTime": {
     "end_time": "2021-03-24T16:04:50.768713Z",
     "start_time": "2021-03-24T16:04:50.632017Z"
    }
   },
   "outputs": [],
   "source": [
    "df.iloc[:,[1,2]].plot(kind='scatter', x=0, y=1)"
   ]
  },
  {
   "cell_type": "markdown",
   "metadata": {},
   "source": [
    "## Normalization"
   ]
  },
  {
   "cell_type": "markdown",
   "metadata": {},
   "source": [
    "The first operation is the linear normalization performed by the [MinMaxScaler](http://scikit-learn.org/stable/modules/generated/sklearn.preprocessing.MinMaxScaler.html#sklearn.preprocessing.MinMaxScaler) class. This class performs the following transformation of an attribute:\n",
    "\n",
    "$$v' = \\frac{v-min}{max-min} * (max'-min') + min'$$\n",
    "\n",
    "where $max,min$ are the original max,min values of the attribute, $max',min'$ are the max,min values in the new scale, \n",
    "$v'$ is the new value of the attribute, and $v$ is the original value of the attribute."
   ]
  },
  {
   "cell_type": "markdown",
   "metadata": {},
   "source": [
    "Since we are only transforming features (and not the label column), in the first step we will save these feature columns (and their names) to new variables."
   ]
  },
  {
   "cell_type": "code",
   "execution_count": null,
   "metadata": {
    "ExecuteTime": {
     "end_time": "2021-03-24T16:07:33.202395Z",
     "start_time": "2021-03-24T16:07:33.197837Z"
    }
   },
   "outputs": [],
   "source": [
    "X = df.iloc[:, :-1]\n",
    "cols = df.columns[:-1]"
   ]
  },
  {
   "cell_type": "markdown",
   "metadata": {},
   "source": [
    "The following example shows how to normalize the entire table."
   ]
  },
  {
   "cell_type": "code",
   "execution_count": null,
   "metadata": {
    "ExecuteTime": {
     "end_time": "2021-03-24T16:07:52.615092Z",
     "start_time": "2021-03-24T16:07:52.596660Z"
    }
   },
   "outputs": [],
   "source": [
    "norm = preprocessing.MinMaxScaler(feature_range=(0,1)).fit(X)\n",
    "X_minmax = pd.DataFrame(norm.transform(X), columns=cols)\n",
    "\n",
    "X_minmax.head()"
   ]
  },
  {
   "cell_type": "code",
   "execution_count": null,
   "metadata": {
    "ExecuteTime": {
     "end_time": "2021-03-24T16:07:55.647771Z",
     "start_time": "2021-03-24T16:07:55.623638Z"
    }
   },
   "outputs": [],
   "source": [
    "X_minmax.describe()"
   ]
  },
  {
   "cell_type": "code",
   "execution_count": null,
   "metadata": {
    "ExecuteTime": {
     "end_time": "2021-03-24T16:07:58.623038Z",
     "start_time": "2021-03-24T16:07:58.504112Z"
    }
   },
   "outputs": [],
   "source": [
    "x = X_minmax['sepal length (cm)'][:]\n",
    "y = X_minmax['sepal width (cm)'][:]\n",
    "t = df['target']\n",
    "\n",
    "plt.scatter(x, y, c=t)\n",
    "plt.show()"
   ]
  },
  {
   "cell_type": "markdown",
   "metadata": {},
   "source": [
    "## Standarization"
   ]
  },
  {
   "cell_type": "markdown",
   "metadata": {},
   "source": [
    "Another type of feature normalization is standarization, where the standardized feature has the mean value of 0 and the standard deviation of 1. In the `scikit-learn` library this operation can be achieved using the [StandardScaler](http://scikit-learn.org/stable/modules/generated/sklearn.preprocessing.StandardScaler.html#sklearn.preprocessing.StandardScaler) class which performs the following transformation:\n",
    "\n",
    "$$v' = \\frac{v-\\mu}{\\sigma}$$\n",
    "\n",
    "where $\\mu$ is the mean value of the feature, and $\\sigma$ is its standard deviation."
   ]
  },
  {
   "cell_type": "code",
   "execution_count": null,
   "metadata": {
    "ExecuteTime": {
     "end_time": "2021-03-24T16:09:37.965095Z",
     "start_time": "2021-03-24T16:09:37.952653Z"
    }
   },
   "outputs": [],
   "source": [
    "scale = preprocessing.StandardScaler().fit(X)\n",
    "X_scaled = pd.DataFrame(scale.transform(X), columns=cols)\n",
    "\n",
    "X_scaled.head()"
   ]
  },
  {
   "cell_type": "code",
   "execution_count": null,
   "metadata": {
    "ExecuteTime": {
     "end_time": "2021-03-24T16:09:39.104612Z",
     "start_time": "2021-03-24T16:09:39.080418Z"
    }
   },
   "outputs": [],
   "source": [
    "X_scaled.describe()"
   ]
  },
  {
   "cell_type": "code",
   "execution_count": null,
   "metadata": {
    "ExecuteTime": {
     "end_time": "2021-03-24T16:09:42.801650Z",
     "start_time": "2021-03-24T16:09:42.671420Z"
    }
   },
   "outputs": [],
   "source": [
    "x = X_scaled['sepal length (cm)'][:]\n",
    "y = X_scaled['sepal width (cm)'][:]\n",
    "t = df['target']\n",
    "\n",
    "plt.scatter(x, y, c=t)\n",
    "plt.show()"
   ]
  },
  {
   "cell_type": "markdown",
   "metadata": {},
   "source": [
    "## Discretization "
   ]
  },
  {
   "cell_type": "markdown",
   "metadata": {},
   "source": [
    "An alternative to manual binning of numerical attributes (since `scikit-learn` does not provide explicit classes to complete this task) is to use automatic range detection using the  [KBinsDiscretizer](https://scikit-learn.org/stable/modules/generated/sklearn.preprocessing.KBinsDiscretizer.html#sklearn.preprocessing.KBinsDiscretizer) class. This class divides the attribute into *k* ranges in such way that the distances between geometrical means of bins are maximized."
   ]
  },
  {
   "cell_type": "code",
   "execution_count": null,
   "metadata": {
    "ExecuteTime": {
     "end_time": "2021-03-24T16:22:59.963538Z",
     "start_time": "2021-03-24T16:22:59.682440Z"
    }
   },
   "outputs": [],
   "source": [
    "kbin = preprocessing.KBinsDiscretizer(n_bins=3, strategy='kmeans', encode='ordinal').fit(df[['sepal length (cm)']])\n",
    "\n",
    "df_kbinned = pd.DataFrame(kbin.transform(df[['sepal length (cm)']]))\n",
    "\n",
    "x = df['sepal length (cm)'][:]\n",
    "y = df_kbinned[:]\n",
    "t = df['target']\n",
    "\n",
    "plt.scatter(x, y, c=t)\n",
    "plt.show()"
   ]
  },
  {
   "cell_type": "markdown",
   "metadata": {},
   "source": [
    "## Binarization"
   ]
  },
  {
   "cell_type": "markdown",
   "metadata": {},
   "source": [
    "Sometimes a feature must be tranformed into a binary flag which denotes the result of a logical test conducted on the values of the feature. This can be easily done using the [Binarizer](http://scikit-learn.org/stable/modules/generated/sklearn.preprocessing.Binarizer.html) class."
   ]
  },
  {
   "cell_type": "code",
   "execution_count": null,
   "metadata": {
    "ExecuteTime": {
     "end_time": "2021-03-24T16:23:57.068540Z",
     "start_time": "2021-03-24T16:23:57.027982Z"
    }
   },
   "outputs": [],
   "source": [
    "binarize = preprocessing.Binarizer(threshold=3).fit(X)\n",
    "\n",
    "X_binned = pd.DataFrame(binarize.transform(X), columns=cols)\n",
    "\n",
    "pd.concat([df,X_binned], axis=1).head()"
   ]
  },
  {
   "cell_type": "markdown",
   "metadata": {},
   "source": [
    "## Displaying histograms"
   ]
  },
  {
   "cell_type": "markdown",
   "metadata": {},
   "source": [
    "Simple counting of values in a feature can be done using:\n",
    "\n",
    "- `pandas.Series.value_counts()`\n",
    "- `collections.Counter`\n",
    "\n",
    "and to plot the histogram the easiest way is to use `pandas.Series.hist()`"
   ]
  },
  {
   "cell_type": "code",
   "execution_count": null,
   "metadata": {
    "ExecuteTime": {
     "end_time": "2021-03-24T16:25:00.894885Z",
     "start_time": "2021-03-24T16:25:00.886503Z"
    }
   },
   "outputs": [],
   "source": [
    "X_binned['sepal width (cm)'].value_counts()"
   ]
  },
  {
   "cell_type": "code",
   "execution_count": null,
   "metadata": {
    "ExecuteTime": {
     "end_time": "2021-03-24T16:25:06.992749Z",
     "start_time": "2021-03-24T16:25:06.988633Z"
    }
   },
   "outputs": [],
   "source": [
    "from collections import Counter\n",
    "\n",
    "Counter(X_binned['sepal width (cm)'].values)"
   ]
  },
  {
   "cell_type": "code",
   "execution_count": null,
   "metadata": {
    "ExecuteTime": {
     "end_time": "2021-03-24T16:25:09.035659Z",
     "start_time": "2021-03-24T16:25:08.818063Z"
    }
   },
   "outputs": [],
   "source": [
    "X_binned['sepal width (cm)'].hist()"
   ]
  },
  {
   "cell_type": "markdown",
   "metadata": {},
   "source": [
    "## Imputation of missing values"
   ]
  },
  {
   "cell_type": "markdown",
   "metadata": {},
   "source": [
    "Missing values can significantly distort the results of the analysis. Many learning algorithms do not accept input data which contains missing data. [SimpleImputer](https://scikit-learn.org/stable/modules/generated/sklearn.impute.SimpleImputer.html) allows to change missing values to a mean, a median, or a mode, based on the non-missing values of the attribute."
   ]
  },
  {
   "cell_type": "code",
   "execution_count": null,
   "metadata": {
    "ExecuteTime": {
     "end_time": "2021-03-24T16:27:00.334480Z",
     "start_time": "2021-03-24T16:27:00.307778Z"
    },
    "scrolled": true
   },
   "outputs": [],
   "source": [
    "from sklearn.impute import SimpleImputer\n",
    "\n",
    "matrix = np.array([[ 1, 2, np.nan], [np.nan, 4, 5], [6, np.nan, 7]])\n",
    "\n",
    "# alternative strategies are 'mean', 'median' and 'most_frequent'\n",
    "imp = SimpleImputer(missing_values=np.nan, strategy='mean').fit(matrix)\n",
    "\n",
    "print(matrix)\n",
    "print()\n",
    "print(imp.transform(matrix))"
   ]
  },
  {
   "cell_type": "markdown",
   "metadata": {},
   "source": [
    "## Label encoding"
   ]
  },
  {
   "cell_type": "markdown",
   "metadata": {},
   "source": [
    "A very useful class is the [OneHotEncoder](http://scikit-learn.org/stable/modules/generated/sklearn.preprocessing.OneHotEncoder.html#sklearn.preprocessing.OneHotEncoder) which transforms categorical attributes into a set of binary features using the one-hot encoding. The transformation creates *k* new features, where *k* is the number of distinct values of the transformed attribute."
   ]
  },
  {
   "cell_type": "code",
   "execution_count": null,
   "metadata": {
    "ExecuteTime": {
     "end_time": "2021-03-24T16:28:23.802008Z",
     "start_time": "2021-03-24T16:28:23.798035Z"
    }
   },
   "outputs": [],
   "source": [
    "df_target = df['target'].values\n",
    "\n",
    "print(df_target)"
   ]
  },
  {
   "cell_type": "code",
   "execution_count": null,
   "metadata": {
    "ExecuteTime": {
     "end_time": "2021-03-24T16:28:27.427092Z",
     "start_time": "2021-03-24T16:28:27.409780Z"
    }
   },
   "outputs": [],
   "source": [
    "one_hot = preprocessing.OneHotEncoder(categories='auto').fit(df_target.reshape(-1,1))\n",
    "\n",
    "one_hot.transform(df_target.reshape(-1,1)).todense()"
   ]
  },
  {
   "cell_type": "code",
   "execution_count": null,
   "metadata": {
    "ExecuteTime": {
     "end_time": "2021-03-24T16:28:46.039845Z",
     "start_time": "2021-03-24T16:28:46.034856Z"
    }
   },
   "outputs": [],
   "source": [
    "one_hot.inverse_transform(np.array([[1,0,0]]))"
   ]
  },
  {
   "cell_type": "markdown",
   "metadata": {},
   "source": [
    "## Exercise\n",
    "\n",
    "Look up the docs for the [Normalizer](http://scikit-learn.org/stable/modules/generated/sklearn.preprocessing.Normalizer.html#sklearn.preprocessing.Normalizer) class which performs the normalization of individual instances of the training set. Normalize the *Iris* dataset and observe, what happens when you modify the values of the `norm` argument of class constructor.\n",
    "\n",
    "*hint* : use the [DataFrame.sum()](https://pandas.pydata.org/pandas-docs/stable/generated/pandas.DataFrame.sum.html) method."
   ]
  },
  {
   "cell_type": "code",
   "execution_count": null,
   "metadata": {},
   "outputs": [],
   "source": []
  }
 ],
 "metadata": {
  "kernelspec": {
   "display_name": "Python 3",
   "language": "python",
   "name": "python3"
  },
  "language_info": {
   "codemirror_mode": {
    "name": "ipython",
    "version": 3
   },
   "file_extension": ".py",
   "mimetype": "text/x-python",
   "name": "python",
   "nbconvert_exporter": "python",
   "pygments_lexer": "ipython3",
   "version": "3.8.5"
  },
  "toc": {
   "base_numbering": 1,
   "nav_menu": {},
   "number_sections": false,
   "sideBar": true,
   "skip_h1_title": false,
   "title_cell": "Table of Contents",
   "title_sidebar": "Contents",
   "toc_cell": false,
   "toc_position": {},
   "toc_section_display": true,
   "toc_window_display": true
  },
  "varInspector": {
   "cols": {
    "lenName": 16,
    "lenType": 16,
    "lenVar": 40
   },
   "kernels_config": {
    "python": {
     "delete_cmd_postfix": "",
     "delete_cmd_prefix": "del ",
     "library": "var_list.py",
     "varRefreshCmd": "print(var_dic_list())"
    },
    "r": {
     "delete_cmd_postfix": ") ",
     "delete_cmd_prefix": "rm(",
     "library": "var_list.r",
     "varRefreshCmd": "cat(var_dic_list()) "
    }
   },
   "types_to_exclude": [
    "module",
    "function",
    "builtin_function_or_method",
    "instance",
    "_Feature"
   ],
   "window_display": false
  }
 },
 "nbformat": 4,
 "nbformat_minor": 2
}
