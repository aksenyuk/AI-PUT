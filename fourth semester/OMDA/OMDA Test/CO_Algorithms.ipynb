{
 "cells": [
  {
   "cell_type": "code",
   "execution_count": 1,
   "metadata": {},
   "outputs": [],
   "source": [
    "# !pip install numpy"
   ]
  },
  {
   "cell_type": "code",
   "execution_count": 1,
   "metadata": {},
   "outputs": [],
   "source": [
    "import numpy as np"
   ]
  },
  {
   "cell_type": "code",
   "execution_count": 2,
   "metadata": {},
   "outputs": [
    {
     "name": "stdout",
     "output_type": "stream",
     "text": [
      "Eigenvalue: [-0.37228132  5.37228132]\n",
      "\n",
      "Eigenvector:\n",
      " [[-0.82456484 -0.41597356]\n",
      " [ 0.56576746 -0.90937671]]\n",
      "\n",
      "Determinant: -2.0000000000000004\n"
     ]
    }
   ],
   "source": [
    "a = np.array([[1, 2], \n",
    "              [3, 4]])\n",
    "\n",
    "w, v = np.linalg.eig(a)\n",
    "\n",
    "print('Eigenvalue:', w)\n",
    "print()\n",
    "print('Eigenvector:\\n', v)\n",
    "print()\n",
    "print('Determinant:', np.linalg.det(a))"
   ]
  },
  {
   "cell_type": "code",
   "execution_count": 3,
   "metadata": {},
   "outputs": [
    {
     "name": "stdout",
     "output_type": "stream",
     "text": [
      "[[ 2.]\n",
      " [-1.]]\n"
     ]
    }
   ],
   "source": [
    "# Newton-Raphson step\n",
    "\n",
    "hess = np.array([[1, 1],\n",
    "               [1, 3]])\n",
    "\n",
    "grad = np.array([[-1],\n",
    "               [-1]])\n",
    "\n",
    "x_k = np.array([[1],\n",
    "               [-1]])\n",
    "\n",
    "print(x_k - np.matmul(np.linalg.inv(hess), grad))"
   ]
  },
  {
   "cell_type": "code",
   "execution_count": null,
   "metadata": {},
   "outputs": [],
   "source": []
  },
  {
   "cell_type": "code",
   "execution_count": 6,
   "metadata": {},
   "outputs": [
    {
     "name": "stdout",
     "output_type": "stream",
     "text": [
      "[[0]]\n"
     ]
    }
   ],
   "source": [
    "# conjugate matrix\n",
    "x1 = np.array([[1],\n",
    "               [-2]])\n",
    "\n",
    "x2 = np.array([[1],\n",
    "               [1]])\n",
    "\n",
    "A = np.array([[3, 1],\n",
    "            [1, 1]])\n",
    "\n",
    "print(np.matmul(np.matmul(x1.transpose(), A), x2))"
   ]
  },
  {
   "cell_type": "code",
   "execution_count": null,
   "metadata": {},
   "outputs": [],
   "source": []
  },
  {
   "cell_type": "code",
   "execution_count": null,
   "metadata": {},
   "outputs": [],
   "source": []
  }
 ],
 "metadata": {
  "kernelspec": {
   "display_name": "Python 3",
   "language": "python",
   "name": "python3"
  },
  "language_info": {
   "codemirror_mode": {
    "name": "ipython",
    "version": 3
   },
   "file_extension": ".py",
   "mimetype": "text/x-python",
   "name": "python",
   "nbconvert_exporter": "python",
   "pygments_lexer": "ipython3",
   "version": "3.8.5"
  }
 },
 "nbformat": 4,
 "nbformat_minor": 5
}
