{
 "cells": [
  {
   "cell_type": "markdown",
   "metadata": {},
   "source": [
    "# Lab 8 - Integer Programming - BnB for MIP"
   ]
  },
  {
   "cell_type": "markdown",
   "metadata": {},
   "source": [
    "Information on group members:\n",
    "\n",
    "1) Student ID, Name and last name <br>\n",
    "2) Student ID, Name and last name"
   ]
  },
  {
   "cell_type": "code",
   "execution_count": 1,
   "metadata": {},
   "outputs": [],
   "source": [
    "from pulp import *  \n",
    "import numpy as np\n",
    "import pandas as pd\n",
    "import matplotlib.pyplot as plt\n",
    "import seaborn as sns"
   ]
  },
  {
   "cell_type": "markdown",
   "metadata": {},
   "source": [
    "1) Given is the below MIP problem. Note that the first 5 variables are of an integer type with specified upper bounds"
   ]
  },
  {
   "cell_type": "code",
   "execution_count": 2,
   "metadata": {},
   "outputs": [
    {
     "name": "stdout",
     "output_type": "stream",
     "text": [
      "bnb-problem:\n",
      "MAXIMIZE\n",
      "5*x1 + 10*x10 + 7*x2 + 5*x3 + 5*x4 + 5*x5 + 5*x6 + 7*x7 + 4*x8 + 9*x9 + 0\n",
      "SUBJECT TO\n",
      "baseC1: 3 x2 + 2 x3 - 3 x7 - x8 <= 10\n",
      "\n",
      "baseC2: x1 + x10 + x2 + 2 x4 - x8 + 2 x9 <= 15\n",
      "\n",
      "baseC3: 2 x3 - 2 x4 + 3 x5 - 2 x7 + 2 x8 + x9 <= 20\n",
      "\n",
      "baseC4: x10 + 2 x3 - x6 <= 20\n",
      "\n",
      "baseC5: x10 + 2 x2 - 2 x6 <= 30\n",
      "\n",
      "baseC6: x1 + 4 x2 - 3 x7 + 6 x8 + 2 x9 <= 50\n",
      "\n",
      "baseC7: 2 x1 + 2 x10 + 2 x2 + 2 x5 + 2 x6 + 2 x9 <= 40\n",
      "\n",
      "baseC8: x10 + 3 x3 - x5 + x6 - x8 <= 20\n",
      "\n",
      "baseC9: 3 x10 + 5 x5 + x7 + x8 <= 25\n",
      "\n",
      "baseC10: 2 x1 - 7 x2 + x6 + 8 x8 + 2 x9 <= 25\n",
      "\n",
      "VARIABLES\n",
      "0 <= x1 <= 5 Integer\n",
      "x10 <= 3 Continuous\n",
      "0 <= x2 <= 8 Integer\n",
      "0 <= x3 <= 4 Integer\n",
      "0 <= x4 <= 5 Integer\n",
      "0 <= x5 <= 4 Integer\n",
      "x6 <= 5 Continuous\n",
      "x7 <= 5 Continuous\n",
      "x8 <= 3 Continuous\n",
      "x9 <= 3 Continuous\n",
      "\n"
     ]
    }
   ],
   "source": [
    "def getProblem(relaxed = False):\n",
    "    \n",
    "    A = [\n",
    "        [0,3,2,0,0,0,-3,-1,0,0],\n",
    "        [1,1,0,2,0,0,0,-1,2,1],\n",
    "        [0,0,2,-2,3,0,-2,2,1,0],\n",
    "        [0,0,2,0,0,-1,0,0,0,1],\n",
    "        [0,2,0,0,0,-2,0,0,0,1],\n",
    "        [1,4,0,0,0,0,-3,6,2,0],\n",
    "        [2,2,0,0,2,2,0,0,2,2],\n",
    "        [0,0,3,0,-1,1,0,-1,0,1],\n",
    "        [0,0,0,0,5,0,1,1,0,3],\n",
    "        [2,-7,0,0,0,1,0,8,2,0]]\n",
    "    b = [10,15,20,20,30,50,40,20,25,25]\n",
    "    c = [5, 7, 5, 5, 5, 5, 7, 4, 9, 10]\n",
    "    uB = [5, 8, 4, 5, 4, 5, 5, 3, 3, 3]\n",
    "    \n",
    "    problem = LpProblem(name=\"bnb-problem\", sense=LpMaximize)\n",
    "    \n",
    "    ### 5 integers and 3 continuous (if relaxed, 8 cont.)\n",
    "    cat = ['Integer' for i in range(5)] + ['Continuous' for i in range(5)]\n",
    "    if relaxed: cat = ['Continuous' for i in range(5)] + ['Continuous' for i in range(5)]\n",
    "        \n",
    "    x = [LpVariable(name=\"x\"+ str(i+1), lowBound=0, upBound=uB[i], cat = cat[i]) for i in range(10)]\n",
    "    \n",
    "    for r in range(10):\n",
    "        expr = lpSum([x[j] * A[r][j] for j in range(10)])\n",
    "        problem += LpConstraint(e=expr, sense = -1, name = \"baseC\"+str(r+1), rhs = b[r])\n",
    "        \n",
    "    obj_func = lpSum([x[j] * c[j] for j in range(10)])\n",
    "    problem += obj_func\n",
    "    \n",
    "    return x, problem\n",
    "\n",
    "x, P = getProblem()\n",
    "print(P)"
   ]
  },
  {
   "cell_type": "markdown",
   "metadata": {},
   "source": [
    "2) The below function returns None if the problem has no feasible solutions. Otherwise, it returns a tuple: objective function values and a vector of decision variables. "
   ]
  },
  {
   "cell_type": "code",
   "execution_count": 3,
   "metadata": {},
   "outputs": [],
   "source": [
    "def getSolution(x, problem):\n",
    "    status = problem.solve(PULP_CBC_CMD(msg=False))\n",
    "    if problem.status != 1: return None\n",
    "    return problem.objective.value(), [_.value() for _ in x]"
   ]
  },
  {
   "cell_type": "markdown",
   "metadata": {},
   "source": [
    "3) PuLP can solve MIP problems. Hence, the \"relaxed\" flag can be set to False. Solve the problem and analyze the obtained outcome.  "
   ]
  },
  {
   "cell_type": "code",
   "execution_count": 4,
   "metadata": {},
   "outputs": [
    {
     "name": "stdout",
     "output_type": "stream",
     "text": [
      "(207.0, [3.0, 6.0, 4.0, 1.0, 1.0, 5.0, 5.0, 3.0, 2.0, 3.0])\n"
     ]
    }
   ],
   "source": [
    "x, problem = getProblem(relaxed = False)\n",
    "print(getSolution(x, problem))\n",
    "optimum = getSolution(x, problem)[0]"
   ]
  },
  {
   "cell_type": "markdown",
   "metadata": {},
   "source": [
    "4) Now, compare this solution with the one obtained for the relaxed LP problem: "
   ]
  },
  {
   "cell_type": "code",
   "execution_count": 5,
   "metadata": {},
   "outputs": [
    {
     "name": "stdout",
     "output_type": "stream",
     "text": [
      "(211.33333355000002, [0.73333333, 6.6666667, 4.0, 0.8, 1.6, 5.0, 5.0, 3.0, 3.0, 3.0])\n"
     ]
    }
   ],
   "source": [
    "x, problem = getProblem(relaxed = True)\n",
    "print(getSolution(x, problem))"
   ]
  },
  {
   "cell_type": "markdown",
   "metadata": {},
   "source": [
    "5) Your task is to implement the Branch and Bound Algorithm for solving MIP problems. You can use the PuLP library for solving the relaxed LP subproblems. <br>\n",
    "<ul> \n",
    "    <li> Firstly, as a node selection policy, implement the default DFS-like strategy as shown in the lecture (generate both children in one iteration; prioritize the left children, i.e., associated with the \"<=\" constraint). As for the variable selection policy, take the one with the lowest index  (default, arbitrary selection). \n",
    "<li> Identify how many LP relaxed problems have to be solved to find the optimum. Note that such a number was reported to be 35 for the default policies. However, it may vary slightly for different solvers due to possible multiple sub-optima.\n",
    "<li> Propose at least 3 new node and variable selection policies with the aim of minimizing the number of solver runs required to reach the optimum.  Try getting below 20. \n",
    "    </ul>"
   ]
  },
  {
   "cell_type": "markdown",
   "metadata": {},
   "source": [
    "### Functions"
   ]
  },
  {
   "cell_type": "code",
   "execution_count": 6,
   "metadata": {},
   "outputs": [],
   "source": [
    "# as far we cannot copy LPproblem, we performed saving/restoring state manually\n",
    "\n",
    "def saveVars(x):\n",
    "    var = []\n",
    "    for v in x:\n",
    "        temp = []\n",
    "        temp.append(v.value())\n",
    "        temp.append(v.lowBound)\n",
    "        temp.append(v.upBound)\n",
    "        var.append(temp)\n",
    "    return var\n",
    "\n",
    "\n",
    "def restoreVars(x, var):\n",
    "    for i, v in enumerate(x):\n",
    "        v.lowBound = var[i][1]\n",
    "        v.upBound = var[i][2]\n",
    "        \n",
    "\n",
    "node_names = ['BFS', 'DFS', 'Largest Objective', 'Random']\n",
    "var_names = ['Order', 'First non-integer', 'Order by constraint', 'Random non-integer']\n",
    "node_score = {}\n",
    "var_score = {}"
   ]
  },
  {
   "cell_type": "markdown",
   "metadata": {},
   "source": [
    "### BFS and first non-integer variable"
   ]
  },
  {
   "cell_type": "code",
   "execution_count": 7,
   "metadata": {},
   "outputs": [
    {
     "name": "stdout",
     "output_type": "stream",
     "text": [
      "\n",
      "Found optimum: (207.0, [3.0, 6.0, 4.0, 1.0, 1.0, 5.0, 5.0, 3.0, 2.0, 3.0])\n",
      "Number of subproblems solved: 14\n"
     ]
    }
   ],
   "source": [
    "x, problem = getProblem(relaxed = True)\n",
    "getSolution(x, problem)\n",
    "\n",
    "nodes = [saveVars(x)]\n",
    "\n",
    "idx = 0\n",
    "count = 0\n",
    "\n",
    "while len(nodes):\n",
    "    node = nodes.pop(0)\n",
    "    restoreVars(x, node)\n",
    "    \n",
    "    sol = getSolution(x, problem)\n",
    "    if sol[0] == optimum:\n",
    "        break\n",
    "    \n",
    "    for i, var in enumerate(node):\n",
    "        split = var[0]\n",
    "        if not split.is_integer():\n",
    "            split_left, split_right = np.floor(split), np.ceil(split)\n",
    "            count += 2\n",
    "            \n",
    "            if split_left > x[i].lowBound:\n",
    "                x[i].upBound = split_left\n",
    "                x[i].cat = 'Integer'\n",
    "                getSolution(x, problem)\n",
    "                nodes.append(saveVars(x))\n",
    "                restoreVars(x, node)\n",
    "                getSolution(x, problem)\n",
    "            \n",
    "            if split_right < x[i].upBound:\n",
    "                x[i].lowBound = split_right\n",
    "                x[i].cat = 'Integer'\n",
    "                getSolution(x, problem)\n",
    "                nodes.append(saveVars(x))\n",
    "                restoreVars(x, node)\n",
    "                getSolution(x, problem)\n",
    "            \n",
    "            break\n",
    "    idx += 1  \n",
    "\n",
    "node_score[0] = count\n",
    "print(f'\\nFound optimum: {sol}')\n",
    "print(f'Number of subproblems solved: {count}')"
   ]
  },
  {
   "cell_type": "markdown",
   "metadata": {},
   "source": [
    "### DFS and first non-integer variable"
   ]
  },
  {
   "cell_type": "code",
   "execution_count": 8,
   "metadata": {},
   "outputs": [
    {
     "name": "stdout",
     "output_type": "stream",
     "text": [
      "\n",
      "Found optimum: (207.0, [3.0, 6.0, 4.0, 1.0, 1.0, 5.0, 5.0, 3.0, 2.0, 3.0])\n",
      "Number of subproblems solved: 8\n"
     ]
    }
   ],
   "source": [
    "x, problem = getProblem(relaxed = True)\n",
    "getSolution(x, problem)\n",
    "\n",
    "nodes = [saveVars(x)]\n",
    "\n",
    "idx = 0\n",
    "count = 0\n",
    "\n",
    "while len(nodes):\n",
    "    node = nodes.pop(-1)\n",
    "    restoreVars(x, node)\n",
    "    \n",
    "    sol = getSolution(x, problem)\n",
    "    if sol[0] == optimum:\n",
    "        break\n",
    "    \n",
    "    for i, var in enumerate(node):\n",
    "        split = var[0]\n",
    "        if not split.is_integer():\n",
    "            split_left, split_right = np.floor(split), np.ceil(split)\n",
    "            count += 2\n",
    "            \n",
    "            if split_right < x[i].upBound:\n",
    "                x[i].lowBound = split_right\n",
    "                x[i].cat = 'Integer'\n",
    "                getSolution(x, problem)\n",
    "                nodes.append(saveVars(x))\n",
    "                restoreVars(x, node)\n",
    "                getSolution(x, problem)\n",
    "            \n",
    "            if split_left > x[i].lowBound:\n",
    "                x[i].upBound = split_left\n",
    "                x[i].cat = 'Integer'\n",
    "                getSolution(x, problem)\n",
    "                nodes.append(saveVars(x))\n",
    "                restoreVars(x, node)\n",
    "                getSolution(x, problem)\n",
    "            \n",
    "            break\n",
    "    idx += 1  \n",
    "\n",
    "node_score[1] = count\n",
    "print(f'\\nFound optimum: {sol}')\n",
    "print(f'Number of subproblems solved: {count}')"
   ]
  },
  {
   "cell_type": "markdown",
   "metadata": {},
   "source": [
    "### Node with the largest objective and first non-integer variable"
   ]
  },
  {
   "cell_type": "code",
   "execution_count": 9,
   "metadata": {},
   "outputs": [
    {
     "name": "stdout",
     "output_type": "stream",
     "text": [
      "\n",
      "Found optimum: (207.0, [3.0, 6.0, 4.0, 1.0, 1.0, 5.0, 5.0, 3.0, 2.0, 3.0])\n",
      "Number of subproblems solved: 10\n"
     ]
    }
   ],
   "source": [
    "x, problem = getProblem(relaxed = True)\n",
    "sol = getSolution(x, problem)\n",
    "\n",
    "nodes = [[sol[0], saveVars(x)]]\n",
    "\n",
    "idx = 0\n",
    "count = 0\n",
    "\n",
    "while len(nodes):\n",
    "    nodes = sorted(nodes, key=lambda x: x[0], reverse=True)\n",
    "    node = nodes.pop(0)[1]\n",
    "    restoreVars(x, node)\n",
    "    \n",
    "    sol = getSolution(x, problem)\n",
    "    if sol[0] == optimum:\n",
    "        break\n",
    "    \n",
    "    for i, var in enumerate(node):\n",
    "        split = var[0]\n",
    "        if not split.is_integer():\n",
    "            split_left, split_right = np.floor(split), np.ceil(split)\n",
    "            count += 2\n",
    "            \n",
    "            if split_left > x[i].lowBound:\n",
    "                x[i].upBound = split_left\n",
    "                x[i].cat = 'Integer'\n",
    "                sol = getSolution(x, problem)\n",
    "                nodes.append([sol[0], saveVars(x)])\n",
    "                restoreVars(x, node)\n",
    "                getSolution(x, problem)\n",
    "            \n",
    "            if split_right < x[i].upBound:\n",
    "                x[i].lowBound = split_right\n",
    "                x[i].cat = 'Integer'\n",
    "                sol = getSolution(x, problem)\n",
    "                nodes.append([sol[0], saveVars(x)])\n",
    "                restoreVars(x, node)\n",
    "                getSolution(x, problem)\n",
    "\n",
    "            break\n",
    "    idx += 1  \n",
    "\n",
    "\n",
    "node_score[2] = count\n",
    "print(f'\\nFound optimum: {sol}')\n",
    "print(f'Number of subproblems solved: {count}')"
   ]
  },
  {
   "cell_type": "markdown",
   "metadata": {},
   "source": [
    "### Random node and first non-integer variable"
   ]
  },
  {
   "cell_type": "code",
   "execution_count": 10,
   "metadata": {},
   "outputs": [
    {
     "name": "stdout",
     "output_type": "stream",
     "text": [
      "\n",
      "Found optimum: (207.0, [3.0, 6.0, 4.0, 1.0, 1.0, 5.0, 5.0, 3.0, 2.0, 3.0])\n",
      "Number of subproblems solved: 24\n"
     ]
    }
   ],
   "source": [
    "x, problem = getProblem(relaxed = True)\n",
    "getSolution(x, problem)\n",
    "\n",
    "nodes = [saveVars(x)]\n",
    "\n",
    "idx = 0\n",
    "count = 0\n",
    "\n",
    "while len(nodes):\n",
    "    node = nodes.pop(np.random.randint(0, len(nodes)))\n",
    "    restoreVars(x, node)\n",
    "    \n",
    "    sol = getSolution(x, problem)\n",
    "    if sol[0] == optimum:\n",
    "        break\n",
    "    \n",
    "    for i, var in enumerate(node):\n",
    "        split = var[0]\n",
    "        if not split.is_integer():\n",
    "            split_left, split_right = np.floor(split), np.ceil(split)\n",
    "            count += 2\n",
    "            \n",
    "            if split_left > x[i].lowBound:\n",
    "                x[i].upBound = split_left\n",
    "                x[i].cat = 'Integer'\n",
    "                getSolution(x, problem)\n",
    "                nodes.append(saveVars(x))\n",
    "                restoreVars(x, node)\n",
    "                getSolution(x, problem)\n",
    "            \n",
    "            if split_right < x[i].upBound:\n",
    "                x[i].lowBound = split_right\n",
    "                x[i].cat = 'Integer'\n",
    "                getSolution(x, problem)\n",
    "                nodes.append(saveVars(x))\n",
    "                restoreVars(x, node)\n",
    "                getSolution(x, problem)\n",
    "            \n",
    "            break\n",
    "    idx += 1  \n",
    "\n",
    "node_score[3] = count\n",
    "print(f'\\nFound optimum: {sol}')\n",
    "print(f'Number of subproblems solved: {count}')"
   ]
  },
  {
   "cell_type": "markdown",
   "metadata": {
    "tags": []
   },
   "source": [
    "### Variables by order"
   ]
  },
  {
   "cell_type": "code",
   "execution_count": 11,
   "metadata": {},
   "outputs": [
    {
     "name": "stdout",
     "output_type": "stream",
     "text": [
      "\n",
      "Found optimum: (207.0, [3.0, 6.0, 4.0, 1.0, 1.0, 5.0, 5.0, 3.0, 2.0, 3.0])\n",
      "Number of subproblems solved: 12\n"
     ]
    }
   ],
   "source": [
    "x, problem = getProblem(relaxed = True)\n",
    "getSolution(x, problem)\n",
    "\n",
    "nodes = [saveVars(x)]\n",
    "solutions = []\n",
    "\n",
    "idx = 0\n",
    "count = 0\n",
    "var_counter = 0\n",
    "\n",
    "while len(nodes):\n",
    "    node = nodes.pop(0)\n",
    "    restoreVars(x, node)\n",
    "\n",
    "    sol = getSolution(x, problem)\n",
    "    if sol and all(map(lambda x: x.is_integer(), sol[1][:5])):\n",
    "        solutions.append(sol)\n",
    "    if sol[0] == optimum or var_counter == len(node):\n",
    "        break\n",
    "\n",
    "    split = node[var_counter][0]\n",
    "    if not split.is_integer():\n",
    "        split_left, split_right = np.floor(split), np.ceil(split)\n",
    "    else:\n",
    "        split_left, split_right = split - 1, split\n",
    "\n",
    "    count += 2\n",
    "    x[var_counter].upBound = split_left\n",
    "    x[var_counter].cat = 'Integer'\n",
    "    getSolution(x, problem)\n",
    "    nodes.append(saveVars(x))\n",
    "    restoreVars(x, node)\n",
    "    getSolution(x, problem)\n",
    "\n",
    "    x[var_counter].lowBound = split_right\n",
    "    x[var_counter].cat = 'Integer'\n",
    "    getSolution(x, problem)\n",
    "    nodes.append(saveVars(x))\n",
    "    restoreVars(x, node)\n",
    "    getSolution(x, problem)\n",
    "     \n",
    "    var_counter += 1\n",
    "    idx += 1  \n",
    "    \n",
    "var_score[0] = count\n",
    "solutions = sorted(solutions, key=lambda x:x[0], reverse=True)\n",
    "print(f'\\nFound optimum: {solutions[0]}')\n",
    "print(f'Number of subproblems solved: {count}')"
   ]
  },
  {
   "cell_type": "markdown",
   "metadata": {},
   "source": [
    "### First non-integer variable"
   ]
  },
  {
   "cell_type": "code",
   "execution_count": 12,
   "metadata": {},
   "outputs": [
    {
     "name": "stdout",
     "output_type": "stream",
     "text": [
      "\n",
      "Found optimum: (207.0, [3.0, 6.0, 4.0, 1.0, 1.0, 5.0, 5.0, 3.0, 2.0, 3.0])\n",
      "Number of subproblems solved: 14\n"
     ]
    }
   ],
   "source": [
    "x, problem = getProblem(relaxed = True)\n",
    "getSolution(x, problem)\n",
    "\n",
    "nodes = [saveVars(x)]\n",
    "\n",
    "idx = 0\n",
    "count = 0\n",
    "\n",
    "while len(nodes):\n",
    "    node = nodes.pop(0)\n",
    "    restoreVars(x, node)\n",
    "    \n",
    "    sol = getSolution(x, problem)\n",
    "    if sol[0] == optimum:\n",
    "        break\n",
    "    \n",
    "    for i, var in enumerate(node):\n",
    "        split = var[0]\n",
    "        if not split.is_integer():\n",
    "            split_left, split_right = np.floor(split), np.ceil(split)\n",
    "            count += 2\n",
    "            \n",
    "            if split_left > x[i].lowBound:\n",
    "                x[i].upBound = split_left\n",
    "                x[i].cat = 'Integer'\n",
    "                getSolution(x, problem)\n",
    "                nodes.append(saveVars(x))\n",
    "                restoreVars(x, node)\n",
    "                getSolution(x, problem)\n",
    "            \n",
    "            if split_right < x[i].upBound:\n",
    "                x[i].lowBound = split_right\n",
    "                x[i].cat = 'Integer'\n",
    "                getSolution(x, problem)\n",
    "                nodes.append(saveVars(x))\n",
    "                restoreVars(x, node)\n",
    "                getSolution(x, problem)\n",
    "            \n",
    "            break\n",
    "    idx += 1  \n",
    "\n",
    "var_score[1] = count\n",
    "print(f'\\nFound optimum: {sol}')\n",
    "print(f'Number of subproblems solved: {count}')"
   ]
  },
  {
   "cell_type": "markdown",
   "metadata": {},
   "source": [
    "### Variables ordered by number of invoctions in constraints"
   ]
  },
  {
   "cell_type": "code",
   "execution_count": 13,
   "metadata": {},
   "outputs": [
    {
     "name": "stdout",
     "output_type": "stream",
     "text": [
      "\n",
      "Found optimum: (207.0, [3.0, 6.0, 4.0, 1.0, 1.0, 5.0, 5.0, 3.0, 2.0, 3.0])\n",
      "Number of subproblems solved: 12\n"
     ]
    }
   ],
   "source": [
    "x, problem = getProblem(relaxed = True)\n",
    "getSolution(x, problem)\n",
    "\n",
    "nodes = [saveVars(x)]\n",
    "solutions = []\n",
    "\n",
    "order = [7, 1, 9, 5, 8, 0, 2, 4, 6, 3]\n",
    "idx = 0\n",
    "count = 0\n",
    "var_counter = 0\n",
    "\n",
    "while len(nodes):\n",
    "    node = nodes.pop(0)\n",
    "    restoreVars(x, node)\n",
    "\n",
    "    sol = getSolution(x, problem)\n",
    "    if sol and all(map(lambda x: x.is_integer(), sol[1][:5])):\n",
    "        solutions.append(sol)\n",
    "    if sol[0] == optimum:\n",
    "        break\n",
    "\n",
    "    split = node[order[var_counter]][0]\n",
    "    if not split.is_integer():\n",
    "        split_left, split_right = np.floor(split), np.ceil(split)\n",
    "    else:\n",
    "        split_left, split_right = split - 1, split\n",
    "\n",
    "    count += 2\n",
    "    x[var_counter].upBound = split_left\n",
    "    x[var_counter].cat = 'Integer'\n",
    "    getSolution(x, problem)\n",
    "    nodes.append(saveVars(x))\n",
    "    restoreVars(x, node)\n",
    "    getSolution(x, problem)\n",
    "\n",
    "    x[var_counter].lowBound = split_right\n",
    "    x[var_counter].cat = 'Integer'\n",
    "    getSolution(x, problem)\n",
    "    nodes.append(saveVars(x))\n",
    "    restoreVars(x, node)\n",
    "    getSolution(x, problem)\n",
    "     \n",
    "    var_counter += 1\n",
    "    idx += 1  \n",
    "\n",
    "var_score[2] = count\n",
    "solutions = sorted(solutions, key=lambda x:x[0], reverse=True)\n",
    "print(f'\\nFound optimum: {solutions[0]}')\n",
    "print(f'Number of subproblems solved: {count}')"
   ]
  },
  {
   "cell_type": "markdown",
   "metadata": {},
   "source": [
    "### Random non-integer variable"
   ]
  },
  {
   "cell_type": "code",
   "execution_count": 41,
   "metadata": {},
   "outputs": [
    {
     "name": "stdout",
     "output_type": "stream",
     "text": [
      "\n",
      "Found optimum: (207.0, [3.0, 6.0, 4.0, 1.0, 1.0, 5.0, 5.0, 3.0, 2.0, 3.0])\n",
      "Number of subproblems solved: 16\n"
     ]
    }
   ],
   "source": [
    "x, problem = getProblem(relaxed = True)\n",
    "getSolution(x, problem)\n",
    "\n",
    "nodes = [saveVars(x)]\n",
    "solutions = []\n",
    "\n",
    "idx = 0\n",
    "count = 0\n",
    "\n",
    "while len(nodes):\n",
    "    node = nodes.pop(0)\n",
    "    restoreVars(x, node)\n",
    "    \n",
    "    sol = getSolution(x, problem)\n",
    "    if sol and all(map(lambda x: x.is_integer(), sol[1][:5])):\n",
    "        solutions.append(sol)\n",
    "    if sol[0] == optimum:\n",
    "        break\n",
    "    \n",
    "    temp = list(filter(lambda x: not x[0].is_integer(), node))\n",
    "    temp = temp[np.random.randint(0, len(temp))]\n",
    "    i = node.index(temp)\n",
    "\n",
    "    split = temp[0]\n",
    "    split_left, split_right = np.floor(split), np.ceil(split)\n",
    "    count += 2\n",
    "\n",
    "    if split_left > x[i].lowBound:\n",
    "        x[i].upBound = split_left\n",
    "        x[i].cat = 'Integer'\n",
    "        getSolution(x, problem)\n",
    "        nodes.append(saveVars(x))\n",
    "        restoreVars(x, node)\n",
    "        getSolution(x, problem)\n",
    "\n",
    "    if split_right < x[i].upBound:\n",
    "        x[i].lowBound = split_right\n",
    "        x[i].cat = 'Integer'\n",
    "        getSolution(x, problem)\n",
    "        nodes.append(saveVars(x))\n",
    "        restoreVars(x, node)\n",
    "        getSolution(x, problem)\n",
    "            \n",
    "    idx += 1  \n",
    "    \n",
    "var_score[3] = count\n",
    "solutions = sorted(solutions, key=lambda x:x[0], reverse=True)\n",
    "print(f'\\nFound optimum: {solutions[0]}')\n",
    "print(f'Number of subproblems solved: {count}')"
   ]
  },
  {
   "cell_type": "code",
   "execution_count": 21,
   "metadata": {},
   "outputs": [
    {
     "data": {
      "image/png": "[encoded data removed]",
      "text/plain": [
       "<Figure size 640x480 with 1 Axes>"
      ]
     },
     "metadata": {},
     "output_type": "display_data"
    }
   ],
   "source": [
    "sns.barplot(x=list(node_score.values()), y=node_names);"
   ]
  },
  {
   "cell_type": "code",
   "execution_count": 42,
   "metadata": {},
   "outputs": [
    {
     "data": {
      "image/png": "[encoded data removed]",
      "text/plain": [
       "<Figure size 640x480 with 1 Axes>"
      ]
     },
     "metadata": {},
     "output_type": "display_data"
    }
   ],
   "source": [
    "sns.barplot(x=list(var_score.values()), y=var_names);"
   ]
  }
 ],
 "metadata": {
  "kernelspec": {
   "display_name": "Python 3 (ipykernel)",
   "language": "python",
   "name": "python3"
  },
  "language_info": {
   "codemirror_mode": {
    "name": "ipython",
    "version": 3
   },
   "file_extension": ".py",
   "mimetype": "text/x-python",
   "name": "python",
   "nbconvert_exporter": "python",
   "pygments_lexer": "ipython3",
   "version": "3.11.1"
  }
 },
 "nbformat": 4,
 "nbformat_minor": 4
}
