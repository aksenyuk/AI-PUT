{
 "cells": [
  {
   "cell_type": "markdown",
   "metadata": {},
   "source": [
    "# Lab2 - PuLP Library"
   ]
  },
  {
   "cell_type": "markdown",
   "metadata": {},
   "source": [
    "<b>Information on group members:</b><br>\n",
    "1) 150284, Sofya Aksenyuk <br>\n",
    "2) 150281, Uladzimir Ivashka"
   ]
  },
  {
   "cell_type": "code",
   "execution_count": 3,
   "metadata": {},
   "outputs": [],
   "source": [
    "from pulp import *  \n",
    "import numpy as np\n",
    "import pandas as pd"
   ]
  },
  {
   "cell_type": "markdown",
   "metadata": {},
   "source": [
    "## Introduction - brief tutorial on PuLP"
   ]
  },
  {
   "cell_type": "code",
   "execution_count": 4,
   "metadata": {},
   "outputs": [],
   "source": [
    "# Create an LpProblem instance; LpMaximize = objective function is to be maximized\n",
    "model = LpProblem(name=\"some-problem\", sense=LpMaximize)"
   ]
  },
  {
   "cell_type": "code",
   "execution_count": 5,
   "metadata": {},
   "outputs": [],
   "source": [
    "# Initialize the decision variables. We can set the name and lower bound as well.\n",
    "# To create an array of variables, you can use comprehensions of LpProblem.dicts.\n",
    "\n",
    "x1 = LpVariable(name=\"x1\", lowBound=0)\n",
    "x2 = LpVariable(name=\"x2\", lowBound=0)"
   ]
  },
  {
   "cell_type": "code",
   "execution_count": 6,
   "metadata": {},
   "outputs": [
    {
     "data": {
      "text/plain": [
       "pulp.pulp.LpAffineExpression"
      ]
     },
     "execution_count": 6,
     "metadata": {},
     "output_type": "execute_result"
    }
   ],
   "source": [
    "# An example expression\n",
    "expression = 3 * x1 + 2 * x2\n",
    "type(expression)"
   ]
  },
  {
   "cell_type": "code",
   "execution_count": 7,
   "metadata": {},
   "outputs": [
    {
     "data": {
      "text/plain": [
       "pulp.pulp.LpConstraint"
      ]
     },
     "execution_count": 7,
     "metadata": {},
     "output_type": "execute_result"
    }
   ],
   "source": [
    "# An example constraint\n",
    "constraint = 2 * x1 + 3 * x2 >= 5\n",
    "type(constraint)"
   ]
  },
  {
   "cell_type": "markdown",
   "metadata": {},
   "source": [
    "Ok, let's now use PuLP to solve the below problem:\n",
    "$max$ $4x_1 + 2x_2$ <br>\n",
    "s.t.<br>\n",
    "     $1x_1 + 1x_2 \\geq 1$ <br>\n",
    "     $2x_1 + 1x_2 \\leq 6$ <br>\n",
    "     $-1x_1 + x_2 = 1$ <br>\n",
    "     $x_1 \\geq 0$ <br>\n",
    "     $x_2 \\geq 0$ "
   ]
  },
  {
   "cell_type": "code",
   "execution_count": 8,
   "metadata": {},
   "outputs": [
    {
     "data": {
      "text/plain": [
       "test-problem:\n",
       "MAXIMIZE\n",
       "4*x1 + 2*x2 + 0\n",
       "SUBJECT TO\n",
       "#1_constraint: x1 + x2 >= 1\n",
       "\n",
       "#2_constraint: 2 x1 + x2 <= 6\n",
       "\n",
       "#3_constraint: - x1 + x2 = 1\n",
       "\n",
       "VARIABLES\n",
       "x1 Continuous\n",
       "x2 Continuous"
      ]
     },
     "execution_count": 8,
     "metadata": {},
     "output_type": "execute_result"
    }
   ],
   "source": [
    "# Problem\n",
    "model = LpProblem(name=\"test-problem\", sense=LpMaximize)\n",
    "\n",
    "x1 = LpVariable(name=\"x1\", lowBound=0)\n",
    "x2 = LpVariable(name=\"x2\", lowBound=0)\n",
    "\n",
    "model += (1 * x1 + 1*x2 >= 1, \"#1 constraint\")\n",
    "model += (2 * x1 + 1*x2 <= 6, \"#2 constraint\")\n",
    "model += (-1 * x1 + 1*x2 == 1, \"#3 constraint\")\n",
    "\n",
    "# Objective function\n",
    "obj_func = 4*x1 + 2 * x2\n",
    "model += obj_func\n",
    "\n",
    "model"
   ]
  },
  {
   "cell_type": "code",
   "execution_count": 9,
   "metadata": {},
   "outputs": [],
   "source": [
    "# Solve the problem\n",
    "status = model.solve()"
   ]
  },
  {
   "cell_type": "code",
   "execution_count": 10,
   "metadata": {},
   "outputs": [
    {
     "name": "stdout",
     "output_type": "stream",
     "text": [
      "status: 1, Optimal\n"
     ]
    }
   ],
   "source": [
    "# Print status\n",
    "print(f\"status: {model.status}, {LpStatus[model.status]}\")"
   ]
  },
  {
   "cell_type": "code",
   "execution_count": 11,
   "metadata": {},
   "outputs": [
    {
     "name": "stdout",
     "output_type": "stream",
     "text": [
      "objective: 12.000000199999999\n"
     ]
    }
   ],
   "source": [
    "# Print objective value\n",
    "print(f\"objective: {model.objective.value()}\")"
   ]
  },
  {
   "cell_type": "code",
   "execution_count": 12,
   "metadata": {},
   "outputs": [
    {
     "name": "stdout",
     "output_type": "stream",
     "text": [
      "#1_constraint: 3.3333334\n",
      "#2_constraint: 9.999999983634211e-08\n",
      "#3_constraint: 0.0\n"
     ]
    }
   ],
   "source": [
    "# Print constraint values\n",
    "for name, constraint in model.constraints.items():  print(f\"{name}: {constraint.value()}\")"
   ]
  },
  {
   "cell_type": "code",
   "execution_count": 13,
   "metadata": {},
   "outputs": [
    {
     "data": {
      "text/plain": [
       "[x1, x2]"
      ]
     },
     "execution_count": 13,
     "metadata": {},
     "output_type": "execute_result"
    }
   ],
   "source": [
    "model.variables()"
   ]
  },
  {
   "cell_type": "code",
   "execution_count": 14,
   "metadata": {},
   "outputs": [
    {
     "name": "stdout",
     "output_type": "stream",
     "text": [
      "1.6666667\n",
      "2.6666667\n"
     ]
    }
   ],
   "source": [
    "print(x1.value())\n",
    "print(x2.value())"
   ]
  },
  {
   "cell_type": "markdown",
   "metadata": {},
   "source": [
    "### The same code but using dictionaries and other nice tricks\n"
   ]
  },
  {
   "cell_type": "code",
   "execution_count": 15,
   "metadata": {},
   "outputs": [],
   "source": [
    "model = LpProblem(name=\"some-problem\", sense=LpMaximize)"
   ]
  },
  {
   "cell_type": "code",
   "execution_count": 16,
   "metadata": {},
   "outputs": [
    {
     "data": {
      "text/plain": [
       "{'First': x_First, 'Second': x_Second}"
      ]
     },
     "execution_count": 16,
     "metadata": {},
     "output_type": "execute_result"
    }
   ],
   "source": [
    "var_names = [\"First\", \"Second\"]\n",
    "x = LpVariable.dicts(\"x\", var_names, 0)\n",
    "x"
   ]
  },
  {
   "cell_type": "code",
   "execution_count": 17,
   "metadata": {},
   "outputs": [
    {
     "data": {
      "text/plain": [
       "some-problem:\n",
       "MAXIMIZE\n",
       "4*x_First + 2*x_Second + 0\n",
       "SUBJECT TO\n",
       "GE: x_First + x_Second >= 1\n",
       "\n",
       "LE: 2 x_First + x_Second <= 6\n",
       "\n",
       "EQ: - x_First + x_Second = 1\n",
       "\n",
       "VARIABLES\n",
       "x_First Continuous\n",
       "x_Second Continuous"
      ]
     },
     "execution_count": 17,
     "metadata": {},
     "output_type": "execute_result"
    }
   ],
   "source": [
    "const_names = [\"GE\", \"LE\", \"EQ\"]\n",
    "sense = [1, -1, 0] # GE, LE, EQ\n",
    "coefs = [[1,1],[2,1],[-1,1]] # Matrix coefs\n",
    "rhs = [1, 6, 1] \n",
    "\n",
    "for c, s, r, cn in zip(coefs, sense, rhs, const_names):\n",
    "    expr = lpSum([x[var_names[i]] * c[i] for i in range(2)])\n",
    "    model += LpConstraint(e=expr, sense = s, name = cn, rhs = r)\n",
    "    \n",
    "obj_coefs = [4,2]\n",
    "model += lpSum([x[var_names[i]] * obj_coefs[i] for i in range(2)])\n",
    "    \n",
    "model"
   ]
  },
  {
   "cell_type": "code",
   "execution_count": 18,
   "metadata": {},
   "outputs": [
    {
     "name": "stdout",
     "output_type": "stream",
     "text": [
      "status: 1, Optimal\n",
      "objective: 12.000000199999999\n",
      "1.6666667\n",
      "2.6666667\n"
     ]
    }
   ],
   "source": [
    "status = model.solve()\n",
    "print(f\"status: {model.status}, {LpStatus[model.status]}\")\n",
    "print(f\"objective: {model.objective.value()}\")\n",
    "for n in var_names: print(x[n].value())"
   ]
  },
  {
   "cell_type": "markdown",
   "metadata": {},
   "source": [
    "# Homework - use the PuLP library to solve the following OR problem "
   ]
  },
  {
   "cell_type": "markdown",
   "metadata": {},
   "source": [
    "Johnson & Sons company manufactures 6 types of toys. Each toy is produced by utilizing at least one machine. Each toy takes some production time on each Machine 1-4 (see Table below). For instance, product A requires 4 minutes on Machine 1, 4 minutes on Machine 2, 0 Minutes on Machine 3, and 0 minutes on Machine 4 (all machines must be utilized to produce a toy unless the production time equals 0). Each machine is available for a different number of hours per week. The company's goal is to identify the number (product-mix) of toys that have to be manufactured in order to maximize the income (can be continuous). Notably, each toy can be sold for a different price. Due to market expectations, the company wants to manufacture twice as many F toys as A. Furthermore, the number of toys B should equal C. Solve this problem using the PuLP library. Prepare a report containing information on:\n",
    "<ol>\n",
    "<li>The number of toys to manufacture;</li>\n",
    "<li>The expected income;</li>\n",
    "<li>The production time required on each machine;</li>\n",
    "</ol>\n",
    "Consider the total value and partial values, i.e., considered for each toy A-F separately (e.g., income resulted by selling toy A). Also, answer the following questions concerning the found solution: \n",
    "<ol>\n",
    "<li>Which toy(s) production should be focused on?  </li>\n",
    "<li>Is there a toy that can be excluded for consideration for production? </li>\n",
    "<li>Is there a machine that is not fully utilized?</li>\n",
    "</ol>"
   ]
  },
  {
   "cell_type": "markdown",
   "metadata": {},
   "source": [
    "| Toy | Machine 1 | Machine 2 | Machine 3 | Machine 4 | Selling price |\n",
    "| --- | --- | --- | --- | --- | --- |\n",
    "| A | 4 (minutes!) | 4 | 0 | 0 | 2.50 USD |\n",
    "| B | 0 | 3 | 3 | 0 | 1.00 USD |\n",
    "| C | 5 | 0 | 2 | 5 | 4.00 USD |\n",
    "| D | 2 | 4 | 0 | 4 | 3.00 USD |\n",
    "| E | 0 | 4 | 5 | 2 | 3.50 USD |\n",
    "| F | 2 | 2 | 1 | 1 | 4.00 USD |\n",
    "| Production time limit (hours!) | 120 | 60 |  80 |  120 |  |"
   ]
  },
  {
   "cell_type": "markdown",
   "metadata": {},
   "source": [
    "Max Z = 2.5A + 1B + 4C + 3D + 3.5E + 4F\n",
    "\n",
    "Constraints:\n",
    "\n",
    "(1) 4A + __ + 5C + 2D + __ + 2F <= 7200\n",
    "\n",
    "(2) 4A + 3B + __ + 4D + 4E + 2F <= 3600\n",
    "\n",
    "(3) __ + 3B + 2C + __ + 5E + 1F <= 4800\n",
    "\n",
    "(4) __ + __ + 5C + 4D + 2E + 1F <= 7200\n",
    "\n",
    "(5) B - C = 0\n",
    "\n",
    "(6) F - 2A = 0\n",
    "\n",
    "A, B, C, D, E, F >= 0"
   ]
  },
  {
   "cell_type": "code",
   "execution_count": 45,
   "metadata": {},
   "outputs": [
    {
     "data": {
      "text/plain": [
       "test-problem:\n",
       "MAXIMIZE\n",
       "2.5*A + 1*B + 4*C + 3*D + 3.5*E + 4*F + 0.0\n",
       "SUBJECT TO\n",
       "#1_constraint: 4 A + 5 C + 2 D + 2 F <= 7200\n",
       "\n",
       "#2_constraint: 4 A + 3 B + 4 D + 4 E + 2 F <= 3600\n",
       "\n",
       "#3_constraint: 3 B + 2 C + 5 E + F <= 4800\n",
       "\n",
       "#4_constraint: 5 C + 4 D + 2 E + F <= 7200\n",
       "\n",
       "#5_constraint: B - C = 0\n",
       "\n",
       "#6_constraint: - 2 A + F = 0\n",
       "\n",
       "VARIABLES\n",
       "A Continuous\n",
       "B Continuous\n",
       "C Continuous\n",
       "D Continuous\n",
       "E Continuous\n",
       "F Continuous"
      ]
     },
     "execution_count": 45,
     "metadata": {},
     "output_type": "execute_result"
    }
   ],
   "source": [
    "model = LpProblem(name=\"test-problem\", sense=LpMaximize)\n",
    "\n",
    "a = LpVariable(name=\"A\", lowBound=0)\n",
    "b = LpVariable(name=\"B\", lowBound=0)\n",
    "c = LpVariable(name=\"C\", lowBound=0)\n",
    "d = LpVariable(name=\"D\", lowBound=0)\n",
    "e = LpVariable(name=\"E\", lowBound=0)\n",
    "f = LpVariable(name=\"F\", lowBound=0)\n",
    "\n",
    "model += (4 * a + 5 * c + 2 * d + 2 * f <= 7200, \"#1 constraint\")\n",
    "model += (4 * a + 3 * b + 4 * d + 4 * e + 2 * f <= 3600, \"#2 constraint\")\n",
    "model += (3 * b + 2 * c + 5 * e + f <= 4800, \"#3 constraint\")\n",
    "model += (5 * c + 4 * d + 2 * e + f <= 7200, \"#4 constraint\")\n",
    "model += (b - c == 0, \"#5 constraint\")\n",
    "model += (f - 2 * a == 0, \"#6 constraint\")\n",
    "\n",
    "# Objective function\n",
    "obj_func = 2.5 * a + b + 4 * c + 3 * d + 3.5 * e + 4 * f\n",
    "model += obj_func\n",
    "\n",
    "model"
   ]
  },
  {
   "cell_type": "markdown",
   "metadata": {},
   "source": [
    "### Solve the problem"
   ]
  },
  {
   "cell_type": "code",
   "execution_count": 46,
   "metadata": {},
   "outputs": [],
   "source": [
    "status = model.solve()"
   ]
  },
  {
   "cell_type": "markdown",
   "metadata": {},
   "source": [
    "### Status"
   ]
  },
  {
   "cell_type": "code",
   "execution_count": 47,
   "metadata": {},
   "outputs": [
    {
     "name": "stdout",
     "output_type": "stream",
     "text": [
      "status: 1, Optimal\n"
     ]
    }
   ],
   "source": [
    "print(f\"status: {model.status}, {LpStatus[model.status]}\")"
   ]
  },
  {
   "cell_type": "markdown",
   "metadata": {},
   "source": [
    "### Objective value"
   ]
  },
  {
   "cell_type": "code",
   "execution_count": 73,
   "metadata": {},
   "outputs": [
    {
     "name": "stdout",
     "output_type": "stream",
     "text": [
      "objective: 5700.000015\n"
     ]
    }
   ],
   "source": [
    "print(f\"objective: {model.objective.value()}\")"
   ]
  },
  {
   "cell_type": "markdown",
   "metadata": {},
   "source": [
    "### Constraint values"
   ]
  },
  {
   "cell_type": "code",
   "execution_count": 49,
   "metadata": {
    "scrolled": true
   },
   "outputs": [
    {
     "name": "stdout",
     "output_type": "stream",
     "text": [
      "#1_constraint: -1764.7058799999993\n",
      "#2_constraint: -2.8421709430404007e-13\n",
      "#3_constraint: 9.99999983264388e-06\n",
      "#4_constraint: -2399.99999\n",
      "#5_constraint: 0.0\n",
      "#6_constraint: 1.0000000003174137e-05\n"
     ]
    }
   ],
   "source": [
    "for name, constraint in model.constraints.items():  print(f\"{name}: {constraint.value()}\")"
   ]
  },
  {
   "cell_type": "markdown",
   "metadata": {},
   "source": [
    "### Model variable and their values"
   ]
  },
  {
   "cell_type": "code",
   "execution_count": 50,
   "metadata": {},
   "outputs": [
    {
     "data": {
      "text/plain": [
       "[A, B, C, D, E, F]"
      ]
     },
     "execution_count": 50,
     "metadata": {},
     "output_type": "execute_result"
    }
   ],
   "source": [
    "model.variables()"
   ]
  },
  {
   "cell_type": "code",
   "execution_count": 51,
   "metadata": {},
   "outputs": [
    {
     "name": "stdout",
     "output_type": "stream",
     "text": [
      "105.88235\n",
      "917.64706\n",
      "917.64706\n",
      "0.0\n",
      "0.0\n",
      "211.76471\n"
     ]
    }
   ],
   "source": [
    "print(a.value())\n",
    "print(b.value())\n",
    "print(c.value())\n",
    "print(d.value())\n",
    "print(e.value())\n",
    "print(f.value())"
   ]
  },
  {
   "cell_type": "markdown",
   "metadata": {},
   "source": [
    "### Machine utilization check"
   ]
  },
  {
   "cell_type": "code",
   "execution_count": 67,
   "metadata": {},
   "outputs": [
    {
     "name": "stdout",
     "output_type": "stream",
     "text": [
      "5435.2941200000005\n",
      "1764.7058799999995\n"
     ]
    }
   ],
   "source": [
    "## 1 constraint\n",
    "print(4 * a.value() + 5 * c.value() + 2 * d.value() + 2 * f.value())\n",
    "print(7200 - (4 * a.value() + 5 * c.value() + 2 * d.value() + 2 * f.value()))"
   ]
  },
  {
   "cell_type": "code",
   "execution_count": 68,
   "metadata": {},
   "outputs": [
    {
     "name": "stdout",
     "output_type": "stream",
     "text": [
      "3599.9999999999995\n",
      "4.547473508864641e-13\n"
     ]
    }
   ],
   "source": [
    "## 2 constraint\n",
    "print(4 * a.value() + 3 * b.value() + 4 * d.value() + 4 * e.value() + 2 * f.value())\n",
    "print(3600 - (4 * a.value() + 3 * b.value() + 4 * d.value() + 4 * e.value() + 2 * f.value()))"
   ]
  },
  {
   "cell_type": "code",
   "execution_count": 69,
   "metadata": {},
   "outputs": [
    {
     "name": "stdout",
     "output_type": "stream",
     "text": [
      "4800.000010000001\n",
      "-1.0000000656873453e-05\n"
     ]
    }
   ],
   "source": [
    "## 3 constraint\n",
    "print(3 * b.value() + 2 * c.value() + 5 * e.value() + f.value())\n",
    "print(4800 - (3 * b.value() + 2 * c.value() + 5 * e.value() + f.value()))"
   ]
  },
  {
   "cell_type": "code",
   "execution_count": 70,
   "metadata": {},
   "outputs": [
    {
     "name": "stdout",
     "output_type": "stream",
     "text": [
      "4800.000010000001\n",
      "2399.9999899999993\n"
     ]
    }
   ],
   "source": [
    "## 4 constraint\n",
    "print(5 * c.value() + f.value())\n",
    "print(7200 - (5 * c.value() + f.value()))"
   ]
  },
  {
   "cell_type": "code",
   "execution_count": 63,
   "metadata": {},
   "outputs": [
    {
     "name": "stdout",
     "output_type": "stream",
     "text": [
      "0.0\n"
     ]
    }
   ],
   "source": [
    "## 5 constraint\n",
    "print(b.value() - c.value())"
   ]
  },
  {
   "cell_type": "code",
   "execution_count": 65,
   "metadata": {},
   "outputs": [
    {
     "name": "stdout",
     "output_type": "stream",
     "text": [
      "1.0000000003174137e-05\n"
     ]
    }
   ],
   "source": [
    "## 6 constraint\n",
    "print(f.value() - 2 * a.value())"
   ]
  },
  {
   "cell_type": "markdown",
   "metadata": {},
   "source": [
    "## Report"
   ]
  },
  {
   "cell_type": "markdown",
   "metadata": {},
   "source": [
    "1. The number of toys to manufacture: \n",
    "\n",
    "```A + B + C + D + E + F = 2152.94118 ~= 2152 (taking floor)```, where number of toys of:\n",
    "\n",
    "A = 105.88235\n",
    "\n",
    "B = 917.64706\n",
    "\n",
    "C = 917.64706\n",
    "\n",
    "D = 0.0\n",
    "\n",
    "E = 0.0\n",
    "\n",
    "F = 211.76471"
   ]
  },
  {
   "cell_type": "markdown",
   "metadata": {},
   "source": [
    "2. The expected income: \n",
    "\n",
    "5700.000015 USD\n",
    "\n",
    "Income separately from each toy:\n",
    "\n",
    "A = 105.88235 toys * 2.5 USD = 264.705875 USD\n",
    " \n",
    "B = 917.64706 toys * 1 USD = 917.64706 USD\n",
    "\n",
    "C = 917.64706 toys * 4 USD = 3670.58824 USD\n",
    "\n",
    "D = 0.0 toys * 3 USD = 0.0 USD \n",
    "\n",
    "E = 0.0 toys * 3.5 USD = 0.0 USD\n",
    "\n",
    "F = 211.76471 toys * 4 USD = 847.05884 USD"
   ]
  },
  {
   "cell_type": "markdown",
   "metadata": {},
   "source": [
    "3. The production time required on each machine (min):\n",
    "\n",
    "\n",
    "(Machine 1) 4A + 0B + 5C + 2D + 0E + 2F = 5435.2941200000005\n",
    "\n",
    "(Machine 2) 4A + 3B + 0C + 4D + 4E + 2F = 3599.9999999999995\n",
    "\n",
    "(Machine 3) 0A + 3B + 2C + 0D + 5E + 1F = 4800.000010000001\n",
    "\n",
    "(Machine 4) 0A + 0B + 5C + 4D + 2E + 1F = 4800.000010000001"
   ]
  },
  {
   "cell_type": "markdown",
   "metadata": {},
   "source": [
    "## Questions"
   ]
  },
  {
   "cell_type": "markdown",
   "metadata": {},
   "source": [
    "1. Which toy(s) production should be focused on?\n",
    "\n",
    "The most income comes from toy C (3670.58824 USD)."
   ]
  },
  {
   "cell_type": "markdown",
   "metadata": {},
   "source": [
    "2. Is there a toy that can be excluded for consideration for production?\n",
    "\n",
    "The ones that do not provide any income (0.0 USD), i.e.:\n",
    "\n",
    "- Toy D;\n",
    "\n",
    "- Toy E."
   ]
  },
  {
   "cell_type": "markdown",
   "metadata": {},
   "source": [
    "3. Is there a machine that is not fully utilized?\n",
    "\n",
    "Yes, the ones that resulted in negative constraint values, i.e.:\n",
    "\n",
    "#1_constraint: -1764.7058799999993 \n",
    "\n",
    "#2_constraint: -2.8421709430404007e-13\n",
    "\n",
    "#4_constraint: -2399.99999\n",
    "\n",
    "Since it means that its production time limit could be reduced by these values.\n",
    "\n",
    "Note: Technically, #2_constraint is almost equal to zero which could be caused by minor calculation error. In case of rounding, it would be considered fully utilized."
   ]
  }
 ],
 "metadata": {
  "kernelspec": {
   "display_name": "Python 3",
   "language": "python",
   "name": "python3"
  },
  "language_info": {
   "codemirror_mode": {
    "name": "ipython",
    "version": 3
   },
   "file_extension": ".py",
   "mimetype": "text/x-python",
   "name": "python",
   "nbconvert_exporter": "python",
   "pygments_lexer": "ipython3",
   "version": "3.8.5"
  }
 },
 "nbformat": 4,
 "nbformat_minor": 4
}
