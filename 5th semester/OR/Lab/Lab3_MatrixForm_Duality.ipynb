{
 "cells": [
  {
   "cell_type": "markdown",
   "metadata": {},
   "source": [
    "# Lab 3 - The Matrix Form and The Duality Theory"
   ]
  },
  {
   "cell_type": "markdown",
   "metadata": {},
   "source": [
    "<b>Information on group members:</b><br>\n",
    "1) 150284, Sofya Aksenyuk <br>\n",
    "2) 150281, Uladzimir Ivashka"
   ]
  },
  {
   "cell_type": "code",
   "execution_count": 2,
   "metadata": {},
   "outputs": [],
   "source": [
    "from pulp import *  \n",
    "import numpy as np\n",
    "import pandas as pd\n",
    "import itertools\n",
    "from IPython.display import display"
   ]
  },
  {
   "cell_type": "markdown",
   "metadata": {},
   "source": [
    "# 1) The Matrix Form - Fundamental Insight (finish this part to get 3.0)"
   ]
  },
  {
   "cell_type": "markdown",
   "metadata": {},
   "source": [
    "1.1) Given is the below (primal) linear problem:"
   ]
  },
  {
   "cell_type": "markdown",
   "metadata": {},
   "source": [
    "primal problem:<br>\n",
    "MAXIMIZE<br>\n",
    "4*x1 + 2*x2 + 3*x3 <br>\n",
    "\n",
    "SUBJECT TO<br>\n",
    "1_constraint: x1 + x2 <= 10<br>\n",
    "2_constraint: 2*x2 + x3 <= 12<br>\n",
    "3_constraint: 3*x1 + 2*x3 <= 15<br>\n",
    "4_constraint: x1 + x2 + x3 <= 20<br>\n",
    "\n",
    "VARIABLES<br>\n",
    "x1 Continuous<br>\n",
    "x2 Continuous<br>\n",
    "x3 Continuous<br>"
   ]
  },
  {
   "cell_type": "markdown",
   "metadata": {},
   "source": [
    "1.2) Use the PuLP library to solve the above problem. Identify the optimal solution: the values for basic variables and the corresponding value for the objective function."
   ]
  },
  {
   "cell_type": "code",
   "execution_count": 3,
   "metadata": {},
   "outputs": [
    {
     "data": {
      "text/plain": [
       "problem:\n",
       "MAXIMIZE\n",
       "4*x1 + 2*x2 + 3*x3 + 0\n",
       "SUBJECT TO\n",
       "#1_constraint: x1 + x2 <= 10\n",
       "\n",
       "#2_constraint: 2 x2 + x3 <= 12\n",
       "\n",
       "#3_constraint: 3 x1 + 2 x3 <= 15\n",
       "\n",
       "#4_constraint: x1 + x2 + x3 <= 20\n",
       "\n",
       "VARIABLES\n",
       "x1 Continuous\n",
       "x2 Continuous\n",
       "x3 Continuous"
      ]
     },
     "execution_count": 3,
     "metadata": {},
     "output_type": "execute_result"
    }
   ],
   "source": [
    "### Model here:\n",
    "### TODO\n",
    "model = LpProblem(name=\"problem\", sense=LpMaximize)\n",
    "\n",
    "x1 = LpVariable(name=\"x1\", lowBound=0)\n",
    "x2 = LpVariable(name=\"x2\", lowBound=0)\n",
    "x3 = LpVariable(name=\"x3\", lowBound=0)\n",
    "\n",
    "model += (x1 + x2 <= 10, \"#1 constraint\")\n",
    "model += (2 * x2 + x3 <= 12, \"#2 constraint\")\n",
    "model += (3 * x1 + 2 * x3 <= 15, \"#3 constraint\")\n",
    "model += (x1 + x2 + x3 <= 20, \"#4 constraint\")\n",
    "\n",
    "obj_func = 4 * x1 + 2 * x2 + 3 * x3\n",
    "model += obj_func\n",
    "\n",
    "model"
   ]
  },
  {
   "cell_type": "code",
   "execution_count": 4,
   "metadata": {},
   "outputs": [
    {
     "name": "stdout",
     "output_type": "stream",
     "text": [
      "status: 1, Optimal\n",
      "\n",
      "objective: 31.428571379999998\n",
      "\n",
      "#1_constraint: 0.0\n",
      "#2_constraint: 5.999999985739635e-08\n",
      "#3_constraint: -7.999999906971311e-08\n",
      "#4_constraint: -9.14285714\n",
      "\n",
      "x1: 4.4285714\n",
      "x2: 5.5714286\n",
      "x3: 0.85714286\n"
     ]
    }
   ],
   "source": [
    "### Solve here\n",
    "### TODO\n",
    "status = model.solve()\n",
    "print(f\"status: {model.status}, {LpStatus[model.status]}\\n\")\n",
    "\n",
    "print(f\"objective: {model.objective.value()}\\n\")\n",
    "\n",
    "for name, constraint in model.constraints.items():  print(f\"{name}: {constraint.value()}\")\n",
    "\n",
    "print()    \n",
    "    \n",
    "for var in model.variables():\n",
    "    print(f\"{var}:\", var.value())"
   ]
  },
  {
   "cell_type": "markdown",
   "metadata": {},
   "source": [
    "1.3) In this exercise, you are asked to identify ALL basic (feasible and not) solutions to the above problem. We will do this naively. Specifically, you are asked to use the fundamental insight to build a final simplex tableau for each possible base. Therefore, you need first to initialize the data: c, b, A matrixes, and it is suggested to initialize the auxiliary matrix M defined as M = A + (concatenate) I (identity matrix). Note that the problem should be formulated in the augmented form. Then, you have to iterate over each possible base B, compute B-1, and other relevant parts for the simplex tableau.<br><br>\n",
    "a) Identify the optimal solution using the optimality condition; print it (Z value and values for basic variables); compare thus derived solution with the optimum found using the PuLP library (obviously, both solutions should be the same). <br>\n",
    "b) Count the number of feasible and infeasible solutions. How many (all) basic solutions to the problem can be identified? <br><br>\n",
    "It is suggested to use the NumPy library for performing matrix operations. "
   ]
  },
  {
   "cell_type": "markdown",
   "metadata": {},
   "source": [
    "Max Z = 4x1 + 2x2 + 3x3\n",
    "\n",
    "AUGMENTED FORM:\n",
    "\n",
    "(1) Z - 4x1 - 2x2 - 3x3 = 0\n",
    "\n",
    "(2) x1 + x2 + x4 = 10\n",
    "\n",
    "(3) 2x2 + x3 + x5 = 12\n",
    "\n",
    "(4) 3x1 + 2x3 + x6 = 15\n",
    "\n",
    "(5) x1 + x2 + x3 + x7 = 20\n",
    "\n",
    "s.t. x1..x7 >= 0 "
   ]
  },
  {
   "cell_type": "code",
   "execution_count": 5,
   "metadata": {},
   "outputs": [],
   "source": [
    "### Initialize the data here:\n",
    "### TODO\n",
    "c = np.array([4, 2, 3])\n",
    "b = np.array([10, 12, 15, 20]).reshape(4, 1)\n",
    "A = np.array([\n",
    "    [1, 1, 0], \n",
    "    [0, 2, 1],\n",
    "    [3, 0, 2],\n",
    "    [1, 1, 1]\n",
    "])\n",
    "M = np.array(np.concatenate((A, np.identity(A.shape[0])), axis=1))\n",
    "base = np.array([3, 4, 5, 6])"
   ]
  },
  {
   "cell_type": "markdown",
   "metadata": {},
   "source": [
    "<b> Important note: the below is just a proposition. You can solve the problem in your own way. </b>\n",
    "\n",
    "You can define an auxiliary method constructing a final simplex tableau for a given base.  Here, \"base\" is a list of columns (integers) for the base. Note that the functions in python can return multiple objects and you can use this functionality to return<br>\n",
    "- the inversed base<br>\n",
    "- coefficients in the row 0 for slack variables<br>\n",
    "- right side values (except the objective function value)<br>\n",
    "- the objective function value<br>\n",
    "- the coefficients for decision variables in row 0 <br>\n",
    "- the coefficients for decision variables in rows 1+<br>\n",
    "\n",
    "Note that if BI cannot be built (it is possible), the method may return None in order to notify the executive method about this exception. \n",
    "\n"
   ]
  },
  {
   "cell_type": "code",
   "execution_count": 6,
   "metadata": {},
   "outputs": [],
   "source": [
    "def getFinalTableau(base, c, b, A, M):\n",
    "    I = np.identity(len(base))\n",
    "    aug_func = np.concatenate((base.copy(), list(.0 for x in range(len(base)))), axis=0)\n",
    "    x_b = base.copy()\n",
    "    c_b = list(0 for x in range(len(base)))\n",
    "    B = M[:, base]\n",
    "    B_inv = np.linalg.inv(B)\n",
    "    dec = c.copy()\n",
    "\n",
    "    row_0 = np.concatenate((-c, [0] * len(base), [0]), axis=0) + c_b @ B_inv @ np.concatenate((A, I, b), axis=1)\n",
    "    row_1 = B_inv @ np.concatenate((A, I, b), axis=1)\n",
    "    \n",
    "    primal_solutions = []\n",
    "    for_dual = []\n",
    "    z = []\n",
    "    \n",
    "    while min(row_0) < 0:\n",
    "        enter_idx = np.where(dec == max(dec))[0][0]\n",
    "        dec = np.delete(dec, enter_idx)\n",
    "        MRT = np.divide(b.T, A[:, enter_idx])[0]\n",
    "        leave_idx = np.where(MRT == min(MRT))[0][0]\n",
    "        x_b[leave_idx] = enter_idx\n",
    "        c_b[leave_idx] = -row_0[enter_idx]\n",
    "        B[:, leave_idx] = A[:, enter_idx]\n",
    "        B_inv = np.linalg.inv(B)\n",
    " \n",
    "        row_0 = np.concatenate((-c, [0] * len(base), [0]), axis=0) + c_b @ B_inv @ np.concatenate((A, I, b), axis=1)\n",
    "        row_1 = B_inv @ np.concatenate((A, I, b), axis=1)\n",
    "        \n",
    "        primal_solutions.append(list(row_0)[:-1])\n",
    "        z.append(list(row_0)[-1])\n",
    "        \n",
    "    return np.around(np.concatenate(([row_0], row_1), axis=0), 2), x_b, primal_solutions, z"
   ]
  },
  {
   "cell_type": "code",
   "execution_count": 7,
   "metadata": {},
   "outputs": [
    {
     "name": "stderr",
     "output_type": "stream",
     "text": [
      "<ipython-input-6-1715238db2f6>:20: RuntimeWarning: divide by zero encountered in divide\n",
      "  MRT = np.divide(b.T, A[:, enter_idx])[0]\n"
     ]
    },
    {
     "data": {
      "text/html": [
       "<div>\n",
       "<style scoped>\n",
       "    .dataframe tbody tr th:only-of-type {\n",
       "        vertical-align: middle;\n",
       "    }\n",
       "\n",
       "    .dataframe tbody tr th {\n",
       "        vertical-align: top;\n",
       "    }\n",
       "\n",
       "    .dataframe thead th {\n",
       "        text-align: right;\n",
       "    }\n",
       "</style>\n",
       "<table border=\"1\" class=\"dataframe\">\n",
       "  <thead>\n",
       "    <tr style=\"text-align: right;\">\n",
       "      <th></th>\n",
       "      <th>Base</th>\n",
       "      <th>Z</th>\n",
       "      <th>x1</th>\n",
       "      <th>x2</th>\n",
       "      <th>x3</th>\n",
       "      <th>x4</th>\n",
       "      <th>x5</th>\n",
       "      <th>x6</th>\n",
       "      <th>x7</th>\n",
       "      <th>RS</th>\n",
       "    </tr>\n",
       "  </thead>\n",
       "  <tbody>\n",
       "    <tr>\n",
       "      <th>0</th>\n",
       "      <td>Z</td>\n",
       "      <td>1</td>\n",
       "      <td>0.0</td>\n",
       "      <td>0.0</td>\n",
       "      <td>0.67</td>\n",
       "      <td>0.0</td>\n",
       "      <td>1.0</td>\n",
       "      <td>1.33</td>\n",
       "      <td>0.0</td>\n",
       "      <td>32.0</td>\n",
       "    </tr>\n",
       "    <tr>\n",
       "      <th>1</th>\n",
       "      <td>x4</td>\n",
       "      <td>0</td>\n",
       "      <td>0.0</td>\n",
       "      <td>0.0</td>\n",
       "      <td>-1.17</td>\n",
       "      <td>1.0</td>\n",
       "      <td>-0.5</td>\n",
       "      <td>-0.33</td>\n",
       "      <td>0.0</td>\n",
       "      <td>-1.0</td>\n",
       "    </tr>\n",
       "    <tr>\n",
       "      <th>2</th>\n",
       "      <td>x2</td>\n",
       "      <td>0</td>\n",
       "      <td>0.0</td>\n",
       "      <td>1.0</td>\n",
       "      <td>0.50</td>\n",
       "      <td>0.0</td>\n",
       "      <td>0.5</td>\n",
       "      <td>0.00</td>\n",
       "      <td>0.0</td>\n",
       "      <td>6.0</td>\n",
       "    </tr>\n",
       "    <tr>\n",
       "      <th>3</th>\n",
       "      <td>x1</td>\n",
       "      <td>0</td>\n",
       "      <td>1.0</td>\n",
       "      <td>0.0</td>\n",
       "      <td>0.67</td>\n",
       "      <td>0.0</td>\n",
       "      <td>0.0</td>\n",
       "      <td>0.33</td>\n",
       "      <td>0.0</td>\n",
       "      <td>5.0</td>\n",
       "    </tr>\n",
       "    <tr>\n",
       "      <th>4</th>\n",
       "      <td>x7</td>\n",
       "      <td>0</td>\n",
       "      <td>0.0</td>\n",
       "      <td>0.0</td>\n",
       "      <td>-0.17</td>\n",
       "      <td>0.0</td>\n",
       "      <td>-0.5</td>\n",
       "      <td>-0.33</td>\n",
       "      <td>1.0</td>\n",
       "      <td>9.0</td>\n",
       "    </tr>\n",
       "  </tbody>\n",
       "</table>\n",
       "</div>"
      ],
      "text/plain": [
       "  Base  Z   x1   x2    x3   x4   x5    x6   x7    RS\n",
       "0    Z  1  0.0  0.0  0.67  0.0  1.0  1.33  0.0  32.0\n",
       "1   x4  0  0.0  0.0 -1.17  1.0 -0.5 -0.33  0.0  -1.0\n",
       "2   x2  0  0.0  1.0  0.50  0.0  0.5  0.00  0.0   6.0\n",
       "3   x1  0  1.0  0.0  0.67  0.0  0.0  0.33  0.0   5.0\n",
       "4   x7  0  0.0  0.0 -0.17  0.0 -0.5 -0.33  1.0   9.0"
      ]
     },
     "execution_count": 7,
     "metadata": {},
     "output_type": "execute_result"
    }
   ],
   "source": [
    "df, new_base, primal_solutions, z = getFinalTableau(base, c, b, A, M)\n",
    "df = pd.DataFrame(df, columns=[\"x1\", \"x2\", \"x3\", \"x4\", \"x5\", \"x6\", \"x7\", \"RS\"])\n",
    "df.insert(0, \"Z\", [1, 0, 0, 0, 0])\n",
    "df.insert(0, \"Base\", [\"Z\"] + [f\"x{i + 1}\" for i in new_base])\n",
    "df"
   ]
  },
  {
   "cell_type": "markdown",
   "metadata": {},
   "source": [
    "## 2) The Duality Theory (finish this part + part 1 + to get 5.0)"
   ]
  },
  {
   "cell_type": "markdown",
   "metadata": {},
   "source": [
    "2.1) Model the dual problem to the above solved primal one, using the PuLP library. Then, solve it and compare the derived optimum with the optimum for the primal problem. Are they equal? Answer: Yes."
   ]
  },
  {
   "cell_type": "markdown",
   "metadata": {},
   "source": [
    "Dual problem:<br>\n",
    "\n",
    "Min W = 10y1 + 12y2 + 15y3 + 20y4<br>\n",
    "\n",
    "SUBJECT TO<br>\n",
    "1_constraint: y1 + 3y3 + y4 >= 4<br>\n",
    "2_constraint: y1 + 2y2 + y4 >= 2<br>\n",
    "3_constraint: y2 + 2y3 + y4 >= 3<br>\n",
    "\n",
    "VARIABLES<br>\n",
    "y1 Continuous<br>\n",
    "y2 Continuous<br>\n",
    "y3 Continuous<br>\n",
    "y4 Continuous<br>\n",
    "\n",
    "Solution: (0 1 1.34 0 | 0 0 0.67)\n",
    "\n",
    "W' = Z ~= 32"
   ]
  },
  {
   "cell_type": "code",
   "execution_count": 8,
   "metadata": {},
   "outputs": [
    {
     "data": {
      "text/plain": [
       "dual_problem:\n",
       "MINIMIZE\n",
       "10*y1 + 12*y2 + 15*y3 + 20*y4 + 0\n",
       "SUBJECT TO\n",
       "#1_constraint: y1 + 3 y3 + y4 >= 4\n",
       "\n",
       "#2_constraint: y1 + 2 y2 + y4 >= 2\n",
       "\n",
       "#3_constraint: y2 + 2 y3 + y4 >= 3\n",
       "\n",
       "VARIABLES\n",
       "y1 Continuous\n",
       "y2 Continuous\n",
       "y3 Continuous\n",
       "y4 Continuous"
      ]
     },
     "execution_count": 8,
     "metadata": {},
     "output_type": "execute_result"
    }
   ],
   "source": [
    "### Model here:\n",
    "### TODO\n",
    "dual_model = LpProblem(name=\"dual_problem\", sense=LpMinimize)\n",
    "\n",
    "y1 = LpVariable(name=\"y1\", lowBound=0)\n",
    "y2 = LpVariable(name=\"y2\", lowBound=0)\n",
    "y3 = LpVariable(name=\"y3\", lowBound=0)\n",
    "y4 = LpVariable(name=\"y4\", lowBound=0)\n",
    "\n",
    "dual_model += (y1 + 3 * y3 + y4 >= 4, \"#1 constraint\")\n",
    "dual_model += (y1 + 2 * y2 + y4 >= 2, \"#2 constraint\")\n",
    "dual_model += (y2 + 2 * y3 + y4 >= 3, \"#3 constraint\")\n",
    "\n",
    "dual_obj_func = 10 * y1 + 12 * y2 + 15 * y3 + 20 * y4\n",
    "dual_model += dual_obj_func\n",
    "\n",
    "dual_model"
   ]
  },
  {
   "cell_type": "code",
   "execution_count": 9,
   "metadata": {},
   "outputs": [
    {
     "name": "stdout",
     "output_type": "stream",
     "text": [
      "status: 1, Optimal\n",
      "\n",
      "objective: 31.42857072\n",
      "\n",
      "#1_constraint: -1.2999999965401798e-07\n",
      "#2_constraint: -9.99999993922529e-09\n",
      "#3_constraint: -8.999999989711682e-08\n",
      "\n",
      "y1: 0.57142857\n",
      "y2: 0.71428571\n",
      "y3: 1.1428571\n",
      "y4: 0.0\n"
     ]
    }
   ],
   "source": [
    "### Solve here\n",
    "### TODO\n",
    "status_dual = dual_model.solve()\n",
    "print(f\"status: {dual_model.status}, {LpStatus[dual_model.status]}\\n\")\n",
    "\n",
    "print(f\"objective: {dual_model.objective.value()}\\n\")\n",
    "\n",
    "for name, constraint in dual_model.constraints.items():  print(f\"{name}: {constraint.value()}\")\n",
    "\n",
    "print()    \n",
    "    \n",
    "for var in dual_model.variables():\n",
    "    print(f\"{var}:\", var.value())"
   ]
  },
  {
   "cell_type": "markdown",
   "metadata": {},
   "source": [
    "Augumented form:\n",
    "\n",
    "(1) -W - 10y1 - 12y2 - 15y3 -20y4 + M y6_hat + M y8_hat + M y10_hat = 0\n",
    "\n",
    "(2) y1 + 3y3 + y4 - y5 + y6_hat = 4\n",
    "\n",
    "(3) y1 + 2y2 + y4 - y7 + y8_hat = 2\n",
    "\n",
    "(4) y2 + 2y3 + y4 - y9 + y10_hat = 3"
   ]
  },
  {
   "cell_type": "code",
   "execution_count": 10,
   "metadata": {},
   "outputs": [],
   "source": [
    "def get_dual(primal_solution, break_point):\n",
    "    dual_solutions = []\n",
    "\n",
    "    for i in primal_solution:\n",
    "        dual_solutions.append(i[break_point:] + i[:break_point])\n",
    "    \n",
    "    return dual_solutions\n",
    "\n",
    "dual_solutions = get_dual(primal_solutions, len(new_base))"
   ]
  },
  {
   "cell_type": "markdown",
   "metadata": {},
   "source": [
    "2.2) This exercise is based on the exercise 1.3 (copy & paste solution). Here, you are asked to iterate over all basic solutions (as in 1.3) and store them along with their complementary dual solutions. Solutions should be stored in the PRIMAL_DUAL_SOLUTIONS list and sorted according to the objective value Z = W. Analyze their optimality and feasibility. Finally, you have to display all basic solutions along with their complementary solutions (you can use the provided piece of code written using the pandas library). <br><br>\n",
    "\n",
    "PRIMAL_DUAL_SOLUTIONS is defined as a table consisting of n rows, where n is the number of basic solutions to the problem, and 21 columns. The columns are defined as follows:<br>\n",
    "Col. 1: The objective value Z<br>\n",
    "Col. 2-4: The values for decision variables (primal solution)<br>\n",
    "Col. 5-8: The values for slack variables (primal solution)<br>\n",
    "Col. 9: P_F = Y or N, Y/N = primal solution is feasible/infeasible<br>\n",
    "Col. 10: P_O = Y or N, Y/N = primal solution is optimal/is not optimal<br>\n",
    "Col. 11: P_STATE = -/suboptimal/superoptimal/optimal; depends on P_F and P_O (primal)<br>\n",
    "Col. 12: D_STATE = -/suboptimal/superoptimal/optimal; depends on D_F and D_O (dual)<br>\n",
    "Col. 13: D_F = Y or N, Y/N = dual solution is feasible/infeasible<br>\n",
    "Col. 14: D_O = Y or N, Y/N = dual solution is optimal/is not optimal<br>\n",
    "Col. 15-18: The values for decision variables (dual solution)<br>\n",
    "Col. 19-21: The values for surplus variables (dual solution)<br><br>\n",
    "\n",
    "Reminder: sort solutions according to Z; analyze how their states change with the increase of Z."
   ]
  },
  {
   "cell_type": "code",
   "execution_count": 11,
   "metadata": {},
   "outputs": [
    {
     "data": {
      "text/html": [
       "<style type=\"text/css\">\n",
       "#T_70198_row0_col0, #T_70198_row0_col1, #T_70198_row0_col2, #T_70198_row0_col3, #T_70198_row0_col4, #T_70198_row0_col5, #T_70198_row0_col6, #T_70198_row0_col7, #T_70198_row0_col8, #T_70198_row0_col9, #T_70198_row0_col10, #T_70198_row0_col11, #T_70198_row0_col12, #T_70198_row0_col13, #T_70198_row0_col14, #T_70198_row0_col15, #T_70198_row0_col16, #T_70198_row0_col17, #T_70198_row0_col18, #T_70198_row0_col19, #T_70198_row0_col20, #T_70198_row1_col0, #T_70198_row1_col1, #T_70198_row1_col2, #T_70198_row1_col3, #T_70198_row1_col4, #T_70198_row1_col5, #T_70198_row1_col6, #T_70198_row1_col7, #T_70198_row1_col8, #T_70198_row1_col9, #T_70198_row1_col10, #T_70198_row1_col11, #T_70198_row1_col12, #T_70198_row1_col13, #T_70198_row1_col14, #T_70198_row1_col15, #T_70198_row1_col16, #T_70198_row1_col17, #T_70198_row1_col18, #T_70198_row1_col19, #T_70198_row1_col20 {\n",
       "  width: 230px;\n",
       "  max-width: 230px;\n",
       "}\n",
       "</style>\n",
       "<table id=\"T_70198\">\n",
       "  <thead>\n",
       "    <tr>\n",
       "      <th class=\"blank level0\" >&nbsp;</th>\n",
       "      <th id=\"T_70198_level0_col0\" class=\"col_heading level0 col0\" >0</th>\n",
       "      <th id=\"T_70198_level0_col1\" class=\"col_heading level0 col1\" >x1</th>\n",
       "      <th id=\"T_70198_level0_col2\" class=\"col_heading level0 col2\" >x2</th>\n",
       "      <th id=\"T_70198_level0_col3\" class=\"col_heading level0 col3\" >x3</th>\n",
       "      <th id=\"T_70198_level0_col4\" class=\"col_heading level0 col4\" >slack1</th>\n",
       "      <th id=\"T_70198_level0_col5\" class=\"col_heading level0 col5\" >slack2</th>\n",
       "      <th id=\"T_70198_level0_col6\" class=\"col_heading level0 col6\" >slack3</th>\n",
       "      <th id=\"T_70198_level0_col7\" class=\"col_heading level0 col7\" >slack4</th>\n",
       "      <th id=\"T_70198_level0_col8\" class=\"col_heading level0 col8\" >P_F</th>\n",
       "      <th id=\"T_70198_level0_col9\" class=\"col_heading level0 col9\" >P_O</th>\n",
       "      <th id=\"T_70198_level0_col10\" class=\"col_heading level0 col10\" >P_STATE</th>\n",
       "      <th id=\"T_70198_level0_col11\" class=\"col_heading level0 col11\" >D_STATE</th>\n",
       "      <th id=\"T_70198_level0_col12\" class=\"col_heading level0 col12\" >D_F</th>\n",
       "      <th id=\"T_70198_level0_col13\" class=\"col_heading level0 col13\" >D_O</th>\n",
       "      <th id=\"T_70198_level0_col14\" class=\"col_heading level0 col14\" >y1</th>\n",
       "      <th id=\"T_70198_level0_col15\" class=\"col_heading level0 col15\" >y2</th>\n",
       "      <th id=\"T_70198_level0_col16\" class=\"col_heading level0 col16\" >y3</th>\n",
       "      <th id=\"T_70198_level0_col17\" class=\"col_heading level0 col17\" >y4</th>\n",
       "      <th id=\"T_70198_level0_col18\" class=\"col_heading level0 col18\" >sur1</th>\n",
       "      <th id=\"T_70198_level0_col19\" class=\"col_heading level0 col19\" >sur2</th>\n",
       "      <th id=\"T_70198_level0_col20\" class=\"col_heading level0 col20\" >sur3</th>\n",
       "    </tr>\n",
       "  </thead>\n",
       "  <tbody>\n",
       "    <tr>\n",
       "      <th id=\"T_70198_level0_row0\" class=\"row_heading level0 row0\" >0</th>\n",
       "      <td id=\"T_70198_row0_col0\" class=\"data row0 col0\" >20.000000</td>\n",
       "      <td id=\"T_70198_row0_col1\" class=\"data row0 col1\" >0.000000</td>\n",
       "      <td id=\"T_70198_row0_col2\" class=\"data row0 col2\" >-2.000000</td>\n",
       "      <td id=\"T_70198_row0_col3\" class=\"data row0 col3\" >-0.333333</td>\n",
       "      <td id=\"T_70198_row0_col4\" class=\"data row0 col4\" >0.000000</td>\n",
       "      <td id=\"T_70198_row0_col5\" class=\"data row0 col5\" >0.000000</td>\n",
       "      <td id=\"T_70198_row0_col6\" class=\"data row0 col6\" >1.333333</td>\n",
       "      <td id=\"T_70198_row0_col7\" class=\"data row0 col7\" >0.000000</td>\n",
       "      <td id=\"T_70198_row0_col8\" class=\"data row0 col8\" >False</td>\n",
       "      <td id=\"T_70198_row0_col9\" class=\"data row0 col9\" >False</td>\n",
       "      <td id=\"T_70198_row0_col10\" class=\"data row0 col10\" >-</td>\n",
       "      <td id=\"T_70198_row0_col11\" class=\"data row0 col11\" >-</td>\n",
       "      <td id=\"T_70198_row0_col12\" class=\"data row0 col12\" >False</td>\n",
       "      <td id=\"T_70198_row0_col13\" class=\"data row0 col13\" >False</td>\n",
       "      <td id=\"T_70198_row0_col14\" class=\"data row0 col14\" >0.000000</td>\n",
       "      <td id=\"T_70198_row0_col15\" class=\"data row0 col15\" >1.333333</td>\n",
       "      <td id=\"T_70198_row0_col16\" class=\"data row0 col16\" >0.000000</td>\n",
       "      <td id=\"T_70198_row0_col17\" class=\"data row0 col17\" >0.000000</td>\n",
       "      <td id=\"T_70198_row0_col18\" class=\"data row0 col18\" >-2.000000</td>\n",
       "      <td id=\"T_70198_row0_col19\" class=\"data row0 col19\" >-0.333333</td>\n",
       "      <td id=\"T_70198_row0_col20\" class=\"data row0 col20\" >0.000000</td>\n",
       "    </tr>\n",
       "    <tr>\n",
       "      <th id=\"T_70198_level0_row1\" class=\"row_heading level0 row1\" >1</th>\n",
       "      <td id=\"T_70198_row1_col0\" class=\"data row1 col0\" >32.000000</td>\n",
       "      <td id=\"T_70198_row1_col1\" class=\"data row1 col1\" >0.000000</td>\n",
       "      <td id=\"T_70198_row1_col2\" class=\"data row1 col2\" >0.000000</td>\n",
       "      <td id=\"T_70198_row1_col3\" class=\"data row1 col3\" >0.666667</td>\n",
       "      <td id=\"T_70198_row1_col4\" class=\"data row1 col4\" >0.000000</td>\n",
       "      <td id=\"T_70198_row1_col5\" class=\"data row1 col5\" >1.000000</td>\n",
       "      <td id=\"T_70198_row1_col6\" class=\"data row1 col6\" >1.333333</td>\n",
       "      <td id=\"T_70198_row1_col7\" class=\"data row1 col7\" >0.000000</td>\n",
       "      <td id=\"T_70198_row1_col8\" class=\"data row1 col8\" >True</td>\n",
       "      <td id=\"T_70198_row1_col9\" class=\"data row1 col9\" >True</td>\n",
       "      <td id=\"T_70198_row1_col10\" class=\"data row1 col10\" >Opt</td>\n",
       "      <td id=\"T_70198_row1_col11\" class=\"data row1 col11\" >Opt</td>\n",
       "      <td id=\"T_70198_row1_col12\" class=\"data row1 col12\" >True</td>\n",
       "      <td id=\"T_70198_row1_col13\" class=\"data row1 col13\" >True</td>\n",
       "      <td id=\"T_70198_row1_col14\" class=\"data row1 col14\" >1.000000</td>\n",
       "      <td id=\"T_70198_row1_col15\" class=\"data row1 col15\" >1.333333</td>\n",
       "      <td id=\"T_70198_row1_col16\" class=\"data row1 col16\" >0.000000</td>\n",
       "      <td id=\"T_70198_row1_col17\" class=\"data row1 col17\" >0.000000</td>\n",
       "      <td id=\"T_70198_row1_col18\" class=\"data row1 col18\" >0.000000</td>\n",
       "      <td id=\"T_70198_row1_col19\" class=\"data row1 col19\" >0.666667</td>\n",
       "      <td id=\"T_70198_row1_col20\" class=\"data row1 col20\" >0.000000</td>\n",
       "    </tr>\n",
       "  </tbody>\n",
       "</table>\n"
      ],
      "text/plain": [
       "<pandas.io.formats.style.Styler at 0x2aba8bb1820>"
      ]
     },
     "metadata": {},
     "output_type": "display_data"
    }
   ],
   "source": [
    "### DISPLAY STORED PAIRS OF SOLUTIONS\n",
    "PF = np.all(np.array(primal_solutions) >= 0, axis=1)\n",
    "PO = np.all(np.array(dual_solutions) >= 0, axis=1)\n",
    "DO, DF = PF[:], PO[:]\n",
    "conditions = (PF == True) & (PO == False), (PF == False) & (PO == False), (PF == True) & (PO == True), (PF == False) & (PO == True)\n",
    "res = [\"Sub\", \"-\", \"Opt\", \"Super\"]\n",
    "p_state = np.select(conditions, res)\n",
    "res2 = [\"Super\", \"-\", \"Opt\", \"Sub\"]\n",
    "d_state = np.select(conditions, res2)\n",
    "\n",
    "df = pd.DataFrame(z)\n",
    "\n",
    "df[[\"x1\", \"x2\", \"x3\", \"slack1\", \"slack2\", \"slack3\", \"slack4\"]] = primal_solutions\n",
    "\n",
    "df['P_F'] = PF\n",
    "df['P_O'] = PO\n",
    "df['P_STATE'] = p_state\n",
    "df['D_STATE'] = d_state\n",
    "df['D_F'] = DF\n",
    "df['D_O'] = DO\n",
    "\n",
    "df[[\"y1\", \"y2\", \"y3\", \"y4\", \"sur1\", \"sur2\", \"sur3\"]] = dual_solutions\n",
    "\n",
    "display(df.style.set_properties(**{\n",
    "       'width': '230px',\n",
    "       'max-width': '230px',\n",
    "   }))"
   ]
  }
 ],
 "metadata": {
  "kernelspec": {
   "display_name": "Python 3",
   "language": "python",
   "name": "python3"
  },
  "language_info": {
   "codemirror_mode": {
    "name": "ipython",
    "version": 3
   },
   "file_extension": ".py",
   "mimetype": "text/x-python",
   "name": "python",
   "nbconvert_exporter": "python",
   "pygments_lexer": "ipython3",
   "version": "3.8.5"
  }
 },
 "nbformat": 4,
 "nbformat_minor": 4
}
