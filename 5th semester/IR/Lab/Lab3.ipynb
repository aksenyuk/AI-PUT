{
 "cells": [
  {
   "cell_type": "code",
   "execution_count": null,
   "id": "405b03d0",
   "metadata": {},
   "outputs": [],
   "source": [
    "import nltk\n",
    "\n",
    "from nltk.stem import PorterStemmer\n",
    "from nltk.stem import LancasterStemmer\n",
    "from nltk.stem import WordNetLemmatizer\n",
    "from nltk.corpus import stopwords\n",
    "\n",
    "\n",
    "from nltk.tokenize import word_tokenize, wordpunct_tokenize\n",
    "\n",
    "nltk.download('punkt')\n",
    "nltk.download('wordnet')\n",
    "nltk.download('stopwords')"
   ]
  },
  {
   "cell_type": "markdown",
   "id": "6a59cd04",
   "metadata": {},
   "source": [
    "When working with a text you have to take into account families of words e.g. dog, dogs, doggy. The most popular techniques helping to deal with this issue are lemmatization and stemming. Both are special cases of normalization. They identify a canonical representative for a set of related word forms.\n",
    "\n",
    "The goal of both stemming and lemmatization is to reduce inflectional forms and sometimes derivationally related forms of a word to a common base form.\n",
    "However, the two words differ in their flavor. Stemming usually refers to a crude heuristic process that chops off the ends of words in the hope of achieving this goal correctly most of the time, and often includes the removal of derivational affixes. Lemmatization usually refers to doing things properly with the use of a vocabulary and morphological analysis of words, normally aiming to remove inflectional endings only and to return the base or dictionary form of a word, which is known as the lemma.\n"
   ]
  },
  {
   "cell_type": "code",
   "execution_count": null,
   "id": "534ab0ac",
   "metadata": {},
   "outputs": [],
   "source": [
    "porter = PorterStemmer()\n",
    "lancaster = LancasterStemmer()\n",
    "wordnet = WordNetLemmatizer()"
   ]
  },
  {
   "cell_type": "code",
   "execution_count": null,
   "id": "e454272c",
   "metadata": {},
   "outputs": [],
   "source": [
    "print(\"{:15}{:15}{:15}{:15}\".format(\"Word\",\"Porter\",\"Lancaster\",\"WordNet\"))\n",
    "for word in [\"was\", \"cats\", \"played\", \"mechanical\", \"friend\", \"friendship\"]:\n",
    "    print(\"{:15}{:15}{:15}{}\".format(word, porter.stem(word), lancaster.stem(word), wordnet.lemmatize(word, pos=\"v\")))"
   ]
  },
  {
   "cell_type": "code",
   "execution_count": null,
   "id": "eb35f6cb",
   "metadata": {},
   "outputs": [],
   "source": [
    "text = \"\"\"Poznań University of Technology, PUT (Polish name: Politechnika Poznańska) is a university in Poznań, \n",
    "Poland. Poznań University of Technology is known as one of the best technical universities in Poland. URAP \n",
    "ranked PUT as in top 6% of world universities and Webometrics ranked it at no. 842 in the world by Google \n",
    "citations for the year 2015. In 1995 it became the first Polish university to become a member of the Conference \n",
    "of European Schools for Advanced Engineering Education and Research (CESAER), an organization comprising the best \n",
    "technical universities in Europe. The university is also a member of the Socrates-Erasmus programme for exchange \n",
    "students from all over Europe, promoting advanced engineering and a European dimension. The university is home to \n",
    "many organizations and student circles, and the radio station Afera 98.6 MHz. The university has over \n",
    "21,000 students and over 1100 academic staffs.\"\"\".replace('\\n',' ')"
   ]
  },
  {
   "cell_type": "code",
   "execution_count": null,
   "id": "ff1acf29",
   "metadata": {},
   "outputs": [],
   "source": [
    "porter.stem(text)"
   ]
  },
  {
   "cell_type": "markdown",
   "id": "e77ef660",
   "metadata": {},
   "source": [
    "As a first step, we have to transform a string into a list of words. It's not as trivial as you might think. Thankfully there are libraries with such functions already implemented."
   ]
  },
  {
   "cell_type": "code",
   "execution_count": null,
   "id": "54ca975e",
   "metadata": {},
   "outputs": [],
   "source": [
    "word_tokenize(text), len(word_tokenize(text))"
   ]
  },
  {
   "cell_type": "code",
   "execution_count": null,
   "id": "fe63e856",
   "metadata": {},
   "outputs": [],
   "source": [
    "wordpunct_tokenize(text), len(wordpunct_tokenize(text))"
   ]
  },
  {
   "cell_type": "code",
   "execution_count": null,
   "id": "26914657",
   "metadata": {},
   "outputs": [],
   "source": [
    "for x in word_tokenize(text):\n",
    "    print(\"{:20} - {:20}\".format(x, porter.stem(x)))"
   ]
  },
  {
   "cell_type": "code",
   "execution_count": null,
   "id": "8d5f3773",
   "metadata": {},
   "outputs": [],
   "source": [
    "print(stopwords.words('english'))"
   ]
  },
  {
   "cell_type": "markdown",
   "id": "d1942f22",
   "metadata": {},
   "source": [
    "## Task\n",
    "Write function which takes string as input and returns list of stems for reasonable words. Filter out stop words and non-words."
   ]
  },
  {
   "cell_type": "code",
   "execution_count": null,
   "id": "836dfa9f",
   "metadata": {},
   "outputs": [],
   "source": [
    "def custom_stemmer(string):\n",
    "    return"
   ]
  },
  {
   "cell_type": "code",
   "execution_count": null,
   "id": "d2459a26",
   "metadata": {},
   "outputs": [],
   "source": []
  },
  {
   "cell_type": "markdown",
   "id": "2d778f98",
   "metadata": {},
   "source": [
    "## Task\n",
    "Convert a date of yyyy-mm-dd format to dd-mm-yyyy format using regular expresions"
   ]
  },
  {
   "cell_type": "code",
   "execution_count": null,
   "id": "c32ada9f",
   "metadata": {},
   "outputs": [],
   "source": [
    "import re\n",
    "\n",
    "s = [\"1985-12-4\",\n",
    "    \"asd 12-132-133\",\n",
    "    \"Afs!@#-2055-12-12\",\n",
    "    \"02-03-2020\",\n",
    "    \"Is it a date 2012-11-01?\"]"
   ]
  },
  {
   "cell_type": "markdown",
   "id": "c6ed7ccc",
   "metadata": {},
   "source": [
    "The following output is expected:\n",
    "\n",
    "4.12.1985<br>\n",
    "asd 12-132-133<br>\n",
    "Afs!@#-12.12.2055<br>\n",
    "02-03-2020<br>\n",
    "Is it a date 01.11.2012?<br>\n",
    "\n",
    "Use re.sub function"
   ]
  },
  {
   "cell_type": "code",
   "execution_count": null,
   "id": "9ccd1022",
   "metadata": {},
   "outputs": [],
   "source": [
    "for x in s:\n",
    "    print(re.sub(r'(\\d+)', 'number', x))"
   ]
  },
  {
   "cell_type": "markdown",
   "id": "e5b10495",
   "metadata": {},
   "source": [
    "# OCR"
   ]
  },
  {
   "cell_type": "code",
   "execution_count": null,
   "id": "901f1ba8",
   "metadata": {},
   "outputs": [],
   "source": [
    "import pytesseract\n",
    "from PIL import Image\n",
    "import numpy as np\n",
    "import cv2\n",
    "import requests\n",
    "from io import BytesIO"
   ]
  },
  {
   "cell_type": "code",
   "execution_count": null,
   "id": "36af8d7d",
   "metadata": {},
   "outputs": [],
   "source": [
    "url = \"https://i.ibb.co/8d564bB/example-01.png\"\n",
    "\n",
    "response = requests.get(url)\n",
    "img = Image.open(BytesIO(response.content))\n",
    "\n",
    "img"
   ]
  },
  {
   "cell_type": "code",
   "execution_count": null,
   "id": "3e58af91",
   "metadata": {},
   "outputs": [],
   "source": [
    "print(pytesseract.image_to_string(img))"
   ]
  },
  {
   "cell_type": "code",
   "execution_count": null,
   "id": "9edf03dd",
   "metadata": {},
   "outputs": [],
   "source": [
    "url = \"https://i.ibb.co/n63mZfb/example-02.png\"\n",
    "response = requests.get(url)\n",
    "img = Image.open(BytesIO(response.content))\n",
    "img"
   ]
  },
  {
   "cell_type": "code",
   "execution_count": null,
   "id": "4ecdbf58",
   "metadata": {},
   "outputs": [],
   "source": [
    "print(pytesseract.image_to_string(img))"
   ]
  },
  {
   "cell_type": "markdown",
   "id": "66de485c",
   "metadata": {},
   "source": [
    "## Task\n",
    "Read perfectly text from example_02"
   ]
  },
  {
   "cell_type": "code",
   "execution_count": null,
   "id": "84ae1b01",
   "metadata": {},
   "outputs": [],
   "source": []
  },
  {
   "cell_type": "code",
   "execution_count": null,
   "id": "ee919312",
   "metadata": {},
   "outputs": [],
   "source": [
    "response = requests.get(\"https://i.ibb.co/1ffsFkx/vin.png\")\n",
    "img = Image.open(BytesIO(response.content))\n",
    "img"
   ]
  },
  {
   "cell_type": "code",
   "execution_count": null,
   "id": "5a2417c6",
   "metadata": {},
   "outputs": [],
   "source": [
    "print(pytesseract.image_to_string(img))"
   ]
  },
  {
   "cell_type": "markdown",
   "id": "064ceaf5",
   "metadata": {},
   "source": [
    "## Task 5\n",
    "Read nearly perfectly text from vin.png, 1 error allowed (missing char, additional char, wrong char), 0/O is not an error"
   ]
  },
  {
   "cell_type": "code",
   "execution_count": null,
   "id": "fb0f7083",
   "metadata": {},
   "outputs": [],
   "source": []
  },
  {
   "cell_type": "code",
   "execution_count": null,
   "id": "f8194542",
   "metadata": {},
   "outputs": [],
   "source": []
  }
 ],
 "metadata": {
  "kernelspec": {
   "display_name": "Python 3 (ipykernel)",
   "language": "python",
   "name": "python3"
  },
  "language_info": {
   "codemirror_mode": {
    "name": "ipython",
    "version": 3
   },
   "file_extension": ".py",
   "mimetype": "text/x-python",
   "name": "python",
   "nbconvert_exporter": "python",
   "pygments_lexer": "ipython3",
   "version": "3.8.12"
  }
 },
 "nbformat": 4,
 "nbformat_minor": 5
}
