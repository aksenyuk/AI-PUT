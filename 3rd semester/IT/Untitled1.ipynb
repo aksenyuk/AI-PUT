{
 "cells": [
  {
   "cell_type": "code",
   "execution_count": 1,
   "metadata": {},
   "outputs": [],
   "source": [
    "import string\n",
    "import random"
   ]
  },
  {
   "cell_type": "code",
   "execution_count": 8,
   "metadata": {},
   "outputs": [
    {
     "name": "stdout",
     "output_type": "stream",
     "text": [
      "gx q zzxv v oq v y uyzy vy mz pv w zwzs wuv jyy xy k  p ez wy x lz z tz q  v v urmy mx y us oy d v vz\n"
     ]
    }
   ],
   "source": [
    "f = open('C:/Users/1625203/Desktop/IT/Lab/lab1_2/norm_hamlet.txt', 'r') ## DELETE LATER\n",
    "prob = [0 for x in range(len(l))]\n",
    "f.seek(0)\n",
    "with open('C:/Users/1625203/Desktop/IT/Lab/lab1_2/norm_hamlet.txt', 'r') as f:\n",
    "    for i in f:\n",
    "        if i == '':\n",
    "            break\n",
    "        for j in range(len(l)):\n",
    "            prob[j] += i.count(l[j])\n",
    "summa = sum(prob)\n",
    "for k in range(len(prob)):\n",
    "    prob[k] = prob[k] / summa\n",
    "stat = dict(sorted(dict(zip(l, prob)).items(), key=lambda item: item[1]))\n",
    "\n",
    "def cp(let, f):\n",
    "    prob_let = [0 for x in range(len(l))]\n",
    "    am = 0\n",
    "    with open('C:/Users/1625203/Desktop/IT/Lab/lab1_2/norm_hamlet.txt', 'r') as f:\n",
    "        for i in f:\n",
    "            am += len(i)\n",
    "            if i == '':\n",
    "                break\n",
    "        for j in range(len(l)):\n",
    "            let += l[j]\n",
    "            prob_let[j] += i.count(let)\n",
    "            let = let[:-1:]\n",
    "    for i in range(len(prob_let)):\n",
    "        prob_let[i] = (prob_let[i]/(am - 1)) / stat[let]\n",
    "    prob_let = dict(sorted(dict(zip(l, prob_let)).items(), key=lambda item: item[1]))\n",
    "    return prob_let\n",
    "\n",
    "\n",
    "l = list(string.ascii_lowercase + ' ')\n",
    "text3 = random.choice(l)\n",
    "for i in range(100):\n",
    "    text3 += random.choices(l, cp(text3[-1], f).values(), k=1)[0]\n",
    "print(text3)"
   ]
  },
  {
   "cell_type": "code",
   "execution_count": null,
   "metadata": {},
   "outputs": [],
   "source": []
  }
 ],
 "metadata": {
  "kernelspec": {
   "display_name": "Python 3",
   "language": "python",
   "name": "python3"
  },
  "language_info": {
   "codemirror_mode": {
    "name": "ipython",
    "version": 3
   },
   "file_extension": ".py",
   "mimetype": "text/x-python",
   "name": "python",
   "nbconvert_exporter": "python",
   "pygments_lexer": "ipython3",
   "version": "3.8.5"
  }
 },
 "nbformat": 4,
 "nbformat_minor": 4
}
