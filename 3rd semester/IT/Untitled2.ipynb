{
 "cells": [
  {
   "cell_type": "markdown",
   "metadata": {},
   "source": [
    "# Information Theory Lab 4\n",
    "## Sofya Aksenyuk, 150284"
   ]
  },
  {
   "cell_type": "code",
   "execution_count": 107,
   "metadata": {},
   "outputs": [],
   "source": [
    "import string\n",
    "import random\n",
    "import matplotlib.pyplot as plt\n",
    "import numpy as np\n",
    "from itertools import combinations"
   ]
  },
  {
   "cell_type": "code",
   "execution_count": 108,
   "metadata": {},
   "outputs": [],
   "source": [
    "main_files_path = 'C:/Users/1625203/Desktop/IT/Lab/lab3/norm_wiki_{}.txt'\n",
    "files = ['en', 'eo', 'et', 'so', 'ht', 'nv']\n",
    "paths = []\n",
    "for file in files:\n",
    "    paths.append(main_files_path.format(file))\n",
    "main_samples_path = 'C:/Users/1625203/Desktop/IT/Lab/lab3/sample{}.txt'\n",
    "for i in range(6):\n",
    "    paths.append(main_samples_path.format(i))\n",
    "alphabet = list(string.ascii_lowercase + ' ' + '0123456789')"
   ]
  },
  {
   "cell_type": "code",
   "execution_count": 110,
   "metadata": {},
   "outputs": [],
   "source": [
    "def counter(path, rank):\n",
    "    counts = {}\n",
    "    if rank == 0:\n",
    "        l = alphabet\n",
    "    else:\n",
    "        l = [''.join(i) for i in combinations(alphabet, rank + 1)]\n",
    "    with open(path, 'r') as f:\n",
    "        for i in f:\n",
    "            if i == '':\n",
    "                break\n",
    "            for j in range(len(l)):\n",
    "                if l[j] not in counts:\n",
    "                    counts[l[j]] = i.count(l[j])\n",
    "                if l[j] in counts:\n",
    "                    counts[l[j]] += i.count(l[j])\n",
    "    non_zero = {x:counts[x] for x in counts if counts[x] != 0}\n",
    "    return non_zero\n",
    "\n",
    "def entropy(file):\n",
    "    ranks = 3\n",
    "    counts = [dict() for i in range(ranks + 1)]\n",
    "    total = []\n",
    "    for i in range(ranks + 1):\n",
    "        counts[i] = counter(file, i)\n",
    "        total.append(sum(counts[i].values()))\n",
    "\n",
    "    entropy = [dict() for x in range(ranks + 1)]\n",
    "    for i in counts[0]:\n",
    "        if i not in entropy[0]:\n",
    "            entropy[0][i] = counts[0][i] / total[0] * np.log2(total[0] / counts[0][i])\n",
    "        if i in entropy[0]:\n",
    "            entropy[0][i] += counts[0][i] / total[0] * np.log2(total[0] / counts[0][i])  \n",
    "\n",
    "    for i in range(1, ranks + 1):\n",
    "        for j in counts[i]:\n",
    "            before = j[:-1]\n",
    "            if j not in entropy[i]:\n",
    "                entropy[i][j] = counts[i][j] / total[i] * np.log2(counts[i - 1][before] / counts[i][j])\n",
    "            if j in entropy[i]:\n",
    "                entropy[i][j] += counts[i][j] / total[i] * np.log2(counts[i - 1][before] / counts[i][j])\n",
    "    out = []\n",
    "    for i in range(len(entropy)):\n",
    "        out.append(sum(entropy[i].values()))\n",
    "    return out"
   ]
  },
  {
   "cell_type": "markdown",
   "metadata": {},
   "source": [
    "## Conditional entropy depending on chars"
   ]
  },
  {
   "cell_type": "code",
   "execution_count": null,
   "metadata": {},
   "outputs": [
    {
     "name": "stdout",
     "output_type": "stream",
     "text": [
      "Conditional entropy depending on chars:\n"
     ]
    }
   ],
   "source": [
    "xpoints = [0, 1, 2, 3]\n",
    "for file in paths:\n",
    "    ypoints = entropy(paths[norms])\n",
    "    plt.plot(np.array(xpoints), np.array(ypoints), label=\"norm_wiki_{}\".format(files[norms]))\n",
    "    plt.legend()\n",
    "plt.show()"
   ]
  },
  {
   "cell_type": "code",
   "execution_count": null,
   "metadata": {},
   "outputs": [],
   "source": [
    "i = 0\n",
    "for samps in range(6, len(paths)):\n",
    "    ypointsSamps = entropy(paths[samps])\n",
    "    i += 1\n",
    "    plt.plot(np.array(xpoints), np.array(ypointsSamps), label=\"sample{}\".format(i))\n",
    "    plt.legend()\n",
    "plt.show()"
   ]
  },
  {
   "cell_type": "code",
   "execution_count": null,
   "metadata": {},
   "outputs": [],
   "source": [
    "file = open(path).read().lower()\n",
    "file = file.split()"
   ]
  },
  {
   "cell_type": "markdown",
   "metadata": {},
   "source": [
    "**Answer: According to the graphs above, it can be noticed that files named `sample3`, `sample4` are not written in natural languages.**"
   ]
  }
 ],
 "metadata": {
  "kernelspec": {
   "display_name": "Python 3",
   "language": "python",
   "name": "python3"
  },
  "language_info": {
   "codemirror_mode": {
    "name": "ipython",
    "version": 3
   },
   "file_extension": ".py",
   "mimetype": "text/x-python",
   "name": "python",
   "nbconvert_exporter": "python",
   "pygments_lexer": "ipython3",
   "version": "3.8.5"
  }
 },
 "nbformat": 4,
 "nbformat_minor": 4
}
