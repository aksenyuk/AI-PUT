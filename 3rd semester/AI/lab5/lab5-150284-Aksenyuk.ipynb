{
 "cells": [
  {
   "cell_type": "markdown",
   "metadata": {},
   "source": [
    "# Propositional logic\n",
    "\n",
    "Within this assignment your task is to implement two different reasoning algorithms and then employ them in a noble quest of helping a brave warrior to avoid foul Wumpus (or protecting the last living Wumpus by steering away from it a blodlust warrior - your pick). "
   ]
  },
  {
   "cell_type": "markdown",
   "metadata": {},
   "source": [
    "## Horn clauses\n",
    "\n",
    "We'll concentrate on a very limited subset of propositional logic, namely a *conjunction* of *Horn clauses*. A Horn clause is an *implication* such that its *premise* (*left-hand side*) is a *conjunction* of *atoms* (i.e., *propositonal symbols* or *propositional variables*) and its *conclusion* (*right-hand side*) is a single atom.\n",
    "\n",
    "The following is a Horn clause:\n",
    "$$ l \\land m \\to p $$\n",
    "It is true if its premise is false (i.e., both $l$ and $m$ are false) or both premise and conclusion are true (i.e., all three atoms $l$, $m$ and $p$ are true).\n",
    "\n",
    "An implication with a single atom in the premise is also a Horn clause (e.g., $p\\to q$). Without any issues we may also assume that an implication without *any* atoms in the premise is also a Horn clause. In this, we assume that a disjunction of an empty set is always true and thus an implication with an empty premise is, in fact, an atom specified in its conclusion.\n",
    "\n",
    "We begin by defining a *knowledge base* (KB), which will store a conjunction of Horn clauses. In the following class `KB`:\n",
    "\n",
    "* Atoms are represented as whatever objects we want as long as they properly support hashing and equality checking. For example, we can use strings.\n",
    "* A clause is a pair such that its first element is a list of atomis in the premise, while the second element is a single object representing the conclusion\n",
    "* `clauses` is a list of clauses.\n",
    "* `symbols` is a set of symbols (atoms) present in all the clauses in the knowledge base.\n",
    "* `add` is a convenience method to add a new implication: its arguments correspond to the elements of a clause (as described above).\n",
    "* `copy` makes a copy of the KB"
   ]
  },
  {
   "cell_type": "code",
   "execution_count": 1,
   "metadata": {},
   "outputs": [],
   "source": [
    "class KB:\n",
    "    def __init__(self):\n",
    "        self.clauses = []\n",
    "        self.symbols = set()\n",
    "    \n",
    "    def add(self, premise, conclusion):\n",
    "        self.clauses.append((premise, conclusion))        \n",
    "        self.symbols |= set(premise)\n",
    "        self.symbols.add(conclusion)\n",
    "        \n",
    "    def copy(self):\n",
    "        result = KB()\n",
    "        result.clauses.extend(self.clauses)\n",
    "        result.symbols |= self.symbols\n",
    "        return result"
   ]
  },
  {
   "cell_type": "markdown",
   "metadata": {},
   "source": [
    "We now construct a KB consisting of the following Horn clauses:\n",
    "\n",
    "* $p\\to q$\n",
    "* $l \\land m \\to p$\n",
    "* $b \\land l \\to m$\n",
    "* $a \\land p \\to l$\n",
    "* $a \\land b \\to l$\n",
    "* $x \\to w$\n",
    "* $a$\n",
    "* $b$"
   ]
  },
  {
   "cell_type": "code",
   "execution_count": 2,
   "metadata": {},
   "outputs": [
    {
     "data": {
      "text/plain": [
       "[(['p'], 'q'),\n",
       " (['l', 'm'], 'p'),\n",
       " (['b', 'l'], 'm'),\n",
       " (['a', 'p'], 'l'),\n",
       " (['a', 'b'], 'l'),\n",
       " (['x'], 'w'),\n",
       " ([], 'a'),\n",
       " ([], 'b')]"
      ]
     },
     "execution_count": 2,
     "metadata": {},
     "output_type": "execute_result"
    }
   ],
   "source": [
    "kb = KB()\n",
    "kb.add([\"p\"], \"q\")\n",
    "kb.add([\"l\", \"m\"], \"p\")\n",
    "kb.add([\"b\", \"l\"], \"m\")\n",
    "kb.add([\"a\", \"p\"], \"l\")\n",
    "kb.add([\"a\", \"b\"], \"l\")\n",
    "kb.add([\"x\"], \"w\")\n",
    "kb.add([], \"a\")\n",
    "kb.add([], \"b\")\n",
    "\n",
    "kb.clauses"
   ]
  },
  {
   "cell_type": "markdown",
   "metadata": {},
   "source": [
    "Lets see how copying works:"
   ]
  },
  {
   "cell_type": "code",
   "execution_count": 3,
   "metadata": {},
   "outputs": [
    {
     "name": "stdout",
     "output_type": "stream",
     "text": [
      "u->w in kb: False\n",
      "u->w in kb2: True\n"
     ]
    }
   ],
   "source": [
    "kb2 = kb.copy()\n",
    "kb2.add([\"u\"], \"w\")\n",
    "\n",
    "print(\"u->w in kb:\", ([\"u\"], \"w\") in kb.clauses)\n",
    "print(\"u->w in kb2:\", ([\"u\"], \"w\") in kb2.clauses)"
   ]
  },
  {
   "cell_type": "markdown",
   "metadata": {},
   "source": [
    "## Reasoning\n",
    "\n",
    "The goal of a *reasoner* is to *infer* whether a given *entailment* can be *derived* (*follows*) from a given knowledge base, i.e., whether the entailment is true every time the knowledge base is true. The following class `Reasoner` defines a bare-bone interface for a reasoner: it is given a knowledge base and there is a single method `query` which should return `True` if `symbol` follows from `kb`, and `False` otherwise."
   ]
  },
  {
   "cell_type": "code",
   "execution_count": 4,
   "metadata": {},
   "outputs": [],
   "source": [
    "class Reasoner:\n",
    "    def __init__(self, kb: KB):\n",
    "        self.kb = kb\n",
    "        \n",
    "    def query(self, symbol) -> bool:\n",
    "        ..."
   ]
  },
  {
   "cell_type": "markdown",
   "metadata": {},
   "source": [
    "In the following, a `DummyReasoner` is defined. It returns `True` only if the given `symbol` is explicitly asserted in the knowledge base as a Horn rule with an empty premise."
   ]
  },
  {
   "cell_type": "code",
   "execution_count": 5,
   "metadata": {},
   "outputs": [
    {
     "name": "stdout",
     "output_type": "stream",
     "text": [
      "a follows from KB True\n",
      "q follows from KB False\n",
      "w follows from KB False\n"
     ]
    }
   ],
   "source": [
    "class DummyReasoner(Reasoner):\n",
    "    def __init__(self, kb: KB):\n",
    "        super().__init__(kb)\n",
    "        \n",
    "    def query(self, symbol):\n",
    "        for premise, conclusion in self.kb.clauses:\n",
    "            if conclusion == symbol and len(premise) == 0:\n",
    "                return True\n",
    "        return False\n",
    "    \n",
    "reasoner = DummyReasoner(kb)\n",
    "print(\"a follows from KB\", reasoner.query(\"a\"))\n",
    "print(\"q follows from KB\", reasoner.query(\"q\"))\n",
    "print(\"w follows from KB\", reasoner.query(\"w\"))"
   ]
  },
  {
   "cell_type": "markdown",
   "metadata": {},
   "source": [
    "The `DummyReasoner` is *sound*: if it returns `True`, it means that the symbol follows. It is, however, not *complete*: if it returns `False`, it means that either the symbol doesn't follow or that it is not explicitly asserted in the knowledge base. Compare it with the `SmartReasoner` below."
   ]
  },
  {
   "cell_type": "code",
   "execution_count": 6,
   "metadata": {},
   "outputs": [
    {
     "name": "stdout",
     "output_type": "stream",
     "text": [
      "a follows from KB True\n",
      "q follows from KB True\n",
      "w follows from KB True\n"
     ]
    }
   ],
   "source": [
    "class SmartReasoner(Reasoner):\n",
    "    def __init__(self, kb: KB):\n",
    "        super().__init__(kb)\n",
    "        \n",
    "    def query(self, symbol):\n",
    "        return symbol in self.kb.symbols\n",
    "    \n",
    "reasoner = SmartReasoner(kb)\n",
    "print(\"a follows from KB\", reasoner.query(\"a\"))\n",
    "print(\"q follows from KB\", reasoner.query(\"q\"))\n",
    "print(\"w follows from KB\", reasoner.query(\"w\"))"
   ]
  },
  {
   "cell_type": "markdown",
   "metadata": {},
   "source": [
    "The `SmartReasoner` avoids the pitfail of *incompleteness*: if a symbol is present anywhere in the knowledge base it claims that it follow from the knowledge base. It is complete: every time it returns `False` it means that the given symbol doesn't follow from the knowledge base. It is also *unsound*: sometimes `True` means that the symbol follows, and sometimes it is a mistake on the resoner's part."
   ]
  },
  {
   "cell_type": "markdown",
   "metadata": {},
   "source": [
    "## Task 1: Implement forward chaining reasoner"
   ]
  },
  {
   "cell_type": "markdown",
   "metadata": {},
   "source": [
    "Recall from the lecture the procedure of forward chaining. We'll use it slightly differently here from how it is presented in the text book: we first materialize all inferences and implement `query` as simple membership checking. In the following code complete the `_infer` procedure implementing the forward chaining algorithm. It should return an iterable containing all symbol that follow from the given knowledge base `self.kb`. In the pseudocode of `PL-FC-ENTAILS?` in the textbook there's a query variable `q` - just omit all expressions referreing to it."
   ]
  },
  {
   "cell_type": "code",
   "execution_count": 7,
   "metadata": {},
   "outputs": [],
   "source": [
    "class ForwardChainingReasoner(Reasoner):\n",
    "    def __init__(self, kb: KB):\n",
    "        super().__init__(kb)\n",
    "        self.inferred = set(self._infer())\n",
    "        \n",
    "    def query(self, symbol):\n",
    "        return symbol in self.inferred\n",
    "\n",
    "    def _infer(self):\n",
    "        agenda = [symbol[1] for symbol in self.kb.clauses if not symbol[0]]\n",
    "        inferred = {symbol:False for symbol in self.kb.symbols}\n",
    "        count = {(tuple(c[0]), c[1]):len(c[0]) for c in self.kb.clauses}\n",
    "        while len(agenda) != 0:\n",
    "            p = agenda.pop()\n",
    "            if inferred[p] == False:\n",
    "                inferred[p] = True            \n",
    "                for c in self.kb.clauses:\n",
    "                    if p in c[0]:\n",
    "                        count[(tuple(c[0]), c[1])] -= 1\n",
    "                        if count[(tuple(c[0]), c[1])] == 0:\n",
    "                            agenda.append(c[1])\n",
    "        result = [trues for trues in inferred if inferred[trues] == True]\n",
    "        return result"
   ]
  },
  {
   "cell_type": "markdown",
   "metadata": {},
   "source": [
    "Lets test it on our toy knowledge base! The answers should be sound and complete (i.e., *a* follows, *q* follows, *w* doesn't follow)."
   ]
  },
  {
   "cell_type": "code",
   "execution_count": 8,
   "metadata": {},
   "outputs": [
    {
     "name": "stdout",
     "output_type": "stream",
     "text": [
      "a follows from KB True\n",
      "q follows from KB True\n",
      "w follows from KB False\n"
     ]
    }
   ],
   "source": [
    "reasoner = ForwardChainingReasoner(kb)\n",
    "print(\"a follows from KB\", reasoner.query(\"a\"))\n",
    "print(\"q follows from KB\", reasoner.query(\"q\"))\n",
    "print(\"w follows from KB\", reasoner.query(\"w\"))"
   ]
  },
  {
   "cell_type": "markdown",
   "metadata": {},
   "source": [
    "## Task 2: Implement backward chaining reasoner"
   ]
  },
  {
   "cell_type": "markdown",
   "metadata": {},
   "source": [
    "Complete the following `BackwardChainingReasoner` class so it implements backward chaining. Keep a cache of symbols for which an answer is already known (both `True` and `False`). Make sure that you avoid infinite loops in the reasoning process (the toy KB contains a possiblity for such a loop)."
   ]
  },
  {
   "cell_type": "code",
   "execution_count": 9,
   "metadata": {},
   "outputs": [],
   "source": [
    "class BackwardChainingReasoner(Reasoner):\n",
    "    def __init__(self, kb: KB):\n",
    "        super().__init__(kb)\n",
    "        self.cache = {symbol:False for symbol in self.kb.symbols}\n",
    "        self.visited = []\n",
    "\n",
    "    def BackChain(self, symbol, checked):\n",
    "        for el in checked:\n",
    "            for s in el:\n",
    "                self.query(s)\n",
    "            if self.check(el):\n",
    "                self.cache[symbol] = True\n",
    "                return\n",
    "    \n",
    "    def check(self, el):\n",
    "        premises = {x:self.cache[x] for x in el}\n",
    "        return all(premises.values())\n",
    "   \n",
    "    def query(self, symbol) -> bool:       \n",
    "        if symbol not in self.visited:\n",
    "            self.visited.append(symbol)\n",
    "            checked = []\n",
    "            for c in self.kb.clauses:\n",
    "                if c[1] == symbol:\n",
    "                    checked.append(c[0])\n",
    "                    if not c[0]:\n",
    "                        self.cache[symbol] = True\n",
    "                        return self.cache[symbol]\n",
    "            self.BackChain(symbol, checked)\n",
    "        return self.cache[symbol]"
   ]
  },
  {
   "cell_type": "markdown",
   "metadata": {},
   "source": [
    "Lets test it on our toy knowledge base! Again, the answers should be sound and complete (i.e., *a* follows, *q* follows, *w* doesn't follow)."
   ]
  },
  {
   "cell_type": "code",
   "execution_count": 10,
   "metadata": {},
   "outputs": [
    {
     "name": "stdout",
     "output_type": "stream",
     "text": [
      "a follows from KB True\n",
      "q follows from KB True\n",
      "w follows from KB False\n"
     ]
    }
   ],
   "source": [
    "reasoner = BackwardChainingReasoner(kb)\n",
    "print(\"a follows from KB\", reasoner.query(\"a\"))\n",
    "print(\"q follows from KB\", reasoner.query(\"q\"))\n",
    "print(\"w follows from KB\", reasoner.query(\"w\"))"
   ]
  },
  {
   "cell_type": "markdown",
   "metadata": {},
   "source": [
    "## Hunt the Wumpus/Save the Wumpus!"
   ]
  },
  {
   "cell_type": "markdown",
   "metadata": {},
   "source": [
    "The Wumpus lives in a $n\\times n$ cave and the behaviour of the cave follows these rules:\n",
    "\n",
    "* An entrance to the cave is always in the bottom-left square. \n",
    "* A square may either be *flat* or contain a *pit*. If the warrior walks into a pit, they fall down and die.\n",
    "* A square is *breezy* if, and only if, there is a pit in one of the directly adjacent squares (i.e., squares sharing one of the edges with the considered square).\n",
    "* There is *stench* in a square if, and only if, the Wumpus is in one of the  directly adjacent squares.\n",
    "* There is *glitter* in a square if, and only if, there's *gold* in this square.\n",
    "* If the warrior walks into a square with a living Wumpus, the Wumpus kills the warrior.\n",
    "* If the Wumpus dies (e.g., due to stress caused by the presence of the warrior), it emits a woeful *scream*. The scream can be heard anywhere in the cave and the dying Wumpus is its only possible source.\n",
    "* The Wumpus is sleeping and thus doesn't move from square to square.\n",
    "* There's exactly one wumpus in the cave. They're *the* Wumpus and don't live in a pit.\n",
    "\n",
    "The picture below presents a sample Wumpus cave where $n=4$.\n",
    "\n",
    "![](aima-images/fig7_2.png)"
   ]
  },
  {
   "cell_type": "markdown",
   "metadata": {},
   "source": [
    "For now, we won't concern ourselves with building a complete agent capable of navigating the cave, killing the Wumpus etc. Instead, we'll concentrate on building a knowledge base for the warrior to equip them with some reasoning capabilities and to allow them to infer new knowledge about the cave from partial observations they obtained. Lets begin with creating the KB `warrior`. In the following we will assume that the squares are identified by their Cartesian coordinates, so the entrance is always at $(0,0)$ and in the sample cave above the pits are located at $(2,0)$ (the bottom pit), $(2, 2)$ (the pit in the middle) and $(3, 3)$ (the pit in the top right corner)."
   ]
  },
  {
   "cell_type": "code",
   "execution_count": 11,
   "metadata": {},
   "outputs": [],
   "source": [
    "n = 4\n",
    "warrior = KB()"
   ]
  },
  {
   "cell_type": "markdown",
   "metadata": {},
   "source": [
    "Consider the following sentence: *A square is breezy if, and only if, there is a pit in one of the directly adjacent squares.* For the square $(0, 0)$ we can express it in the propositional logic as $breezy_{0,0} \\leftrightarrow (pit_{1,0} \\lor pit_{0,1})$.\n",
    "This, of course, is not a Horn clause and therefore cannot be added to our knowledge base. However, not all is lost! Observe that $p\\leftrightarrow q$ is equivalent to $(p\\to q) \\land (q\\to p)$ (in other words: *p if, and only if, q* is equivalent to *if p then q and if q then p*). We can thus rewrite the biconditional as two implications:\n",
    "\n",
    "1. $(pit_{1,0} \\lor pit_{0,1}) \\to breezy_{0,0}$\n",
    "2. $breezy_{0,0} \\to (pit_{1,0} \\lor pit_{0,1})$\n",
    "\n",
    "Neither is a Horn clause, but the first one is almost there, as it can be split into two implications:\n",
    "\n",
    "3. $pit_{1,0} \\to breezy_{0,0}$\n",
    "4. $pit_{0,1} \\to breezy_{0,0}$\n",
    "\n",
    "Now lets look on the other one: $breezy_{0,0} \\to (pit_{1,0} \\lor pit_{0,1})$. Here, we can apply another trick. Consider reading of this implication: *If a square is breezy, then there is a pit in one of the directly adjacent squares*. We can easily write its contrapositive: *If there isn't a pit in one of the directly adjacent squares, then a square isn't breezy.*. In the propositional logic it becomes: $\\lnot(pit_{1,0} \\lor pit_{0,1}) \\to \\lnot breezy_{0,0}$.\n",
    "Following with the De Morgan's law we arrive at: $\\lnot pit_{1,0} \\land \\lnot pit_{0,1} \\to \\lnot breezy_{0,0}$ which... still isn't a Horn clause!\n",
    "But we've got another trick up the sleeve: we will call any square that does not contain a pit a flat square, and any square that is not breezy a windless square.\n",
    "Thus the implication finaly becomes a Horn clause:\n",
    "\n",
    "5. $flat_{1,0} \\land flat_{0,1} \\to windless_{0,0}$\n",
    "\n",
    "Splendid! But there's still one more thing to handle: currently, a single square can contain a pit and be flat at the same time.\n",
    "To handle this, we introduce a special symbol *inconsistent* which can be inferred only if two variables that are known to be inverses of each other can be proven to be both true at the same time:\n",
    "\n",
    "6. $pit_{1,0} \\land flat_{1,0} \\to inconsistent$\n",
    "7. $breezy_{1,0} \\land windless_{1,0} \\to inconsistent$\n",
    "\n",
    "Anytime $inconsistent$ becomes true, we can be sure that our knowledge base went nuts and we cannot rely on it anymore."
   ]
  },
  {
   "cell_type": "markdown",
   "metadata": {},
   "source": [
    "## Task 3: Avoid the pits"
   ]
  },
  {
   "cell_type": "markdown",
   "metadata": {},
   "source": [
    "Complete the following cell of code and extend the KB `warrior` with the Horn clauses necessary for the warrior to infer about pits and flat squares. Use the following symbols:\n",
    "\n",
    "* `flatXY` is true if a square at $(X, Y)$ is flat.\n",
    "* `pitXY`  is true if a square at $(X, Y)$ contains a pit.\n",
    "* `breezyXY` is true if a square at $(X, Y)$ is breezy.\n",
    "* `windlessXY` is true if a square at $(X, Y)$ is windless.\n",
    "\n",
    "Implement consistency checking clauses, as it is possible that the Wumpus has some abilities to confuse the warrior about its surroundings. It is safe to assume that $n<10$ and there's no ambiguity, e.g., between `flat123` denoting a flat square at $(1,23)$ or a flat square at $(12,3)$. Be very carreful when computing the adjacent squares, for example there's no square $(-1, -1)$."
   ]
  },
  {
   "cell_type": "code",
   "execution_count": 12,
   "metadata": {},
   "outputs": [],
   "source": [
    "for x in range(n):\n",
    "    for y in range(n):\n",
    "        warrior.add([\"pit{}{}\".format(x, y), \"flat{}{}\".format(x, y)], \"inconsistent\")\n",
    "        warrior.add([\"breezy{}{}\".format(x, y), \"windless{}{}\".format(x, y)], \"inconsistent\")\n",
    "        for name in [(\"breezy\", \"pit\")]:\n",
    "            if x == n and y == n:\n",
    "                warrior.add([\"pit{}{}\".format(x, y)], \"breezy{}{}\".format(x, y - 1))\n",
    "                warrior.add([\"pit{}{}\".format(x, y)], \"breezy{}{}\".format(x - 1, y))\n",
    "                warrior.add([\"windless{}{}\".format(x, y)], \"flat{}{}\".format(x, y - 1))\n",
    "                warrior.add([\"windless{}{}\".format(x, y)], \"flat{}{}\".format(x - 1, y))\n",
    "                warrior.add([\"{}{}{}\".format(name[0], x, y - 1), \"{}{}{}\".format(name[0], x - 1, y)], \"{}{}{}\".format(name[1], x, y))\n",
    "            if x == 0 and y == 0:\n",
    "                warrior.add([\"pit{}{}\".format(x, y)], \"breezy{}{}\".format(x + 1, y))\n",
    "                warrior.add([\"pit{}{}\".format(x, y)], \"breezy{}{}\".format(x, y + 1))\n",
    "                warrior.add([\"windless{}{}\".format(x, y)], \"flat{}{}\".format(x + 1, y))\n",
    "                warrior.add([\"windless{}{}\".format(x, y)], \"flat{}{}\".format(x, y + 1))\n",
    "                warrior.add([\"{}{}{}\".format(name[0], x + 1, y), \"{}{}{}\".format(name[0], x, y + 1)], \"{}{}{}\".format(name[1], x, y))\n",
    "            if x == n and y == 0:\n",
    "                warrior.add([\"pit{}{}\".format(x, y)], \"breezy{}{}\".format(x - 1, y))\n",
    "                warrior.add([\"pit{}{}\".format(x, y)], \"breezy{}{}\".format(x, y + 1))\n",
    "                warrior.add([\"windless{}{}\".format(x, y)], \"flat{}{}\".format(x - 1, y))\n",
    "                warrior.add([\"windless{}{}\".format(x, y)], \"flat{}{}\".format(x, y + 1))\n",
    "                warrior.add([\"{}{}{}\".format(name[0], x - 1, y), \"{}{}{}\".format(name[0], x, y + 1)], \"{}{}{}\".format(name[1], x, y))\n",
    "            if x == 0 and y == n:\n",
    "                warrior.add([\"pit{}{}\".format(x, y)], \"breezy{}{}\".format(x, y - 1))\n",
    "                warrior.add([\"pit{}{}\".format(x, y)], \"breezy{}{}\".format(x + 1, y))\n",
    "                warrior.add([\"windless{}{}\".format(x, y)], \"flat{}{}\".format(x, y - 1))\n",
    "                warrior.add([\"windless{}{}\".format(x, y)], \"flat{}{}\".format(x + 1, y))\n",
    "                warrior.add([\"{}{}{}\".format(name[0], x, y - 1), \"{}{}{}\".format(name[0], x + 1, y)], \"{}{}{}\".format(name[1], x, y))\n",
    "            if x == n and y != n and y != 0:\n",
    "                warrior.add([\"pit{}{}\".format(x, y)], \"breezy{}{}\".format(x, y - 1))\n",
    "                warrior.add([\"pit{}{}\".format(x, y)], \"breezy{}{}\".format(x - 1, y))\n",
    "                warrior.add([\"pit{}{}\".format(x, y)], \"breezy{}{}\".format(x, y + 1))\n",
    "                warrior.add([\"windless{}{}\".format(x, y)], \"flat{}{}\".format(x, y - 1))\n",
    "                warrior.add([\"windless{}{}\".format(x, y)], \"flat{}{}\".format(x - 1, y))\n",
    "                warrior.add([\"windless{}{}\".format(x, y)], \"flat{}{}\".format(x, y + 1))\n",
    "                warrior.add([\"{}{}{}\".format(name[0], x, y - 1), \"{}{}{}\".format(name[0], x - 1, y), \"{}{}{}\".format(name[0], x, y + 1)], \"{}{}{}\".format(name[1], x, y))\n",
    "            if x == 0 and y != n and y != 0:\n",
    "                warrior.add([\"pit{}{}\".format(x, y)], \"breezy{}{}\".format(x, y - 1))\n",
    "                warrior.add([\"pit{}{}\".format(x, y)], \"breezy{}{}\".format(x + 1, y))\n",
    "                warrior.add([\"pit{}{}\".format(x, y)], \"breezy{}{}\".format(x, y + 1))\n",
    "                warrior.add([\"windless{}{}\".format(x, y)], \"flat{}{}\".format(x, y - 1))\n",
    "                warrior.add([\"windless{}{}\".format(x, y)], \"flat{}{}\".format(x + 1, y))\n",
    "                warrior.add([\"windless{}{}\".format(x, y)], \"flat{}{}\".format(x, y + 1))\n",
    "                warrior.add([\"{}{}{}\".format(name[0], x, y - 1), \"{}{}{}\".format(name[0], x + 1, y), \"{}{}{}\".format(name[0], x, y + 1)], \"{}{}{}\".format(name[1], x, y))\n",
    "            if x != n and y == n and x != 0:\n",
    "                warrior.add([\"pit{}{}\".format(x, y)], \"breezy{}{}\".format(x, y - 1))\n",
    "                warrior.add([\"pit{}{}\".format(x, y)], \"breezy{}{}\".format(x + 1, y))\n",
    "                warrior.add([\"pit{}{}\".format(x, y)], \"breezy{}{}\".format(x - 1, y))\n",
    "                warrior.add([\"windless{}{}\".format(x, y)], \"flat{}{}\".format(x, y - 1))\n",
    "                warrior.add([\"windless{}{}\".format(x, y)], \"flat{}{}\".format(x + 1, y))\n",
    "                warrior.add([\"windless{}{}\".format(x, y)], \"flat{}{}\".format(x - 1, y))\n",
    "                warrior.add([\"{}{}{}\".format(name[0], x, y - 1), \"{}{}{}\".format(name[0], x + 1, y), \"{}{}{}\".format(name[0], x - 1, y)], \"{}{}{}\".format(name[1], x, y))\n",
    "            if x != n and y == 0 and x != 0:\n",
    "                warrior.add([\"pit{}{}\".format(x, y)], \"breezy{}{}\".format(x - 1, y))\n",
    "                warrior.add([\"pit{}{}\".format(x, y)], \"breezy{}{}\".format(x, y + 1))\n",
    "                warrior.add([\"pit{}{}\".format(x, y)], \"breezy{}{}\".format(x + 1, y))\n",
    "                warrior.add([\"windless{}{}\".format(x, y)], \"flat{}{}\".format(x - 1, y))\n",
    "                warrior.add([\"windless{}{}\".format(x, y)], \"flat{}{}\".format(x, y + 1))\n",
    "                warrior.add([\"windless{}{}\".format(x, y)], \"flat{}{}\".format(x + 1, y))\n",
    "                warrior.add([\"{}{}{}\".format(name[0], x - 1, y), \"{}{}{}\".format(name[0], x, y + 1), \"{}{}{}\".format(name[0], x + 1, y)], \"{}{}{}\".format(name[1], x, y))\n",
    "            else:\n",
    "                warrior.add([\"pit{}{}\".format(x, y)], \"breezy{}{}\".format(x - 1, y))\n",
    "                warrior.add([\"pit{}{}\".format(x, y)], \"breezy{}{}\".format(x, y - 1))\n",
    "                warrior.add([\"pit{}{}\".format(x, y)], \"breezy{}{}\".format(x + 1, y))\n",
    "                warrior.add([\"pit{}{}\".format(x, y)], \"breezy{}{}\".format(x, y + 1))\n",
    "                warrior.add([\"windless{}{}\".format(x, y)], \"flat{}{}\".format(x - 1, y))\n",
    "                warrior.add([\"windless{}{}\".format(x, y)], \"flat{}{}\".format(x, y - 1))\n",
    "                warrior.add([\"windless{}{}\".format(x, y)], \"flat{}{}\".format(x + 1, y))\n",
    "                warrior.add([\"windless{}{}\".format(x, y)], \"flat{}{}\".format(x, y + 1))\n",
    "                warrior.add([\"{}{}{}\".format(name[0], x - 1, y), \"{}{}{}\".format(name[0], x, y - 1), \"{}{}{}\".format(name[0], x + 1, y), \"{}{}{}\".format(name[0], x, y + 1)], \"{}{}{}\".format(name[1], x, y))       "
   ]
  },
  {
   "cell_type": "markdown",
   "metadata": {},
   "source": [
    "We'll now make a temporary copy of the warrior's knowledge base, assert it with some knowledge about the cave and see if the inferences are correct."
   ]
  },
  {
   "cell_type": "code",
   "execution_count": 13,
   "metadata": {},
   "outputs": [],
   "source": [
    "def find_flat_squares(kb):\n",
    "    reasoner = ForwardChainingReasoner(kb)\n",
    "    assert not reasoner.query(\"inconsistent\")\n",
    "    for x in range(n):\n",
    "        for y in range(n):\n",
    "            if reasoner.query(\"flat{}{}\".format(x, y)):\n",
    "                print(\"I can prove that ({}, {}) is flat\".format(x, y))"
   ]
  },
  {
   "cell_type": "code",
   "execution_count": 14,
   "metadata": {},
   "outputs": [
    {
     "name": "stdout",
     "output_type": "stream",
     "text": [
      "I can prove that (0, 1) is flat\n",
      "I can prove that (1, 0) is flat\n"
     ]
    }
   ],
   "source": [
    "tmp = warrior.copy()\n",
    "tmp.add([], \"windless00\")\n",
    "\n",
    "find_flat_squares(tmp)"
   ]
  },
  {
   "cell_type": "code",
   "execution_count": 15,
   "metadata": {},
   "outputs": [
    {
     "name": "stdout",
     "output_type": "stream",
     "text": [
      "I can prove that (0, 1) is flat\n",
      "I can prove that (1, 0) is flat\n"
     ]
    }
   ],
   "source": [
    "tmp.add([], \"breezy10\")\n",
    "\n",
    "find_flat_squares(tmp)"
   ]
  },
  {
   "cell_type": "code",
   "execution_count": 16,
   "metadata": {},
   "outputs": [
    {
     "name": "stdout",
     "output_type": "stream",
     "text": [
      "I can prove that (0, 0) is flat\n",
      "I can prove that (0, 1) is flat\n",
      "I can prove that (0, 2) is flat\n",
      "I can prove that (1, 0) is flat\n",
      "I can prove that (1, 1) is flat\n"
     ]
    }
   ],
   "source": [
    "tmp.add([], \"windless01\")\n",
    "\n",
    "find_flat_squares(tmp)"
   ]
  },
  {
   "cell_type": "code",
   "execution_count": 17,
   "metadata": {},
   "outputs": [
    {
     "ename": "AssertionError",
     "evalue": "",
     "output_type": "error",
     "traceback": [
      "\u001b[1;31m---------------------------------------------------------------------------\u001b[0m",
      "\u001b[1;31mAssertionError\u001b[0m                            Traceback (most recent call last)",
      "\u001b[1;32m<ipython-input-17-7886d357f085>\u001b[0m in \u001b[0;36m<module>\u001b[1;34m\u001b[0m\n\u001b[0;32m      1\u001b[0m \u001b[0mtmp\u001b[0m\u001b[1;33m.\u001b[0m\u001b[0madd\u001b[0m\u001b[1;33m(\u001b[0m\u001b[1;33m[\u001b[0m\u001b[1;33m]\u001b[0m\u001b[1;33m,\u001b[0m \u001b[1;34m\"pit02\"\u001b[0m\u001b[1;33m)\u001b[0m\u001b[1;33m\u001b[0m\u001b[1;33m\u001b[0m\u001b[0m\n\u001b[0;32m      2\u001b[0m \u001b[1;33m\u001b[0m\u001b[0m\n\u001b[1;32m----> 3\u001b[1;33m \u001b[0mfind_flat_squares\u001b[0m\u001b[1;33m(\u001b[0m\u001b[0mtmp\u001b[0m\u001b[1;33m)\u001b[0m\u001b[1;33m\u001b[0m\u001b[1;33m\u001b[0m\u001b[0m\n\u001b[0m",
      "\u001b[1;32m<ipython-input-13-db9c099dcc5f>\u001b[0m in \u001b[0;36mfind_flat_squares\u001b[1;34m(kb)\u001b[0m\n\u001b[0;32m      1\u001b[0m \u001b[1;32mdef\u001b[0m \u001b[0mfind_flat_squares\u001b[0m\u001b[1;33m(\u001b[0m\u001b[0mkb\u001b[0m\u001b[1;33m)\u001b[0m\u001b[1;33m:\u001b[0m\u001b[1;33m\u001b[0m\u001b[1;33m\u001b[0m\u001b[0m\n\u001b[0;32m      2\u001b[0m     \u001b[0mreasoner\u001b[0m \u001b[1;33m=\u001b[0m \u001b[0mForwardChainingReasoner\u001b[0m\u001b[1;33m(\u001b[0m\u001b[0mkb\u001b[0m\u001b[1;33m)\u001b[0m\u001b[1;33m\u001b[0m\u001b[1;33m\u001b[0m\u001b[0m\n\u001b[1;32m----> 3\u001b[1;33m     \u001b[1;32massert\u001b[0m \u001b[1;32mnot\u001b[0m \u001b[0mreasoner\u001b[0m\u001b[1;33m.\u001b[0m\u001b[0mquery\u001b[0m\u001b[1;33m(\u001b[0m\u001b[1;34m\"inconsistent\"\u001b[0m\u001b[1;33m)\u001b[0m\u001b[1;33m\u001b[0m\u001b[1;33m\u001b[0m\u001b[0m\n\u001b[0m\u001b[0;32m      4\u001b[0m     \u001b[1;32mfor\u001b[0m \u001b[0mx\u001b[0m \u001b[1;32min\u001b[0m \u001b[0mrange\u001b[0m\u001b[1;33m(\u001b[0m\u001b[0mn\u001b[0m\u001b[1;33m)\u001b[0m\u001b[1;33m:\u001b[0m\u001b[1;33m\u001b[0m\u001b[1;33m\u001b[0m\u001b[0m\n\u001b[0;32m      5\u001b[0m         \u001b[1;32mfor\u001b[0m \u001b[0my\u001b[0m \u001b[1;32min\u001b[0m \u001b[0mrange\u001b[0m\u001b[1;33m(\u001b[0m\u001b[0mn\u001b[0m\u001b[1;33m)\u001b[0m\u001b[1;33m:\u001b[0m\u001b[1;33m\u001b[0m\u001b[1;33m\u001b[0m\u001b[0m\n",
      "\u001b[1;31mAssertionError\u001b[0m: "
     ]
    }
   ],
   "source": [
    "tmp.add([], \"pit02\")\n",
    "\n",
    "find_flat_squares(tmp)"
   ]
  },
  {
   "cell_type": "markdown",
   "metadata": {},
   "source": [
    "So it seems that the Wumpus actually have some strange abilities and they tried to convince the warrior that there's a pit at $(0, 2)$. If your KB is correct the cell above should've failed with an assertion error, as the KB became inconsistent."
   ]
  },
  {
   "cell_type": "markdown",
   "metadata": {},
   "source": [
    "## Task 4: Tracking the Wumpus"
   ]
  },
  {
   "cell_type": "markdown",
   "metadata": {},
   "source": [
    "Great, the warrior can now infer which fields are flat, but this doesn't guarantee safety of/from the Wumpus. In the following cell extend the kb `warrior` with knowledge about tracking the Wumpus using the stench. Use the following symbols:\n",
    "\n",
    "* `stenchXY` is true if there's stench in the square $(X, Y)$\n",
    "* `freshXY` is true if the air in the square $(X, Y)$ is fresh (i.e., thre's no stench)\n",
    "* `wumpusfreeXY` is true if the Wumpus is not in the square $(X, Y)$\n",
    "* `wumpusXY` is true if the Wumpus is in the square $(X, Y)$\n",
    "\n",
    "In the previous task the goal was to find squares that are flat (i.e., to avoid pits). Now, the goal is different: it is to actually find the Wumpus. Observe the following: *For any given square with a stench, if you can prove that the Wumpus is not present in all but one directly adjacent squares, the Wumpus must be present in the last remaining directly adjacent square.*"
   ]
  },
  {
   "cell_type": "code",
   "execution_count": 18,
   "metadata": {},
   "outputs": [],
   "source": [
    "for x in range(n):\n",
    "    for y in range(n):\n",
    "        warrior.add([\"wumpus{}{}\".format(x, y), \"pit{}{}\".format(x, y)], \"inconsistent\")\n",
    "        warrior.add([\"wumpus{}{}\".format(x, y), \"wumpusfree{}{}\".format(x, y)], \"inconsistent\")\n",
    "        warrior.add([\"fresh{}{}\".format(x, y), \"stench{}{}\".format(x, y)], \"inconsistent\")\n",
    "        warrior.add([\"stench{}{}\".format(x, y)], \"flat{}{}\".format(x, y))\n",
    "        warrior.add([\"fresh{}{}\".format(x, y)], \"flat{}{}\".format(x, y))\n",
    "        for name in [(\"stench\", \"wumpus\")]:\n",
    "            for name2 in [(\"fresh\", \"wumpusfree\")]:\n",
    "                if x == n and y == n:\n",
    "                    warrior.add([\"wumpus{}{}\".format(x, y)], \"stench{}{}\".format(x, y - 1))\n",
    "                    warrior.add([\"wumpus{}{}\".format(x, y)], \"stench{}{}\".format(x - 1, y))\n",
    "                    warrior.add([\"fresh{}{}\".format(x, y)], \"wumpusfree{}{}\".format(x, y - 1))\n",
    "                    warrior.add([\"fresh{}{}\".format(x, y)], \"wumpusfree{}{}\".format(x - 1, y))\n",
    "                    warrior.add([\"{}{}{}\".format(name2[0], x, y - 1), \"{}{}{}\".format(name2[0], x - 1, y)], \"{}{}{}\".format(name2[1], x, y))                    \n",
    "                    warrior.add([\"{}{}{}\".format(name[0], x, y - 1), \"{}{}{}\".format(name[0], x - 1, y)], \"{}{}{}\".format(name[1], x, y))\n",
    "                if x == 0 and y == 0:\n",
    "                    warrior.add([\"wumpus{}{}\".format(x, y)], \"stench{}{}\".format(x + 1, y))\n",
    "                    warrior.add([\"wumpus{}{}\".format(x, y)], \"stench{}{}\".format(x, y + 1))\n",
    "                    warrior.add([\"fresh{}{}\".format(x, y)], \"wumpusfree{}{}\".format(x + 1, y))\n",
    "                    warrior.add([\"fresh{}{}\".format(x, y)], \"wumpusfree{}{}\".format(x, y + 1))\n",
    "                    warrior.add([\"{}{}{}\".format(name2[0], x + 1, y), \"{}{}{}\".format(name2[0], x, y + 1)], \"{}{}{}\".format(name2[1], x, y))                    \n",
    "                    warrior.add([\"{}{}{}\".format(name[0], x + 1, y), \"{}{}{}\".format(name[0], x, y + 1)], \"{}{}{}\".format(name[1], x, y))\n",
    "                if x == n and y == 0:\n",
    "                    warrior.add([\"wumpus{}{}\".format(x, y)], \"stench{}{}\".format(x - 1, y))\n",
    "                    warrior.add([\"wumpus{}{}\".format(x, y)], \"stench{}{}\".format(x, y + 1))\n",
    "                    warrior.add([\"fresh{}{}\".format(x, y)], \"wumpusfree{}{}\".format(x - 1, y))\n",
    "                    warrior.add([\"fresh{}{}\".format(x, y)], \"wumpusfree{}{}\".format(x, y + 1))\n",
    "                    warrior.add([\"{}{}{}\".format(name2[0], x - 1, y), \"{}{}{}\".format(name2[0], x, y + 1)], \"{}{}{}\".format(name2[1], x, y))    \n",
    "                    warrior.add([\"{}{}{}\".format(name[0], x - 1, y), \"{}{}{}\".format(name[0], x, y + 1)], \"{}{}{}\".format(name[1], x, y))\n",
    "                if x == 0 and y == n:\n",
    "                    warrior.add([\"wumpus{}{}\".format(x, y)], \"stench{}{}\".format(x, y - 1))\n",
    "                    warrior.add([\"wumpus{}{}\".format(x, y)], \"stench{}{}\".format(x + 1, y))\n",
    "                    warrior.add([\"fresh{}{}\".format(x, y)], \"wumpusfree{}{}\".format(x, y - 1))\n",
    "                    warrior.add([\"fresh{}{}\".format(x, y)], \"wumpusfree{}{}\".format(x + 1, y))\n",
    "                    warrior.add([\"{}{}{}\".format(name2[0], x, y - 1), \"{}{}{}\".format(name2[0], x + 1, y)], \"{}{}{}\".format(name2[1], x, y))                    \n",
    "                    warrior.add([\"{}{}{}\".format(name[0], x, y - 1), \"{}{}{}\".format(name[0], x + 1, y)], \"{}{}{}\".format(name[1], x, y))\n",
    "                if x == n and y != n and y != 0:\n",
    "                    warrior.add([\"wumpus{}{}\".format(x, y)], \"stench{}{}\".format(x, y - 1))\n",
    "                    warrior.add([\"wumpus{}{}\".format(x, y)], \"stench{}{}\".format(x - 1, y))\n",
    "                    warrior.add([\"wumpus{}{}\".format(x, y)], \"stench{}{}\".format(x, y + 1))\n",
    "                    warrior.add([\"fresh{}{}\".format(x, y)], \"wumpusfree{}{}\".format(x, y - 1))\n",
    "                    warrior.add([\"fresh{}{}\".format(x, y)], \"wumpusfree{}{}\".format(x - 1, y))\n",
    "                    warrior.add([\"fresh{}{}\".format(x, y)], \"wumpusfree{}{}\".format(x, y + 1))\n",
    "                    warrior.add([\"{}{}{}\".format(name2[0], x, y - 1), \"{}{}{}\".format(name2[0], x - 1, y), \"{}{}{}\".format(name2[0], x, y + 1)], \"{}{}{}\".format(name2[1], x, y))\n",
    "                    warrior.add([\"{}{}{}\".format(name[0], x, y - 1), \"{}{}{}\".format(name[0], x - 1, y), \"{}{}{}\".format(name[0], x, y + 1)], \"{}{}{}\".format(name[1], x, y))\n",
    "                if x == 0 and y != n and y != 0:\n",
    "                    warrior.add([\"wumpus{}{}\".format(x, y)], \"stench{}{}\".format(x, y - 1))\n",
    "                    warrior.add([\"wumpus{}{}\".format(x, y)], \"stench{}{}\".format(x + 1, y))\n",
    "                    warrior.add([\"wumpus{}{}\".format(x, y)], \"stench{}{}\".format(x, y + 1))\n",
    "                    warrior.add([\"fresh{}{}\".format(x, y)], \"wumpusfree{}{}\".format(x, y - 1))\n",
    "                    warrior.add([\"fresh{}{}\".format(x, y)], \"wumpusfree{}{}\".format(x + 1, y))\n",
    "                    warrior.add([\"fresh{}{}\".format(x, y)], \"wumpusfree{}{}\".format(x, y + 1))\n",
    "                    warrior.add([\"{}{}{}\".format(name2[0], x, y - 1), \"{}{}{}\".format(name2[0], x + 1, y), \"{}{}{}\".format(name2[0], x, y + 1)], \"{}{}{}\".format(name2[1], x, y))\n",
    "                    warrior.add([\"{}{}{}\".format(name[0], x, y - 1), \"{}{}{}\".format(name[0], x + 1, y), \"{}{}{}\".format(name[0], x, y + 1)], \"{}{}{}\".format(name[1], x, y))\n",
    "                if x != n and y == n and x != 0:\n",
    "                    warrior.add([\"wumpus{}{}\".format(x, y)], \"stench{}{}\".format(x, y - 1))\n",
    "                    warrior.add([\"wumpus{}{}\".format(x, y)], \"stench{}{}\".format(x + 1, y))\n",
    "                    warrior.add([\"wumpus{}{}\".format(x, y)], \"stench{}{}\".format(x - 1, y))\n",
    "                    warrior.add([\"fresh{}{}\".format(x, y)], \"wumpusfree{}{}\".format(x, y - 1))\n",
    "                    warrior.add([\"fresh{}{}\".format(x, y)], \"wumpusfree{}{}\".format(x + 1, y))\n",
    "                    warrior.add([\"fresh{}{}\".format(x, y)], \"wumpusfree{}{}\".format(x - 1, y))\n",
    "                    warrior.add([\"{}{}{}\".format(name2[0], x, y - 1), \"{}{}{}\".format(name2[0], x + 1, y), \"{}{}{}\".format(name2[0], x - 1, y)], \"{}{}{}\".format(name2[1], x, y))\n",
    "                    warrior.add([\"{}{}{}\".format(name[0], x, y - 1), \"{}{}{}\".format(name[0], x + 1, y), \"{}{}{}\".format(name[0], x - 1, y)], \"{}{}{}\".format(name[1], x, y))\n",
    "                if x != n and y == 0 and x != 0:\n",
    "                    warrior.add([\"wumpus{}{}\".format(x, y)], \"stench{}{}\".format(x - 1, y))\n",
    "                    warrior.add([\"wumpus{}{}\".format(x, y)], \"stench{}{}\".format(x, y + 1))\n",
    "                    warrior.add([\"wumpus{}{}\".format(x, y)], \"stench{}{}\".format(x + 1, y))\n",
    "                    warrior.add([\"fresh{}{}\".format(x, y)], \"wumpusfree{}{}\".format(x - 1, y))\n",
    "                    warrior.add([\"fresh{}{}\".format(x, y)], \"wumpusfree{}{}\".format(x, y + 1))\n",
    "                    warrior.add([\"fresh{}{}\".format(x, y)], \"wumpusfree{}{}\".format(x + 1, y)) \n",
    "                    warrior.add([\"{}{}{}\".format(name2[0], x - 1, y), \"{}{}{}\".format(name2[0], x, y + 1), \"{}{}{}\".format(name2[0], x + 1, y)], \"{}{}{}\".format(name2[1], x, y))\n",
    "                    warrior.add([\"{}{}{}\".format(name[0], x - 1, y), \"{}{}{}\".format(name[0], x, y + 1), \"{}{}{}\".format(name[0], x + 1, y)], \"{}{}{}\".format(name[1], x, y))\n",
    "                else:\n",
    "                    warrior.add([\"wumpus{}{}\".format(x, y)], \"stench{}{}\".format(x - 1, y))\n",
    "                    warrior.add([\"wumpus{}{}\".format(x, y)], \"stench{}{}\".format(x, y - 1))\n",
    "                    warrior.add([\"wumpus{}{}\".format(x, y)], \"stench{}{}\".format(x + 1, y))\n",
    "                    warrior.add([\"wumpus{}{}\".format(x, y)], \"stench{}{}\".format(x, y + 1))\n",
    "                    warrior.add([\"fresh{}{}\".format(x, y)], \"wumpusfree{}{}\".format(x - 1, y))\n",
    "                    warrior.add([\"fresh{}{}\".format(x, y)], \"wumpusfree{}{}\".format(x, y - 1))\n",
    "                    warrior.add([\"fresh{}{}\".format(x, y)], \"wumpusfree{}{}\".format(x + 1, y))\n",
    "                    warrior.add([\"fresh{}{}\".format(x, y)], \"wumpusfree{}{}\".format(x, y + 1))\n",
    "                    warrior.add([\"{}{}{}\".format(name2[0], x - 1, y), \"{}{}{}\".format(name2[0], x, y - 1), \"{}{}{}\".format(name2[0], x + 1, y), \"{}{}{}\".format(name2[0], x, y + 1)], \"{}{}{}\".format(name2[1], x, y))       \n",
    "                    warrior.add([\"{}{}{}\".format(name[0], x - 1, y), \"{}{}{}\".format(name[0], x, y - 1), \"{}{}{}\".format(name[0], x + 1, y), \"{}{}{}\".format(name[0], x, y + 1)], \"{}{}{}\".format(name[1], x, y))  \n",
    "        warrior.add([\"stench{}{}\".format(0, y), \"wumpusfree{}{}\".format(0, y - 1), \"wumpusfree{}{}\".format(0, y + 1)], \"wumpus{}{}\".format(1, y))\n",
    "        warrior.add([\"stench{}{}\".format(0, y), \"wumpusfree{}{}\".format(0, y - 1), \"wumpusfree{}{}\".format(1, y)], \"wumpus{}{}\".format(0, y + 1))\n",
    "        warrior.add([\"stench{}{}\".format(0, y), \"wumpusfree{}{}\".format(1, y), \"wumpusfree{}{}\".format(0, y + 1)], \"wumpus{}{}\".format(0, y - 1))\n",
    "        warrior.add([\"stench{}{}\".format(n, y), \"wumpusfree{}{}\".format(n, y - 1), \"wumpusfree{}{}\".format(n , y + 1)], \"wumpus{}{}\".format(n - 1, y))\n",
    "        warrior.add([\"stench{}{}\".format(n, y), \"wumpusfree{}{}\".format(n, y - 1), \"wumpusfree{}{}\".format(n - 1, y)], \"wumpus{}{}\".format(n, y + 1))\n",
    "        warrior.add([\"stench{}{}\".format(n, y), \"wumpusfree{}{}\".format(n - 1, y), \"wumpusfree{}{}\".format(n, y + 1)], \"wumpus{}{}\".format(n, y - 1))\n",
    "        warrior.add([\"stench{}{}\".format(x, 0), \"wumpusfree{}{}\".format(x - 1, 0), \"wumpusfree{}{}\".format(x + 1, 0)], \"wumpus{}{}\".format(x, 1))\n",
    "        warrior.add([\"stench{}{}\".format(x, 0), \"wumpusfree{}{}\".format(x - 1, 0), \"wumpusfree{}{}\".format(x, 1)], \"wumpus{}{}\".format(x + 1, 0))\n",
    "        warrior.add([\"stench{}{}\".format(x, 0), \"wumpusfree{}{}\".format(x, 1), \"wumpusfree{}{}\".format(x + 1, 0)], \"wumpus{}{}\".format(x - 1, 0))\n",
    "        warrior.add([\"stench{}{}\".format(x, n), \"wumpusfree{}{}\".format(x - 1, n), \"wumpusfree{}{}\".format(x + 1, n)], \"wumpus{}{}\".format(x, n - 1))\n",
    "        warrior.add([\"stench{}{}\".format(x, n), \"wumpusfree{}{}\".format(x - 1, n), \"wumpusfree{}{}\".format(x, n - 1)], \"wumpus{}{}\".format(x + 1, n))\n",
    "        warrior.add([\"stench{}{}\".format(x, n), \"wumpusfree{}{}\".format(x, n - 1), \"wumpusfree{}{}\".format(x + 1, n)], \"wumpus{}{}\".format(x - 1, n))    \n",
    "        warrior.add([\"stench{}{}\".format(x, y), \"wumpusfree{}{}\".format(x + 1, y), \"wumpusfree{}{}\".format(x - 1, y), \"wumpusfree{}{}\".format(x, y + 1)], \"wumpus{}{}\".format(x, y - 1))\n",
    "        warrior.add([\"stench{}{}\".format(x, y), \"wumpusfree{}{}\".format(x + 1, y), \"wumpusfree{}{}\".format(x - 1, y), \"wumpusfree{}{}\".format(x, y - 1)], \"wumpus{}{}\".format(x, y + 1))\n",
    "        warrior.add([\"stench{}{}\".format(x, y), \"wumpusfree{}{}\".format(x, y + 1), \"wumpusfree{}{}\".format(x, y - 1), \"wumpusfree{}{}\".format(x + 1, y)], \"wumpus{}{}\".format(x - 1, y))\n",
    "        warrior.add([\"stench{}{}\".format(x, y), \"wumpusfree{}{}\".format(x, y + 1), \"wumpusfree{}{}\".format(x, y - 1), \"wumpusfree{}{}\".format(x - 1, y)], \"wumpus{}{}\".format(x + 1, y))"
   ]
  },
  {
   "cell_type": "markdown",
   "metadata": {},
   "source": [
    "Again, let's make a copy of the KB and see if the warrior can perform track the Wumpus."
   ]
  },
  {
   "cell_type": "code",
   "execution_count": 19,
   "metadata": {},
   "outputs": [],
   "source": [
    "def track_the_wumpus(kb):\n",
    "    reasoner = BackwardChainingReasoner(kb)\n",
    "    assert not reasoner.query(\"inconsistent\")\n",
    "    for x in range(n):\n",
    "        for y in range(n):\n",
    "            if reasoner.query(\"wumpus{}{}\".format(x, y)):\n",
    "                print(\"I can prove that the wumpus lives at ({}, {})\".format(x, y))        "
   ]
  },
  {
   "cell_type": "code",
   "execution_count": 20,
   "metadata": {},
   "outputs": [
    {
     "name": "stdout",
     "output_type": "stream",
     "text": [
      "I can prove that the wumpus lives at (0, 2)\n"
     ]
    }
   ],
   "source": [
    "tmp = warrior.copy()\n",
    "tmp.add([], \"fresh10\")\n",
    "tmp.add([], \"stench01\")\n",
    "track_the_wumpus(tmp)"
   ]
  },
  {
   "cell_type": "markdown",
   "metadata": {},
   "source": [
    "If your KB is correct, these two pieces of information: there is stench at $(0, 1)$ and there is fresh air at $(1, 0)$ should be sufficient to infer where the Wumpus lives. Lets consider another inference."
   ]
  },
  {
   "cell_type": "code",
   "execution_count": 21,
   "metadata": {},
   "outputs": [
    {
     "name": "stdout",
     "output_type": "stream",
     "text": [
      "I can prove that the wumpus lives at (0, 2)\n"
     ]
    }
   ],
   "source": [
    "tmp = warrior.copy()\n",
    "tmp.add([], \"stench12\")\n",
    "tmp.add([], \"fresh23\")\n",
    "tmp.add([], \"fresh10\")\n",
    "track_the_wumpus(tmp)"
   ]
  },
  {
   "cell_type": "markdown",
   "metadata": {},
   "source": [
    "Alas, the Wumpus does take a bath from time to time! If your KB has necessary clauses for inconsistency, the following cell should fail."
   ]
  },
  {
   "cell_type": "code",
   "execution_count": 22,
   "metadata": {},
   "outputs": [
    {
     "ename": "AssertionError",
     "evalue": "",
     "output_type": "error",
     "traceback": [
      "\u001b[1;31m---------------------------------------------------------------------------\u001b[0m",
      "\u001b[1;31mAssertionError\u001b[0m                            Traceback (most recent call last)",
      "\u001b[1;32m<ipython-input-22-421f453a0c62>\u001b[0m in \u001b[0;36m<module>\u001b[1;34m\u001b[0m\n\u001b[0;32m      3\u001b[0m \u001b[0mtmp\u001b[0m\u001b[1;33m.\u001b[0m\u001b[0madd\u001b[0m\u001b[1;33m(\u001b[0m\u001b[1;33m[\u001b[0m\u001b[1;33m]\u001b[0m\u001b[1;33m,\u001b[0m \u001b[1;34m\"stench01\"\u001b[0m\u001b[1;33m)\u001b[0m\u001b[1;33m\u001b[0m\u001b[1;33m\u001b[0m\u001b[0m\n\u001b[0;32m      4\u001b[0m \u001b[0mtmp\u001b[0m\u001b[1;33m.\u001b[0m\u001b[0madd\u001b[0m\u001b[1;33m(\u001b[0m\u001b[1;33m[\u001b[0m\u001b[1;33m]\u001b[0m\u001b[1;33m,\u001b[0m \u001b[1;34m\"fresh03\"\u001b[0m\u001b[1;33m)\u001b[0m\u001b[1;33m\u001b[0m\u001b[1;33m\u001b[0m\u001b[0m\n\u001b[1;32m----> 5\u001b[1;33m \u001b[0mtrack_the_wumpus\u001b[0m\u001b[1;33m(\u001b[0m\u001b[0mtmp\u001b[0m\u001b[1;33m)\u001b[0m\u001b[1;33m\u001b[0m\u001b[1;33m\u001b[0m\u001b[0m\n\u001b[0m",
      "\u001b[1;32m<ipython-input-19-47230a4ce0c8>\u001b[0m in \u001b[0;36mtrack_the_wumpus\u001b[1;34m(kb)\u001b[0m\n\u001b[0;32m      1\u001b[0m \u001b[1;32mdef\u001b[0m \u001b[0mtrack_the_wumpus\u001b[0m\u001b[1;33m(\u001b[0m\u001b[0mkb\u001b[0m\u001b[1;33m)\u001b[0m\u001b[1;33m:\u001b[0m\u001b[1;33m\u001b[0m\u001b[1;33m\u001b[0m\u001b[0m\n\u001b[0;32m      2\u001b[0m     \u001b[0mreasoner\u001b[0m \u001b[1;33m=\u001b[0m \u001b[0mBackwardChainingReasoner\u001b[0m\u001b[1;33m(\u001b[0m\u001b[0mkb\u001b[0m\u001b[1;33m)\u001b[0m\u001b[1;33m\u001b[0m\u001b[1;33m\u001b[0m\u001b[0m\n\u001b[1;32m----> 3\u001b[1;33m     \u001b[1;32massert\u001b[0m \u001b[1;32mnot\u001b[0m \u001b[0mreasoner\u001b[0m\u001b[1;33m.\u001b[0m\u001b[0mquery\u001b[0m\u001b[1;33m(\u001b[0m\u001b[1;34m\"inconsistent\"\u001b[0m\u001b[1;33m)\u001b[0m\u001b[1;33m\u001b[0m\u001b[1;33m\u001b[0m\u001b[0m\n\u001b[0m\u001b[0;32m      4\u001b[0m     \u001b[1;32mfor\u001b[0m \u001b[0mx\u001b[0m \u001b[1;32min\u001b[0m \u001b[0mrange\u001b[0m\u001b[1;33m(\u001b[0m\u001b[0mn\u001b[0m\u001b[1;33m)\u001b[0m\u001b[1;33m:\u001b[0m\u001b[1;33m\u001b[0m\u001b[1;33m\u001b[0m\u001b[0m\n\u001b[0;32m      5\u001b[0m         \u001b[1;32mfor\u001b[0m \u001b[0my\u001b[0m \u001b[1;32min\u001b[0m \u001b[0mrange\u001b[0m\u001b[1;33m(\u001b[0m\u001b[0mn\u001b[0m\u001b[1;33m)\u001b[0m\u001b[1;33m:\u001b[0m\u001b[1;33m\u001b[0m\u001b[1;33m\u001b[0m\u001b[0m\n",
      "\u001b[1;31mAssertionError\u001b[0m: "
     ]
    }
   ],
   "source": [
    "tmp = warrior.copy()\n",
    "tmp.add([], \"fresh10\")\n",
    "tmp.add([], \"stench01\")\n",
    "tmp.add([], \"fresh03\")\n",
    "track_the_wumpus(tmp)"
   ]
  },
  {
   "cell_type": "markdown",
   "metadata": {},
   "source": [
    "## A final remark\n",
    "\n",
    "Both forward and backward chaining are sound, complete and efficient procedure for Horn rules. Unfortunately, there's a problem with Horn rules in propositional logic: they're a very weak tool, in some cases requiring a lot of patience, ingenuity and computing partial inferences (c.f. Task 3) beforehand."
   ]
  }
 ],
 "metadata": {
  "kernelspec": {
   "display_name": "Python 3",
   "language": "python",
   "name": "python3"
  },
  "language_info": {
   "codemirror_mode": {
    "name": "ipython",
    "version": 3
   },
   "file_extension": ".py",
   "mimetype": "text/x-python",
   "name": "python",
   "nbconvert_exporter": "python",
   "pygments_lexer": "ipython3",
   "version": "3.8.5"
  }
 },
 "nbformat": 4,
 "nbformat_minor": 4
}
