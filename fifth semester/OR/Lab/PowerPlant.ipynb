{
 "cells": [
  {
   "cell_type": "markdown",
   "metadata": {},
   "source": [
    "# Lab 7 - Dynamic Programming - Power Plant"
   ]
  },
  {
   "cell_type": "markdown",
   "metadata": {},
   "source": [
    "Information on group members:\n",
    "\n",
    "1) 150284, Sofya Aksenyuk <br>\n",
    "2) 150281, Uladzimir Ivashka"
   ]
  },
  {
   "cell_type": "code",
   "execution_count": 1,
   "metadata": {},
   "outputs": [],
   "source": [
    "%matplotlib inline\n",
    "\n",
    "from sympy.interactive import printing\n",
    "printing.init_printing(use_latex=True)\n",
    "\n",
    "import matplotlib.pyplot as plt\n",
    "import sympy as sym\n",
    "from sympy import *\n",
    "import numpy as np\n",
    "import re"
   ]
  },
  {
   "cell_type": "markdown",
   "metadata": {},
   "source": [
    "This exercise is inspired by Ex. 2 in the Exercises.pdf file. You have to set operating levels for a power plant for consecutive two-months in a way that minimizes the operating costs (using dynamic programming). Before going to the exercise, it is recommended to get acquainted with a Python library for symbolic calculations - SymPy, which can be particularly helpful for solving this task. "
   ]
  },
  {
   "cell_type": "markdown",
   "metadata": {},
   "source": [
    "# Mini tutorial on SymPy"
   ]
  },
  {
   "cell_type": "markdown",
   "metadata": {},
   "source": [
    "SymPy is a library for performing symbolic calculations instead of numerical. It allows defining symbols, functions, expressions, equations and performing various operations on them. The examples of such operations that can help solve this exercise are given below. Note that due to lines: <br><br>\n",
    "from sympy.interactive import printing <br>\n",
    "printing.init_printing(use_latex=True)  <br><br>\n",
    "located in the first cell of this notebook, the symbols can be printed using latex, improving hence readability"
   ]
  },
  {
   "cell_type": "markdown",
   "metadata": {},
   "source": [
    "<b> Defining symbols: </b>"
   ]
  },
  {
   "cell_type": "code",
   "execution_count": 2,
   "metadata": {},
   "outputs": [],
   "source": [
    "z1, z2 = symbols(\"z1 z2\")\n",
    "# or z = symbols(\"z1 z2\")"
   ]
  },
  {
   "cell_type": "markdown",
   "metadata": {},
   "source": [
    "<b> Printing a symbol using Latex: </b>"
   ]
  },
  {
   "cell_type": "code",
   "execution_count": 3,
   "metadata": {},
   "outputs": [
    {
     "data": {
      "image/png": "[encoded data removed]",
      "text/latex": [
       "$\\displaystyle z_{1}$"
      ],
      "text/plain": [
       "z₁"
      ]
     },
     "execution_count": 3,
     "metadata": {},
     "output_type": "execute_result"
    }
   ],
   "source": [
    "z1"
   ]
  },
  {
   "cell_type": "markdown",
   "metadata": {},
   "source": [
    "<b> Defining an expression: </b>"
   ]
  },
  {
   "cell_type": "code",
   "execution_count": 4,
   "metadata": {},
   "outputs": [
    {
     "data": {
      "image/png": "[encoded data removed]",
      "text/latex": [
       "$\\displaystyle 2 z_{1} + \\left(10 - z_{2}\\right)^{2}$"
      ],
      "text/plain": [
       "                2\n",
       "2⋅z₁ + (10 - z₂) "
      ]
     },
     "execution_count": 4,
     "metadata": {},
     "output_type": "execute_result"
    }
   ],
   "source": [
    "2*z1 + (10-z2)**2"
   ]
  },
  {
   "cell_type": "markdown",
   "metadata": {},
   "source": [
    "<b>Expanding the expression:</b>"
   ]
  },
  {
   "cell_type": "code",
   "execution_count": 5,
   "metadata": {},
   "outputs": [
    {
     "data": {
      "image/png": "[encoded data removed]",
      "text/latex": [
       "$\\displaystyle 2 z_{1} + z_{2}^{2} - 20 z_{2} + 100$"
      ],
      "text/plain": [
       "         2              \n",
       "2⋅z₁ + z₂  - 20⋅z₂ + 100"
      ]
     },
     "execution_count": 5,
     "metadata": {},
     "output_type": "execute_result"
    }
   ],
   "source": [
    "expand(2*z1 + (10-z2)**2)"
   ]
  },
  {
   "cell_type": "markdown",
   "metadata": {},
   "source": [
    "<b> Simplifying the expression:</b>"
   ]
  },
  {
   "cell_type": "code",
   "execution_count": 6,
   "metadata": {},
   "outputs": [
    {
     "data": {
      "image/png": "[encoded data removed]",
      "text/latex": [
       "$\\displaystyle - z_{1}^{2} - 8 z_{1} + z_{2}^{2} - 20 z_{2} + 75$"
      ],
      "text/plain": [
       "    2            2             \n",
       "- z₁  - 8⋅z₁ + z₂  - 20⋅z₂ + 75"
      ]
     },
     "execution_count": 6,
     "metadata": {},
     "output_type": "execute_result"
    }
   ],
   "source": [
    "e = simplify(expand(2*z1 + (10-z2)**2 - (5+z1)**2))\n",
    "e"
   ]
  },
  {
   "cell_type": "markdown",
   "metadata": {},
   "source": [
    "<b> Substituting a variable with a value in the expression:</b>"
   ]
  },
  {
   "cell_type": "code",
   "execution_count": 7,
   "metadata": {},
   "outputs": [
    {
     "name": "stdout",
     "output_type": "stream",
     "text": [
      "20.0000000000000\n"
     ]
    }
   ],
   "source": [
    "e = 2*z1 + (10-z1)**2\n",
    "v = e.evalf(subs={z1: 10})\n",
    "print(v)"
   ]
  },
  {
   "cell_type": "markdown",
   "metadata": {},
   "source": [
    "<b> Substituting a variable with another variable or value:</b>"
   ]
  },
  {
   "cell_type": "code",
   "execution_count": 8,
   "metadata": {},
   "outputs": [
    {
     "data": {
      "image/png": "[encoded data removed]",
      "text/latex": [
       "$\\displaystyle 2 z_{1} + \\left(10 - z_{1}\\right)^{2}$"
      ],
      "text/plain": [
       "                2\n",
       "2⋅z₁ + (10 - z₁) "
      ]
     },
     "execution_count": 8,
     "metadata": {},
     "output_type": "execute_result"
    }
   ],
   "source": [
    "e = 2*z1 + (10-z2)**2\n",
    "e.subs(z2, z1)"
   ]
  },
  {
   "cell_type": "markdown",
   "metadata": {},
   "source": [
    "<b> Finding a (partial) derivative: </b>"
   ]
  },
  {
   "cell_type": "code",
   "execution_count": 9,
   "metadata": {},
   "outputs": [
    {
     "data": {
      "image/png": "[encoded data removed]",
      "text/latex": [
       "$\\displaystyle 2 z_{2} - 20$"
      ],
      "text/plain": [
       "2⋅z₂ - 20"
      ]
     },
     "execution_count": 9,
     "metadata": {},
     "output_type": "execute_result"
    }
   ],
   "source": [
    "e = 2*z1 + (10-z2)**2\n",
    "d = diff(e, z2)\n",
    "d"
   ]
  },
  {
   "cell_type": "markdown",
   "metadata": {},
   "source": [
    "<b> Solving an equation: </b>"
   ]
  },
  {
   "cell_type": "code",
   "execution_count": 10,
   "metadata": {},
   "outputs": [
    {
     "name": "stdout",
     "output_type": "stream",
     "text": [
      "[10]\n"
     ]
    }
   ],
   "source": [
    "e = 2*z1 + (10-z2)**2\n",
    "d = diff(e, z2)\n",
    "v = solve(Eq(d, 0), z2)\n",
    "print(v)"
   ]
  },
  {
   "cell_type": "markdown",
   "metadata": {},
   "source": [
    "# Exercise"
   ]
  },
  {
   "cell_type": "markdown",
   "metadata": {},
   "source": [
    "Below given is the data. In contrast to the exercise shown in the Exercise.pdf file, note that all pairs of all 12 months are considered stages in this notebook. "
   ]
  },
  {
   "cell_type": "code",
   "execution_count": 11,
   "metadata": {},
   "outputs": [
    {
     "data": {
      "image/png": "[encoded data removed]",
      "text/plain": [
       "<Figure size 640x480 with 1 Axes>"
      ]
     },
     "metadata": {},
     "output_type": "display_data"
    }
   ],
   "source": [
    "months = [\"Jan-Feb\", \"Mar-Apr\", \"May-Jun\", \"Jul-Aug\", \"Sep-Oct\", \"Nov-Dec\"]\n",
    "\n",
    "### min requested operating level (1-10) + allowable bounds \n",
    "request = [8,5,2,4,7,10]\n",
    "bounds = [[request[i], 10] for i in range(6)]\n",
    "\n",
    "plt.plot([i for i in range(12)], request + request, label='linear')\n",
    "plt.show()"
   ]
  },
  {
   "cell_type": "code",
   "execution_count": 12,
   "metadata": {},
   "outputs": [
    {
     "data": {
      "image/png": "[encoded data removed]",
      "text/latex": [
       "$\\displaystyle \\left[ \\left[ 8, \\  10\\right], \\  \\left[ 5, \\  10\\right], \\  \\left[ 2, \\  10\\right], \\  \\left[ 4, \\  10\\right], \\  \\left[ 7, \\  10\\right], \\  \\left[ 10, \\  10\\right]\\right]$"
      ],
      "text/plain": [
       "[[8, 10], [5, 10], [2, 10], [4, 10], [7, 10], [10, 10]]"
      ]
     },
     "execution_count": 12,
     "metadata": {},
     "output_type": "execute_result"
    }
   ],
   "source": [
    "bounds"
   ]
  },
  {
   "cell_type": "markdown",
   "metadata": {},
   "source": [
    "<b> Cost: </b> Working above the required level - cost in a generic form:"
   ]
  },
  {
   "cell_type": "code",
   "execution_count": 13,
   "metadata": {},
   "outputs": [
    {
     "data": {
      "image/png": "[encoded data removed]",
      "text/latex": [
       "$\\displaystyle m_{i1} \\left(- r_{i} + x_{i}\\right)$"
      ],
      "text/plain": [
       "m_{i1}⋅(-rᵢ + xᵢ)"
      ]
     },
     "execution_count": 13,
     "metadata": {},
     "output_type": "execute_result"
    }
   ],
   "source": [
    "xi, ri, mi1 = symbols(\"x_i r_i m_{i1}\") \n",
    "cost_above = mi1*(xi-ri)\n",
    "cost_above #mi1 = multiplicator, #xi = operating level #ri = requirement (lower bound)"
   ]
  },
  {
   "cell_type": "markdown",
   "metadata": {},
   "source": [
    "You can do c = cost_above.copy() and then c.subs, replacing variables with values (m, p, r) or other variables (r): "
   ]
  },
  {
   "cell_type": "code",
   "execution_count": 14,
   "metadata": {},
   "outputs": [],
   "source": [
    "# x1 = symbols(\"x1\") \n",
    "# c = cost_above.copy()\n",
    "# c = c.subs(xi, x1)\n",
    "# c = c.subs(mi1, 1)\n",
    "# c = c.subs(ri, 100)\n",
    "# c"
   ]
  },
  {
   "cell_type": "markdown",
   "metadata": {},
   "source": [
    "Below are provided m parameter values for each month:"
   ]
  },
  {
   "cell_type": "code",
   "execution_count": 15,
   "metadata": {},
   "outputs": [],
   "source": [
    "mv1 = [2, 8, 10, 12, 10, 6]"
   ]
  },
  {
   "cell_type": "markdown",
   "metadata": {},
   "source": [
    "<b> Cost: </b> Chaging the operating level - cost in a generic form:"
   ]
  },
  {
   "cell_type": "code",
   "execution_count": 16,
   "metadata": {},
   "outputs": [
    {
     "data": {
      "image/png": "[encoded data removed]",
      "text/latex": [
       "$\\displaystyle m_{i2} \\left(- s_{i} + x_{i}\\right)^{p_{i}}$"
      ],
      "text/plain": [
       "                    pᵢ\n",
       "m_{i2}⋅(-s_{i} + xᵢ)  "
      ]
     },
     "execution_count": 16,
     "metadata": {},
     "output_type": "execute_result"
    }
   ],
   "source": [
    "si, mi2, pi = symbols(\"s_{i} m_{i2} p_i\") \n",
    "cost_change = mi2*(xi-si)**pi\n",
    "cost_change #mi2 = multiplicator, #pi = exponent #xi = operating level (i-th month) #s_{i} = state: operating level ((i-1)-th month)\n",
    "cost_change"
   ]
  },
  {
   "cell_type": "markdown",
   "metadata": {},
   "source": [
    "Below are provided m and p parameter values for each month:"
   ]
  },
  {
   "cell_type": "code",
   "execution_count": 17,
   "metadata": {},
   "outputs": [],
   "source": [
    "mv2 = [6, 4, 1, 1, 3, 5]\n",
    "pv = [2, 2, 2, 2, 2, 2]"
   ]
  },
  {
   "cell_type": "markdown",
   "metadata": {},
   "source": [
    "# Solution:"
   ]
  },
  {
   "cell_type": "markdown",
   "metadata": {},
   "source": [
    "Apart from finding optimal operating levels for each month, plot these values along with the lower bounds for each month in order to show how they change in time.<br><br>Hints:<br>\n",
    "- the optimal cost = 135.42<br>\n",
    "- there is no situation when the minima for first derivatives are outside allowable bounds (but test it anyway)<br><br>\n",
    "\n",
    "After obtaining and plotting the solution, check what would happen is you change the mv1[2] parameter to 5. "
   ]
  },
  {
   "cell_type": "code",
   "execution_count": 26,
   "metadata": {},
   "outputs": [
    {
     "name": "stdout",
     "output_type": "stream",
     "text": [
      "FUNCTION           6*x6 + 5*(-s6 + x6)**2 - 60\n",
      "DERIVATIVE        -10*s6 + 10*x6 + 6\n",
      "X_VALUE            10\n",
      "FUNC WITH X VALUE  500.0*(1 - 0.1*s6)**2\n",
      "--------------------------------------\n",
      "FUNCTION           10*x5 + 500.0*(1 - 0.1*x5)**2 + 3*(-s5 + x5)**2 - 70\n",
      "DERIVATIVE        -6*s5 + 16.0*x5 - 90.0\n",
      "X_VALUE            0.375*s5 + 5.625\n",
      "FUNC WITH X VALUE  3.75*s5 + 94.921875*(1.0 - 0.111111111111111*s5)**2 + 95.703125*(1.0 - 0.0857142857142857*s5)**2 - 13.75\n",
      "--------------------------------------\n",
      "FUNCTION           15.75*x4 + 94.921875*(1.0 - 0.111111111111111*x4)**2 + 95.703125*(1.0 - 0.0857142857142857*x4)**2 + (-s4 + x4)**2 - 61.75\n",
      "DERIVATIVE        -2*s4 + 5.75*x4 - 21.75\n",
      "X_VALUE            0.347826086956522*s4 + 3.78260869565217\n",
      "FUNC WITH X VALUE  5.47826086956522*s4 + 14.3081285444234*(1.0 - 0.172413793103448*s4)**2 + 31.8998109640832*(1.0 - 0.0666666666666667*s4)**2 + 43.7051039697543*(1.0 - 0.0441176470588235*s4)**2 - 2.17391304347827\n",
      "--------------------------------------\n",
      "Minima for first derivatives is outside allowable bounds\n",
      "\n",
      "FUNCTION           15.4782608695652*x3 + 14.3081285444234*(1.0 - 0.172413793103448*x3)**2 + 31.8998109640832*(1.0 - 0.0666666666666667*x3)**2 + 43.7051039697543*(1.0 - 0.0441176470588235*x3)**2 + (-s3 + x3)**2 - 22.1739130434783\n",
      "DERIVATIVE        -2*s3 + 3.30434782608696*x3 + 2.43478260869565\n",
      "X_VALUE            0.605263157894737*s3 - 0.736842105263158\n",
      "FUNC WITH X VALUE  9.36842105263158*s3 + 18.1745152354571*(1.0 - 0.0925925925925926*s3)**2 + 35.1108033240997*(1.0 - 0.0384615384615385*s3)**2 + 46.5927977839335*(1.0 - 0.0258620689655172*s3)**2 + 0.542936288088643*(-0.535714285714286*s3 - 1.0)**2 - 33.5789473684211\n",
      "--------------------------------------\n",
      "Minima for first derivatives is outside allowable bounds\n",
      "\n",
      "FUNCTION           17.3684210526316*x2 + 18.1745152354571*(1.0 - 0.0925925925925926*x2)**2 + 35.1108033240997*(1.0 - 0.0384615384615385*x2)**2 + 46.5927977839335*(1.0 - 0.0258620689655172*x2)**2 + 4*(-s2 + x2)**2 + 0.542936288088643*(-0.535714285714286*x2 - 1.0)**2 - 73.5789473684211\n",
      "DERIVATIVE        -8*s2 + 8.78947368421053*x2 + 9.47368421052632\n",
      "X_VALUE            0.910179640718563*s2 - 1.07784431137725\n",
      "FUNC WITH X VALUE  15.8083832335329*s2 + 21.9831833339309*(1.0 - 0.0766283524904215*s2)**2 + 38.0822187959411*(1.0 - 0.0336134453781513*s2)**2 + 49.2265767865467*(1.0 - 0.0229007633587786*s2)**2 + 0.129083151063143*(-s2 - 0.866666666666667)**2 + 4.64699343827315*(-0.0833333333333334*s2 - 1.0)**2 - 92.2994011976048\n",
      "--------------------------------------\n",
      "FUNCTION           17.8083832335329*x1 + 21.9831833339309*(1.0 - 0.0766283524904215*x1)**2 + 38.0822187959411*(1.0 - 0.0336134453781513*x1)**2 + 49.2265767865467*(1.0 - 0.0229007633587786*x1)**2 + 0.129083151063143*(-x1 - 0.866666666666667)**2 + 4.64699343827315*(-0.0833333333333334*x1 - 1.0)**2 + 6*(x1 - 10)**2 - 108.299401197605\n",
      "DERIVATIVE        12.7185628742515*x1 - 109.377245508982\n",
      "X_VALUE            8.59981167608286\n",
      "FUNC WITH X VALUE  135.424670433145\n",
      "--------------------------------------\n"
     ]
    },
    {
     "data": {
      "image/png": "[encoded data removed]",
      "text/latex": [
       "$\\displaystyle 135.424670433145$"
      ],
      "text/plain": [
       "135.424670433145"
      ]
     },
     "execution_count": 26,
     "metadata": {},
     "output_type": "execute_result"
    }
   ],
   "source": [
    "def dynamic_continious(bounds, cost_above, cost_change, mv1, mv2, pv):\n",
    "    fs = [None] * (len(bounds) + 1)\n",
    "    fs[-1] = 0\n",
    "    \n",
    "    xs = [symbols(f's{i}') for i in range(1, len(bounds) + 2)]\n",
    "    xs[0] = 10\n",
    "    \n",
    "    c, w, f_next = symbols(\"c w f_next\")\n",
    "    f = c + w + f_next\n",
    "\n",
    "    for idx in range(1, len(fs))[::-1]:\n",
    "        x = symbols(f\"x{idx}\")\n",
    "        s = symbols(f\"s{idx}\")\n",
    "        \n",
    "        cost_change_cur = cost_change.copy()\n",
    "        cost_change_cur = cost_change_cur.subs(xi, x)\n",
    "        cost_change_cur = cost_change_cur.subs(mi2, mv2[idx-1])\n",
    "        cost_change_cur = cost_change_cur.subs(si, xs[idx-1])\n",
    "        cost_change_cur = cost_change_cur.subs(pi, pv[idx-1])\n",
    "\n",
    "        cost_above_cur = cost_above.copy()\n",
    "        cost_above_cur = cost_above_cur.subs(xi, x)\n",
    "        cost_above_cur = cost_above_cur.subs(mi1, mv1[idx-1])\n",
    "        cost_above_cur = cost_above_cur.subs(ri, bounds[idx-1][0])\n",
    "\n",
    "        f_cur = f.copy()\n",
    "        f_cur = f_cur.subs(c, cost_change_cur)\n",
    "        f_cur = f_cur.subs(w, cost_above_cur)\n",
    "        f_next_sub = 0 if fs[idx] == 0 else fs[idx].subs(symbols(f\"s{idx+1}\"), x)\n",
    "        f_cur = f_cur.subs(f_next, f_next_sub)\n",
    "        \n",
    "        der = diff(f_cur, x)\n",
    "        \n",
    "        lower = bounds[idx-1][0]\n",
    "        upper = bounds[idx-1][1]  \n",
    "        interval = Interval(lower, upper)\n",
    "\n",
    "        x_value = (solve(der, x)[0], 10)[idx == len(bounds)] \n",
    "        new = f_cur.evalf(subs={x: x_value})\n",
    "        fs[idx-1] = new\n",
    "        xs[idx-1] = x_value\n",
    "        \n",
    "        if x_value != upper:\n",
    "            if upper < x_value.subs(s, upper):\n",
    "                print(\"Minima for first derivatives is outside allowable bounds\\n\")\n",
    "                x_value.subs(s, solve(simplify(expand(Eq(x_value, upper))), s))\n",
    "            if lower > x_value.subs(s, lower):\n",
    "                print(\"Minima for first derivatives is outside allowable bounds\\n\")\n",
    "                x_value.subs(s, solve(simplify(expand(Eq(x_value, lower))), s))\n",
    "            \n",
    "        print(\"FUNCTION          \", f_cur)\n",
    "        print(\"DERIVATIVE       \", der)\n",
    "        print(\"X_VALUE           \", x_value)\n",
    "        print(\"FUNC WITH X VALUE \", new)\n",
    "        print('--------------------------------------')\n",
    "        \n",
    "    return new\n",
    "\n",
    "dynamic_continious(bounds, cost_above, cost_change, mv1, mv2, pv)"
   ]
  },
  {
   "cell_type": "markdown",
   "metadata": {},
   "source": [
    "## Check with mv1[2] = 5"
   ]
  },
  {
   "cell_type": "code",
   "execution_count": 27,
   "metadata": {},
   "outputs": [
    {
     "name": "stdout",
     "output_type": "stream",
     "text": [
      "FUNCTION           6*x6 + 5*(-s6 + x6)**2 - 60\n",
      "DERIVATIVE        -10*s6 + 10*x6 + 6\n",
      "X_VALUE            10\n",
      "FUNC WITH X VALUE  500.0*(1 - 0.1*s6)**2\n",
      "--------------------------------------\n",
      "FUNCTION           10*x5 + 500.0*(1 - 0.1*x5)**2 + 3*(-s5 + x5)**2 - 70\n",
      "DERIVATIVE        -6*s5 + 16.0*x5 - 90.0\n",
      "X_VALUE            0.375*s5 + 5.625\n",
      "FUNC WITH X VALUE  3.75*s5 + 94.921875*(1.0 - 0.111111111111111*s5)**2 + 95.703125*(1.0 - 0.0857142857142857*s5)**2 - 13.75\n",
      "--------------------------------------\n",
      "FUNCTION           15.75*x4 + 94.921875*(1.0 - 0.111111111111111*x4)**2 + 95.703125*(1.0 - 0.0857142857142857*x4)**2 + (-s4 + x4)**2 - 61.75\n",
      "DERIVATIVE        -2*s4 + 5.75*x4 - 21.75\n",
      "X_VALUE            0.347826086956522*s4 + 3.78260869565217\n",
      "FUNC WITH X VALUE  5.47826086956522*s4 + 14.3081285444234*(1.0 - 0.172413793103448*s4)**2 + 31.8998109640832*(1.0 - 0.0666666666666667*s4)**2 + 43.7051039697543*(1.0 - 0.0441176470588235*s4)**2 - 2.17391304347827\n",
      "--------------------------------------\n",
      "Minima for first derivatives is outside allowable bounds\n",
      "\n",
      "FUNCTION           10.4782608695652*x3 + 14.3081285444234*(1.0 - 0.172413793103448*x3)**2 + 31.8998109640832*(1.0 - 0.0666666666666667*x3)**2 + 43.7051039697543*(1.0 - 0.0441176470588235*x3)**2 + (-s3 + x3)**2 - 12.1739130434783\n",
      "DERIVATIVE        -2*s3 + 3.30434782608696*x3 - 2.56521739130435\n",
      "X_VALUE            0.605263157894737*s3 + 0.776315789473684\n",
      "FUNC WITH X VALUE  6.34210526315789*s3 + 0.60266620498615*(1.0 - 0.508474576271186*s3)**2 + 10.7342451523546*(1.0 - 0.120481927710843*s3)**2 + 28.6833448753463*(1.0 - 0.0425531914893617*s3)**2 + 40.7626385041551*(1.0 - 0.0276497695852535*s3)**2 - 4.03947368421053\n",
      "--------------------------------------\n",
      "Minima for first derivatives is outside allowable bounds\n",
      "\n",
      "FUNCTION           14.3421052631579*x2 + 0.60266620498615*(1.0 - 0.508474576271186*x2)**2 + 10.7342451523546*(1.0 - 0.120481927710843*x2)**2 + 28.6833448753463*(1.0 - 0.0425531914893617*x2)**2 + 40.7626385041551*(1.0 - 0.0276497695852535*x2)**2 + 4*(-s2 + x2)**2 - 44.0394736842105\n",
      "DERIVATIVE        -8*s2 + 8.78947368421053*x2 + 6.44736842105263\n",
      "X_VALUE            0.910179640718563*s2 - 0.733532934131736\n",
      "FUNC WITH X VALUE  13.0538922155689*s2 + 1.13607515507906*(1.0 - 0.337078651685393*s2)**2 + 12.7154164724443*(1.0 - 0.100755667506297*s2)**2 + 30.5019452113737*(1.0 - 0.0375586854460094*s2)**2 + 42.4329036537703*(1.0 - 0.0246659815005139*s2)**2 + 2.15228226182366*(-0.122448979591837*s2 - 1.0)**2 - 54.559880239521\n",
      "--------------------------------------\n",
      "FUNCTION           15.0538922155689*x1 + 1.13607515507906*(1.0 - 0.337078651685393*x1)**2 + 12.7154164724443*(1.0 - 0.100755667506297*x1)**2 + 30.5019452113737*(1.0 - 0.0375586854460094*x1)**2 + 42.4329036537703*(1.0 - 0.0246659815005139*x1)**2 + 2.15228226182366*(-0.122448979591837*x1 - 1.0)**2 + 6*(x1 - 10)**2 - 70.559880239521\n",
      "DERIVATIVE        12.7185628742515*x1 - 112.131736526946\n",
      "X_VALUE            8.81638418079095\n",
      "FUNC WITH X VALUE  124.080508474576\n",
      "--------------------------------------\n"
     ]
    },
    {
     "data": {
      "image/png": "[encoded data removed]",
      "text/latex": [
       "$\\displaystyle 124.080508474576$"
      ],
      "text/plain": [
       "124.080508474576"
      ]
     },
     "execution_count": 27,
     "metadata": {},
     "output_type": "execute_result"
    }
   ],
   "source": [
    "dynamic_continious(bounds, cost_above, cost_change, [2, 8, 5, 12, 10, 6], mv2, pv)"
   ]
  },
  {
   "cell_type": "markdown",
   "metadata": {},
   "source": [
    "### Minima for first derivatives is outside allowable bounds appears, when replacing mv1[2] = 10 to 5."
   ]
  }
 ],
 "metadata": {
  "kernelspec": {
   "display_name": "Python 3 (ipykernel)",
   "language": "python",
   "name": "python3"
  },
  "language_info": {
   "codemirror_mode": {
    "name": "ipython",
    "version": 3
   },
   "file_extension": ".py",
   "mimetype": "text/x-python",
   "name": "python",
   "nbconvert_exporter": "python",
   "pygments_lexer": "ipython3",
   "version": "3.11.0"
  }
 },
 "nbformat": 4,
 "nbformat_minor": 4
}
