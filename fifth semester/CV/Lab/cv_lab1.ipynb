{
 "cells": [
  {
   "cell_type": "code",
   "execution_count": null,
   "metadata": {
    "id": "pgsj3tDy1r5F"
   },
   "outputs": [],
   "source": [
    "import numpy as np\n",
    "import matplotlib.pyplot as plt\n",
    "import time\n",
    "from IPython import display"
   ]
  },
  {
   "cell_type": "code",
   "execution_count": null,
   "metadata": {
    "colab": {
     "base_uri": "https://localhost:8080/"
    },
    "id": "4mwZgnUE4mYy",
    "outputId": "4f77fbcd-8387-4620-d55f-400ea2d726da"
   },
   "outputs": [
    {
     "name": "stdout",
     "output_type": "stream",
     "text": [
      "[ 0  1  2  3  4  5  6  7  8  9 10 11]\n"
     ]
    }
   ],
   "source": [
    "arr_1d = np.arange(12)\n",
    "print(arr_1d)"
   ]
  },
  {
   "cell_type": "code",
   "execution_count": null,
   "metadata": {
    "colab": {
     "base_uri": "https://localhost:8080/"
    },
    "id": "hvzvgUqZM08G",
    "outputId": "754426c0-ac48-4665-e27e-cdff460aab5c"
   },
   "outputs": [
    {
     "name": "stdout",
     "output_type": "stream",
     "text": [
      "[[ 0  1  2  3]\n",
      " [ 4  5  6  7]\n",
      " [ 8  9 10 11]]\n"
     ]
    }
   ],
   "source": [
    "arr_2d = np.arange(12).reshape(3,4)\n",
    "print(arr_2d)"
   ]
  },
  {
   "cell_type": "code",
   "execution_count": null,
   "metadata": {
    "colab": {
     "base_uri": "https://localhost:8080/"
    },
    "id": "q0pkcBEtNOi2",
    "outputId": "891089bc-315a-4c34-e676-157b04571adb"
   },
   "outputs": [
    {
     "name": "stdout",
     "output_type": "stream",
     "text": [
      "[ 0  1  2  3  4  5  6  7  8  9 10 11]\n",
      "[ 0  1  2  3  4  5  6  7  8  9 10 11]\n"
     ]
    }
   ],
   "source": [
    "print(arr_1d.flatten())\n",
    "print(arr_2d.flatten())"
   ]
  },
  {
   "cell_type": "code",
   "execution_count": null,
   "metadata": {
    "colab": {
     "base_uri": "https://localhost:8080/"
    },
    "id": "AV-8j5YWNSYZ",
    "outputId": "110f5a70-80bd-4444-daac-5f2a3616a159"
   },
   "outputs": [
    {
     "name": "stdout",
     "output_type": "stream",
     "text": [
      "(12,)\n",
      "(3, 4)\n"
     ]
    }
   ],
   "source": [
    "print(arr_1d.shape)\n",
    "print(arr_2d.shape)"
   ]
  },
  {
   "cell_type": "code",
   "execution_count": null,
   "metadata": {
    "colab": {
     "base_uri": "https://localhost:8080/"
    },
    "id": "ei_ovtuxNga1",
    "outputId": "aaf87b5a-e47f-4e7e-80e8-b2f754b8ff4f"
   },
   "outputs": [
    {
     "name": "stdout",
     "output_type": "stream",
     "text": [
      "6\n",
      "6\n"
     ]
    }
   ],
   "source": [
    "x,y = 1,2\n",
    "print(arr_2d[x,y])\n",
    "print(arr_1d[x*4+y])"
   ]
  },
  {
   "cell_type": "code",
   "execution_count": null,
   "metadata": {
    "colab": {
     "base_uri": "https://localhost:8080/"
    },
    "id": "i5ba7AoaNaH2",
    "outputId": "29ebe1c8-8464-4180-d636-d8116f5d791d"
   },
   "outputs": [
    {
     "name": "stdout",
     "output_type": "stream",
     "text": [
      "(8,)\n",
      "(32, 8)\n"
     ]
    }
   ],
   "source": [
    "print(arr_1d.strides)\n",
    "print(arr_2d.strides)"
   ]
  },
  {
   "cell_type": "code",
   "execution_count": null,
   "metadata": {
    "colab": {
     "base_uri": "https://localhost:8080/"
    },
    "id": "jUjnTaiUOKEv",
    "outputId": "fa81fbd4-b1fa-4dea-c02b-86f1f27d5518"
   },
   "outputs": [
    {
     "data": {
      "text/plain": [
       "numpy.int64"
      ]
     },
     "execution_count": 25,
     "metadata": {},
     "output_type": "execute_result"
    }
   ],
   "source": [
    "type(arr_1d[0])"
   ]
  },
  {
   "cell_type": "code",
   "execution_count": null,
   "metadata": {
    "colab": {
     "base_uri": "https://localhost:8080/"
    },
    "id": "JhflcScNOxNL",
    "outputId": "2c0bb25d-de90-4b6c-8a47-6edf028dd61d"
   },
   "outputs": [
    {
     "data": {
      "text/plain": [
       "8"
      ]
     },
     "execution_count": 34,
     "metadata": {},
     "output_type": "execute_result"
    }
   ],
   "source": [
    "arr_1d.itemsize"
   ]
  },
  {
   "cell_type": "code",
   "execution_count": null,
   "metadata": {
    "colab": {
     "base_uri": "https://localhost:8080/"
    },
    "id": "vdHM6kzaOPl9",
    "outputId": "2da28644-a640-432b-965a-2838955f2f03"
   },
   "outputs": [
    {
     "name": "stdout",
     "output_type": "stream",
     "text": [
      "(4,)\n",
      "(16, 4)\n"
     ]
    }
   ],
   "source": [
    "arr_1d_32 = arr_1d.astype(np.int32)\n",
    "arr_2d_32 = arr_2d.astype(np.int32)\n",
    "print(arr_1d_32.strides)\n",
    "print(arr_2d_32.strides)"
   ]
  },
  {
   "cell_type": "code",
   "execution_count": null,
   "metadata": {
    "colab": {
     "base_uri": "https://localhost:8080/"
    },
    "id": "u4X6M7zAOya6",
    "outputId": "2de20953-cfdc-41da-ab18-ce348bf49318"
   },
   "outputs": [
    {
     "data": {
      "text/plain": [
       "4"
      ]
     },
     "execution_count": 35,
     "metadata": {},
     "output_type": "execute_result"
    }
   ],
   "source": [
    "arr_1d_32.itemsize"
   ]
  },
  {
   "cell_type": "code",
   "execution_count": null,
   "metadata": {
    "id": "pQr1Uy0wN8-v"
   },
   "outputs": [],
   "source": [
    "from numpy.lib.stride_tricks import as_strided"
   ]
  },
  {
   "cell_type": "code",
   "execution_count": null,
   "metadata": {
    "colab": {
     "base_uri": "https://localhost:8080/"
    },
    "id": "Nb_I4XSJOCSq",
    "outputId": "936b582d-1cb7-4a70-8f59-abd60e830998"
   },
   "outputs": [
    {
     "name": "stdout",
     "output_type": "stream",
     "text": [
      "[[ 0  1  2  3]\n",
      " [ 4  5  6  7]\n",
      " [ 8  9 10 11]]\n"
     ]
    }
   ],
   "source": [
    "shapeShifted = as_strided(arr_1d, strides=(4*8,1*8), shape=(3,4)) \n",
    "print(shapeShifted)"
   ]
  },
  {
   "cell_type": "code",
   "execution_count": null,
   "metadata": {
    "colab": {
     "base_uri": "https://localhost:8080/"
    },
    "id": "RHYMyK4AO5SW",
    "outputId": "ac35e49a-99ab-43ff-90b4-c015f7b86cac"
   },
   "outputs": [
    {
     "data": {
      "text/plain": [
       "array([[ 0,  1,  2,  3,  4,  5,  6,  7,  8,  9, 10, 11],\n",
       "       [ 0,  1,  2,  3,  4,  5,  6,  7,  8,  9, 10, 11]])"
      ]
     },
     "execution_count": 36,
     "metadata": {},
     "output_type": "execute_result"
    }
   ],
   "source": [
    "duplicated = as_strided(arr_1d, strides=(0, 1*arr_1d.itemsize), shape = (2,arr_1d.shape[0]))\n",
    "duplicated"
   ]
  },
  {
   "cell_type": "code",
   "execution_count": null,
   "metadata": {
    "colab": {
     "base_uri": "https://localhost:8080/"
    },
    "id": "ptW6rRWVO-TN",
    "outputId": "2529905e-ad48-4257-ff2d-0be47a410c1c"
   },
   "outputs": [
    {
     "data": {
      "text/plain": [
       "array([[        0,       256,    131072,  50331648],\n",
       "       [        1,       512,    196608,  67108864],\n",
       "       [        2,       768,    262144,  83886080],\n",
       "       [        3,      1024,    327680, 100663296]])"
      ]
     },
     "execution_count": 44,
     "metadata": {},
     "output_type": "execute_result"
    }
   ],
   "source": [
    "as_strided(arr_1d, strides=(8, 7), shape = (4,4))"
   ]
  },
  {
   "cell_type": "code",
   "execution_count": null,
   "metadata": {
    "colab": {
     "base_uri": "https://localhost:8080/"
    },
    "id": "m_q1AqzSRKfR",
    "outputId": "1ce831ce-35cb-4da1-8be1-e15adb4e476a"
   },
   "outputs": [
    {
     "data": {
      "text/plain": [
       "array([[ 0,  2,  4,  6,  8],\n",
       "       [ 2,  4,  6,  8, 10],\n",
       "       [ 4,  6,  8, 10,  0],\n",
       "       [ 6,  8, 10,  0,  0],\n",
       "       [ 8, 10,  0,  0,  0]])"
      ]
     },
     "execution_count": 48,
     "metadata": {},
     "output_type": "execute_result"
    }
   ],
   "source": [
    "as_strided(arr_1d, strides=(16, 16), shape = (5,5))"
   ]
  },
  {
   "cell_type": "code",
   "execution_count": null,
   "metadata": {
    "colab": {
     "base_uri": "https://localhost:8080/"
    },
    "id": "G-EaK97FRdzj",
    "outputId": "ffb0eb8b-3608-4b48-93f4-80c8556ea1c4"
   },
   "outputs": [
    {
     "data": {
      "text/plain": [
       "array([[ 0,  1,  2,  3],\n",
       "       [ 4,  5,  6,  7],\n",
       "       [ 8,  9, 10, 11],\n",
       "       [12, 13, 14, 15]])"
      ]
     },
     "execution_count": 50,
     "metadata": {},
     "output_type": "execute_result"
    }
   ],
   "source": [
    "board = np.arange(16).reshape((4,4))\n",
    "board"
   ]
  },
  {
   "cell_type": "code",
   "execution_count": null,
   "metadata": {
    "colab": {
     "base_uri": "https://localhost:8080/"
    },
    "id": "RPsENe_fRjSR",
    "outputId": "7b038317-82a6-48a4-d5f0-ec04b489e380"
   },
   "outputs": [
    {
     "data": {
      "text/plain": [
       "array([[ 0,  1,  2],\n",
       "       [ 4,  5,  6],\n",
       "       [ 8,  9, 10]])"
      ]
     },
     "execution_count": 51,
     "metadata": {},
     "output_type": "execute_result"
    }
   ],
   "source": [
    "neighbors = as_strided(board, shape=(3,3), strides=board.strides)\n",
    "neighbors"
   ]
  },
  {
   "cell_type": "code",
   "execution_count": null,
   "metadata": {
    "colab": {
     "base_uri": "https://localhost:8080/"
    },
    "id": "CNbI8UNhR7BW",
    "outputId": "02c5a585-8294-4682-a77a-18ce408742fb"
   },
   "outputs": [
    {
     "data": {
      "text/plain": [
       "(32, 8)"
      ]
     },
     "execution_count": 55,
     "metadata": {},
     "output_type": "execute_result"
    }
   ],
   "source": [
    "board.strides"
   ]
  },
  {
   "cell_type": "code",
   "execution_count": null,
   "metadata": {
    "colab": {
     "base_uri": "https://localhost:8080/"
    },
    "id": "mQf4TZNQSdMT",
    "outputId": "dc550f42-0f1b-4ff3-f749-5db67c559bd9"
   },
   "outputs": [
    {
     "name": "stdout",
     "output_type": "stream",
     "text": [
      "\n",
      "\n",
      "0\n",
      "1\n",
      "2\n",
      "4\n",
      "5\n",
      "6\n",
      "8\n",
      "9\n",
      "10\n",
      "\n",
      "1\n",
      "2\n",
      "3\n",
      "5\n",
      "6\n",
      "7\n",
      "9\n",
      "10\n",
      "11\n",
      "\n",
      "\n",
      "4\n",
      "5\n",
      "6\n",
      "8\n",
      "9\n",
      "10\n",
      "12\n",
      "13\n",
      "14\n",
      "\n",
      "5\n",
      "6\n",
      "7\n",
      "9\n",
      "10\n",
      "11\n",
      "13\n",
      "14\n",
      "15\n"
     ]
    }
   ],
   "source": [
    "for x0 in range(2):\n",
    "  print()\n",
    "  for x1 in range(2):\n",
    "    print()\n",
    "    for x2 in range(3):\n",
    "      for x3 in range(3):\n",
    "        print(board[x0+x2,x1+x3])"
   ]
  },
  {
   "cell_type": "code",
   "execution_count": null,
   "metadata": {
    "colab": {
     "base_uri": "https://localhost:8080/"
    },
    "id": "VihIHeMwULO9",
    "outputId": "6f1772c7-fb51-469b-cdf4-43fd5d520c5e"
   },
   "outputs": [
    {
     "data": {
      "text/plain": [
       "array([ 0,  1,  2,  3,  4,  5,  6,  7,  8,  9, 10, 11, 12, 13, 14, 15])"
      ]
     },
     "execution_count": 77,
     "metadata": {},
     "output_type": "execute_result"
    }
   ],
   "source": [
    "board_flat = board.flatten()\n",
    "board_flat"
   ]
  },
  {
   "cell_type": "code",
   "execution_count": null,
   "metadata": {
    "colab": {
     "base_uri": "https://localhost:8080/"
    },
    "id": "pWeky_oLUR1X",
    "outputId": "04a74de8-06b5-47b4-9342-0f91fff5d600"
   },
   "outputs": [
    {
     "name": "stdout",
     "output_type": "stream",
     "text": [
      "\n",
      "\n",
      "0\n",
      "1\n",
      "2\n",
      "4\n",
      "5\n",
      "6\n",
      "8\n",
      "9\n",
      "10\n",
      "\n",
      "1\n",
      "2\n",
      "3\n",
      "5\n",
      "6\n",
      "7\n",
      "9\n",
      "10\n",
      "11\n",
      "\n",
      "\n",
      "4\n",
      "5\n",
      "6\n",
      "8\n",
      "9\n",
      "10\n",
      "12\n",
      "13\n",
      "14\n",
      "\n",
      "5\n",
      "6\n",
      "7\n",
      "9\n",
      "10\n",
      "11\n",
      "13\n",
      "14\n",
      "15\n"
     ]
    }
   ],
   "source": [
    "for x0 in range(2):\n",
    "  print()\n",
    "  for x1 in range(2):\n",
    "    print()\n",
    "    for x2 in range(3):\n",
    "      for x3 in range(3):\n",
    "        print(board_flat[x0*4+x2*4+x1+x3])"
   ]
  },
  {
   "cell_type": "code",
   "execution_count": null,
   "metadata": {
    "colab": {
     "base_uri": "https://localhost:8080/"
    },
    "id": "8DncQ_IzSGoF",
    "outputId": "68653e7b-07fe-4d9f-c552-3e87fd08791b"
   },
   "outputs": [
    {
     "data": {
      "text/plain": [
       "(32, 8, 32, 8)"
      ]
     },
     "execution_count": 57,
     "metadata": {},
     "output_type": "execute_result"
    }
   ],
   "source": [
    "board.strides+board.strides"
   ]
  },
  {
   "cell_type": "code",
   "execution_count": null,
   "metadata": {
    "colab": {
     "base_uri": "https://localhost:8080/"
    },
    "id": "sRnAVwZqRsmX",
    "outputId": "5b9f6a9d-e270-464b-a0ed-3079c3724daf"
   },
   "outputs": [
    {
     "data": {
      "text/plain": [
       "array([[[[ 0,  1,  2],\n",
       "         [ 4,  5,  6],\n",
       "         [ 8,  9, 10]],\n",
       "\n",
       "        [[ 1,  2,  3],\n",
       "         [ 5,  6,  7],\n",
       "         [ 9, 10, 11]]],\n",
       "\n",
       "\n",
       "       [[[ 4,  5,  6],\n",
       "         [ 8,  9, 10],\n",
       "         [12, 13, 14]],\n",
       "\n",
       "        [[ 5,  6,  7],\n",
       "         [ 9, 10, 11],\n",
       "         [13, 14, 15]]]])"
      ]
     },
     "execution_count": 64,
     "metadata": {},
     "output_type": "execute_result"
    }
   ],
   "source": [
    "neighbors = as_strided(board, shape=(2,2,3,3), strides=board.strides+board.strides)\n",
    "neighbors"
   ]
  },
  {
   "cell_type": "code",
   "execution_count": null,
   "metadata": {
    "id": "kJAMjpeYVIGh"
   },
   "outputs": [],
   "source": [
    "def grid_nD(arr):\n",
    "    assert all(_len>2 for _len in arr.shape)\n",
    "    \n",
    "    nDims = len(arr.shape)\n",
    "    newShape = [_len-2 for _len in arr.shape]\n",
    "    newShape.extend([3] * nDims)\n",
    "    \n",
    "    newStrides = arr.strides + arr.strides\n",
    "    return as_strided(arr, shape=newShape, strides=newStrides)"
   ]
  },
  {
   "cell_type": "code",
   "execution_count": null,
   "metadata": {
    "colab": {
     "base_uri": "https://localhost:8080/"
    },
    "id": "WIoa9pAKVRWr",
    "outputId": "29a8e6b2-6d67-4afe-9f91-f6ef0058574f"
   },
   "outputs": [
    {
     "data": {
      "text/plain": [
       "array([[[[ 0,  1,  2],\n",
       "         [ 5,  6,  7],\n",
       "         [10, 11, 12]],\n",
       "\n",
       "        [[ 1,  2,  3],\n",
       "         [ 6,  7,  8],\n",
       "         [11, 12, 13]],\n",
       "\n",
       "        [[ 2,  3,  4],\n",
       "         [ 7,  8,  9],\n",
       "         [12, 13, 14]]],\n",
       "\n",
       "\n",
       "       [[[ 5,  6,  7],\n",
       "         [10, 11, 12],\n",
       "         [15, 16, 17]],\n",
       "\n",
       "        [[ 6,  7,  8],\n",
       "         [11, 12, 13],\n",
       "         [16, 17, 18]],\n",
       "\n",
       "        [[ 7,  8,  9],\n",
       "         [12, 13, 14],\n",
       "         [17, 18, 19]]],\n",
       "\n",
       "\n",
       "       [[[10, 11, 12],\n",
       "         [15, 16, 17],\n",
       "         [20, 21, 22]],\n",
       "\n",
       "        [[11, 12, 13],\n",
       "         [16, 17, 18],\n",
       "         [21, 22, 23]],\n",
       "\n",
       "        [[12, 13, 14],\n",
       "         [17, 18, 19],\n",
       "         [22, 23, 24]]]])"
      ]
     },
     "execution_count": 85,
     "metadata": {},
     "output_type": "execute_result"
    }
   ],
   "source": [
    "x = np.arange(25).reshape((5,5))\n",
    "neighborhoods = grid_nD(x)\n",
    "neighborhoods"
   ]
  },
  {
   "cell_type": "markdown",
   "metadata": {
    "id": "DfWX8Yfz2guH"
   },
   "source": [
    "Rules of Conway's Game of Life:\n",
    "\n",
    "\n",
    "1. Any live cell with fewer than two live neighbours dies, as if by underpopulation.\n",
    "2. Any live cell with two or three live neighbours lives on to the next generation.\n",
    "3. Any live cell with more than three live neighbours dies, as if by overpopulation.\n",
    "4. Any dead cell with exactly three live neighbours becomes a live cell, as if by reproduction.\n",
    "5. All other dead cells stay dead.\n",
    "\n"
   ]
  },
  {
   "cell_type": "code",
   "execution_count": null,
   "metadata": {
    "colab": {
     "base_uri": "https://localhost:8080/"
    },
    "id": "WCjzdwI4VjO7",
    "outputId": "3990108d-e86c-4d1f-f2f7-e94623fd6aa5"
   },
   "outputs": [
    {
     "name": "stdout",
     "output_type": "stream",
     "text": [
      "[0 0 1 1 0 0 0 0 0]\n",
      "[0 0 0 1 0 0 0 0 0]\n"
     ]
    }
   ],
   "source": [
    "ruleOfLifeAlive = np.array([0, 0, 1, 1, 0, 0, 0, 0, 0])\n",
    "ruleOfLifeDead  = np.array([0, 0, 0, 1, 0, 0, 0, 0, 0])\n",
    "print(ruleOfLifeAlive)\n",
    "print(ruleOfLifeDead)"
   ]
  },
  {
   "cell_type": "code",
   "execution_count": null,
   "metadata": {
    "id": "g-r6DoaIWDL4"
   },
   "outputs": [],
   "source": [
    "def imshow_helper(board, sleepSeconds=0.5):\n",
    "    ''' helper method to display a board for short time interval \n",
    "        being lazy and using the MATLAB style API '''\n",
    "    plt.imshow(board, cmap=\"binary\", interpolation=\"none\")\n",
    "    plt.axis('off')\n",
    "    display.display(plt.gcf())\n",
    "    display.clear_output(wait=True)\n",
    "    time.sleep(sleepSeconds)\n",
    "    \n",
    "class GameOfLife(object):\n",
    "    def __init__(self, board_size=(10,10)):\n",
    "        full_size = tuple(i+2 for i in board_size)\n",
    "        self.full = np.zeros(full_size, dtype=np.uint8)\n",
    "        nd_slice = (slice(1, -1),) * len(board_size)\n",
    "        self.board = self.full[nd_slice]\n",
    "        self.ndims = len(self.board.shape)\n",
    "        \n",
    "    def run_board(self, N_ITERS = 10):\n",
    "        imshow_helper(self.board)\n",
    "        for i in range(N_ITERS):\n",
    "            neighborhoods = grid_nD(self.full)\n",
    "            sumOver = tuple(-(i+1) for i in range(self.ndims))\n",
    "            neighborCt = np.sum(neighborhoods, sumOver) - self.board\n",
    "            self.board[:] = np.where(self.board, \n",
    "                                     ruleOfLifeAlive[neighborCt], \n",
    "                                     ruleOfLifeDead[neighborCt])\n",
    "            imshow_helper(self.board)"
   ]
  },
  {
   "cell_type": "code",
   "execution_count": null,
   "metadata": {
    "colab": {
     "base_uri": "https://localhost:8080/",
     "height": 282
    },
    "id": "9MhGQtcZWI6J",
    "outputId": "1c01d955-45da-42b5-aa0f-537f0104d568"
   },
   "outputs": [
    {
     "data": {
      "text/plain": [
       "<matplotlib.image.AxesImage at 0x7f01de71fc10>"
      ]
     },
     "execution_count": 100,
     "metadata": {},
     "output_type": "execute_result"
    },
    {
     "data": {
      "image/png": "[encoded data removed]",
      "text/plain": [
       "<Figure size 432x288 with 1 Axes>"
      ]
     },
     "metadata": {
      "needs_background": "light"
     },
     "output_type": "display_data"
    }
   ],
   "source": [
    "gol = GameOfLife()\n",
    "gol.board[5:8,5:8] = 1\n",
    "\n",
    "plt.imshow(gol.board, cmap=\"binary\", interpolation=\"none\")\n"
   ]
  },
  {
   "cell_type": "code",
   "execution_count": null,
   "metadata": {
    "id": "mB-8nsuFWXsx"
   },
   "outputs": [],
   "source": [
    "gol.run_board(10)"
   ]
  },
  {
   "cell_type": "markdown",
   "metadata": {
    "id": "MUPTrWW-Mi_Z"
   },
   "source": [
    "Source \n",
    "\n",
    "http://drsfenner.org/blog/2015/07/game-of-life-in-numpy-preliminaries-2/\n",
    "\n",
    "http://drsfenner.org/blog/2015/08/game-of-life-in-numpy-2/"
   ]
  }
 ],
 "metadata": {
  "colab": {
   "collapsed_sections": [],
   "name": "cv_lab1.ipynb",
   "provenance": []
  },
  "kernelspec": {
   "display_name": "Python 3",
   "language": "python",
   "name": "python3"
  },
  "language_info": {
   "codemirror_mode": {
    "name": "ipython",
    "version": 3
   },
   "file_extension": ".py",
   "mimetype": "text/x-python",
   "name": "python",
   "nbconvert_exporter": "python",
   "pygments_lexer": "ipython3",
   "version": "3.8.5"
  }
 },
 "nbformat": 4,
 "nbformat_minor": 1
}
